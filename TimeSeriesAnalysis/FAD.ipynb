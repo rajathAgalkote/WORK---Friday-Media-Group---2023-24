{
 "cells": [
  {
   "cell_type": "code",
   "execution_count": null,
   "id": "afc94265-eb18-4627-9230-e1eb60b47e83",
   "metadata": {},
   "outputs": [],
   "source": [
    "# pip install apiclient"
   ]
  },
  {
   "cell_type": "code",
   "execution_count": null,
   "id": "49e9273b-871f-446b-b220-b86b25832058",
   "metadata": {},
   "outputs": [],
   "source": [
    "# pip install oauth2client"
   ]
  },
  {
   "cell_type": "code",
   "execution_count": null,
   "id": "9b98a254-9915-43a9-9310-4b0e0d6e6541",
   "metadata": {},
   "outputs": [],
   "source": [
    "# pip install google-cloud-bigquery"
   ]
  },
  {
   "cell_type": "code",
   "execution_count": 1,
   "id": "dc45c590-b6a3-4cb9-b994-467d8edf1b54",
   "metadata": {},
   "outputs": [],
   "source": [
    "import pandas as pd\n",
    "from apiclient.discovery import build\n",
    "from oauth2client.service_account import ServiceAccountCredentials"
   ]
  },
  {
   "cell_type": "code",
   "execution_count": 2,
   "id": "c58c560e-d07b-4cc4-8d53-4473848f8686",
   "metadata": {},
   "outputs": [],
   "source": [
    "from google.cloud import bigquery \n",
    "from google.oauth2 import service_account"
   ]
  },
  {
   "cell_type": "code",
   "execution_count": 29,
   "id": "8de2f32e-1909-4ea7-8544-e7354d6ee31b",
   "metadata": {},
   "outputs": [],
   "source": [
    "credentialsPath = r'/Users/rajathadri_as/Documents/GoogleAPI/fmg-datastores-a734912841ea.json'"
   ]
  },
  {
   "cell_type": "code",
   "execution_count": 30,
   "id": "24a0952b-b74e-44a2-9717-de052ccdeec2",
   "metadata": {},
   "outputs": [],
   "source": [
    "MEASUREMENT_ID = 'ga:345528495'"
   ]
  },
  {
   "cell_type": "code",
   "execution_count": 31,
   "id": "bc695791-7142-46d8-8a8a-39cf1ccd8b0a",
   "metadata": {},
   "outputs": [],
   "source": [
    "# credentials = service_account.Credentials.from_service_account_file(credentialsPath)"
   ]
  },
  {
   "cell_type": "code",
   "execution_count": 32,
   "id": "81bad036-b26e-4d3b-bfc2-820278faab31",
   "metadata": {},
   "outputs": [],
   "source": [
    "credentials = service_account.Credentials.from_service_account_file(\n",
    "    credentialsPath,\n",
    "    scopes=['https://www.googleapis.com/auth/analytics.readonly']\n",
    ")"
   ]
  },
  {
   "cell_type": "code",
   "execution_count": 33,
   "id": "8e911245-92f8-497c-9e87-f4c538402a9e",
   "metadata": {},
   "outputs": [],
   "source": [
    "# Create the Analytics Reporting API V4 service object\n",
    "analytics = build('analyticsreporting', 'v4', credentials=credentials)"
   ]
  },
  {
   "cell_type": "code",
   "execution_count": 34,
   "id": "5a29ab41-09aa-40e9-9946-e6ff6e9a7bd2",
   "metadata": {},
   "outputs": [],
   "source": [
    "date_range = '7daysAgo'  # Data range for the report\n",
    "metrics = [{'expression': 'ga:sessions'}, {'expression': 'ga:pageviews'}]  # Metrics to retrieve\n",
    "dimensions = [{'name': 'ga:date'}]  # Dimensions to retrieve"
   ]
  },
  {
   "cell_type": "code",
   "execution_count": 35,
   "id": "640ae130-a770-49b0-bacf-700af2656a06",
   "metadata": {},
   "outputs": [],
   "source": [
    "request = {\n",
    "    'reportRequests': [\n",
    "        {\n",
    "            'viewId': MEASUREMENT_ID,\n",
    "            'dateRanges': [{'startDate': date_range, 'endDate': 'today'}],\n",
    "            'metrics': metrics,\n",
    "            'dimensions': dimensions\n",
    "        }\n",
    "    ]\n",
    "}"
   ]
  },
  {
   "cell_type": "code",
   "execution_count": 36,
   "id": "7531e4fa-eeca-4993-a5c9-b272f4110956",
   "metadata": {},
   "outputs": [
    {
     "ename": "HttpError",
     "evalue": "<HttpError 403 when requesting https://analyticsreporting.googleapis.com/v4/reports:batchGet?alt=json returned \"User does not have sufficient permissions for this profile.\". Details: \"User does not have sufficient permissions for this profile.\">",
     "output_type": "error",
     "traceback": [
      "\u001b[1;31m---------------------------------------------------------------------------\u001b[0m",
      "\u001b[1;31mHttpError\u001b[0m                                 Traceback (most recent call last)",
      "Cell \u001b[1;32mIn[36], line 2\u001b[0m\n\u001b[0;32m      1\u001b[0m \u001b[38;5;66;03m# calling API\u001b[39;00m\n\u001b[1;32m----> 2\u001b[0m response \u001b[38;5;241m=\u001b[39m analytics\u001b[38;5;241m.\u001b[39mreports()\u001b[38;5;241m.\u001b[39mbatchGet(body\u001b[38;5;241m=\u001b[39mrequest)\u001b[38;5;241m.\u001b[39mexecute()\n",
      "File \u001b[1;32m~\\AppData\\Local\\anaconda3\\Lib\\site-packages\\googleapiclient\\_helpers.py:130\u001b[0m, in \u001b[0;36mpositional.<locals>.positional_decorator.<locals>.positional_wrapper\u001b[1;34m(*args, **kwargs)\u001b[0m\n\u001b[0;32m    128\u001b[0m     \u001b[38;5;28;01melif\u001b[39;00m positional_parameters_enforcement \u001b[38;5;241m==\u001b[39m POSITIONAL_WARNING:\n\u001b[0;32m    129\u001b[0m         logger\u001b[38;5;241m.\u001b[39mwarning(message)\n\u001b[1;32m--> 130\u001b[0m \u001b[38;5;28;01mreturn\u001b[39;00m wrapped(\u001b[38;5;241m*\u001b[39margs, \u001b[38;5;241m*\u001b[39m\u001b[38;5;241m*\u001b[39mkwargs)\n",
      "File \u001b[1;32m~\\AppData\\Local\\anaconda3\\Lib\\site-packages\\googleapiclient\\http.py:938\u001b[0m, in \u001b[0;36mHttpRequest.execute\u001b[1;34m(self, http, num_retries)\u001b[0m\n\u001b[0;32m    936\u001b[0m     callback(resp)\n\u001b[0;32m    937\u001b[0m \u001b[38;5;28;01mif\u001b[39;00m resp\u001b[38;5;241m.\u001b[39mstatus \u001b[38;5;241m>\u001b[39m\u001b[38;5;241m=\u001b[39m \u001b[38;5;241m300\u001b[39m:\n\u001b[1;32m--> 938\u001b[0m     \u001b[38;5;28;01mraise\u001b[39;00m HttpError(resp, content, uri\u001b[38;5;241m=\u001b[39m\u001b[38;5;28mself\u001b[39m\u001b[38;5;241m.\u001b[39muri)\n\u001b[0;32m    939\u001b[0m \u001b[38;5;28;01mreturn\u001b[39;00m \u001b[38;5;28mself\u001b[39m\u001b[38;5;241m.\u001b[39mpostproc(resp, content)\n",
      "\u001b[1;31mHttpError\u001b[0m: <HttpError 403 when requesting https://analyticsreporting.googleapis.com/v4/reports:batchGet?alt=json returned \"User does not have sufficient permissions for this profile.\". Details: \"User does not have sufficient permissions for this profile.\">"
     ]
    }
   ],
   "source": [
    "# calling API\n",
    "response = analytics.reports().batchGet(body=request).execute()"
   ]
  },
  {
   "cell_type": "code",
   "execution_count": null,
   "id": "09582fb4-df00-4523-ab0d-6a37d61298b5",
   "metadata": {},
   "outputs": [],
   "source": []
  },
  {
   "cell_type": "code",
   "execution_count": 16,
   "id": "fc42d065-e4ae-48c2-bc8d-25c8fc5e14b4",
   "metadata": {},
   "outputs": [
    {
     "name": "stdout",
     "output_type": "stream",
     "text": [
      "Error: <HttpError 403 when requesting https://analyticsreporting.googleapis.com/v4/reports:batchGet?alt=json returned \"User does not have sufficient permissions for this profile.\". Details: \"User does not have sufficient permissions for this profile.\">\n"
     ]
    }
   ],
   "source": [
    "import pandas as pd\n",
    "from google.oauth2 import service_account\n",
    "from googleapiclient.discovery import build\n",
    "from google.auth.exceptions import RefreshError\n",
    "\n",
    "# Path to the service account key file\n",
    "SERVICE_ACCOUNT_FILE = '/Users/rajathadri_as/Documents/GoogleAPI/fmg-datastores-a734912841ea.json'\n",
    "\n",
    "# Define the Google Analytics View ID\n",
    "VIEW_ID = 'ga:345528495'  # Replace with your Google Analytics View ID\n",
    "\n",
    "# Create a credentials object from the service account key file\n",
    "credentials = service_account.Credentials.from_service_account_file(\n",
    "    SERVICE_ACCOUNT_FILE,\n",
    "    scopes=['https://www.googleapis.com/auth/analytics.readonly']\n",
    ")\n",
    "\n",
    "try:\n",
    "    # Create the Analytics Reporting API V4 service object\n",
    "    analytics = build('analyticsreporting', 'v4', credentials=credentials)\n",
    "\n",
    "    # Query parameters\n",
    "    date_range = '7daysAgo'  # Data range for the report\n",
    "    metrics = [{'expression': 'ga:sessions'}, {'expression': 'ga:pageviews'}]  # Metrics to retrieve\n",
    "    dimensions = [{'name': 'ga:date'}]  # Dimensions to retrieve\n",
    "\n",
    "    # Request data from the API\n",
    "    request = {\n",
    "        'reportRequests': [\n",
    "            {\n",
    "                'viewId': VIEW_ID,\n",
    "                'dateRanges': [{'startDate': date_range, 'endDate': 'today'}],\n",
    "                'metrics': metrics,\n",
    "                'dimensions': dimensions\n",
    "            }\n",
    "        ]\n",
    "    }\n",
    "\n",
    "    # Call the API\n",
    "    response = analytics.reports().batchGet(body=request).execute()\n",
    "\n",
    "    # Parse the API response\n",
    "    def parse_response(response):\n",
    "        rows = []\n",
    "        for report in response.get('reports', []):\n",
    "            columnHeader = report.get('columnHeader', {})\n",
    "            dimensionHeaders = columnHeader.get('dimensions', [])\n",
    "            metricHeaders = [entry['name'] for entry in columnHeader['metricHeader']['metricHeaderEntries']]\n",
    "            for row in report.get('data', {}).get('rows', []):\n",
    "                dimensions = row.get('dimensions', [])\n",
    "                dateRangeValues = row.get('metrics', [])\n",
    "                row_data = {}\n",
    "                for header, dimension in zip(dimensionHeaders, dimensions):\n",
    "                    row_data[header] = dimension\n",
    "                for i, values in enumerate(dateRangeValues):\n",
    "                    for metric, value in zip(metricHeaders, values['values']):\n",
    "                        row_data[metric] = value\n",
    "                rows.append(row_data)\n",
    "        return rows\n",
    "\n",
    "    # Convert the parsed response to a DataFrame\n",
    "    df = pd.DataFrame(parse_response(response))\n",
    "\n",
    "    # Display the DataFrame\n",
    "    print(df.head())\n",
    "\n",
    "except RefreshError as e:\n",
    "    print(\"Error: Please check your credentials or the service account permissions.\")\n",
    "except Exception as e:\n",
    "    print(\"Error:\", e)\n"
   ]
  },
  {
   "cell_type": "code",
   "execution_count": null,
   "id": "3a2179a8-b3ea-4c5c-a1e9-31c48c2f61f8",
   "metadata": {},
   "outputs": [],
   "source": []
  },
  {
   "cell_type": "code",
   "execution_count": null,
   "id": "f723dd99-ffaa-410c-8663-cb9146185204",
   "metadata": {},
   "outputs": [],
   "source": []
  },
  {
   "cell_type": "code",
   "execution_count": null,
   "id": "29ce99dc-d038-4353-a456-638d58283653",
   "metadata": {},
   "outputs": [],
   "source": []
  },
  {
   "cell_type": "code",
   "execution_count": null,
   "id": "ebec1840-2589-46eb-b78e-71b3636dbba5",
   "metadata": {},
   "outputs": [],
   "source": []
  },
  {
   "cell_type": "code",
   "execution_count": null,
   "id": "c7ae0f16-fd9e-4700-8e8f-c5f00d56b153",
   "metadata": {},
   "outputs": [],
   "source": []
  },
  {
   "cell_type": "code",
   "execution_count": 22,
   "id": "219da03e-c28b-47f7-8a81-4e8d4b224754",
   "metadata": {},
   "outputs": [],
   "source": [
    "SCOPES = ['https://www.googleapis.com/auth/analytics.readonly']\n",
    "KEY_FILE_LOCATION = '/Users/rajathadri_as/Documents/GoogleAPI/fmg-datastores-a734912841ea.json' #The document receive while creating the API\n",
    "VIEW_ID = 'ga:345528495' #the view from your Google Analytics"
   ]
  },
  {
   "cell_type": "code",
   "execution_count": 23,
   "id": "588198d0-41fe-4524-b438-d1c7b611af2b",
   "metadata": {},
   "outputs": [],
   "source": [
    "#Initializing report\n",
    "def initialize_analyticsreporting():\n",
    "  credentials = ServiceAccountCredentials.from_json_keyfile_name(\n",
    "      KEY_FILE_LOCATION, SCOPES)\n",
    "  analytics = build('analyticsreporting', 'v4', credentials=credentials)\n",
    "  return analytics"
   ]
  },
  {
   "cell_type": "code",
   "execution_count": 24,
   "id": "84086c75-b138-403b-b723-54f523324b3d",
   "metadata": {},
   "outputs": [],
   "source": [
    "#Get one report page\n",
    "def get_report(analytics, pageTokenVar):\n",
    "  return analytics.reports().batchGet(\n",
    "      body={\n",
    "        'reportRequests': [\n",
    "        {\n",
    "          'viewId': MEASUREMENT_ID,\n",
    "          'dateRanges': [{'startDate': '600daysAgo', 'endDate': 'yesterday'}],\n",
    "          'metrics': [{'expression': 'ga:sessions'}, {'expression': 'ga:Pageviews'}], #, {'expression': 'ga:Goal completions'} didn't work.\n",
    "          'dimensions': [{'name': 'ga:Date'}],\n",
    "          'pageSize': 10000,\n",
    "          'pageToken': pageTokenVar,\n",
    "          'samplingLevel': 'LARGE'\n",
    "        }]\n",
    "      }\n",
    "  ).execute()"
   ]
  },
  {
   "cell_type": "code",
   "execution_count": 25,
   "id": "3a02d98d-0f70-407f-b28e-17658974e5c2",
   "metadata": {},
   "outputs": [],
   "source": [
    "def handle_report(analytics,pagetoken,rows):  \n",
    "    response = get_report(analytics, pagetoken)\n",
    "\n",
    "    #Header, Dimensions Headers, Metric Headers \n",
    "    columnHeader = response.get(\"reports\")[0].get('columnHeader', {})\n",
    "    dimensionHeaders = columnHeader.get('dimensions', [])\n",
    "    metricHeaders = columnHeader.get('metricHeader', {}).get('metricHeaderEntries', [])\n",
    "\n",
    "    #Pagination\n",
    "    pagetoken = response.get(\"reports\")[0].get('nextPageToken', None)\n",
    "    \n",
    "    #Rows\n",
    "    rowsNew = response.get(\"reports\")[0].get('data', {}).get('rows', [])\n",
    "    rows = rows + rowsNew\n",
    "    print(\"len(rows): \" + str(len(rows)))\n",
    "\n",
    "    #Recursivly query next page\n",
    "    if pagetoken != None:\n",
    "        return handle_report(analytics,pagetoken,rows)\n",
    "    else:\n",
    "        #nicer results\n",
    "        nicerows=[]\n",
    "        for row in rows:\n",
    "            dic={}\n",
    "            dimensions = row.get('dimensions', [])\n",
    "            dateRangeValues = row.get('metrics', [])\n",
    "\n",
    "            for header, dimension in zip(dimensionHeaders, dimensions):\n",
    "                dic[header] = dimension\n",
    "\n",
    "            for i, values in enumerate(dateRangeValues):\n",
    "                for metric, value in zip(metricHeaders, values.get('values')):\n",
    "                    if ',' in value or ',' in value:\n",
    "                        dic[metric.get('name')] = float(value)\n",
    "                    else:\n",
    "                        dic[metric.get('name')] = int(value)\n",
    "            nicerows.append(dic)\n",
    "        return nicerows"
   ]
  },
  {
   "cell_type": "code",
   "execution_count": 26,
   "id": "fdf319eb-b215-4bf9-913c-b779bada0802",
   "metadata": {},
   "outputs": [],
   "source": [
    "#Start\n",
    "def main():    \n",
    "    analytics = initialize_analyticsreporting()\n",
    "     \n",
    "    global dfanalytics\n",
    "    dfanalytics = []\n",
    " \n",
    "    rows = []\n",
    "    rows = handle_report(analytics,'0',rows)\n",
    " \n",
    "    dfanalytics = pd.DataFrame(list(rows))"
   ]
  },
  {
   "cell_type": "code",
   "execution_count": 27,
   "id": "7dcdd422-ee37-4e89-b344-586ee9afa4a4",
   "metadata": {},
   "outputs": [
    {
     "ename": "HttpError",
     "evalue": "<HttpError 403 when requesting https://analyticsreporting.googleapis.com/v4/reports:batchGet?alt=json returned \"User does not have sufficient permissions for this profile.\". Details: \"User does not have sufficient permissions for this profile.\">",
     "output_type": "error",
     "traceback": [
      "\u001b[1;31m---------------------------------------------------------------------------\u001b[0m",
      "\u001b[1;31mHttpError\u001b[0m                                 Traceback (most recent call last)",
      "Cell \u001b[1;32mIn[27], line 1\u001b[0m\n\u001b[1;32m----> 1\u001b[0m main()\n",
      "Cell \u001b[1;32mIn[26], line 9\u001b[0m, in \u001b[0;36mmain\u001b[1;34m()\u001b[0m\n\u001b[0;32m      6\u001b[0m dfanalytics \u001b[38;5;241m=\u001b[39m []\n\u001b[0;32m      8\u001b[0m rows \u001b[38;5;241m=\u001b[39m []\n\u001b[1;32m----> 9\u001b[0m rows \u001b[38;5;241m=\u001b[39m handle_report(analytics,\u001b[38;5;124m'\u001b[39m\u001b[38;5;124m0\u001b[39m\u001b[38;5;124m'\u001b[39m,rows)\n\u001b[0;32m     11\u001b[0m dfanalytics \u001b[38;5;241m=\u001b[39m pd\u001b[38;5;241m.\u001b[39mDataFrame(\u001b[38;5;28mlist\u001b[39m(rows))\n",
      "Cell \u001b[1;32mIn[25], line 2\u001b[0m, in \u001b[0;36mhandle_report\u001b[1;34m(analytics, pagetoken, rows)\u001b[0m\n\u001b[0;32m      1\u001b[0m \u001b[38;5;28;01mdef\u001b[39;00m \u001b[38;5;21mhandle_report\u001b[39m(analytics,pagetoken,rows):  \n\u001b[1;32m----> 2\u001b[0m     response \u001b[38;5;241m=\u001b[39m get_report(analytics, pagetoken)\n\u001b[0;32m      4\u001b[0m     \u001b[38;5;66;03m#Header, Dimensions Headers, Metric Headers \u001b[39;00m\n\u001b[0;32m      5\u001b[0m     columnHeader \u001b[38;5;241m=\u001b[39m response\u001b[38;5;241m.\u001b[39mget(\u001b[38;5;124m\"\u001b[39m\u001b[38;5;124mreports\u001b[39m\u001b[38;5;124m\"\u001b[39m)[\u001b[38;5;241m0\u001b[39m]\u001b[38;5;241m.\u001b[39mget(\u001b[38;5;124m'\u001b[39m\u001b[38;5;124mcolumnHeader\u001b[39m\u001b[38;5;124m'\u001b[39m, {})\n",
      "Cell \u001b[1;32mIn[24], line 16\u001b[0m, in \u001b[0;36mget_report\u001b[1;34m(analytics, pageTokenVar)\u001b[0m\n\u001b[0;32m      2\u001b[0m \u001b[38;5;28;01mdef\u001b[39;00m \u001b[38;5;21mget_report\u001b[39m(analytics, pageTokenVar):\n\u001b[0;32m      3\u001b[0m   \u001b[38;5;28;01mreturn\u001b[39;00m analytics\u001b[38;5;241m.\u001b[39mreports()\u001b[38;5;241m.\u001b[39mbatchGet(\n\u001b[0;32m      4\u001b[0m       body\u001b[38;5;241m=\u001b[39m{\n\u001b[0;32m      5\u001b[0m         \u001b[38;5;124m'\u001b[39m\u001b[38;5;124mreportRequests\u001b[39m\u001b[38;5;124m'\u001b[39m: [\n\u001b[0;32m      6\u001b[0m         {\n\u001b[0;32m      7\u001b[0m           \u001b[38;5;124m'\u001b[39m\u001b[38;5;124mviewId\u001b[39m\u001b[38;5;124m'\u001b[39m: MEASUREMENT_ID,\n\u001b[0;32m      8\u001b[0m           \u001b[38;5;124m'\u001b[39m\u001b[38;5;124mdateRanges\u001b[39m\u001b[38;5;124m'\u001b[39m: [{\u001b[38;5;124m'\u001b[39m\u001b[38;5;124mstartDate\u001b[39m\u001b[38;5;124m'\u001b[39m: \u001b[38;5;124m'\u001b[39m\u001b[38;5;124m600daysAgo\u001b[39m\u001b[38;5;124m'\u001b[39m, \u001b[38;5;124m'\u001b[39m\u001b[38;5;124mendDate\u001b[39m\u001b[38;5;124m'\u001b[39m: \u001b[38;5;124m'\u001b[39m\u001b[38;5;124myesterday\u001b[39m\u001b[38;5;124m'\u001b[39m}],\n\u001b[0;32m      9\u001b[0m           \u001b[38;5;124m'\u001b[39m\u001b[38;5;124mmetrics\u001b[39m\u001b[38;5;124m'\u001b[39m: [{\u001b[38;5;124m'\u001b[39m\u001b[38;5;124mexpression\u001b[39m\u001b[38;5;124m'\u001b[39m: \u001b[38;5;124m'\u001b[39m\u001b[38;5;124mga:sessions\u001b[39m\u001b[38;5;124m'\u001b[39m}, {\u001b[38;5;124m'\u001b[39m\u001b[38;5;124mexpression\u001b[39m\u001b[38;5;124m'\u001b[39m: \u001b[38;5;124m'\u001b[39m\u001b[38;5;124mga:Pageviews\u001b[39m\u001b[38;5;124m'\u001b[39m}], \u001b[38;5;66;03m#, {'expression': 'ga:Goal completions'} didn't work.\u001b[39;00m\n\u001b[0;32m     10\u001b[0m           \u001b[38;5;124m'\u001b[39m\u001b[38;5;124mdimensions\u001b[39m\u001b[38;5;124m'\u001b[39m: [{\u001b[38;5;124m'\u001b[39m\u001b[38;5;124mname\u001b[39m\u001b[38;5;124m'\u001b[39m: \u001b[38;5;124m'\u001b[39m\u001b[38;5;124mga:Date\u001b[39m\u001b[38;5;124m'\u001b[39m}],\n\u001b[0;32m     11\u001b[0m           \u001b[38;5;124m'\u001b[39m\u001b[38;5;124mpageSize\u001b[39m\u001b[38;5;124m'\u001b[39m: \u001b[38;5;241m10000\u001b[39m,\n\u001b[0;32m     12\u001b[0m           \u001b[38;5;124m'\u001b[39m\u001b[38;5;124mpageToken\u001b[39m\u001b[38;5;124m'\u001b[39m: pageTokenVar,\n\u001b[0;32m     13\u001b[0m           \u001b[38;5;124m'\u001b[39m\u001b[38;5;124msamplingLevel\u001b[39m\u001b[38;5;124m'\u001b[39m: \u001b[38;5;124m'\u001b[39m\u001b[38;5;124mLARGE\u001b[39m\u001b[38;5;124m'\u001b[39m\n\u001b[0;32m     14\u001b[0m         }]\n\u001b[0;32m     15\u001b[0m       }\n\u001b[1;32m---> 16\u001b[0m   )\u001b[38;5;241m.\u001b[39mexecute()\n",
      "File \u001b[1;32m~\\AppData\\Local\\anaconda3\\Lib\\site-packages\\googleapiclient\\_helpers.py:130\u001b[0m, in \u001b[0;36mpositional.<locals>.positional_decorator.<locals>.positional_wrapper\u001b[1;34m(*args, **kwargs)\u001b[0m\n\u001b[0;32m    128\u001b[0m     \u001b[38;5;28;01melif\u001b[39;00m positional_parameters_enforcement \u001b[38;5;241m==\u001b[39m POSITIONAL_WARNING:\n\u001b[0;32m    129\u001b[0m         logger\u001b[38;5;241m.\u001b[39mwarning(message)\n\u001b[1;32m--> 130\u001b[0m \u001b[38;5;28;01mreturn\u001b[39;00m wrapped(\u001b[38;5;241m*\u001b[39margs, \u001b[38;5;241m*\u001b[39m\u001b[38;5;241m*\u001b[39mkwargs)\n",
      "File \u001b[1;32m~\\AppData\\Local\\anaconda3\\Lib\\site-packages\\googleapiclient\\http.py:938\u001b[0m, in \u001b[0;36mHttpRequest.execute\u001b[1;34m(self, http, num_retries)\u001b[0m\n\u001b[0;32m    936\u001b[0m     callback(resp)\n\u001b[0;32m    937\u001b[0m \u001b[38;5;28;01mif\u001b[39;00m resp\u001b[38;5;241m.\u001b[39mstatus \u001b[38;5;241m>\u001b[39m\u001b[38;5;241m=\u001b[39m \u001b[38;5;241m300\u001b[39m:\n\u001b[1;32m--> 938\u001b[0m     \u001b[38;5;28;01mraise\u001b[39;00m HttpError(resp, content, uri\u001b[38;5;241m=\u001b[39m\u001b[38;5;28mself\u001b[39m\u001b[38;5;241m.\u001b[39muri)\n\u001b[0;32m    939\u001b[0m \u001b[38;5;28;01mreturn\u001b[39;00m \u001b[38;5;28mself\u001b[39m\u001b[38;5;241m.\u001b[39mpostproc(resp, content)\n",
      "\u001b[1;31mHttpError\u001b[0m: <HttpError 403 when requesting https://analyticsreporting.googleapis.com/v4/reports:batchGet?alt=json returned \"User does not have sufficient permissions for this profile.\". Details: \"User does not have sufficient permissions for this profile.\">"
     ]
    }
   ],
   "source": [
    "main()"
   ]
  },
  {
   "cell_type": "code",
   "execution_count": 28,
   "id": "bad5ecdf-8428-4fe1-98ab-a206188970c8",
   "metadata": {},
   "outputs": [
    {
     "name": "stdout",
     "output_type": "stream",
     "text": [
      "[]\n"
     ]
    }
   ],
   "source": [
    "print(dfanalytics)"
   ]
  },
  {
   "cell_type": "code",
   "execution_count": null,
   "id": "6ae5668c-b284-4673-b040-f078fa6b259c",
   "metadata": {},
   "outputs": [],
   "source": []
  }
 ],
 "metadata": {
  "kernelspec": {
   "display_name": "Python 3 (ipykernel)",
   "language": "python",
   "name": "python3"
  },
  "language_info": {
   "codemirror_mode": {
    "name": "ipython",
    "version": 3
   },
   "file_extension": ".py",
   "mimetype": "text/x-python",
   "name": "python",
   "nbconvert_exporter": "python",
   "pygments_lexer": "ipython3",
   "version": "3.11.5"
  }
 },
 "nbformat": 4,
 "nbformat_minor": 5
}
