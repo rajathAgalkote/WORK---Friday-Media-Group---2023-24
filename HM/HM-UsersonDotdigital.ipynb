{
 "cells": [
  {
   "cell_type": "code",
   "execution_count": 1,
   "id": "676c22b2",
   "metadata": {},
   "outputs": [],
   "source": [
    "import pandas as pd\n",
    "import numpy as np\n",
    "import matplotlib.pyplot as plt\n",
    "import matplotlib as mpl\n",
    "import matplotlib.patches as mpatches\n",
    "import seaborn as sns\n",
    "import re\n",
    "import warnings"
   ]
  },
  {
   "cell_type": "code",
   "execution_count": null,
   "id": "43282574",
   "metadata": {},
   "outputs": [],
   "source": []
  },
  {
   "cell_type": "code",
   "execution_count": 3,
   "id": "bbeaceee",
   "metadata": {
    "scrolled": true
   },
   "outputs": [
    {
     "name": "stderr",
     "output_type": "stream",
     "text": [
      "C:\\Users\\rajathadri_as\\AppData\\Local\\Temp\\ipykernel_10556\\2121551318.py:1: DtypeWarning: Columns (10,11,15,16,22,23,24,25,26,28,29,30,32,33,34,39,40,41,43,44,47,48,49,51,53,56,62,66,68,69,71,80,81,85,88,90,92,93,96,97,98,100,101,102,104,107,109,112,113,114,115,116,118,120,122,128,131,137,140,141,148,149,150,166,175,176,178,179,180,181,182,183,184,186,187,188,189,190,191,193,194,196,197,198,199,200,202,204,205,207,208,213,215,216,217,219,220,222,227,229,231,232,233,235,236,237,239,240,241,242,243,244,247,248,249,250,251,252,253,254,258,260,261,262,263,264,265,266,267,269,271,278,281,284,293,295) have mixed types. Specify dtype option on import or set low_memory=False.\n",
      "  df1 = pd.read_csv('/Users/rajathadri_as/Documents/Horsemart-Master-Address-Book.csv')\n"
     ]
    }
   ],
   "source": [
    "df1 = pd.read_csv('/Users/rajathadri_as/Documents/Horsemart-Master-Address-Book.csv')"
   ]
  },
  {
   "cell_type": "code",
   "execution_count": 4,
   "id": "3bcf79b7",
   "metadata": {},
   "outputs": [
    {
     "data": {
      "text/html": [
       "<div>\n",
       "<style scoped>\n",
       "    .dataframe tbody tr th:only-of-type {\n",
       "        vertical-align: middle;\n",
       "    }\n",
       "\n",
       "    .dataframe tbody tr th {\n",
       "        vertical-align: top;\n",
       "    }\n",
       "\n",
       "    .dataframe thead th {\n",
       "        text-align: right;\n",
       "    }\n",
       "</style>\n",
       "<table border=\"1\" class=\"dataframe\">\n",
       "  <thead>\n",
       "    <tr style=\"text-align: right;\">\n",
       "      <th></th>\n",
       "      <th>DateCreated</th>\n",
       "      <th>DateModified</th>\n",
       "      <th>Email</th>\n",
       "      <th>MobileNumberId</th>\n",
       "      <th>EmailType</th>\n",
       "      <th>OptInType</th>\n",
       "      <th>LastMailedDate</th>\n",
       "      <th>LastOpenedDate</th>\n",
       "      <th>ACTIVE_USER</th>\n",
       "      <th>ACXIOM_HASH</th>\n",
       "      <th>...</th>\n",
       "      <th>SMSFIELD3</th>\n",
       "      <th>SMSFIELD4</th>\n",
       "      <th>SMSFIELD5</th>\n",
       "      <th>SUBJECT_LINE</th>\n",
       "      <th>TOWN</th>\n",
       "      <th>TWITTER_ID</th>\n",
       "      <th>TYPE</th>\n",
       "      <th>USER_NAME</th>\n",
       "      <th>USER_SOURCE</th>\n",
       "      <th>USER_TYPE</th>\n",
       "    </tr>\n",
       "  </thead>\n",
       "  <tbody>\n",
       "    <tr>\n",
       "      <th>0</th>\n",
       "      <td>20/09/2023 20:23</td>\n",
       "      <td>21/09/2023 02:03</td>\n",
       "      <td>amandaperry160@gmail.com</td>\n",
       "      <td>NaN</td>\n",
       "      <td>Html</td>\n",
       "      <td>Single</td>\n",
       "      <td>21/09/2023 09:07</td>\n",
       "      <td>NaN</td>\n",
       "      <td>NaN</td>\n",
       "      <td>5e750a17351e882d628cd8cf763adf948eaefabc</td>\n",
       "      <td>...</td>\n",
       "      <td>NaN</td>\n",
       "      <td>NaN</td>\n",
       "      <td>NaN</td>\n",
       "      <td>D</td>\n",
       "      <td>NaN</td>\n",
       "      <td>NaN</td>\n",
       "      <td>NaN</td>\n",
       "      <td>amandaperry160</td>\n",
       "      <td>NaN</td>\n",
       "      <td>private</td>\n",
       "    </tr>\n",
       "    <tr>\n",
       "      <th>1</th>\n",
       "      <td>20/09/2023 20:23</td>\n",
       "      <td>21/09/2023 02:03</td>\n",
       "      <td>lisamriesr@outlook.com</td>\n",
       "      <td>NaN</td>\n",
       "      <td>Html</td>\n",
       "      <td>Single</td>\n",
       "      <td>21/09/2023 09:07</td>\n",
       "      <td>NaN</td>\n",
       "      <td>NaN</td>\n",
       "      <td>b4e98d46dc1533863ef12fb15b78ef1fa8f61fab</td>\n",
       "      <td>...</td>\n",
       "      <td>NaN</td>\n",
       "      <td>NaN</td>\n",
       "      <td>NaN</td>\n",
       "      <td>D</td>\n",
       "      <td>Darlington</td>\n",
       "      <td>NaN</td>\n",
       "      <td>NaN</td>\n",
       "      <td>lisamariesr</td>\n",
       "      <td>NaN</td>\n",
       "      <td>private</td>\n",
       "    </tr>\n",
       "    <tr>\n",
       "      <th>2</th>\n",
       "      <td>20/09/2023 19:23</td>\n",
       "      <td>21/09/2023 02:03</td>\n",
       "      <td>sales@herefordshirehorseboxes.com</td>\n",
       "      <td>NaN</td>\n",
       "      <td>Html</td>\n",
       "      <td>Single</td>\n",
       "      <td>21/09/2023 09:07</td>\n",
       "      <td>NaN</td>\n",
       "      <td>NaN</td>\n",
       "      <td>591137dca877d7e80b7267aadb48450d25b90bc2</td>\n",
       "      <td>...</td>\n",
       "      <td>NaN</td>\n",
       "      <td>NaN</td>\n",
       "      <td>NaN</td>\n",
       "      <td>D</td>\n",
       "      <td>NaN</td>\n",
       "      <td>NaN</td>\n",
       "      <td>NaN</td>\n",
       "      <td>herefordshirehorseb</td>\n",
       "      <td>NaN</td>\n",
       "      <td>trade</td>\n",
       "    </tr>\n",
       "    <tr>\n",
       "      <th>3</th>\n",
       "      <td>20/09/2023 19:23</td>\n",
       "      <td>21/09/2023 02:03</td>\n",
       "      <td>ViolettaBeach16@outlook.com</td>\n",
       "      <td>NaN</td>\n",
       "      <td>Html</td>\n",
       "      <td>Single</td>\n",
       "      <td>21/09/2023 09:07</td>\n",
       "      <td>NaN</td>\n",
       "      <td>NaN</td>\n",
       "      <td>22764aa4cb66e4802ae051d9120c4cc59fed8b1f</td>\n",
       "      <td>...</td>\n",
       "      <td>NaN</td>\n",
       "      <td>NaN</td>\n",
       "      <td>NaN</td>\n",
       "      <td>D</td>\n",
       "      <td>NaN</td>\n",
       "      <td>NaN</td>\n",
       "      <td>NaN</td>\n",
       "      <td>violettabeach16</td>\n",
       "      <td>NaN</td>\n",
       "      <td>private</td>\n",
       "    </tr>\n",
       "    <tr>\n",
       "      <th>4</th>\n",
       "      <td>20/09/2023 13:23</td>\n",
       "      <td>21/09/2023 02:03</td>\n",
       "      <td>azamshopeju@gmail.com</td>\n",
       "      <td>NaN</td>\n",
       "      <td>Html</td>\n",
       "      <td>Single</td>\n",
       "      <td>21/09/2023 09:07</td>\n",
       "      <td>NaN</td>\n",
       "      <td>NaN</td>\n",
       "      <td>ea0ea2e503203bd1fab833ec4f240d55563df7af</td>\n",
       "      <td>...</td>\n",
       "      <td>NaN</td>\n",
       "      <td>NaN</td>\n",
       "      <td>NaN</td>\n",
       "      <td>D</td>\n",
       "      <td>NaN</td>\n",
       "      <td>NaN</td>\n",
       "      <td>NaN</td>\n",
       "      <td>azamshopeju</td>\n",
       "      <td>NaN</td>\n",
       "      <td>private</td>\n",
       "    </tr>\n",
       "  </tbody>\n",
       "</table>\n",
       "<p>5 rows × 297 columns</p>\n",
       "</div>"
      ],
      "text/plain": [
       "        DateCreated      DateModified                              Email  \\\n",
       "0  20/09/2023 20:23  21/09/2023 02:03           amandaperry160@gmail.com   \n",
       "1  20/09/2023 20:23  21/09/2023 02:03             lisamriesr@outlook.com   \n",
       "2  20/09/2023 19:23  21/09/2023 02:03  sales@herefordshirehorseboxes.com   \n",
       "3  20/09/2023 19:23  21/09/2023 02:03        ViolettaBeach16@outlook.com   \n",
       "4  20/09/2023 13:23  21/09/2023 02:03              azamshopeju@gmail.com   \n",
       "\n",
       "   MobileNumberId EmailType OptInType    LastMailedDate LastOpenedDate  \\\n",
       "0             NaN      Html    Single  21/09/2023 09:07            NaN   \n",
       "1             NaN      Html    Single  21/09/2023 09:07            NaN   \n",
       "2             NaN      Html    Single  21/09/2023 09:07            NaN   \n",
       "3             NaN      Html    Single  21/09/2023 09:07            NaN   \n",
       "4             NaN      Html    Single  21/09/2023 09:07            NaN   \n",
       "\n",
       "   ACTIVE_USER                               ACXIOM_HASH  ... SMSFIELD3  \\\n",
       "0          NaN  5e750a17351e882d628cd8cf763adf948eaefabc  ...       NaN   \n",
       "1          NaN  b4e98d46dc1533863ef12fb15b78ef1fa8f61fab  ...       NaN   \n",
       "2          NaN  591137dca877d7e80b7267aadb48450d25b90bc2  ...       NaN   \n",
       "3          NaN  22764aa4cb66e4802ae051d9120c4cc59fed8b1f  ...       NaN   \n",
       "4          NaN  ea0ea2e503203bd1fab833ec4f240d55563df7af  ...       NaN   \n",
       "\n",
       "  SMSFIELD4 SMSFIELD5 SUBJECT_LINE         TOWN TWITTER_ID TYPE  \\\n",
       "0       NaN       NaN            D          NaN        NaN  NaN   \n",
       "1       NaN       NaN            D  Darlington         NaN  NaN   \n",
       "2       NaN       NaN            D          NaN        NaN  NaN   \n",
       "3       NaN       NaN            D          NaN        NaN  NaN   \n",
       "4       NaN       NaN            D          NaN        NaN  NaN   \n",
       "\n",
       "             USER_NAME USER_SOURCE USER_TYPE  \n",
       "0       amandaperry160         NaN   private  \n",
       "1          lisamariesr         NaN   private  \n",
       "2  herefordshirehorseb         NaN     trade  \n",
       "3      violettabeach16         NaN   private  \n",
       "4          azamshopeju         NaN   private  \n",
       "\n",
       "[5 rows x 297 columns]"
      ]
     },
     "execution_count": 4,
     "metadata": {},
     "output_type": "execute_result"
    }
   ],
   "source": [
    "df1.head()"
   ]
  },
  {
   "cell_type": "code",
   "execution_count": 5,
   "id": "61808154",
   "metadata": {},
   "outputs": [
    {
     "data": {
      "text/plain": [
       "(48093, 297)"
      ]
     },
     "execution_count": 5,
     "metadata": {},
     "output_type": "execute_result"
    }
   ],
   "source": [
    "df1.shape"
   ]
  },
  {
   "cell_type": "code",
   "execution_count": 6,
   "id": "3d562c07",
   "metadata": {},
   "outputs": [
    {
     "data": {
      "text/plain": [
       "48093"
      ]
     },
     "execution_count": 6,
     "metadata": {},
     "output_type": "execute_result"
    }
   ],
   "source": [
    "df1['Email'].nunique()"
   ]
  },
  {
   "cell_type": "code",
   "execution_count": 8,
   "id": "6c416926",
   "metadata": {},
   "outputs": [
    {
     "data": {
      "text/plain": [
       "0"
      ]
     },
     "execution_count": 8,
     "metadata": {},
     "output_type": "execute_result"
    }
   ],
   "source": [
    "df1['ACTIVE_USER'].nunique()"
   ]
  },
  {
   "cell_type": "code",
   "execution_count": null,
   "id": "4028c961",
   "metadata": {},
   "outputs": [],
   "source": []
  },
  {
   "cell_type": "code",
   "execution_count": null,
   "id": "97f8571f",
   "metadata": {},
   "outputs": [],
   "source": []
  },
  {
   "cell_type": "code",
   "execution_count": 9,
   "id": "0eb30a1e",
   "metadata": {},
   "outputs": [
    {
     "name": "stderr",
     "output_type": "stream",
     "text": [
      "C:\\Users\\rajathadri_as\\AppData\\Local\\Temp\\ipykernel_10556\\3551537012.py:1: DtypeWarning: Columns (11,41,42,87,88,89,94,134,139) have mixed types. Specify dtype option on import or set low_memory=False.\n",
      "  member = pd.read_csv('/Users/rajathadri_as/Documents/hm_member.csv')\n"
     ]
    }
   ],
   "source": [
    "member = pd.read_csv('/Users/rajathadri_as/Documents/hm_member.csv')"
   ]
  },
  {
   "cell_type": "code",
   "execution_count": 10,
   "id": "2cc17d2f",
   "metadata": {},
   "outputs": [],
   "source": [
    "member_biz = pd.read_csv('/Users/rajathadri_as/Documents/hm_member_biz.csv')"
   ]
  },
  {
   "cell_type": "code",
   "execution_count": 11,
   "id": "62bcffe0",
   "metadata": {},
   "outputs": [
    {
     "data": {
      "text/plain": [
       "(100000, 142)"
      ]
     },
     "execution_count": 11,
     "metadata": {},
     "output_type": "execute_result"
    }
   ],
   "source": [
    "member.shape"
   ]
  },
  {
   "cell_type": "code",
   "execution_count": 12,
   "id": "220f7be7",
   "metadata": {},
   "outputs": [
    {
     "data": {
      "text/plain": [
       "(432, 176)"
      ]
     },
     "execution_count": 12,
     "metadata": {},
     "output_type": "execute_result"
    }
   ],
   "source": [
    "member_biz.shape"
   ]
  },
  {
   "cell_type": "code",
   "execution_count": 16,
   "id": "4d08f221",
   "metadata": {},
   "outputs": [
    {
     "data": {
      "text/plain": [
       "96942"
      ]
     },
     "execution_count": 16,
     "metadata": {},
     "output_type": "execute_result"
    }
   ],
   "source": [
    "member['email'].nunique()"
   ]
  },
  {
   "cell_type": "code",
   "execution_count": 17,
   "id": "26236686",
   "metadata": {},
   "outputs": [
    {
     "data": {
      "text/plain": [
       "419"
      ]
     },
     "execution_count": 17,
     "metadata": {},
     "output_type": "execute_result"
    }
   ],
   "source": [
    "member_biz['email'].nunique()"
   ]
  },
  {
   "cell_type": "code",
   "execution_count": null,
   "id": "ce75e62b",
   "metadata": {},
   "outputs": [],
   "source": []
  },
  {
   "cell_type": "code",
   "execution_count": 19,
   "id": "93c4d840",
   "metadata": {},
   "outputs": [],
   "source": [
    "member_email = member[['email']]"
   ]
  },
  {
   "cell_type": "code",
   "execution_count": 21,
   "id": "06c074a0",
   "metadata": {},
   "outputs": [
    {
     "data": {
      "text/plain": [
       "(100000, 1)"
      ]
     },
     "execution_count": 21,
     "metadata": {},
     "output_type": "execute_result"
    }
   ],
   "source": [
    "member_email.shape"
   ]
  },
  {
   "cell_type": "code",
   "execution_count": null,
   "id": "eee0d9e5",
   "metadata": {},
   "outputs": [],
   "source": []
  },
  {
   "cell_type": "code",
   "execution_count": 22,
   "id": "f246dc5e",
   "metadata": {},
   "outputs": [],
   "source": [
    "member_biz_email = member_biz[['email']]"
   ]
  },
  {
   "cell_type": "code",
   "execution_count": 23,
   "id": "c4b8e897",
   "metadata": {},
   "outputs": [
    {
     "data": {
      "text/plain": [
       "(432, 1)"
      ]
     },
     "execution_count": 23,
     "metadata": {},
     "output_type": "execute_result"
    }
   ],
   "source": [
    "member_biz_email.shape"
   ]
  },
  {
   "cell_type": "code",
   "execution_count": null,
   "id": "06ec96b8",
   "metadata": {},
   "outputs": [],
   "source": []
  },
  {
   "cell_type": "code",
   "execution_count": 24,
   "id": "03ca78ba",
   "metadata": {},
   "outputs": [],
   "source": [
    "df_emails = pd.concat([member_email, member_biz_email], axis=0)"
   ]
  },
  {
   "cell_type": "code",
   "execution_count": 25,
   "id": "16af3dcd",
   "metadata": {},
   "outputs": [
    {
     "data": {
      "text/plain": [
       "(100432, 1)"
      ]
     },
     "execution_count": 25,
     "metadata": {},
     "output_type": "execute_result"
    }
   ],
   "source": [
    "df_emails.shape"
   ]
  },
  {
   "cell_type": "code",
   "execution_count": 26,
   "id": "8f25f8b2",
   "metadata": {},
   "outputs": [
    {
     "data": {
      "text/plain": [
       "email    97328\n",
       "dtype: int64"
      ]
     },
     "execution_count": 26,
     "metadata": {},
     "output_type": "execute_result"
    }
   ],
   "source": [
    "df_emails.nunique()"
   ]
  },
  {
   "cell_type": "code",
   "execution_count": 28,
   "id": "5133b416",
   "metadata": {},
   "outputs": [
    {
     "data": {
      "text/plain": [
       "False    97329\n",
       "True      3103\n",
       "Name: count, dtype: int64"
      ]
     },
     "execution_count": 28,
     "metadata": {},
     "output_type": "execute_result"
    }
   ],
   "source": [
    "df_emails.duplicated().value_counts()"
   ]
  },
  {
   "cell_type": "code",
   "execution_count": 29,
   "id": "74d71f1e",
   "metadata": {},
   "outputs": [],
   "source": [
    "df_emails.drop_duplicates(inplace=True)"
   ]
  },
  {
   "cell_type": "code",
   "execution_count": 30,
   "id": "4d8d19cb",
   "metadata": {},
   "outputs": [
    {
     "data": {
      "text/plain": [
       "(97329, 1)"
      ]
     },
     "execution_count": 30,
     "metadata": {},
     "output_type": "execute_result"
    }
   ],
   "source": [
    "df_emails.shape"
   ]
  },
  {
   "cell_type": "code",
   "execution_count": 31,
   "id": "4ee30990",
   "metadata": {},
   "outputs": [
    {
     "data": {
      "text/html": [
       "<div>\n",
       "<style scoped>\n",
       "    .dataframe tbody tr th:only-of-type {\n",
       "        vertical-align: middle;\n",
       "    }\n",
       "\n",
       "    .dataframe tbody tr th {\n",
       "        vertical-align: top;\n",
       "    }\n",
       "\n",
       "    .dataframe thead th {\n",
       "        text-align: right;\n",
       "    }\n",
       "</style>\n",
       "<table border=\"1\" class=\"dataframe\">\n",
       "  <thead>\n",
       "    <tr style=\"text-align: right;\">\n",
       "      <th></th>\n",
       "      <th>email</th>\n",
       "    </tr>\n",
       "  </thead>\n",
       "  <tbody>\n",
       "    <tr>\n",
       "      <th>0</th>\n",
       "      <td>support@horsemart.co.uk</td>\n",
       "    </tr>\n",
       "    <tr>\n",
       "      <th>1</th>\n",
       "      <td>rcruz@memoriavisual.pt</td>\n",
       "    </tr>\n",
       "    <tr>\n",
       "      <th>2</th>\n",
       "      <td>samir_owner@hotmail.com</td>\n",
       "    </tr>\n",
       "    <tr>\n",
       "      <th>3</th>\n",
       "      <td>teresafmelo@hotmail.com</td>\n",
       "    </tr>\n",
       "    <tr>\n",
       "      <th>4</th>\n",
       "      <td>msousa@memoriavisual.pt</td>\n",
       "    </tr>\n",
       "  </tbody>\n",
       "</table>\n",
       "</div>"
      ],
      "text/plain": [
       "                     email\n",
       "0  support@horsemart.co.uk\n",
       "1   rcruz@memoriavisual.pt\n",
       "2  samir_owner@hotmail.com\n",
       "3  teresafmelo@hotmail.com\n",
       "4  msousa@memoriavisual.pt"
      ]
     },
     "execution_count": 31,
     "metadata": {},
     "output_type": "execute_result"
    }
   ],
   "source": [
    "df_emails.head()"
   ]
  },
  {
   "cell_type": "code",
   "execution_count": null,
   "id": "128a8145",
   "metadata": {},
   "outputs": [],
   "source": []
  },
  {
   "cell_type": "code",
   "execution_count": 33,
   "id": "2f3933d5",
   "metadata": {},
   "outputs": [
    {
     "data": {
      "text/plain": [
       "(48093, 297)"
      ]
     },
     "execution_count": 33,
     "metadata": {},
     "output_type": "execute_result"
    }
   ],
   "source": [
    "df1.shape"
   ]
  },
  {
   "cell_type": "code",
   "execution_count": 32,
   "id": "c42e036b",
   "metadata": {},
   "outputs": [
    {
     "data": {
      "text/html": [
       "<div>\n",
       "<style scoped>\n",
       "    .dataframe tbody tr th:only-of-type {\n",
       "        vertical-align: middle;\n",
       "    }\n",
       "\n",
       "    .dataframe tbody tr th {\n",
       "        vertical-align: top;\n",
       "    }\n",
       "\n",
       "    .dataframe thead th {\n",
       "        text-align: right;\n",
       "    }\n",
       "</style>\n",
       "<table border=\"1\" class=\"dataframe\">\n",
       "  <thead>\n",
       "    <tr style=\"text-align: right;\">\n",
       "      <th></th>\n",
       "      <th>DateCreated</th>\n",
       "      <th>DateModified</th>\n",
       "      <th>Email</th>\n",
       "      <th>MobileNumberId</th>\n",
       "      <th>EmailType</th>\n",
       "      <th>OptInType</th>\n",
       "      <th>LastMailedDate</th>\n",
       "      <th>LastOpenedDate</th>\n",
       "      <th>ACTIVE_USER</th>\n",
       "      <th>ACXIOM_HASH</th>\n",
       "      <th>...</th>\n",
       "      <th>SMSFIELD3</th>\n",
       "      <th>SMSFIELD4</th>\n",
       "      <th>SMSFIELD5</th>\n",
       "      <th>SUBJECT_LINE</th>\n",
       "      <th>TOWN</th>\n",
       "      <th>TWITTER_ID</th>\n",
       "      <th>TYPE</th>\n",
       "      <th>USER_NAME</th>\n",
       "      <th>USER_SOURCE</th>\n",
       "      <th>USER_TYPE</th>\n",
       "    </tr>\n",
       "  </thead>\n",
       "  <tbody>\n",
       "    <tr>\n",
       "      <th>1</th>\n",
       "      <td>20/09/2023 20:23</td>\n",
       "      <td>21/09/2023 02:03</td>\n",
       "      <td>lisamriesr@outlook.com</td>\n",
       "      <td>NaN</td>\n",
       "      <td>Html</td>\n",
       "      <td>Single</td>\n",
       "      <td>21/09/2023 09:07</td>\n",
       "      <td>NaN</td>\n",
       "      <td>NaN</td>\n",
       "      <td>b4e98d46dc1533863ef12fb15b78ef1fa8f61fab</td>\n",
       "      <td>...</td>\n",
       "      <td>NaN</td>\n",
       "      <td>NaN</td>\n",
       "      <td>NaN</td>\n",
       "      <td>D</td>\n",
       "      <td>Darlington</td>\n",
       "      <td>NaN</td>\n",
       "      <td>NaN</td>\n",
       "      <td>lisamariesr</td>\n",
       "      <td>NaN</td>\n",
       "      <td>private</td>\n",
       "    </tr>\n",
       "    <tr>\n",
       "      <th>3</th>\n",
       "      <td>20/09/2023 19:23</td>\n",
       "      <td>21/09/2023 02:03</td>\n",
       "      <td>ViolettaBeach16@outlook.com</td>\n",
       "      <td>NaN</td>\n",
       "      <td>Html</td>\n",
       "      <td>Single</td>\n",
       "      <td>21/09/2023 09:07</td>\n",
       "      <td>NaN</td>\n",
       "      <td>NaN</td>\n",
       "      <td>22764aa4cb66e4802ae051d9120c4cc59fed8b1f</td>\n",
       "      <td>...</td>\n",
       "      <td>NaN</td>\n",
       "      <td>NaN</td>\n",
       "      <td>NaN</td>\n",
       "      <td>D</td>\n",
       "      <td>NaN</td>\n",
       "      <td>NaN</td>\n",
       "      <td>NaN</td>\n",
       "      <td>violettabeach16</td>\n",
       "      <td>NaN</td>\n",
       "      <td>private</td>\n",
       "    </tr>\n",
       "    <tr>\n",
       "      <th>6</th>\n",
       "      <td>19/09/2023 21:23</td>\n",
       "      <td>21/09/2023 02:03</td>\n",
       "      <td>rehomingbs@outlook.com</td>\n",
       "      <td>NaN</td>\n",
       "      <td>Html</td>\n",
       "      <td>Single</td>\n",
       "      <td>20/09/2023 09:05</td>\n",
       "      <td>NaN</td>\n",
       "      <td>NaN</td>\n",
       "      <td>9ad1276ea327d9c373791e94ea3f4ea0837cf512</td>\n",
       "      <td>...</td>\n",
       "      <td>NaN</td>\n",
       "      <td>NaN</td>\n",
       "      <td>NaN</td>\n",
       "      <td>D</td>\n",
       "      <td>NaN</td>\n",
       "      <td>NaN</td>\n",
       "      <td>NaN</td>\n",
       "      <td>rehomingbs</td>\n",
       "      <td>NaN</td>\n",
       "      <td>private</td>\n",
       "    </tr>\n",
       "    <tr>\n",
       "      <th>9</th>\n",
       "      <td>14/09/2023 20:23</td>\n",
       "      <td>21/09/2023 02:03</td>\n",
       "      <td>chicabellagates@outlook.com</td>\n",
       "      <td>NaN</td>\n",
       "      <td>Html</td>\n",
       "      <td>Single</td>\n",
       "      <td>20/09/2023 09:05</td>\n",
       "      <td>NaN</td>\n",
       "      <td>NaN</td>\n",
       "      <td>dbf951d64cdc11c88f3d7d99ec977c678d7b96b1</td>\n",
       "      <td>...</td>\n",
       "      <td>NaN</td>\n",
       "      <td>NaN</td>\n",
       "      <td>NaN</td>\n",
       "      <td>D</td>\n",
       "      <td>NaN</td>\n",
       "      <td>NaN</td>\n",
       "      <td>NaN</td>\n",
       "      <td>NaN</td>\n",
       "      <td>NaN</td>\n",
       "      <td>NaN</td>\n",
       "    </tr>\n",
       "    <tr>\n",
       "      <th>10</th>\n",
       "      <td>14/09/2023 17:23</td>\n",
       "      <td>21/09/2023 02:03</td>\n",
       "      <td>hayleighandersonyahoo.com@gmail.com</td>\n",
       "      <td>NaN</td>\n",
       "      <td>Html</td>\n",
       "      <td>Single</td>\n",
       "      <td>20/09/2023 09:05</td>\n",
       "      <td>20/09/2023 20:00</td>\n",
       "      <td>NaN</td>\n",
       "      <td>554511210b3dba775257d1a37dd2c85e0877e206</td>\n",
       "      <td>...</td>\n",
       "      <td>NaN</td>\n",
       "      <td>NaN</td>\n",
       "      <td>NaN</td>\n",
       "      <td>D</td>\n",
       "      <td>NaN</td>\n",
       "      <td>NaN</td>\n",
       "      <td>NaN</td>\n",
       "      <td>NaN</td>\n",
       "      <td>NaN</td>\n",
       "      <td>NaN</td>\n",
       "    </tr>\n",
       "  </tbody>\n",
       "</table>\n",
       "<p>5 rows × 297 columns</p>\n",
       "</div>"
      ],
      "text/plain": [
       "         DateCreated      DateModified                                Email  \\\n",
       "1   20/09/2023 20:23  21/09/2023 02:03               lisamriesr@outlook.com   \n",
       "3   20/09/2023 19:23  21/09/2023 02:03          ViolettaBeach16@outlook.com   \n",
       "6   19/09/2023 21:23  21/09/2023 02:03               rehomingbs@outlook.com   \n",
       "9   14/09/2023 20:23  21/09/2023 02:03          chicabellagates@outlook.com   \n",
       "10  14/09/2023 17:23  21/09/2023 02:03  hayleighandersonyahoo.com@gmail.com   \n",
       "\n",
       "    MobileNumberId EmailType OptInType    LastMailedDate    LastOpenedDate  \\\n",
       "1              NaN      Html    Single  21/09/2023 09:07               NaN   \n",
       "3              NaN      Html    Single  21/09/2023 09:07               NaN   \n",
       "6              NaN      Html    Single  20/09/2023 09:05               NaN   \n",
       "9              NaN      Html    Single  20/09/2023 09:05               NaN   \n",
       "10             NaN      Html    Single  20/09/2023 09:05  20/09/2023 20:00   \n",
       "\n",
       "    ACTIVE_USER                               ACXIOM_HASH  ... SMSFIELD3  \\\n",
       "1           NaN  b4e98d46dc1533863ef12fb15b78ef1fa8f61fab  ...       NaN   \n",
       "3           NaN  22764aa4cb66e4802ae051d9120c4cc59fed8b1f  ...       NaN   \n",
       "6           NaN  9ad1276ea327d9c373791e94ea3f4ea0837cf512  ...       NaN   \n",
       "9           NaN  dbf951d64cdc11c88f3d7d99ec977c678d7b96b1  ...       NaN   \n",
       "10          NaN  554511210b3dba775257d1a37dd2c85e0877e206  ...       NaN   \n",
       "\n",
       "   SMSFIELD4 SMSFIELD5 SUBJECT_LINE         TOWN TWITTER_ID TYPE  \\\n",
       "1        NaN       NaN            D  Darlington         NaN  NaN   \n",
       "3        NaN       NaN            D          NaN        NaN  NaN   \n",
       "6        NaN       NaN            D          NaN        NaN  NaN   \n",
       "9        NaN       NaN            D          NaN        NaN  NaN   \n",
       "10       NaN       NaN            D          NaN        NaN  NaN   \n",
       "\n",
       "          USER_NAME USER_SOURCE USER_TYPE  \n",
       "1       lisamariesr         NaN   private  \n",
       "3   violettabeach16         NaN   private  \n",
       "6        rehomingbs         NaN   private  \n",
       "9               NaN         NaN       NaN  \n",
       "10              NaN         NaN       NaN  \n",
       "\n",
       "[5 rows x 297 columns]"
      ]
     },
     "execution_count": 32,
     "metadata": {},
     "output_type": "execute_result"
    }
   ],
   "source": [
    "filtered_df1 = df1[~df1['Email'].isin(df_emails['email'])]\n",
    "filtered_df1.head()"
   ]
  },
  {
   "cell_type": "code",
   "execution_count": 34,
   "id": "8c21c52e",
   "metadata": {},
   "outputs": [
    {
     "data": {
      "text/plain": [
       "(42314, 297)"
      ]
     },
     "execution_count": 34,
     "metadata": {},
     "output_type": "execute_result"
    }
   ],
   "source": [
    "filtered_df1.shape"
   ]
  },
  {
   "cell_type": "code",
   "execution_count": 35,
   "id": "c1285711",
   "metadata": {},
   "outputs": [],
   "source": [
    "filtered_df1.to_csv('nonreg_users.csv')"
   ]
  },
  {
   "cell_type": "code",
   "execution_count": null,
   "id": "98be72e1",
   "metadata": {},
   "outputs": [],
   "source": []
  },
  {
   "cell_type": "code",
   "execution_count": 36,
   "id": "16a818fc",
   "metadata": {},
   "outputs": [
    {
     "data": {
      "text/plain": [
       "42314"
      ]
     },
     "execution_count": 36,
     "metadata": {},
     "output_type": "execute_result"
    }
   ],
   "source": [
    "filtered_df1['Email'].nunique()"
   ]
  },
  {
   "cell_type": "code",
   "execution_count": null,
   "id": "bafc91cb",
   "metadata": {},
   "outputs": [],
   "source": []
  },
  {
   "cell_type": "code",
   "execution_count": null,
   "id": "a78cac86",
   "metadata": {},
   "outputs": [],
   "source": []
  },
  {
   "cell_type": "code",
   "execution_count": null,
   "id": "63cd65ab",
   "metadata": {},
   "outputs": [],
   "source": []
  },
  {
   "cell_type": "code",
   "execution_count": 37,
   "id": "fd0d88ba",
   "metadata": {},
   "outputs": [
    {
     "name": "stderr",
     "output_type": "stream",
     "text": [
      "C:\\Users\\rajathadri_as\\AppData\\Local\\Temp\\ipykernel_10556\\719621303.py:1: SettingWithCopyWarning: \n",
      "A value is trying to be set on a copy of a slice from a DataFrame\n",
      "\n",
      "See the caveats in the documentation: https://pandas.pydata.org/pandas-docs/stable/user_guide/indexing.html#returning-a-view-versus-a-copy\n",
      "  filtered_df1.rename(columns = {'Email':'email'}, inplace = True)\n"
     ]
    }
   ],
   "source": [
    "filtered_df1.rename(columns = {'Email':'email'}, inplace = True)"
   ]
  },
  {
   "cell_type": "code",
   "execution_count": 39,
   "id": "a6a9ae7e",
   "metadata": {},
   "outputs": [
    {
     "data": {
      "text/html": [
       "<div>\n",
       "<style scoped>\n",
       "    .dataframe tbody tr th:only-of-type {\n",
       "        vertical-align: middle;\n",
       "    }\n",
       "\n",
       "    .dataframe tbody tr th {\n",
       "        vertical-align: top;\n",
       "    }\n",
       "\n",
       "    .dataframe thead th {\n",
       "        text-align: right;\n",
       "    }\n",
       "</style>\n",
       "<table border=\"1\" class=\"dataframe\">\n",
       "  <thead>\n",
       "    <tr style=\"text-align: right;\">\n",
       "      <th></th>\n",
       "      <th>DateCreated</th>\n",
       "      <th>DateModified</th>\n",
       "      <th>email</th>\n",
       "      <th>MobileNumberId</th>\n",
       "      <th>EmailType</th>\n",
       "      <th>OptInType</th>\n",
       "      <th>LastMailedDate</th>\n",
       "      <th>LastOpenedDate</th>\n",
       "      <th>ACTIVE_USER</th>\n",
       "      <th>ACXIOM_HASH</th>\n",
       "      <th>...</th>\n",
       "      <th>SMSFIELD3</th>\n",
       "      <th>SMSFIELD4</th>\n",
       "      <th>SMSFIELD5</th>\n",
       "      <th>SUBJECT_LINE</th>\n",
       "      <th>TOWN</th>\n",
       "      <th>TWITTER_ID</th>\n",
       "      <th>TYPE</th>\n",
       "      <th>USER_NAME</th>\n",
       "      <th>USER_SOURCE</th>\n",
       "      <th>USER_TYPE</th>\n",
       "    </tr>\n",
       "  </thead>\n",
       "  <tbody>\n",
       "  </tbody>\n",
       "</table>\n",
       "<p>0 rows × 297 columns</p>\n",
       "</div>"
      ],
      "text/plain": [
       "Empty DataFrame\n",
       "Columns: [DateCreated, DateModified, email, MobileNumberId, EmailType, OptInType, LastMailedDate, LastOpenedDate, ACTIVE_USER, ACXIOM_HASH, ADDED_DATE, ADVERTISER_TYPE, BUSINESS_CATEGORY, BUSINESS_NAME, BUSINESS_SIZE, BUSINESS_TYPE, CHRISTMAS, CONTACT_EMAIL, CONTACT_NAME, COUNTRY, COUNTY, DATE_OF_BIRTH, DEVICE_BROWSER, DEVICE_OS, DEVICE_TYPE, E_4X4S, E_ACCESSORIES, E_ALL_ROUNDER_HORSE, E_APPALOOSA, E_ARAB_HORSES, E_ARENAS_MANEGES, E_ART, E_BOOTS_AND_BANDAGES, E_BRIDLE_ACCESSORIES, E_BRIDLES, E_BROODMARES, E_CAREERS, E_CARRIAGE_DRIVING, E_CASPIANS, E_CATS, E_CLIPPING, E_COBS, E_COLOURED_HORSES, E_COUNTRY_PROPERTY, E_DOGS, E_DRESSAGE_HORSES, E_DRIVING_HORSES, E_EDUCATION_TRAINING, E_EQUESTRIAN_CENTRES, E_EQUESTRIAN_DISCIPL, E_EQUESTRIAN_FINANCE, E_EQUESTRIAN_JOBS, E_EQUESTRIAN_PHOTOGR, E_EQUESTRIAN_PROPERT, E_EQUINE_AGENT, E_EQUINE_DENTISTRY, E_EQUINE_FIELD_SHELT, E_EQUINE_SECURITY, E_EQUIPMENT_AND_ACCE, E_EVENTERS, E_EX_RACEHORSES, E_FAMILY_HORSES, E_FARMS_AND_ESTATES, E_FARRIERS, E_FEED_SUPPLEMENTS, E_FENCING, E_HORSE_CREMATION, E_HORSE_INSURANCE, E_HORSE_TRANSPORT, E_HORSEBOX_BUSINESSE, E_HORSEBOXES, E_HORSEBOXES_FOR_HIR, E_HORSEBOXES_TRAILER, E_HORSES, E_HORSES_FOR_LOAN, E_HORSES_WANTED, E_HORSETRAILERS, E_HORTICULTURAL_PROP, E_HUNTERS, E_KENNEL_CATTERIES, E_LAND_FOR_RENT, E_LAND_FOR_SALE, E_LAUNDRY, E_LEAD_REIN_FIRST_RI, E_LIGHT_HACKS, E_LIVERY_YARD, E_LIVESTOCK, E_MOUNTAIN__MOORLAN, E_MOUNTAIN_MOORLAN, E_PADDOCK_MAINTENANC, E_PART_BRED, E_PERFORMANCE_HORSES, E_PETS_LIVESTOCK, E_POLO_PONIES, E_PONY_CLUB_PONIES, E_POT_YOUNG_HORSES, E_QUARTER_HORSES, E_RIDER_CLOTHING, E_RIDING_AND_YARD_BO, E_RIDING_CLUB_HORSES, ...]\n",
       "Index: []\n",
       "\n",
       "[0 rows x 297 columns]"
      ]
     },
     "execution_count": 39,
     "metadata": {},
     "output_type": "execute_result"
    }
   ],
   "source": [
    "pd.merge(filtered_df1, df_emails, how ='inner', on ='email')"
   ]
  },
  {
   "cell_type": "code",
   "execution_count": null,
   "id": "d0edc970",
   "metadata": {},
   "outputs": [],
   "source": []
  }
 ],
 "metadata": {
  "kernelspec": {
   "display_name": "Python 3 (ipykernel)",
   "language": "python",
   "name": "python3"
  },
  "language_info": {
   "codemirror_mode": {
    "name": "ipython",
    "version": 3
   },
   "file_extension": ".py",
   "mimetype": "text/x-python",
   "name": "python",
   "nbconvert_exporter": "python",
   "pygments_lexer": "ipython3",
   "version": "3.11.3"
  }
 },
 "nbformat": 4,
 "nbformat_minor": 5
}
