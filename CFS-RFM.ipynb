{
 "cells": [
  {
   "cell_type": "markdown",
   "id": "530516b7",
   "metadata": {},
   "source": [
    "# RFM Segmentation "
   ]
  },
  {
   "cell_type": "code",
   "execution_count": 1,
   "id": "4b455d89",
   "metadata": {},
   "outputs": [],
   "source": [
    "import pandas as pd\n",
    "import numpy as np\n",
    "import matplotlib.pyplot as plt\n",
    "import matplotlib as mpl\n",
    "import matplotlib.patches as mpatches\n",
    "import seaborn as sns\n",
    "import re\n",
    "import warnings"
   ]
  },
  {
   "cell_type": "code",
   "execution_count": null,
   "id": "5500cf0e",
   "metadata": {},
   "outputs": [],
   "source": []
  },
  {
   "cell_type": "code",
   "execution_count": null,
   "id": "3379a21c",
   "metadata": {},
   "outputs": [],
   "source": []
  },
  {
   "cell_type": "code",
   "execution_count": 2,
   "id": "03fe81f3",
   "metadata": {},
   "outputs": [
    {
     "name": "stderr",
     "output_type": "stream",
     "text": [
      "C:\\Users\\rajathadri_as\\AppData\\Local\\Temp\\ipykernel_4080\\3856658171.py:1: DtypeWarning: Columns (35,64,116,121,145,146,148,150,151,172,176,179,183,190,208,212,218,225,231,273,329) have mixed types. Specify dtype option on import or set low_memory=False.\n",
      "  df1 = pd.read_csv('/Users/rajathadri_as/Documents/Sep14_2023.csv')\n"
     ]
    }
   ],
   "source": [
    "df1 = pd.read_csv('/Users/rajathadri_as/Documents/Sep14_2023.csv')"
   ]
  },
  {
   "cell_type": "code",
   "execution_count": null,
   "id": "fb7fe300",
   "metadata": {},
   "outputs": [],
   "source": []
  },
  {
   "cell_type": "code",
   "execution_count": 3,
   "id": "99467d9f",
   "metadata": {},
   "outputs": [],
   "source": [
    "df = df1[['id','user_id','username','email','phone','type_id','type_name','package_id','active','suspended','approved','price','cost','num_photos','seller_type_id','trade','video','boost','boost_active','caotw','hppremium','views','business_url_click','contacts','displays','views_photo','url_click','print_click','print_phone','days_running','createdon']]"
   ]
  },
  {
   "cell_type": "code",
   "execution_count": 4,
   "id": "48790abb",
   "metadata": {},
   "outputs": [
    {
     "name": "stdout",
     "output_type": "stream",
     "text": [
      "<class 'pandas.core.frame.DataFrame'>\n",
      "RangeIndex: 20785 entries, 0 to 20784\n",
      "Data columns (total 31 columns):\n",
      " #   Column              Non-Null Count  Dtype \n",
      "---  ------              --------------  ----- \n",
      " 0   id                  20785 non-null  int64 \n",
      " 1   user_id             20785 non-null  int64 \n",
      " 2   username            20785 non-null  object\n",
      " 3   email               16904 non-null  object\n",
      " 4   phone               17385 non-null  object\n",
      " 5   type_id             20785 non-null  int64 \n",
      " 6   type_name           20785 non-null  object\n",
      " 7   package_id          20785 non-null  int64 \n",
      " 8   active              20785 non-null  int64 \n",
      " 9   suspended           20785 non-null  int64 \n",
      " 10  approved            20785 non-null  int64 \n",
      " 11  price               20785 non-null  int64 \n",
      " 12  cost                20785 non-null  int64 \n",
      " 13  num_photos          20785 non-null  int64 \n",
      " 14  seller_type_id      20785 non-null  int64 \n",
      " 15  trade               20785 non-null  int64 \n",
      " 16  video               20785 non-null  int64 \n",
      " 17  boost               20785 non-null  int64 \n",
      " 18  boost_active        20785 non-null  int64 \n",
      " 19  caotw               20785 non-null  int64 \n",
      " 20  hppremium           20785 non-null  int64 \n",
      " 21  views               20785 non-null  int64 \n",
      " 22  business_url_click  20785 non-null  int64 \n",
      " 23  contacts            20785 non-null  int64 \n",
      " 24  displays            20785 non-null  int64 \n",
      " 25  views_photo         20785 non-null  int64 \n",
      " 26  url_click           20785 non-null  int64 \n",
      " 27  print_click         20785 non-null  int64 \n",
      " 28  print_phone         20785 non-null  int64 \n",
      " 29  days_running        20785 non-null  int64 \n",
      " 30  createdon           20785 non-null  object\n",
      "dtypes: int64(26), object(5)\n",
      "memory usage: 4.9+ MB\n"
     ]
    }
   ],
   "source": [
    "df.info()"
   ]
  },
  {
   "cell_type": "code",
   "execution_count": 5,
   "id": "d243a78f",
   "metadata": {},
   "outputs": [
    {
     "data": {
      "text/plain": [
       "0"
      ]
     },
     "execution_count": 5,
     "metadata": {},
     "output_type": "execute_result"
    }
   ],
   "source": [
    "# Dataset Duplicate Value Count\n",
    "len(df[df.duplicated()])"
   ]
  },
  {
   "cell_type": "code",
   "execution_count": 6,
   "id": "bda389eb",
   "metadata": {},
   "outputs": [
    {
     "name": "stdout",
     "output_type": "stream",
     "text": [
      "id                       0\n",
      "user_id                  0\n",
      "username                 0\n",
      "email                 3881\n",
      "phone                 3400\n",
      "type_id                  0\n",
      "type_name                0\n",
      "package_id               0\n",
      "active                   0\n",
      "suspended                0\n",
      "approved                 0\n",
      "price                    0\n",
      "cost                     0\n",
      "num_photos               0\n",
      "seller_type_id           0\n",
      "trade                    0\n",
      "video                    0\n",
      "boost                    0\n",
      "boost_active             0\n",
      "caotw                    0\n",
      "hppremium                0\n",
      "views                    0\n",
      "business_url_click       0\n",
      "contacts                 0\n",
      "displays                 0\n",
      "views_photo              0\n",
      "url_click                0\n",
      "print_click              0\n",
      "print_phone              0\n",
      "days_running             0\n",
      "createdon                0\n",
      "dtype: int64\n"
     ]
    }
   ],
   "source": [
    "# Missing Values/Null Values Count\n",
    "print(df.isnull().sum())"
   ]
  },
  {
   "cell_type": "code",
   "execution_count": 7,
   "id": "be165cf1",
   "metadata": {},
   "outputs": [
    {
     "data": {
      "text/plain": [
       "id                    20785\n",
       "user_id                3136\n",
       "username               3136\n",
       "email                  3161\n",
       "phone                  3164\n",
       "type_id                  10\n",
       "type_name                10\n",
       "package_id                9\n",
       "active                    2\n",
       "suspended                 2\n",
       "approved                  3\n",
       "price                  2926\n",
       "cost                     57\n",
       "num_photos               92\n",
       "seller_type_id            2\n",
       "trade                     2\n",
       "video                     2\n",
       "boost                     2\n",
       "boost_active              2\n",
       "caotw                     2\n",
       "hppremium                 2\n",
       "views                  1788\n",
       "business_url_click        3\n",
       "contacts                 48\n",
       "displays              11524\n",
       "views_photo            4071\n",
       "url_click               188\n",
       "print_click              79\n",
       "print_phone              60\n",
       "days_running             11\n",
       "createdon             20285\n",
       "dtype: int64"
      ]
     },
     "execution_count": 7,
     "metadata": {},
     "output_type": "execute_result"
    }
   ],
   "source": [
    "# Check Unique Values for each variable.\n",
    "df.nunique()"
   ]
  },
  {
   "cell_type": "code",
   "execution_count": null,
   "id": "cdb429e0",
   "metadata": {},
   "outputs": [],
   "source": []
  },
  {
   "cell_type": "code",
   "execution_count": null,
   "id": "50d5c280",
   "metadata": {},
   "outputs": [],
   "source": []
  },
  {
   "cell_type": "code",
   "execution_count": null,
   "id": "7ada7444",
   "metadata": {},
   "outputs": [],
   "source": []
  },
  {
   "cell_type": "code",
   "execution_count": null,
   "id": "cccf22a9",
   "metadata": {},
   "outputs": [],
   "source": []
  },
  {
   "cell_type": "code",
   "execution_count": 8,
   "id": "743d734a",
   "metadata": {},
   "outputs": [],
   "source": [
    "#Changing datatype : date => object -> datetime64\n",
    "df = df.astype({\n",
    "    'createdon':'datetime64[ns]'\n",
    "})"
   ]
  },
  {
   "cell_type": "code",
   "execution_count": null,
   "id": "dd78fb11",
   "metadata": {},
   "outputs": [],
   "source": []
  },
  {
   "cell_type": "code",
   "execution_count": null,
   "id": "9f522c7f",
   "metadata": {},
   "outputs": [],
   "source": []
  },
  {
   "cell_type": "code",
   "execution_count": 9,
   "id": "a9ab163b",
   "metadata": {},
   "outputs": [
    {
     "data": {
      "text/html": [
       "<div>\n",
       "<style scoped>\n",
       "    .dataframe tbody tr th:only-of-type {\n",
       "        vertical-align: middle;\n",
       "    }\n",
       "\n",
       "    .dataframe tbody tr th {\n",
       "        vertical-align: top;\n",
       "    }\n",
       "\n",
       "    .dataframe thead th {\n",
       "        text-align: right;\n",
       "    }\n",
       "</style>\n",
       "<table border=\"1\" class=\"dataframe\">\n",
       "  <thead>\n",
       "    <tr style=\"text-align: right;\">\n",
       "      <th></th>\n",
       "      <th>id</th>\n",
       "      <th>user_id</th>\n",
       "      <th>username</th>\n",
       "      <th>email</th>\n",
       "      <th>phone</th>\n",
       "      <th>type_id</th>\n",
       "      <th>type_name</th>\n",
       "      <th>package_id</th>\n",
       "      <th>active</th>\n",
       "      <th>suspended</th>\n",
       "      <th>...</th>\n",
       "      <th>views</th>\n",
       "      <th>business_url_click</th>\n",
       "      <th>contacts</th>\n",
       "      <th>displays</th>\n",
       "      <th>views_photo</th>\n",
       "      <th>url_click</th>\n",
       "      <th>print_click</th>\n",
       "      <th>print_phone</th>\n",
       "      <th>days_running</th>\n",
       "      <th>createdon</th>\n",
       "    </tr>\n",
       "  </thead>\n",
       "  <tbody>\n",
       "    <tr>\n",
       "      <th>0</th>\n",
       "      <td>1311488</td>\n",
       "      <td>200715</td>\n",
       "      <td>HighbrigeDevon</td>\n",
       "      <td>caravansdevon@highbridgecaravans.co.uk</td>\n",
       "      <td>01626 832792</td>\n",
       "      <td>7</td>\n",
       "      <td>Motorhomes</td>\n",
       "      <td>61</td>\n",
       "      <td>1</td>\n",
       "      <td>0</td>\n",
       "      <td>...</td>\n",
       "      <td>554</td>\n",
       "      <td>0</td>\n",
       "      <td>0</td>\n",
       "      <td>14806</td>\n",
       "      <td>1990</td>\n",
       "      <td>4</td>\n",
       "      <td>1</td>\n",
       "      <td>0</td>\n",
       "      <td>0</td>\n",
       "      <td>2023-03-05 11:40:21</td>\n",
       "    </tr>\n",
       "    <tr>\n",
       "      <th>1</th>\n",
       "      <td>1312256</td>\n",
       "      <td>158926</td>\n",
       "      <td>tynevalleymotorhome</td>\n",
       "      <td>sales@tynevalleymotorhomes.co.uk</td>\n",
       "      <td>01207 272777</td>\n",
       "      <td>7</td>\n",
       "      <td>Motorhomes</td>\n",
       "      <td>57</td>\n",
       "      <td>1</td>\n",
       "      <td>0</td>\n",
       "      <td>...</td>\n",
       "      <td>225</td>\n",
       "      <td>0</td>\n",
       "      <td>0</td>\n",
       "      <td>1273</td>\n",
       "      <td>1030</td>\n",
       "      <td>7</td>\n",
       "      <td>0</td>\n",
       "      <td>0</td>\n",
       "      <td>0</td>\n",
       "      <td>2023-03-08 11:40:12</td>\n",
       "    </tr>\n",
       "    <tr>\n",
       "      <th>2</th>\n",
       "      <td>1313024</td>\n",
       "      <td>158795</td>\n",
       "      <td>highbridgecaravans</td>\n",
       "      <td>info@highbridgecaravans.co.uk</td>\n",
       "      <td>01278 782725</td>\n",
       "      <td>7</td>\n",
       "      <td>Motorhomes</td>\n",
       "      <td>61</td>\n",
       "      <td>1</td>\n",
       "      <td>0</td>\n",
       "      <td>...</td>\n",
       "      <td>36</td>\n",
       "      <td>0</td>\n",
       "      <td>0</td>\n",
       "      <td>2562</td>\n",
       "      <td>273</td>\n",
       "      <td>3</td>\n",
       "      <td>4</td>\n",
       "      <td>0</td>\n",
       "      <td>0</td>\n",
       "      <td>2023-03-11 11:40:42</td>\n",
       "    </tr>\n",
       "    <tr>\n",
       "      <th>3</th>\n",
       "      <td>1315584</td>\n",
       "      <td>179544</td>\n",
       "      <td>westcountryhomes</td>\n",
       "      <td>sales@westcountrymotorhomes.co.uk</td>\n",
       "      <td>01278761200</td>\n",
       "      <td>7</td>\n",
       "      <td>Motorhomes</td>\n",
       "      <td>61</td>\n",
       "      <td>1</td>\n",
       "      <td>0</td>\n",
       "      <td>...</td>\n",
       "      <td>260</td>\n",
       "      <td>0</td>\n",
       "      <td>1</td>\n",
       "      <td>5948</td>\n",
       "      <td>863</td>\n",
       "      <td>2</td>\n",
       "      <td>0</td>\n",
       "      <td>0</td>\n",
       "      <td>0</td>\n",
       "      <td>2023-03-21 15:42:16</td>\n",
       "    </tr>\n",
       "    <tr>\n",
       "      <th>4</th>\n",
       "      <td>1316352</td>\n",
       "      <td>246530</td>\n",
       "      <td>CockerhamSands</td>\n",
       "      <td>martyn.turner@pureleisuregroup.com</td>\n",
       "      <td>01524 751387</td>\n",
       "      <td>2</td>\n",
       "      <td>Static Caravans</td>\n",
       "      <td>61</td>\n",
       "      <td>1</td>\n",
       "      <td>0</td>\n",
       "      <td>...</td>\n",
       "      <td>476</td>\n",
       "      <td>0</td>\n",
       "      <td>0</td>\n",
       "      <td>28518</td>\n",
       "      <td>2286</td>\n",
       "      <td>5</td>\n",
       "      <td>0</td>\n",
       "      <td>0</td>\n",
       "      <td>0</td>\n",
       "      <td>2023-03-23 07:40:08</td>\n",
       "    </tr>\n",
       "  </tbody>\n",
       "</table>\n",
       "<p>5 rows × 31 columns</p>\n",
       "</div>"
      ],
      "text/plain": [
       "        id  user_id             username  \\\n",
       "0  1311488   200715       HighbrigeDevon   \n",
       "1  1312256   158926  tynevalleymotorhome   \n",
       "2  1313024   158795   highbridgecaravans   \n",
       "3  1315584   179544     westcountryhomes   \n",
       "4  1316352   246530       CockerhamSands   \n",
       "\n",
       "                                    email         phone  type_id  \\\n",
       "0  caravansdevon@highbridgecaravans.co.uk  01626 832792        7   \n",
       "1        sales@tynevalleymotorhomes.co.uk  01207 272777        7   \n",
       "2           info@highbridgecaravans.co.uk  01278 782725        7   \n",
       "3       sales@westcountrymotorhomes.co.uk   01278761200        7   \n",
       "4      martyn.turner@pureleisuregroup.com  01524 751387        2   \n",
       "\n",
       "         type_name  package_id  active  suspended  ...  views  \\\n",
       "0       Motorhomes          61       1          0  ...    554   \n",
       "1       Motorhomes          57       1          0  ...    225   \n",
       "2       Motorhomes          61       1          0  ...     36   \n",
       "3       Motorhomes          61       1          0  ...    260   \n",
       "4  Static Caravans          61       1          0  ...    476   \n",
       "\n",
       "   business_url_click  contacts  displays  views_photo  url_click  \\\n",
       "0                   0         0     14806         1990          4   \n",
       "1                   0         0      1273         1030          7   \n",
       "2                   0         0      2562          273          3   \n",
       "3                   0         1      5948          863          2   \n",
       "4                   0         0     28518         2286          5   \n",
       "\n",
       "   print_click  print_phone  days_running           createdon  \n",
       "0            1            0             0 2023-03-05 11:40:21  \n",
       "1            0            0             0 2023-03-08 11:40:12  \n",
       "2            4            0             0 2023-03-11 11:40:42  \n",
       "3            0            0             0 2023-03-21 15:42:16  \n",
       "4            0            0             0 2023-03-23 07:40:08  \n",
       "\n",
       "[5 rows x 31 columns]"
      ]
     },
     "execution_count": 9,
     "metadata": {},
     "output_type": "execute_result"
    }
   ],
   "source": [
    "df.head()"
   ]
  },
  {
   "cell_type": "markdown",
   "id": "09f4e72e",
   "metadata": {},
   "source": [
    "# <div class = 'alert alert-info'>Recency</div>"
   ]
  },
  {
   "cell_type": "code",
   "execution_count": 10,
   "id": "5b535afb",
   "metadata": {},
   "outputs": [
    {
     "data": {
      "text/plain": [
       "count                            20785\n",
       "mean     2023-02-10 23:53:21.424056064\n",
       "min                2015-06-26 15:14:51\n",
       "25%                2023-01-25 20:41:20\n",
       "50%                2023-05-11 10:41:53\n",
       "75%                2023-06-23 10:40:16\n",
       "max                2023-09-13 23:11:20\n",
       "Name: createdon, dtype: object"
      ]
     },
     "execution_count": 10,
     "metadata": {},
     "output_type": "execute_result"
    }
   ],
   "source": [
    "df['createdon'].describe(include=all)"
   ]
  },
  {
   "cell_type": "code",
   "execution_count": 11,
   "id": "623d66c9",
   "metadata": {},
   "outputs": [
    {
     "data": {
      "text/html": [
       "<div>\n",
       "<style scoped>\n",
       "    .dataframe tbody tr th:only-of-type {\n",
       "        vertical-align: middle;\n",
       "    }\n",
       "\n",
       "    .dataframe tbody tr th {\n",
       "        vertical-align: top;\n",
       "    }\n",
       "\n",
       "    .dataframe thead th {\n",
       "        text-align: right;\n",
       "    }\n",
       "</style>\n",
       "<table border=\"1\" class=\"dataframe\">\n",
       "  <thead>\n",
       "    <tr style=\"text-align: right;\">\n",
       "      <th></th>\n",
       "      <th>user_id</th>\n",
       "      <th>latest_purchase_date</th>\n",
       "    </tr>\n",
       "  </thead>\n",
       "  <tbody>\n",
       "    <tr>\n",
       "      <th>0</th>\n",
       "      <td>5750</td>\n",
       "      <td>2023-09-12 08:41:01</td>\n",
       "    </tr>\n",
       "    <tr>\n",
       "      <th>1</th>\n",
       "      <td>6398</td>\n",
       "      <td>2020-09-10 19:15:02</td>\n",
       "    </tr>\n",
       "    <tr>\n",
       "      <th>2</th>\n",
       "      <td>6738</td>\n",
       "      <td>2023-03-26 15:01:29</td>\n",
       "    </tr>\n",
       "    <tr>\n",
       "      <th>3</th>\n",
       "      <td>6928</td>\n",
       "      <td>2023-08-23 20:37:16</td>\n",
       "    </tr>\n",
       "    <tr>\n",
       "      <th>4</th>\n",
       "      <td>7339</td>\n",
       "      <td>2023-08-18 13:31:08</td>\n",
       "    </tr>\n",
       "  </tbody>\n",
       "</table>\n",
       "</div>"
      ],
      "text/plain": [
       "   user_id latest_purchase_date\n",
       "0     5750  2023-09-12 08:41:01\n",
       "1     6398  2020-09-10 19:15:02\n",
       "2     6738  2023-03-26 15:01:29\n",
       "3     6928  2023-08-23 20:37:16\n",
       "4     7339  2023-08-18 13:31:08"
      ]
     },
     "execution_count": 11,
     "metadata": {},
     "output_type": "execute_result"
    }
   ],
   "source": [
    "# Creating a new dataframe that includes only the last transaction dates of each user\n",
    "df_recency = df.groupby('user_id')['createdon'].max().reset_index()\n",
    "df_recency.rename(columns={'createdon': 'latest_purchase_date'}, inplace=True)\n",
    "df_recency.head()"
   ]
  },
  {
   "cell_type": "code",
   "execution_count": 12,
   "id": "b8b576e5",
   "metadata": {},
   "outputs": [
    {
     "data": {
      "text/plain": [
       "count                             3136\n",
       "mean     2023-05-10 00:17:43.850765056\n",
       "min                2016-07-17 07:32:10\n",
       "25%                2023-03-30 11:47:45\n",
       "50%                2023-06-20 18:26:57\n",
       "75%                2023-08-14 11:33:17\n",
       "max                2023-09-13 23:11:20\n",
       "Name: latest_purchase_date, dtype: object"
      ]
     },
     "execution_count": 12,
     "metadata": {},
     "output_type": "execute_result"
    }
   ],
   "source": [
    "df_recency['latest_purchase_date'].describe(include=all)"
   ]
  },
  {
   "cell_type": "code",
   "execution_count": 13,
   "id": "cc87c2aa",
   "metadata": {},
   "outputs": [
    {
     "data": {
      "text/html": [
       "<div>\n",
       "<style scoped>\n",
       "    .dataframe tbody tr th:only-of-type {\n",
       "        vertical-align: middle;\n",
       "    }\n",
       "\n",
       "    .dataframe tbody tr th {\n",
       "        vertical-align: top;\n",
       "    }\n",
       "\n",
       "    .dataframe thead th {\n",
       "        text-align: right;\n",
       "    }\n",
       "</style>\n",
       "<table border=\"1\" class=\"dataframe\">\n",
       "  <thead>\n",
       "    <tr style=\"text-align: right;\">\n",
       "      <th></th>\n",
       "      <th>user_id</th>\n",
       "      <th>latest_purchase_date</th>\n",
       "      <th>Recency</th>\n",
       "    </tr>\n",
       "  </thead>\n",
       "  <tbody>\n",
       "    <tr>\n",
       "      <th>0</th>\n",
       "      <td>5750</td>\n",
       "      <td>2023-09-12 08:41:01</td>\n",
       "      <td>1</td>\n",
       "    </tr>\n",
       "    <tr>\n",
       "      <th>1</th>\n",
       "      <td>6398</td>\n",
       "      <td>2020-09-10 19:15:02</td>\n",
       "      <td>1098</td>\n",
       "    </tr>\n",
       "    <tr>\n",
       "      <th>2</th>\n",
       "      <td>6738</td>\n",
       "      <td>2023-03-26 15:01:29</td>\n",
       "      <td>171</td>\n",
       "    </tr>\n",
       "    <tr>\n",
       "      <th>3</th>\n",
       "      <td>6928</td>\n",
       "      <td>2023-08-23 20:37:16</td>\n",
       "      <td>21</td>\n",
       "    </tr>\n",
       "    <tr>\n",
       "      <th>4</th>\n",
       "      <td>7339</td>\n",
       "      <td>2023-08-18 13:31:08</td>\n",
       "      <td>26</td>\n",
       "    </tr>\n",
       "  </tbody>\n",
       "</table>\n",
       "</div>"
      ],
      "text/plain": [
       "   user_id latest_purchase_date  Recency\n",
       "0     5750  2023-09-12 08:41:01        1\n",
       "1     6398  2020-09-10 19:15:02     1098\n",
       "2     6738  2023-03-26 15:01:29      171\n",
       "3     6928  2023-08-23 20:37:16       21\n",
       "4     7339  2023-08-18 13:31:08       26"
      ]
     },
     "execution_count": 13,
     "metadata": {},
     "output_type": "execute_result"
    }
   ],
   "source": [
    "# Calculating the recency value\n",
    "recent_date = df_recency['latest_purchase_date'].max()\n",
    "df_recency['Recency'] = df_recency['latest_purchase_date'].apply(lambda x: (recent_date - x).days)\n",
    "df_recency.head()"
   ]
  },
  {
   "cell_type": "code",
   "execution_count": 14,
   "id": "dccc063b",
   "metadata": {},
   "outputs": [
    {
     "data": {
      "text/plain": [
       "count    3136.000000\n",
       "mean      126.574298\n",
       "std       196.803796\n",
       "min         0.000000\n",
       "25%        30.000000\n",
       "50%        85.000000\n",
       "75%       167.000000\n",
       "max      2614.000000\n",
       "Name: Recency, dtype: float64"
      ]
     },
     "execution_count": 14,
     "metadata": {},
     "output_type": "execute_result"
    }
   ],
   "source": [
    "df_recency.Recency.describe()"
   ]
  },
  {
   "cell_type": "code",
   "execution_count": null,
   "id": "9d8ab552",
   "metadata": {},
   "outputs": [],
   "source": []
  },
  {
   "cell_type": "markdown",
   "id": "e3d59160",
   "metadata": {},
   "source": [
    "# <div class = 'alert alert-info'>Frequency</div>"
   ]
  },
  {
   "cell_type": "code",
   "execution_count": 15,
   "id": "12075f89",
   "metadata": {},
   "outputs": [],
   "source": [
    "# Creating new dataframe to calculate frequency of customers\n",
    "frequency_df = df.groupby(by=['user_id'], as_index=False)['createdon'].count()\n",
    "frequency_df.columns = ['user_id', 'Frequency']"
   ]
  },
  {
   "cell_type": "code",
   "execution_count": 16,
   "id": "817d51ce",
   "metadata": {},
   "outputs": [
    {
     "data": {
      "text/html": [
       "<div>\n",
       "<style scoped>\n",
       "    .dataframe tbody tr th:only-of-type {\n",
       "        vertical-align: middle;\n",
       "    }\n",
       "\n",
       "    .dataframe tbody tr th {\n",
       "        vertical-align: top;\n",
       "    }\n",
       "\n",
       "    .dataframe thead th {\n",
       "        text-align: right;\n",
       "    }\n",
       "</style>\n",
       "<table border=\"1\" class=\"dataframe\">\n",
       "  <thead>\n",
       "    <tr style=\"text-align: right;\">\n",
       "      <th></th>\n",
       "      <th>user_id</th>\n",
       "      <th>Frequency</th>\n",
       "    </tr>\n",
       "  </thead>\n",
       "  <tbody>\n",
       "    <tr>\n",
       "      <th>0</th>\n",
       "      <td>5750</td>\n",
       "      <td>45</td>\n",
       "    </tr>\n",
       "    <tr>\n",
       "      <th>1</th>\n",
       "      <td>6398</td>\n",
       "      <td>2</td>\n",
       "    </tr>\n",
       "    <tr>\n",
       "      <th>2</th>\n",
       "      <td>6738</td>\n",
       "      <td>1</td>\n",
       "    </tr>\n",
       "    <tr>\n",
       "      <th>3</th>\n",
       "      <td>6928</td>\n",
       "      <td>1</td>\n",
       "    </tr>\n",
       "    <tr>\n",
       "      <th>4</th>\n",
       "      <td>7339</td>\n",
       "      <td>2</td>\n",
       "    </tr>\n",
       "  </tbody>\n",
       "</table>\n",
       "</div>"
      ],
      "text/plain": [
       "   user_id  Frequency\n",
       "0     5750         45\n",
       "1     6398          2\n",
       "2     6738          1\n",
       "3     6928          1\n",
       "4     7339          2"
      ]
     },
     "execution_count": 16,
     "metadata": {},
     "output_type": "execute_result"
    }
   ],
   "source": [
    "frequency_df.head()"
   ]
  },
  {
   "cell_type": "code",
   "execution_count": 17,
   "id": "2236d69c",
   "metadata": {},
   "outputs": [
    {
     "data": {
      "text/plain": [
       "array([  45,    2,    1,    3,    7,   11,    6,    4,    5,  362,   29,\n",
       "         81,   61,   71,   25,   22,   35,   48, 1183,  313,  369,   75,\n",
       "         10,  564,   91,   26,  149,  140,   37,   36,  231,   78,  131,\n",
       "        122,   44,   19,  249,  142,  100,   42,   38,   40,   76,   15,\n",
       "        239,   68,   46,  145,   20,   74,  219,  227,   84,  316,   17,\n",
       "         33,  160,   49,  205,    9,   18,   16,    8,   31,   14,   64,\n",
       "        501,   13,  276,   51,  195,  390,   32,  137,   89,  312,  164,\n",
       "         39,   53,  373,  207,   54,   30,  130,   21,   23,   85,  103,\n",
       "         27,   28,   52,   12,   43,   73,   24, 3328,   66,  255],\n",
       "      dtype=int64)"
      ]
     },
     "execution_count": 17,
     "metadata": {},
     "output_type": "execute_result"
    }
   ],
   "source": [
    "# Frequency values\n",
    "frequency_df['Frequency'].unique()"
   ]
  },
  {
   "cell_type": "code",
   "execution_count": 18,
   "id": "bcd7027f",
   "metadata": {},
   "outputs": [
    {
     "data": {
      "text/plain": [
       "count    3136.000000\n",
       "mean        6.627870\n",
       "std        68.821153\n",
       "min         1.000000\n",
       "25%         1.000000\n",
       "50%         1.000000\n",
       "75%         1.000000\n",
       "max      3328.000000\n",
       "Name: Frequency, dtype: float64"
      ]
     },
     "execution_count": 18,
     "metadata": {},
     "output_type": "execute_result"
    }
   ],
   "source": [
    "frequency_df.Frequency.describe()"
   ]
  },
  {
   "cell_type": "code",
   "execution_count": null,
   "id": "a1ae3814",
   "metadata": {},
   "outputs": [],
   "source": []
  },
  {
   "cell_type": "markdown",
   "id": "cdb1f3c8",
   "metadata": {},
   "source": [
    "# <div class = 'alert alert-info'>Monetary</div>"
   ]
  },
  {
   "cell_type": "code",
   "execution_count": 19,
   "id": "b23dceaa",
   "metadata": {},
   "outputs": [
    {
     "data": {
      "text/html": [
       "<div>\n",
       "<style scoped>\n",
       "    .dataframe tbody tr th:only-of-type {\n",
       "        vertical-align: middle;\n",
       "    }\n",
       "\n",
       "    .dataframe tbody tr th {\n",
       "        vertical-align: top;\n",
       "    }\n",
       "\n",
       "    .dataframe thead th {\n",
       "        text-align: right;\n",
       "    }\n",
       "</style>\n",
       "<table border=\"1\" class=\"dataframe\">\n",
       "  <thead>\n",
       "    <tr style=\"text-align: right;\">\n",
       "      <th></th>\n",
       "      <th>user_id</th>\n",
       "      <th>Monetary</th>\n",
       "    </tr>\n",
       "  </thead>\n",
       "  <tbody>\n",
       "    <tr>\n",
       "      <th>0</th>\n",
       "      <td>5750</td>\n",
       "      <td>0.0</td>\n",
       "    </tr>\n",
       "    <tr>\n",
       "      <th>1</th>\n",
       "      <td>6398</td>\n",
       "      <td>0.0</td>\n",
       "    </tr>\n",
       "    <tr>\n",
       "      <th>2</th>\n",
       "      <td>6738</td>\n",
       "      <td>0.0</td>\n",
       "    </tr>\n",
       "    <tr>\n",
       "      <th>3</th>\n",
       "      <td>6928</td>\n",
       "      <td>0.0</td>\n",
       "    </tr>\n",
       "    <tr>\n",
       "      <th>4</th>\n",
       "      <td>7339</td>\n",
       "      <td>0.0</td>\n",
       "    </tr>\n",
       "  </tbody>\n",
       "</table>\n",
       "</div>"
      ],
      "text/plain": [
       "   user_id  Monetary\n",
       "0     5750       0.0\n",
       "1     6398       0.0\n",
       "2     6738       0.0\n",
       "3     6928       0.0\n",
       "4     7339       0.0"
      ]
     },
     "execution_count": 19,
     "metadata": {},
     "output_type": "execute_result"
    }
   ],
   "source": [
    "monetary_df = df.groupby(by='user_id', as_index=False)['cost'].sum()\n",
    "monetary_df.columns = ['user_id', 'Monetary']\n",
    "monetary_df['Monetary'] = monetary_df['Monetary']/100\n",
    "monetary_df.head()"
   ]
  },
  {
   "cell_type": "code",
   "execution_count": 20,
   "id": "b6c9fc15",
   "metadata": {},
   "outputs": [
    {
     "data": {
      "text/plain": [
       "array([  0.  ,  12.99,  35.98,   8.99,  17.99,  19.99,  27.99,  15.99,\n",
       "        19.58,   6.99,  11.98,  37.98,  12.98,  15.98,  10.99,  16.98,\n",
       "        30.98,  25.99,  14.99,  13.98,  10.49,  46.97,   9.99,  12.59,\n",
       "       103.96,  24.98,  42.97,   7.99,  24.99,  22.98,  33.98,  29.98,\n",
       "        12.49,  32.98,  19.98,   4.99,  28.98,  17.98,  23.99,  36.98,\n",
       "        31.97,  49.98,  26.99,  53.97, 493.81,  39.99,   5.99,  50.99,\n",
       "        40.99,  26.98,  27.98,   4.89,  27.96,  19.59,  18.98,  45.98,\n",
       "        32.97,  11.88,  40.97,  20.98,  29.97,  22.97,  13.99,  29.99,\n",
       "         6.49,  47.98,  18.19,  45.97,  23.98,  40.98,   6.29,  39.98])"
      ]
     },
     "execution_count": 20,
     "metadata": {},
     "output_type": "execute_result"
    }
   ],
   "source": [
    "monetary_df.Monetary.unique()"
   ]
  },
  {
   "cell_type": "code",
   "execution_count": 21,
   "id": "37dc1fc2",
   "metadata": {},
   "outputs": [
    {
     "data": {
      "text/plain": [
       "count    3136.000000\n",
       "mean        3.859554\n",
       "std        12.013891\n",
       "min         0.000000\n",
       "25%         0.000000\n",
       "50%         0.000000\n",
       "75%         0.000000\n",
       "max       493.810000\n",
       "Name: Monetary, dtype: float64"
      ]
     },
     "execution_count": 21,
     "metadata": {},
     "output_type": "execute_result"
    }
   ],
   "source": [
    "monetary_df.Monetary.describe()"
   ]
  },
  {
   "cell_type": "code",
   "execution_count": null,
   "id": "7f7d760b",
   "metadata": {},
   "outputs": [],
   "source": []
  },
  {
   "cell_type": "code",
   "execution_count": null,
   "id": "d19dc0b3",
   "metadata": {},
   "outputs": [],
   "source": []
  },
  {
   "cell_type": "markdown",
   "id": "30d1d5e3",
   "metadata": {},
   "source": [
    "# <div class = 'alert alert-danger'> RFM Dictionary</div>"
   ]
  },
  {
   "cell_type": "code",
   "execution_count": 22,
   "id": "2071cb52",
   "metadata": {},
   "outputs": [],
   "source": [
    "# merging dataframes on 'user_id' one after the other\n",
    "rf_df = df_recency.merge(frequency_df, on='user_id')\n",
    "rfm_df = rf_df.merge(monetary_df, on='user_id')"
   ]
  },
  {
   "cell_type": "code",
   "execution_count": 23,
   "id": "29ce4e12",
   "metadata": {},
   "outputs": [
    {
     "data": {
      "text/html": [
       "<div>\n",
       "<style scoped>\n",
       "    .dataframe tbody tr th:only-of-type {\n",
       "        vertical-align: middle;\n",
       "    }\n",
       "\n",
       "    .dataframe tbody tr th {\n",
       "        vertical-align: top;\n",
       "    }\n",
       "\n",
       "    .dataframe thead th {\n",
       "        text-align: right;\n",
       "    }\n",
       "</style>\n",
       "<table border=\"1\" class=\"dataframe\">\n",
       "  <thead>\n",
       "    <tr style=\"text-align: right;\">\n",
       "      <th></th>\n",
       "      <th>user_id</th>\n",
       "      <th>latest_purchase_date</th>\n",
       "      <th>Recency</th>\n",
       "      <th>Frequency</th>\n",
       "      <th>Monetary</th>\n",
       "    </tr>\n",
       "  </thead>\n",
       "  <tbody>\n",
       "    <tr>\n",
       "      <th>0</th>\n",
       "      <td>5750</td>\n",
       "      <td>2023-09-12 08:41:01</td>\n",
       "      <td>1</td>\n",
       "      <td>45</td>\n",
       "      <td>0.0</td>\n",
       "    </tr>\n",
       "    <tr>\n",
       "      <th>1</th>\n",
       "      <td>6398</td>\n",
       "      <td>2020-09-10 19:15:02</td>\n",
       "      <td>1098</td>\n",
       "      <td>2</td>\n",
       "      <td>0.0</td>\n",
       "    </tr>\n",
       "    <tr>\n",
       "      <th>2</th>\n",
       "      <td>6738</td>\n",
       "      <td>2023-03-26 15:01:29</td>\n",
       "      <td>171</td>\n",
       "      <td>1</td>\n",
       "      <td>0.0</td>\n",
       "    </tr>\n",
       "    <tr>\n",
       "      <th>3</th>\n",
       "      <td>6928</td>\n",
       "      <td>2023-08-23 20:37:16</td>\n",
       "      <td>21</td>\n",
       "      <td>1</td>\n",
       "      <td>0.0</td>\n",
       "    </tr>\n",
       "    <tr>\n",
       "      <th>4</th>\n",
       "      <td>7339</td>\n",
       "      <td>2023-08-18 13:31:08</td>\n",
       "      <td>26</td>\n",
       "      <td>2</td>\n",
       "      <td>0.0</td>\n",
       "    </tr>\n",
       "  </tbody>\n",
       "</table>\n",
       "</div>"
      ],
      "text/plain": [
       "   user_id latest_purchase_date  Recency  Frequency  Monetary\n",
       "0     5750  2023-09-12 08:41:01        1         45       0.0\n",
       "1     6398  2020-09-10 19:15:02     1098          2       0.0\n",
       "2     6738  2023-03-26 15:01:29      171          1       0.0\n",
       "3     6928  2023-08-23 20:37:16       21          1       0.0\n",
       "4     7339  2023-08-18 13:31:08       26          2       0.0"
      ]
     },
     "execution_count": 23,
     "metadata": {},
     "output_type": "execute_result"
    }
   ],
   "source": [
    "rfm_df.head()"
   ]
  },
  {
   "cell_type": "code",
   "execution_count": 24,
   "id": "3866ac63",
   "metadata": {},
   "outputs": [
    {
     "data": {
      "text/plain": [
       "(3136, 5)"
      ]
     },
     "execution_count": 24,
     "metadata": {},
     "output_type": "execute_result"
    }
   ],
   "source": [
    "rfm_df.shape"
   ]
  },
  {
   "cell_type": "code",
   "execution_count": 25,
   "id": "8a9d631a",
   "metadata": {},
   "outputs": [
    {
     "data": {
      "text/plain": [
       "3136"
      ]
     },
     "execution_count": 25,
     "metadata": {},
     "output_type": "execute_result"
    }
   ],
   "source": [
    "rfm_df.user_id.nunique()"
   ]
  },
  {
   "cell_type": "code",
   "execution_count": null,
   "id": "9cb430fb",
   "metadata": {},
   "outputs": [],
   "source": []
  },
  {
   "cell_type": "code",
   "execution_count": 32,
   "id": "0648be14",
   "metadata": {},
   "outputs": [],
   "source": [
    "# Creating ranks by sorting\n",
    "rfm_df['R_rank'] = rfm_df['Recency'].rank(ascending=False)   \n",
    "rfm_df['F_rank'] = rfm_df['Frequency'].rank(ascending=True)\n",
    "rfm_df['M_rank'] = rfm_df['Monetary'].rank(ascending=True)\n",
    " \n",
    "# normalizing the rank of the customers\n",
    "# by dividing from the highest value in the ranks\n",
    "rfm_df['R_rank_norm'] = (rfm_df['R_rank']/rfm_df['R_rank'].max())*100\n",
    "rfm_df['F_rank_norm'] = (rfm_df['F_rank']/rfm_df['F_rank'].max())*100\n",
    "rfm_df['M_rank_norm'] = (rfm_df['M_rank']/rfm_df['M_rank'].max())*100"
   ]
  },
  {
   "cell_type": "code",
   "execution_count": 33,
   "id": "627ef9a0",
   "metadata": {},
   "outputs": [
    {
     "data": {
      "text/html": [
       "<div>\n",
       "<style scoped>\n",
       "    .dataframe tbody tr th:only-of-type {\n",
       "        vertical-align: middle;\n",
       "    }\n",
       "\n",
       "    .dataframe tbody tr th {\n",
       "        vertical-align: top;\n",
       "    }\n",
       "\n",
       "    .dataframe thead th {\n",
       "        text-align: right;\n",
       "    }\n",
       "</style>\n",
       "<table border=\"1\" class=\"dataframe\">\n",
       "  <thead>\n",
       "    <tr style=\"text-align: right;\">\n",
       "      <th></th>\n",
       "      <th>user_id</th>\n",
       "      <th>latest_purchase_date</th>\n",
       "      <th>Recency</th>\n",
       "      <th>Frequency</th>\n",
       "      <th>Monetary</th>\n",
       "      <th>R_rank_norm</th>\n",
       "      <th>F_rank_norm</th>\n",
       "      <th>M_rank_norm</th>\n",
       "    </tr>\n",
       "  </thead>\n",
       "  <tbody>\n",
       "    <tr>\n",
       "      <th>0</th>\n",
       "      <td>5750</td>\n",
       "      <td>2023-09-12 08:41:01</td>\n",
       "      <td>1</td>\n",
       "      <td>45</td>\n",
       "      <td>0.0</td>\n",
       "      <td>98.730924</td>\n",
       "      <td>97.751913</td>\n",
       "      <td>38.839286</td>\n",
       "    </tr>\n",
       "    <tr>\n",
       "      <th>1</th>\n",
       "      <td>6398</td>\n",
       "      <td>2020-09-10 19:15:02</td>\n",
       "      <td>1098</td>\n",
       "      <td>2</td>\n",
       "      <td>0.0</td>\n",
       "      <td>0.803213</td>\n",
       "      <td>83.816964</td>\n",
       "      <td>38.839286</td>\n",
       "    </tr>\n",
       "    <tr>\n",
       "      <th>2</th>\n",
       "      <td>6738</td>\n",
       "      <td>2023-03-26 15:01:29</td>\n",
       "      <td>171</td>\n",
       "      <td>1</td>\n",
       "      <td>0.0</td>\n",
       "      <td>23.951807</td>\n",
       "      <td>39.732143</td>\n",
       "      <td>38.839286</td>\n",
       "    </tr>\n",
       "    <tr>\n",
       "      <th>3</th>\n",
       "      <td>6928</td>\n",
       "      <td>2023-08-23 20:37:16</td>\n",
       "      <td>21</td>\n",
       "      <td>1</td>\n",
       "      <td>0.0</td>\n",
       "      <td>82.538153</td>\n",
       "      <td>39.732143</td>\n",
       "      <td>38.839286</td>\n",
       "    </tr>\n",
       "    <tr>\n",
       "      <th>4</th>\n",
       "      <td>7339</td>\n",
       "      <td>2023-08-18 13:31:08</td>\n",
       "      <td>26</td>\n",
       "      <td>2</td>\n",
       "      <td>0.0</td>\n",
       "      <td>78.361446</td>\n",
       "      <td>83.816964</td>\n",
       "      <td>38.839286</td>\n",
       "    </tr>\n",
       "  </tbody>\n",
       "</table>\n",
       "</div>"
      ],
      "text/plain": [
       "   user_id latest_purchase_date  Recency  Frequency  Monetary  R_rank_norm  \\\n",
       "0     5750  2023-09-12 08:41:01        1         45       0.0    98.730924   \n",
       "1     6398  2020-09-10 19:15:02     1098          2       0.0     0.803213   \n",
       "2     6738  2023-03-26 15:01:29      171          1       0.0    23.951807   \n",
       "3     6928  2023-08-23 20:37:16       21          1       0.0    82.538153   \n",
       "4     7339  2023-08-18 13:31:08       26          2       0.0    78.361446   \n",
       "\n",
       "   F_rank_norm  M_rank_norm  \n",
       "0    97.751913    38.839286  \n",
       "1    83.816964    38.839286  \n",
       "2    39.732143    38.839286  \n",
       "3    39.732143    38.839286  \n",
       "4    83.816964    38.839286  "
      ]
     },
     "execution_count": 33,
     "metadata": {},
     "output_type": "execute_result"
    }
   ],
   "source": [
    "# Dropping non-normalized RFM features\n",
    "rfm_df.drop(columns=['R_rank', 'F_rank', 'M_rank'], inplace=True)\n",
    "\n",
    "rfm_df.head()"
   ]
  },
  {
   "cell_type": "code",
   "execution_count": null,
   "id": "3c6cd873",
   "metadata": {},
   "outputs": [],
   "source": []
  },
  {
   "cell_type": "markdown",
   "id": "cc9c5219",
   "metadata": {},
   "source": [
    "> (0.15 x Recency score) + (0.28 x Frequency score) + (0.57 x Monetary score)"
   ]
  },
  {
   "cell_type": "code",
   "execution_count": 34,
   "id": "668f47f9",
   "metadata": {},
   "outputs": [],
   "source": [
    "# Applying the formula\n",
    "rfm_df['RFM_Score'] = 0.15*rfm_df['R_rank_norm']+0.28 *rfm_df['F_rank_norm']+0.57*rfm_df['M_rank_norm']"
   ]
  },
  {
   "cell_type": "code",
   "execution_count": 35,
   "id": "4fe2cd22",
   "metadata": {},
   "outputs": [],
   "source": [
    "# Calculating RFM out of 5 \n",
    "rfm_df['RFM_Score'] *= 0.05\n",
    "\n",
    "# Rounding to 2 decimal points\n",
    "rfm_df = rfm_df.round(2)"
   ]
  },
  {
   "cell_type": "code",
   "execution_count": 36,
   "id": "b3ee672f",
   "metadata": {},
   "outputs": [
    {
     "data": {
      "text/html": [
       "<div>\n",
       "<style scoped>\n",
       "    .dataframe tbody tr th:only-of-type {\n",
       "        vertical-align: middle;\n",
       "    }\n",
       "\n",
       "    .dataframe tbody tr th {\n",
       "        vertical-align: top;\n",
       "    }\n",
       "\n",
       "    .dataframe thead th {\n",
       "        text-align: right;\n",
       "    }\n",
       "</style>\n",
       "<table border=\"1\" class=\"dataframe\">\n",
       "  <thead>\n",
       "    <tr style=\"text-align: right;\">\n",
       "      <th></th>\n",
       "      <th>user_id</th>\n",
       "      <th>latest_purchase_date</th>\n",
       "      <th>Recency</th>\n",
       "      <th>Frequency</th>\n",
       "      <th>Monetary</th>\n",
       "      <th>RFM_Score</th>\n",
       "    </tr>\n",
       "  </thead>\n",
       "  <tbody>\n",
       "    <tr>\n",
       "      <th>0</th>\n",
       "      <td>5750</td>\n",
       "      <td>2023-09-12 08:41:01</td>\n",
       "      <td>1</td>\n",
       "      <td>45</td>\n",
       "      <td>0.0</td>\n",
       "      <td>3.22</td>\n",
       "    </tr>\n",
       "    <tr>\n",
       "      <th>1</th>\n",
       "      <td>6398</td>\n",
       "      <td>2020-09-10 19:15:02</td>\n",
       "      <td>1098</td>\n",
       "      <td>2</td>\n",
       "      <td>0.0</td>\n",
       "      <td>2.29</td>\n",
       "    </tr>\n",
       "    <tr>\n",
       "      <th>2</th>\n",
       "      <td>6738</td>\n",
       "      <td>2023-03-26 15:01:29</td>\n",
       "      <td>171</td>\n",
       "      <td>1</td>\n",
       "      <td>0.0</td>\n",
       "      <td>1.84</td>\n",
       "    </tr>\n",
       "    <tr>\n",
       "      <th>3</th>\n",
       "      <td>6928</td>\n",
       "      <td>2023-08-23 20:37:16</td>\n",
       "      <td>21</td>\n",
       "      <td>1</td>\n",
       "      <td>0.0</td>\n",
       "      <td>2.28</td>\n",
       "    </tr>\n",
       "    <tr>\n",
       "      <th>4</th>\n",
       "      <td>7339</td>\n",
       "      <td>2023-08-18 13:31:08</td>\n",
       "      <td>26</td>\n",
       "      <td>2</td>\n",
       "      <td>0.0</td>\n",
       "      <td>2.87</td>\n",
       "    </tr>\n",
       "  </tbody>\n",
       "</table>\n",
       "</div>"
      ],
      "text/plain": [
       "   user_id latest_purchase_date  Recency  Frequency  Monetary  RFM_Score\n",
       "0     5750  2023-09-12 08:41:01        1         45       0.0       3.22\n",
       "1     6398  2020-09-10 19:15:02     1098          2       0.0       2.29\n",
       "2     6738  2023-03-26 15:01:29      171          1       0.0       1.84\n",
       "3     6928  2023-08-23 20:37:16       21          1       0.0       2.28\n",
       "4     7339  2023-08-18 13:31:08       26          2       0.0       2.87"
      ]
     },
     "execution_count": 36,
     "metadata": {},
     "output_type": "execute_result"
    }
   ],
   "source": [
    "# Dropping non-normalized RFM features\n",
    "rfm_df.drop(columns=['R_rank_norm', 'F_rank_norm', 'M_rank_norm'], inplace=True)\n",
    "\n",
    "rfm_df.head()"
   ]
  },
  {
   "cell_type": "code",
   "execution_count": null,
   "id": "321211ef",
   "metadata": {},
   "outputs": [],
   "source": []
  },
  {
   "cell_type": "code",
   "execution_count": null,
   "id": "a42cc7e5",
   "metadata": {},
   "outputs": [],
   "source": []
  },
  {
   "cell_type": "code",
   "execution_count": null,
   "id": "6cae642f",
   "metadata": {},
   "outputs": [],
   "source": []
  },
  {
   "cell_type": "code",
   "execution_count": null,
   "id": "893d575c",
   "metadata": {},
   "outputs": [],
   "source": []
  },
  {
   "cell_type": "code",
   "execution_count": null,
   "id": "f40054b8",
   "metadata": {},
   "outputs": [],
   "source": []
  },
  {
   "cell_type": "code",
   "execution_count": null,
   "id": "e888cc6a",
   "metadata": {},
   "outputs": [],
   "source": []
  },
  {
   "cell_type": "code",
   "execution_count": 37,
   "id": "52ce8071",
   "metadata": {},
   "outputs": [],
   "source": [
    "df_user_info = df[['user_id','username','email','phone']]"
   ]
  },
  {
   "cell_type": "code",
   "execution_count": 38,
   "id": "032d3420",
   "metadata": {},
   "outputs": [
    {
     "data": {
      "text/plain": [
       "(20785, 4)"
      ]
     },
     "execution_count": 38,
     "metadata": {},
     "output_type": "execute_result"
    }
   ],
   "source": [
    "df_user_info.shape"
   ]
  },
  {
   "cell_type": "code",
   "execution_count": null,
   "id": "fa2bd14b",
   "metadata": {},
   "outputs": [],
   "source": []
  },
  {
   "cell_type": "code",
   "execution_count": 41,
   "id": "96880c47",
   "metadata": {},
   "outputs": [
    {
     "data": {
      "text/html": [
       "<div>\n",
       "<style scoped>\n",
       "    .dataframe tbody tr th:only-of-type {\n",
       "        vertical-align: middle;\n",
       "    }\n",
       "\n",
       "    .dataframe tbody tr th {\n",
       "        vertical-align: top;\n",
       "    }\n",
       "\n",
       "    .dataframe thead th {\n",
       "        text-align: right;\n",
       "    }\n",
       "</style>\n",
       "<table border=\"1\" class=\"dataframe\">\n",
       "  <thead>\n",
       "    <tr style=\"text-align: right;\">\n",
       "      <th></th>\n",
       "      <th>user_id</th>\n",
       "      <th>username</th>\n",
       "      <th>email</th>\n",
       "      <th>phone</th>\n",
       "      <th>latest_purchase_date</th>\n",
       "      <th>Recency</th>\n",
       "      <th>Frequency</th>\n",
       "      <th>Monetary</th>\n",
       "      <th>RFM_Score</th>\n",
       "    </tr>\n",
       "  </thead>\n",
       "  <tbody>\n",
       "    <tr>\n",
       "      <th>0</th>\n",
       "      <td>200715</td>\n",
       "      <td>HighbrigeDevon</td>\n",
       "      <td>caravansdevon@highbridgecaravans.co.uk</td>\n",
       "      <td>01626 832792</td>\n",
       "      <td>2023-07-29 15:01:07</td>\n",
       "      <td>46</td>\n",
       "      <td>373</td>\n",
       "      <td>0.0</td>\n",
       "      <td>3.01</td>\n",
       "    </tr>\n",
       "    <tr>\n",
       "      <th>1</th>\n",
       "      <td>158926</td>\n",
       "      <td>tynevalleymotorhome</td>\n",
       "      <td>sales@tynevalleymotorhomes.co.uk</td>\n",
       "      <td>01207 272777</td>\n",
       "      <td>2023-07-29 14:57:07</td>\n",
       "      <td>46</td>\n",
       "      <td>231</td>\n",
       "      <td>0.0</td>\n",
       "      <td>3.00</td>\n",
       "    </tr>\n",
       "    <tr>\n",
       "      <th>2</th>\n",
       "      <td>158795</td>\n",
       "      <td>highbridgecaravans</td>\n",
       "      <td>info@highbridgecaravans.co.uk</td>\n",
       "      <td>01278 782725</td>\n",
       "      <td>2023-07-29 15:01:37</td>\n",
       "      <td>46</td>\n",
       "      <td>1183</td>\n",
       "      <td>0.0</td>\n",
       "      <td>3.01</td>\n",
       "    </tr>\n",
       "    <tr>\n",
       "      <th>3</th>\n",
       "      <td>179544</td>\n",
       "      <td>westcountryhomes</td>\n",
       "      <td>sales@westcountrymotorhomes.co.uk</td>\n",
       "      <td>01278761200</td>\n",
       "      <td>2023-07-29 15:17:23</td>\n",
       "      <td>46</td>\n",
       "      <td>501</td>\n",
       "      <td>0.0</td>\n",
       "      <td>3.01</td>\n",
       "    </tr>\n",
       "    <tr>\n",
       "      <th>4</th>\n",
       "      <td>246530</td>\n",
       "      <td>CockerhamSands</td>\n",
       "      <td>martyn.turner@pureleisuregroup.com</td>\n",
       "      <td>01524 751387</td>\n",
       "      <td>2023-03-23 07:40:08</td>\n",
       "      <td>174</td>\n",
       "      <td>12</td>\n",
       "      <td>0.0</td>\n",
       "      <td>2.61</td>\n",
       "    </tr>\n",
       "    <tr>\n",
       "      <th>...</th>\n",
       "      <td>...</td>\n",
       "      <td>...</td>\n",
       "      <td>...</td>\n",
       "      <td>...</td>\n",
       "      <td>...</td>\n",
       "      <td>...</td>\n",
       "      <td>...</td>\n",
       "      <td>...</td>\n",
       "      <td>...</td>\n",
       "    </tr>\n",
       "    <tr>\n",
       "      <th>3292</th>\n",
       "      <td>246932</td>\n",
       "      <td>traceysjones</td>\n",
       "      <td>traceysjones@btinternet.com</td>\n",
       "      <td>07748655428</td>\n",
       "      <td>2023-02-25 10:35:01</td>\n",
       "      <td>200</td>\n",
       "      <td>1</td>\n",
       "      <td>0.0</td>\n",
       "      <td>1.77</td>\n",
       "    </tr>\n",
       "    <tr>\n",
       "      <th>3293</th>\n",
       "      <td>250374</td>\n",
       "      <td>andywiffen</td>\n",
       "      <td>andywiffen@hotmail.co.uk</td>\n",
       "      <td>07780838251</td>\n",
       "      <td>2023-06-30 13:30:07</td>\n",
       "      <td>75</td>\n",
       "      <td>1</td>\n",
       "      <td>0.0</td>\n",
       "      <td>2.07</td>\n",
       "    </tr>\n",
       "    <tr>\n",
       "      <th>3294</th>\n",
       "      <td>40058</td>\n",
       "      <td>nands</td>\n",
       "      <td>nands@nandsnet.co.uk</td>\n",
       "      <td>07525779058</td>\n",
       "      <td>2023-01-22 17:19:02</td>\n",
       "      <td>234</td>\n",
       "      <td>1</td>\n",
       "      <td>0.0</td>\n",
       "      <td>1.72</td>\n",
       "    </tr>\n",
       "    <tr>\n",
       "      <th>3295</th>\n",
       "      <td>243313</td>\n",
       "      <td>ingetp</td>\n",
       "      <td>ingetp@btinternet.com</td>\n",
       "      <td>07889 66 88 52</td>\n",
       "      <td>2023-09-13 13:40:36</td>\n",
       "      <td>0</td>\n",
       "      <td>1</td>\n",
       "      <td>0.0</td>\n",
       "      <td>2.41</td>\n",
       "    </tr>\n",
       "    <tr>\n",
       "      <th>3296</th>\n",
       "      <td>227806</td>\n",
       "      <td>sirenplaster</td>\n",
       "      <td>sirenplaster@hotmail.co.uk</td>\n",
       "      <td>07946550943</td>\n",
       "      <td>2022-01-06 17:52:17</td>\n",
       "      <td>615</td>\n",
       "      <td>1</td>\n",
       "      <td>0.0</td>\n",
       "      <td>1.68</td>\n",
       "    </tr>\n",
       "  </tbody>\n",
       "</table>\n",
       "<p>3297 rows × 9 columns</p>\n",
       "</div>"
      ],
      "text/plain": [
       "      user_id             username                                   email  \\\n",
       "0      200715       HighbrigeDevon  caravansdevon@highbridgecaravans.co.uk   \n",
       "1      158926  tynevalleymotorhome        sales@tynevalleymotorhomes.co.uk   \n",
       "2      158795   highbridgecaravans           info@highbridgecaravans.co.uk   \n",
       "3      179544     westcountryhomes       sales@westcountrymotorhomes.co.uk   \n",
       "4      246530       CockerhamSands      martyn.turner@pureleisuregroup.com   \n",
       "...       ...                  ...                                     ...   \n",
       "3292   246932         traceysjones             traceysjones@btinternet.com   \n",
       "3293   250374           andywiffen                andywiffen@hotmail.co.uk   \n",
       "3294    40058                nands                    nands@nandsnet.co.uk   \n",
       "3295   243313               ingetp                   ingetp@btinternet.com   \n",
       "3296   227806         sirenplaster              sirenplaster@hotmail.co.uk   \n",
       "\n",
       "               phone latest_purchase_date  Recency  Frequency  Monetary  \\\n",
       "0       01626 832792  2023-07-29 15:01:07       46        373       0.0   \n",
       "1       01207 272777  2023-07-29 14:57:07       46        231       0.0   \n",
       "2       01278 782725  2023-07-29 15:01:37       46       1183       0.0   \n",
       "3        01278761200  2023-07-29 15:17:23       46        501       0.0   \n",
       "4       01524 751387  2023-03-23 07:40:08      174         12       0.0   \n",
       "...              ...                  ...      ...        ...       ...   \n",
       "3292     07748655428  2023-02-25 10:35:01      200          1       0.0   \n",
       "3293     07780838251  2023-06-30 13:30:07       75          1       0.0   \n",
       "3294     07525779058  2023-01-22 17:19:02      234          1       0.0   \n",
       "3295  07889 66 88 52  2023-09-13 13:40:36        0          1       0.0   \n",
       "3296     07946550943  2022-01-06 17:52:17      615          1       0.0   \n",
       "\n",
       "      RFM_Score  \n",
       "0          3.01  \n",
       "1          3.00  \n",
       "2          3.01  \n",
       "3          3.01  \n",
       "4          2.61  \n",
       "...         ...  \n",
       "3292       1.77  \n",
       "3293       2.07  \n",
       "3294       1.72  \n",
       "3295       2.41  \n",
       "3296       1.68  \n",
       "\n",
       "[3297 rows x 9 columns]"
      ]
     },
     "execution_count": 41,
     "metadata": {},
     "output_type": "execute_result"
    }
   ],
   "source": [
    "rfm_dict = df_user_info.merge(rfm_df, on='user_id',how='left').drop_duplicates(keep='first').reset_index(drop=True)\n",
    "rfm_dict"
   ]
  },
  {
   "cell_type": "code",
   "execution_count": 42,
   "id": "0ed584c1",
   "metadata": {},
   "outputs": [
    {
     "data": {
      "text/html": [
       "<div>\n",
       "<style scoped>\n",
       "    .dataframe tbody tr th:only-of-type {\n",
       "        vertical-align: middle;\n",
       "    }\n",
       "\n",
       "    .dataframe tbody tr th {\n",
       "        vertical-align: top;\n",
       "    }\n",
       "\n",
       "    .dataframe thead th {\n",
       "        text-align: right;\n",
       "    }\n",
       "</style>\n",
       "<table border=\"1\" class=\"dataframe\">\n",
       "  <thead>\n",
       "    <tr style=\"text-align: right;\">\n",
       "      <th></th>\n",
       "      <th>user_id</th>\n",
       "      <th>username</th>\n",
       "      <th>email</th>\n",
       "      <th>phone</th>\n",
       "      <th>latest_purchase_date</th>\n",
       "      <th>Recency</th>\n",
       "      <th>Frequency</th>\n",
       "      <th>Monetary</th>\n",
       "      <th>RFM_Score</th>\n",
       "    </tr>\n",
       "  </thead>\n",
       "  <tbody>\n",
       "    <tr>\n",
       "      <th>0</th>\n",
       "      <td>5750</td>\n",
       "      <td>wilkinsmotorcaravans</td>\n",
       "      <td>sales@wilkinsmotorcaravans.co.uk</td>\n",
       "      <td>01285 821216</td>\n",
       "      <td>2023-09-12 08:41:01</td>\n",
       "      <td>1</td>\n",
       "      <td>45</td>\n",
       "      <td>0.0</td>\n",
       "      <td>3.22</td>\n",
       "    </tr>\n",
       "    <tr>\n",
       "      <th>1</th>\n",
       "      <td>6398</td>\n",
       "      <td>chris64</td>\n",
       "      <td>sales@parkleisureuk.co.uk</td>\n",
       "      <td>01834 891444</td>\n",
       "      <td>2020-09-10 19:15:02</td>\n",
       "      <td>1098</td>\n",
       "      <td>2</td>\n",
       "      <td>0.0</td>\n",
       "      <td>2.29</td>\n",
       "    </tr>\n",
       "    <tr>\n",
       "      <th>2</th>\n",
       "      <td>6738</td>\n",
       "      <td>lindpetewinn</td>\n",
       "      <td>lindpetewinn@hotmail.com</td>\n",
       "      <td>07840229183</td>\n",
       "      <td>2023-03-26 15:01:29</td>\n",
       "      <td>171</td>\n",
       "      <td>1</td>\n",
       "      <td>0.0</td>\n",
       "      <td>1.84</td>\n",
       "    </tr>\n",
       "    <tr>\n",
       "      <th>3</th>\n",
       "      <td>6928</td>\n",
       "      <td>YI91295G6152801</td>\n",
       "      <td>msteersy@yahoo.com</td>\n",
       "      <td>07818 426393</td>\n",
       "      <td>2023-08-23 20:37:16</td>\n",
       "      <td>21</td>\n",
       "      <td>1</td>\n",
       "      <td>0.0</td>\n",
       "      <td>2.28</td>\n",
       "    </tr>\n",
       "    <tr>\n",
       "      <th>4</th>\n",
       "      <td>7339</td>\n",
       "      <td>YI913G7H4160212</td>\n",
       "      <td>kerry.emery@spar.co.uk</td>\n",
       "      <td>07976962805</td>\n",
       "      <td>2023-08-18 13:31:08</td>\n",
       "      <td>26</td>\n",
       "      <td>2</td>\n",
       "      <td>0.0</td>\n",
       "      <td>2.87</td>\n",
       "    </tr>\n",
       "  </tbody>\n",
       "</table>\n",
       "</div>"
      ],
      "text/plain": [
       "   user_id              username                             email  \\\n",
       "0     5750  wilkinsmotorcaravans  sales@wilkinsmotorcaravans.co.uk   \n",
       "1     6398               chris64         sales@parkleisureuk.co.uk   \n",
       "2     6738          lindpetewinn          lindpetewinn@hotmail.com   \n",
       "3     6928       YI91295G6152801                msteersy@yahoo.com   \n",
       "4     7339       YI913G7H4160212            kerry.emery@spar.co.uk   \n",
       "\n",
       "          phone latest_purchase_date  Recency  Frequency  Monetary  RFM_Score  \n",
       "0  01285 821216  2023-09-12 08:41:01        1         45       0.0       3.22  \n",
       "1  01834 891444  2020-09-10 19:15:02     1098          2       0.0       2.29  \n",
       "2   07840229183  2023-03-26 15:01:29      171          1       0.0       1.84  \n",
       "3  07818 426393  2023-08-23 20:37:16       21          1       0.0       2.28  \n",
       "4   07976962805  2023-08-18 13:31:08       26          2       0.0       2.87  "
      ]
     },
     "execution_count": 42,
     "metadata": {},
     "output_type": "execute_result"
    }
   ],
   "source": [
    "rfm_dict= rfm_dict.groupby(['user_id'])[['username','email','phone','latest_purchase_date','Recency','Frequency','Monetary','RFM_Score']].first().reset_index()\n",
    "\n",
    "rfm_dict.head()"
   ]
  },
  {
   "cell_type": "code",
   "execution_count": 43,
   "id": "2b5c1032",
   "metadata": {},
   "outputs": [
    {
     "data": {
      "text/plain": [
       "(3136, 9)"
      ]
     },
     "execution_count": 43,
     "metadata": {},
     "output_type": "execute_result"
    }
   ],
   "source": [
    "rfm_dict.shape"
   ]
  },
  {
   "cell_type": "code",
   "execution_count": 44,
   "id": "d68487e8",
   "metadata": {},
   "outputs": [
    {
     "data": {
      "text/plain": [
       "3136"
      ]
     },
     "execution_count": 44,
     "metadata": {},
     "output_type": "execute_result"
    }
   ],
   "source": [
    "rfm_dict.user_id.nunique()"
   ]
  },
  {
   "cell_type": "code",
   "execution_count": 45,
   "id": "00b06b46",
   "metadata": {},
   "outputs": [
    {
     "data": {
      "text/plain": [
       "user_id                  0\n",
       "username                 0\n",
       "email                    6\n",
       "phone                   50\n",
       "latest_purchase_date     0\n",
       "Recency                  0\n",
       "Frequency                0\n",
       "Monetary                 0\n",
       "RFM_Score                0\n",
       "dtype: int64"
      ]
     },
     "execution_count": 45,
     "metadata": {},
     "output_type": "execute_result"
    }
   ],
   "source": [
    "rfm_dict.isnull().sum()"
   ]
  },
  {
   "cell_type": "code",
   "execution_count": null,
   "id": "b9d581e5",
   "metadata": {},
   "outputs": [],
   "source": []
  },
  {
   "cell_type": "code",
   "execution_count": null,
   "id": "9d2122da",
   "metadata": {},
   "outputs": [],
   "source": []
  },
  {
   "cell_type": "code",
   "execution_count": null,
   "id": "08815607",
   "metadata": {},
   "outputs": [],
   "source": []
  },
  {
   "cell_type": "code",
   "execution_count": null,
   "id": "ef112498",
   "metadata": {},
   "outputs": [],
   "source": []
  },
  {
   "cell_type": "code",
   "execution_count": 46,
   "id": "677d6a2e",
   "metadata": {},
   "outputs": [],
   "source": [
    "# Group by 'user_id' and count the number of ads posted by each user\n",
    "user_ads_count = df.groupby(['user_id','type_name'])['id'].count().reset_index()\n",
    "user_ads_count.columns = ['user_id', 'type_name', 'ads_count']\n",
    "\n",
    "# Filter users who have posted at least 3 ads\n",
    "user_ads_count = user_ads_count[user_ads_count['ads_count'] >= 3]"
   ]
  },
  {
   "cell_type": "code",
   "execution_count": 47,
   "id": "5f1680e7",
   "metadata": {},
   "outputs": [
    {
     "data": {
      "text/html": [
       "<div>\n",
       "<style scoped>\n",
       "    .dataframe tbody tr th:only-of-type {\n",
       "        vertical-align: middle;\n",
       "    }\n",
       "\n",
       "    .dataframe tbody tr th {\n",
       "        vertical-align: top;\n",
       "    }\n",
       "\n",
       "    .dataframe thead th {\n",
       "        text-align: right;\n",
       "    }\n",
       "</style>\n",
       "<table border=\"1\" class=\"dataframe\">\n",
       "  <thead>\n",
       "    <tr style=\"text-align: right;\">\n",
       "      <th></th>\n",
       "      <th>user_id</th>\n",
       "      <th>type_name</th>\n",
       "      <th>ads_count</th>\n",
       "    </tr>\n",
       "  </thead>\n",
       "  <tbody>\n",
       "    <tr>\n",
       "      <th>1</th>\n",
       "      <td>5750</td>\n",
       "      <td>Motorhomes</td>\n",
       "      <td>44</td>\n",
       "    </tr>\n",
       "    <tr>\n",
       "      <th>17</th>\n",
       "      <td>28328</td>\n",
       "      <td>Accessories</td>\n",
       "      <td>3</td>\n",
       "    </tr>\n",
       "    <tr>\n",
       "      <th>37</th>\n",
       "      <td>32040</td>\n",
       "      <td>Accessories</td>\n",
       "      <td>7</td>\n",
       "    </tr>\n",
       "    <tr>\n",
       "      <th>41</th>\n",
       "      <td>33202</td>\n",
       "      <td>Accessories</td>\n",
       "      <td>11</td>\n",
       "    </tr>\n",
       "    <tr>\n",
       "      <th>49</th>\n",
       "      <td>34270</td>\n",
       "      <td>Accessories</td>\n",
       "      <td>3</td>\n",
       "    </tr>\n",
       "    <tr>\n",
       "      <th>...</th>\n",
       "      <td>...</td>\n",
       "      <td>...</td>\n",
       "      <td>...</td>\n",
       "    </tr>\n",
       "    <tr>\n",
       "      <th>3309</th>\n",
       "      <td>257627</td>\n",
       "      <td>Motorhomes</td>\n",
       "      <td>90</td>\n",
       "    </tr>\n",
       "    <tr>\n",
       "      <th>3308</th>\n",
       "      <td>257627</td>\n",
       "      <td>Campervans</td>\n",
       "      <td>36</td>\n",
       "    </tr>\n",
       "    <tr>\n",
       "      <th>3310</th>\n",
       "      <td>257627</td>\n",
       "      <td>Touring Caravans</td>\n",
       "      <td>129</td>\n",
       "    </tr>\n",
       "    <tr>\n",
       "      <th>3315</th>\n",
       "      <td>257642</td>\n",
       "      <td>Motorhomes</td>\n",
       "      <td>8</td>\n",
       "    </tr>\n",
       "    <tr>\n",
       "      <th>3316</th>\n",
       "      <td>257642</td>\n",
       "      <td>Touring Caravans</td>\n",
       "      <td>16</td>\n",
       "    </tr>\n",
       "  </tbody>\n",
       "</table>\n",
       "<p>426 rows × 3 columns</p>\n",
       "</div>"
      ],
      "text/plain": [
       "      user_id         type_name  ads_count\n",
       "1        5750        Motorhomes         44\n",
       "17      28328       Accessories          3\n",
       "37      32040       Accessories          7\n",
       "41      33202       Accessories         11\n",
       "49      34270       Accessories          3\n",
       "...       ...               ...        ...\n",
       "3309   257627        Motorhomes         90\n",
       "3308   257627        Campervans         36\n",
       "3310   257627  Touring Caravans        129\n",
       "3315   257642        Motorhomes          8\n",
       "3316   257642  Touring Caravans         16\n",
       "\n",
       "[426 rows x 3 columns]"
      ]
     },
     "execution_count": 47,
     "metadata": {},
     "output_type": "execute_result"
    }
   ],
   "source": [
    "user_ads_count.sort_values(by= 'user_id')"
   ]
  },
  {
   "cell_type": "code",
   "execution_count": 48,
   "id": "99ed8f6f",
   "metadata": {},
   "outputs": [
    {
     "data": {
      "text/plain": [
       "346"
      ]
     },
     "execution_count": 48,
     "metadata": {},
     "output_type": "execute_result"
    }
   ],
   "source": [
    "user_ads_count['user_id'].nunique()"
   ]
  },
  {
   "cell_type": "code",
   "execution_count": null,
   "id": "212aaa30",
   "metadata": {},
   "outputs": [],
   "source": []
  },
  {
   "cell_type": "code",
   "execution_count": 49,
   "id": "17c67e78",
   "metadata": {},
   "outputs": [],
   "source": [
    "result_df = pd.merge(user_ads_count, rfm_dict, on='user_id', how='left')"
   ]
  },
  {
   "cell_type": "code",
   "execution_count": 50,
   "id": "1e16963a",
   "metadata": {},
   "outputs": [
    {
     "data": {
      "text/html": [
       "<div>\n",
       "<style scoped>\n",
       "    .dataframe tbody tr th:only-of-type {\n",
       "        vertical-align: middle;\n",
       "    }\n",
       "\n",
       "    .dataframe tbody tr th {\n",
       "        vertical-align: top;\n",
       "    }\n",
       "\n",
       "    .dataframe thead th {\n",
       "        text-align: right;\n",
       "    }\n",
       "</style>\n",
       "<table border=\"1\" class=\"dataframe\">\n",
       "  <thead>\n",
       "    <tr style=\"text-align: right;\">\n",
       "      <th></th>\n",
       "      <th>user_id</th>\n",
       "      <th>type_name</th>\n",
       "      <th>ads_count</th>\n",
       "      <th>username</th>\n",
       "      <th>email</th>\n",
       "      <th>phone</th>\n",
       "      <th>latest_purchase_date</th>\n",
       "      <th>Recency</th>\n",
       "      <th>Frequency</th>\n",
       "      <th>Monetary</th>\n",
       "      <th>RFM_Score</th>\n",
       "    </tr>\n",
       "  </thead>\n",
       "  <tbody>\n",
       "    <tr>\n",
       "      <th>0</th>\n",
       "      <td>5750</td>\n",
       "      <td>Motorhomes</td>\n",
       "      <td>44</td>\n",
       "      <td>wilkinsmotorcaravans</td>\n",
       "      <td>sales@wilkinsmotorcaravans.co.uk</td>\n",
       "      <td>01285 821216</td>\n",
       "      <td>2023-09-12 08:41:01</td>\n",
       "      <td>1</td>\n",
       "      <td>45</td>\n",
       "      <td>0.0</td>\n",
       "      <td>3.22</td>\n",
       "    </tr>\n",
       "    <tr>\n",
       "      <th>1</th>\n",
       "      <td>28328</td>\n",
       "      <td>Accessories</td>\n",
       "      <td>3</td>\n",
       "      <td>peter-irene.stanger</td>\n",
       "      <td>peter-irene.stanger@blueyonder.co.uk</td>\n",
       "      <td>01226211522</td>\n",
       "      <td>2023-08-19 16:36:51</td>\n",
       "      <td>25</td>\n",
       "      <td>3</td>\n",
       "      <td>0.0</td>\n",
       "      <td>2.95</td>\n",
       "    </tr>\n",
       "    <tr>\n",
       "      <th>2</th>\n",
       "      <td>32040</td>\n",
       "      <td>Accessories</td>\n",
       "      <td>7</td>\n",
       "      <td>petedobbie</td>\n",
       "      <td>petedobbie@live.co.uk</td>\n",
       "      <td>07442188857</td>\n",
       "      <td>2023-05-04 15:06:38</td>\n",
       "      <td>132</td>\n",
       "      <td>7</td>\n",
       "      <td>0.0</td>\n",
       "      <td>2.70</td>\n",
       "    </tr>\n",
       "    <tr>\n",
       "      <th>3</th>\n",
       "      <td>33202</td>\n",
       "      <td>Accessories</td>\n",
       "      <td>11</td>\n",
       "      <td>riverside55</td>\n",
       "      <td>riverside55@talk21.com</td>\n",
       "      <td>07759606464</td>\n",
       "      <td>2023-08-31 07:49:07</td>\n",
       "      <td>13</td>\n",
       "      <td>11</td>\n",
       "      <td>0.0</td>\n",
       "      <td>3.10</td>\n",
       "    </tr>\n",
       "    <tr>\n",
       "      <th>4</th>\n",
       "      <td>34270</td>\n",
       "      <td>Accessories</td>\n",
       "      <td>3</td>\n",
       "      <td>maggie.francis</td>\n",
       "      <td>maggie.francis@talktalk.net</td>\n",
       "      <td>01291629206</td>\n",
       "      <td>2023-09-09 15:09:44</td>\n",
       "      <td>4</td>\n",
       "      <td>3</td>\n",
       "      <td>0.0</td>\n",
       "      <td>3.08</td>\n",
       "    </tr>\n",
       "  </tbody>\n",
       "</table>\n",
       "</div>"
      ],
      "text/plain": [
       "   user_id    type_name  ads_count              username  \\\n",
       "0     5750   Motorhomes         44  wilkinsmotorcaravans   \n",
       "1    28328  Accessories          3   peter-irene.stanger   \n",
       "2    32040  Accessories          7            petedobbie   \n",
       "3    33202  Accessories         11           riverside55   \n",
       "4    34270  Accessories          3        maggie.francis   \n",
       "\n",
       "                                  email         phone latest_purchase_date  \\\n",
       "0      sales@wilkinsmotorcaravans.co.uk  01285 821216  2023-09-12 08:41:01   \n",
       "1  peter-irene.stanger@blueyonder.co.uk   01226211522  2023-08-19 16:36:51   \n",
       "2                 petedobbie@live.co.uk   07442188857  2023-05-04 15:06:38   \n",
       "3                riverside55@talk21.com   07759606464  2023-08-31 07:49:07   \n",
       "4           maggie.francis@talktalk.net   01291629206  2023-09-09 15:09:44   \n",
       "\n",
       "   Recency  Frequency  Monetary  RFM_Score  \n",
       "0        1         45       0.0       3.22  \n",
       "1       25          3       0.0       2.95  \n",
       "2      132          7       0.0       2.70  \n",
       "3       13         11       0.0       3.10  \n",
       "4        4          3       0.0       3.08  "
      ]
     },
     "execution_count": 50,
     "metadata": {},
     "output_type": "execute_result"
    }
   ],
   "source": [
    "result_df.head()"
   ]
  },
  {
   "cell_type": "code",
   "execution_count": null,
   "id": "aa5b5df7",
   "metadata": {},
   "outputs": [],
   "source": []
  },
  {
   "cell_type": "code",
   "execution_count": null,
   "id": "f357426c",
   "metadata": {},
   "outputs": [],
   "source": []
  },
  {
   "cell_type": "code",
   "execution_count": null,
   "id": "ace7c6b4",
   "metadata": {},
   "outputs": [],
   "source": []
  },
  {
   "cell_type": "code",
   "execution_count": null,
   "id": "09abfa5f",
   "metadata": {},
   "outputs": [],
   "source": []
  },
  {
   "cell_type": "code",
   "execution_count": null,
   "id": "b136dbdd",
   "metadata": {},
   "outputs": [],
   "source": []
  },
  {
   "cell_type": "code",
   "execution_count": 51,
   "id": "7c3a934c",
   "metadata": {},
   "outputs": [],
   "source": [
    "result_df.to_csv('users_rfm.csv')"
   ]
  },
  {
   "cell_type": "code",
   "execution_count": null,
   "id": "c8e9c77a",
   "metadata": {},
   "outputs": [],
   "source": []
  }
 ],
 "metadata": {
  "kernelspec": {
   "display_name": "Python 3 (ipykernel)",
   "language": "python",
   "name": "python3"
  },
  "language_info": {
   "codemirror_mode": {
    "name": "ipython",
    "version": 3
   },
   "file_extension": ".py",
   "mimetype": "text/x-python",
   "name": "python",
   "nbconvert_exporter": "python",
   "pygments_lexer": "ipython3",
   "version": "3.11.3"
  }
 },
 "nbformat": 4,
 "nbformat_minor": 5
}
