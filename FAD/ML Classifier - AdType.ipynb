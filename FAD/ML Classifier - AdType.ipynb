{
 "cells": [
  {
   "cell_type": "markdown",
   "id": "b629f6ac",
   "metadata": {},
   "source": [
    "# <div class='alert alert-info'>Ad type predictions</div>"
   ]
  },
  {
   "cell_type": "code",
   "execution_count": null,
   "id": "2c3b66c6",
   "metadata": {},
   "outputs": [],
   "source": [
    "import pandas as pd\n",
    "import numpy as np\n",
    "import matplotlib.pyplot as plt\n",
    "import seaborn as sns\n",
    "import pickle"
   ]
  },
  {
   "cell_type": "code",
   "execution_count": null,
   "id": "b9815cea",
   "metadata": {},
   "outputs": [],
   "source": [
    "pd.set_option('display.max_rows', None)"
   ]
  },
  {
   "cell_type": "code",
   "execution_count": null,
   "id": "79dacbc3",
   "metadata": {
    "scrolled": true
   },
   "outputs": [],
   "source": [
    "df= pd.read_csv('/Users/rajathadri_as/Documents/FAD - website_ads_ad - 20231130.csv')"
   ]
  },
  {
   "cell_type": "code",
   "execution_count": null,
   "id": "b5b16856",
   "metadata": {},
   "outputs": [],
   "source": [
    "df.shape"
   ]
  },
  {
   "cell_type": "code",
   "execution_count": null,
   "id": "c3a13fb5",
   "metadata": {},
   "outputs": [],
   "source": [
    "df=df[['title','type_name','type_id','cat_name','cat_id']]"
   ]
  },
  {
   "cell_type": "code",
   "execution_count": null,
   "id": "600f2e73",
   "metadata": {},
   "outputs": [],
   "source": [
    "df.head()"
   ]
  },
  {
   "cell_type": "code",
   "execution_count": null,
   "id": "6bd8fb78",
   "metadata": {},
   "outputs": [],
   "source": [
    "df.isna().sum()"
   ]
  },
  {
   "cell_type": "code",
   "execution_count": null,
   "id": "70cbb6c2",
   "metadata": {},
   "outputs": [],
   "source": [
    "df.dropna(subset=['title'], inplace=True)"
   ]
  },
  {
   "cell_type": "code",
   "execution_count": null,
   "id": "7c1d3122",
   "metadata": {},
   "outputs": [],
   "source": [
    "df['type_name'].value_counts()"
   ]
  },
  {
   "cell_type": "code",
   "execution_count": null,
   "id": "f6002634",
   "metadata": {},
   "outputs": [],
   "source": [
    "# Handling null values in Type_name\n",
    "df.loc[df['type_id'] == 4, 'type_name'] = 'Services'\n",
    "df.loc[df['type_id'] == 9, 'type_name'] = 'Adult Businesses'"
   ]
  },
  {
   "cell_type": "code",
   "execution_count": null,
   "id": "a9a73e39",
   "metadata": {},
   "outputs": [],
   "source": [
    "# Handling null values in Cat_name\n",
    "df.loc[df['cat_id'] == 190, 'cat_name'] = 'Business & Office'\n",
    "df.loc[df['cat_id'] == 191, 'cat_name'] = 'Professional Services'\n",
    "df.loc[df['cat_id'] == 192, 'cat_name'] = 'Events & Celebrations'\n",
    "df.loc[df['cat_id'] == 193, 'cat_name'] = 'Family & Care Services'\n",
    "df.loc[df['cat_id'] == 194, 'cat_name'] = 'Health, Beauty & Wellness'\n",
    "df.loc[df['cat_id'] == 195, 'cat_name'] = 'Fitness'\n",
    "df.loc[df['cat_id'] == 196, 'cat_name'] = 'Lessons & Tuition'\n",
    "df.loc[df['cat_id'] == 197, 'cat_name'] = 'Home & Garden'\n",
    "df.loc[df['cat_id'] == 198, 'cat_name'] = 'Pets & Horses'\n",
    "df.loc[df['cat_id'] == 199, 'cat_name'] = 'Motoring & Transport'\n",
    "df.loc[df['cat_id'] == 201, 'cat_name'] = 'Local Food & Drink'\n",
    "df.loc[df['cat_id'] == 202, 'cat_name'] = 'Retail'\n",
    "df.loc[df['cat_id'] == 263, 'cat_name'] = 'Escort Agencies'"
   ]
  },
  {
   "cell_type": "code",
   "execution_count": null,
   "id": "597196e6",
   "metadata": {},
   "outputs": [],
   "source": [
    "df['type_name'].value_counts()"
   ]
  },
  {
   "cell_type": "code",
   "execution_count": null,
   "id": "ab0c09b0",
   "metadata": {},
   "outputs": [],
   "source": [
    "df = df[df['cat_id']!=0]"
   ]
  },
  {
   "cell_type": "code",
   "execution_count": null,
   "id": "de1f09e9",
   "metadata": {},
   "outputs": [],
   "source": [
    "df = df[df['type_id']!=0]"
   ]
  },
  {
   "cell_type": "code",
   "execution_count": null,
   "id": "abe3685a",
   "metadata": {},
   "outputs": [],
   "source": [
    "df = df[df['type_name'] != 'Services']"
   ]
  },
  {
   "cell_type": "code",
   "execution_count": null,
   "id": "3fbfe7d4",
   "metadata": {},
   "outputs": [],
   "source": [
    "df.dropna(inplace=True)"
   ]
  },
  {
   "cell_type": "code",
   "execution_count": null,
   "id": "dd54c8ec",
   "metadata": {},
   "outputs": [],
   "source": [
    "df.isna().sum()"
   ]
  },
  {
   "cell_type": "code",
   "execution_count": null,
   "id": "eec475bf",
   "metadata": {},
   "outputs": [],
   "source": [
    "df.shape"
   ]
  },
  {
   "cell_type": "code",
   "execution_count": null,
   "id": "61ddd54e",
   "metadata": {},
   "outputs": [],
   "source": [
    "df['type_name'].value_counts()"
   ]
  },
  {
   "cell_type": "code",
   "execution_count": null,
   "id": "40682299",
   "metadata": {},
   "outputs": [],
   "source": [
    "df.head()"
   ]
  },
  {
   "cell_type": "code",
   "execution_count": null,
   "id": "824ca191",
   "metadata": {},
   "outputs": [],
   "source": [
    "df['type_name'].value_counts(normalize = True).plot.bar()"
   ]
  },
  {
   "cell_type": "code",
   "execution_count": null,
   "id": "7165ec01",
   "metadata": {},
   "outputs": [],
   "source": [
    "df['cat_name'].value_counts(normalize = True).plot.bar()"
   ]
  },
  {
   "cell_type": "markdown",
   "id": "978dc532",
   "metadata": {},
   "source": [
    "# <div class = 'alert alert-info'>NLTK text processing</div>"
   ]
  },
  {
   "cell_type": "code",
   "execution_count": null,
   "id": "bb0838f7",
   "metadata": {},
   "outputs": [],
   "source": [
    "import nltk\n",
    "nltk.download('all')"
   ]
  },
  {
   "cell_type": "code",
   "execution_count": null,
   "id": "37cd2334",
   "metadata": {},
   "outputs": [],
   "source": [
    "# create a list text\n",
    "text = list(df['title'])"
   ]
  },
  {
   "cell_type": "code",
   "execution_count": null,
   "id": "cbde7fcb",
   "metadata": {},
   "outputs": [],
   "source": [
    "# preprocessing loop\n",
    "import re\n",
    "from nltk.corpus import stopwords\n",
    "from nltk.stem import WordNetLemmatizer\n",
    "lemmatizer = WordNetLemmatizer()"
   ]
  },
  {
   "cell_type": "code",
   "execution_count": null,
   "id": "914bd99d",
   "metadata": {},
   "outputs": [],
   "source": [
    "corpus = []\n",
    "\n",
    "for i in range(len(text)):\n",
    "    r = re.sub('[^a-zA-Z]', ' ', text[i])\n",
    "    r = r.lower()\n",
    "    r = r.split()\n",
    "    r = [word for word in r if word not in stopwords.words('english')]\n",
    "    r = [lemmatizer.lemmatize(word) for word in r]\n",
    "    r = ' '.join(r)\n",
    "    corpus.append(r)"
   ]
  },
  {
   "cell_type": "code",
   "execution_count": null,
   "id": "fbf7eea5",
   "metadata": {},
   "outputs": [],
   "source": [
    "corpus"
   ]
  },
  {
   "cell_type": "code",
   "execution_count": null,
   "id": "297c2604",
   "metadata": {},
   "outputs": [],
   "source": [
    "#assign corpus to df\n",
    "df['title'] = corpus\n",
    "df.head()"
   ]
  },
  {
   "cell_type": "code",
   "execution_count": null,
   "id": "558e4f7c",
   "metadata": {},
   "outputs": [],
   "source": [
    "def lemmatize_words(text):\n",
    "    words = text.split()\n",
    "    words = [lemmatizer.lemmatize(word,pos='v') for word in words]\n",
    "    return ' '.join(words)"
   ]
  },
  {
   "cell_type": "code",
   "execution_count": null,
   "id": "920fabcd",
   "metadata": {},
   "outputs": [],
   "source": [
    "df['title'] = df['title'].apply(lemmatize_words)"
   ]
  },
  {
   "cell_type": "code",
   "execution_count": null,
   "id": "6da91452",
   "metadata": {},
   "outputs": [],
   "source": [
    "df.head()"
   ]
  },
  {
   "cell_type": "code",
   "execution_count": null,
   "id": "19171446",
   "metadata": {},
   "outputs": [],
   "source": [
    "# import these modules\n",
    "from nltk.stem import PorterStemmer\n",
    "from nltk.tokenize import word_tokenize\n",
    "\n",
    "ps = PorterStemmer()"
   ]
  },
  {
   "cell_type": "code",
   "execution_count": null,
   "id": "08416479",
   "metadata": {},
   "outputs": [],
   "source": [
    "df['title'] = df['title'].apply(ps.stem)"
   ]
  },
  {
   "cell_type": "code",
   "execution_count": null,
   "id": "4bf43647",
   "metadata": {},
   "outputs": [],
   "source": [
    "df[['type_id','type_name']].value_counts()"
   ]
  },
  {
   "cell_type": "code",
   "execution_count": null,
   "id": "ff5b3543",
   "metadata": {},
   "outputs": [],
   "source": [
    "df.head()"
   ]
  },
  {
   "cell_type": "markdown",
   "id": "5329fae6",
   "metadata": {},
   "source": [
    "# <div class = 'alert alert-info'>Feature Engineering</div>"
   ]
  },
  {
   "cell_type": "code",
   "execution_count": null,
   "id": "14b39083",
   "metadata": {},
   "outputs": [],
   "source": [
    "df.head(3)"
   ]
  },
  {
   "cell_type": "markdown",
   "id": "6a471f43",
   "metadata": {},
   "source": [
    "### Null Check"
   ]
  },
  {
   "cell_type": "code",
   "execution_count": null,
   "id": "05bb9f88",
   "metadata": {},
   "outputs": [],
   "source": [
    "df.isnull().sum()"
   ]
  },
  {
   "cell_type": "markdown",
   "id": "a626e99e",
   "metadata": {},
   "source": [
    "### Outliers"
   ]
  },
  {
   "cell_type": "code",
   "execution_count": null,
   "id": "490624f9",
   "metadata": {},
   "outputs": [],
   "source": [
    "df.describe()"
   ]
  },
  {
   "cell_type": "code",
   "execution_count": null,
   "id": "00910475",
   "metadata": {},
   "outputs": [],
   "source": [
    "fig = plt.figure(figsize =(5, 5))\n",
    "\n",
    "plt.boxplot(df['type_id'])\n",
    "plt.show()"
   ]
  },
  {
   "cell_type": "code",
   "execution_count": null,
   "id": "44f286d3",
   "metadata": {},
   "outputs": [],
   "source": []
  },
  {
   "cell_type": "code",
   "execution_count": null,
   "id": "e95564ef",
   "metadata": {},
   "outputs": [],
   "source": [
    "fig = plt.figure(figsize =(5, 5))\n",
    "\n",
    "plt.boxplot(df['cat_id'])\n",
    "plt.show()"
   ]
  },
  {
   "cell_type": "code",
   "execution_count": null,
   "id": "b1bcb67f",
   "metadata": {},
   "outputs": [],
   "source": [
    "df['cat_id'].unique()"
   ]
  },
  {
   "cell_type": "code",
   "execution_count": null,
   "id": "e2a95351",
   "metadata": {},
   "outputs": [],
   "source": [
    "df['cat_id'].value_counts()"
   ]
  },
  {
   "cell_type": "code",
   "execution_count": null,
   "id": "eb6037dd",
   "metadata": {},
   "outputs": [],
   "source": [
    "# 292, 295, 298, 300"
   ]
  },
  {
   "cell_type": "code",
   "execution_count": null,
   "id": "c9137a6a",
   "metadata": {},
   "outputs": [],
   "source": [
    "# df = df[df['cat_id'] < 290]"
   ]
  },
  {
   "cell_type": "code",
   "execution_count": null,
   "id": "73ecb437",
   "metadata": {},
   "outputs": [],
   "source": []
  },
  {
   "cell_type": "code",
   "execution_count": null,
   "id": "dbd12d0d",
   "metadata": {},
   "outputs": [],
   "source": []
  },
  {
   "cell_type": "code",
   "execution_count": null,
   "id": "39f6173f",
   "metadata": {},
   "outputs": [],
   "source": []
  },
  {
   "cell_type": "code",
   "execution_count": null,
   "id": "86568aa4",
   "metadata": {},
   "outputs": [],
   "source": []
  },
  {
   "cell_type": "code",
   "execution_count": null,
   "id": "6c176af3",
   "metadata": {},
   "outputs": [],
   "source": []
  },
  {
   "cell_type": "markdown",
   "id": "426c3b01",
   "metadata": {},
   "source": [
    "# <div class = 'alert alert-info'>Modeling - Ad Type</div>"
   ]
  },
  {
   "cell_type": "code",
   "execution_count": null,
   "id": "d832db96",
   "metadata": {},
   "outputs": [],
   "source": [
    "import warnings\n",
    "warnings.filterwarnings('ignore')"
   ]
  },
  {
   "cell_type": "markdown",
   "id": "c4ed1e5d",
   "metadata": {},
   "source": [
    "---"
   ]
  },
  {
   "cell_type": "code",
   "execution_count": null,
   "id": "2e36990d",
   "metadata": {},
   "outputs": [],
   "source": [
    "X = df['title']\n",
    "y = df[['type_name']]\n",
    "\n",
    "# from sklearn.preprocessing import MinMaxScaler\n",
    "# scaler = MinMaxScaler()\n",
    "# X_scaled = scaler.fit_transform(X)"
   ]
  },
  {
   "cell_type": "code",
   "execution_count": null,
   "id": "3b21ca8c",
   "metadata": {},
   "outputs": [],
   "source": []
  },
  {
   "cell_type": "code",
   "execution_count": null,
   "id": "7a2a4c04",
   "metadata": {},
   "outputs": [],
   "source": [
    "from sklearn.model_selection import train_test_split\n",
    "X_train, X_test, y_train, y_test = train_test_split(X, y, test_size=0.2, random_state=13)"
   ]
  },
  {
   "cell_type": "code",
   "execution_count": null,
   "id": "4da7b1e6",
   "metadata": {},
   "outputs": [],
   "source": [
    "X_train.shape"
   ]
  },
  {
   "cell_type": "code",
   "execution_count": null,
   "id": "f98dce35",
   "metadata": {},
   "outputs": [],
   "source": [
    "X_test.shape"
   ]
  },
  {
   "cell_type": "code",
   "execution_count": null,
   "id": "b443555b",
   "metadata": {},
   "outputs": [],
   "source": [
    "y_train.shape"
   ]
  },
  {
   "cell_type": "code",
   "execution_count": null,
   "id": "cedd0da4",
   "metadata": {},
   "outputs": [],
   "source": [
    "y_test.shape"
   ]
  },
  {
   "cell_type": "code",
   "execution_count": null,
   "id": "a065385b",
   "metadata": {},
   "outputs": [],
   "source": [
    "from sklearn.feature_extraction.text import CountVectorizer, TfidfVectorizer\n",
    "\n",
    "cv = CountVectorizer()\n",
    "\n",
    "X_train_cv = cv.fit_transform(X_train)\n",
    "\n",
    "X_train_cv.shape"
   ]
  },
  {
   "cell_type": "code",
   "execution_count": null,
   "id": "87e42ad5",
   "metadata": {},
   "outputs": [],
   "source": [
    "# transform X_test using CV\n",
    "X_test_cv = cv.transform(X_test)\n",
    "\n",
    "X_test_cv.shape"
   ]
  },
  {
   "cell_type": "code",
   "execution_count": null,
   "id": "5a2dba68",
   "metadata": {},
   "outputs": [],
   "source": []
  },
  {
   "cell_type": "code",
   "execution_count": null,
   "id": "58026336",
   "metadata": {},
   "outputs": [],
   "source": [
    "tfidfvectorizer = TfidfVectorizer(analyzer='word',stop_words= 'english')"
   ]
  },
  {
   "cell_type": "code",
   "execution_count": null,
   "id": "915d60a4",
   "metadata": {},
   "outputs": [],
   "source": [
    "X_train_cv = tfidfvectorizer.fit_transform(X_train)\n",
    "\n",
    "X_train_cv.shape"
   ]
  },
  {
   "cell_type": "code",
   "execution_count": null,
   "id": "bd511f47",
   "metadata": {},
   "outputs": [],
   "source": [
    "X_test_cv = tfidfvectorizer.transform(X_test)\n",
    "\n",
    "X_test_cv.shape"
   ]
  },
  {
   "cell_type": "code",
   "execution_count": null,
   "id": "77e6b130",
   "metadata": {},
   "outputs": [],
   "source": []
  },
  {
   "cell_type": "code",
   "execution_count": null,
   "id": "3bb9aa38",
   "metadata": {},
   "outputs": [],
   "source": []
  },
  {
   "cell_type": "code",
   "execution_count": null,
   "id": "639aaa85",
   "metadata": {},
   "outputs": [],
   "source": []
  },
  {
   "cell_type": "code",
   "execution_count": null,
   "id": "f6fd85fc",
   "metadata": {},
   "outputs": [],
   "source": []
  },
  {
   "cell_type": "code",
   "execution_count": null,
   "id": "a5267552",
   "metadata": {},
   "outputs": [],
   "source": [
    "Break Auto Execution # Self-induced error"
   ]
  },
  {
   "cell_type": "markdown",
   "id": "fe4c6977",
   "metadata": {},
   "source": [
    "---"
   ]
  },
  {
   "cell_type": "markdown",
   "id": "fa200b13",
   "metadata": {},
   "source": [
    "# <div class = 'alert alert-warning'> Logistic Regression Classifier</div>"
   ]
  },
  {
   "cell_type": "code",
   "execution_count": null,
   "id": "17347ff1",
   "metadata": {},
   "outputs": [],
   "source": [
    "# Logistic Regression model\n",
    "from sklearn.linear_model import LogisticRegression\n",
    "from sklearn.metrics import classification_report\n",
    "from sklearn.metrics import confusion_matrix\n",
    "from sklearn.model_selection import GridSearchCV\n",
    "\n",
    "\n",
    "lr = LogisticRegression()\n",
    "\n",
    "lr.fit(X_train_cv, y_train)"
   ]
  },
  {
   "cell_type": "code",
   "execution_count": null,
   "id": "99a3007a",
   "metadata": {},
   "outputs": [],
   "source": [
    "# Predictions\n",
    "y_pred_test = lr.predict(X_test_cv)\n",
    "y_pred_test"
   ]
  },
  {
   "cell_type": "code",
   "execution_count": null,
   "id": "11f94dcf",
   "metadata": {},
   "outputs": [],
   "source": [
    "y_pred_train = lr.predict(X_train_cv)\n",
    "y_pred_train"
   ]
  },
  {
   "cell_type": "code",
   "execution_count": null,
   "id": "6c01718c",
   "metadata": {},
   "outputs": [],
   "source": [
    "print(classification_report(y_pred_train, y_train))"
   ]
  },
  {
   "cell_type": "code",
   "execution_count": null,
   "id": "822e1549",
   "metadata": {},
   "outputs": [],
   "source": [
    "print(classification_report(y_pred_test, y_test))"
   ]
  },
  {
   "cell_type": "code",
   "execution_count": null,
   "id": "e592d782",
   "metadata": {},
   "outputs": [],
   "source": [
    "cf_matrix = confusion_matrix(y_train, y_pred_train)\n",
    "\n",
    "print(cf_matrix)"
   ]
  },
  {
   "cell_type": "code",
   "execution_count": null,
   "id": "8a1c955f",
   "metadata": {},
   "outputs": [],
   "source": [
    "cf_matrix = confusion_matrix(y_test, y_pred_test)\n",
    "\n",
    "print(cf_matrix)"
   ]
  },
  {
   "cell_type": "code",
   "execution_count": null,
   "id": "a0e19f33",
   "metadata": {},
   "outputs": [],
   "source": []
  },
  {
   "cell_type": "markdown",
   "id": "370f8386",
   "metadata": {},
   "source": [
    "# <div class = 'alert alert-success'>CV for Logistic Regression</div>"
   ]
  },
  {
   "cell_type": "code",
   "execution_count": null,
   "id": "7410d8b0",
   "metadata": {},
   "outputs": [],
   "source": []
  },
  {
   "cell_type": "code",
   "execution_count": null,
   "id": "96604d45",
   "metadata": {},
   "outputs": [],
   "source": [
    "lr = LogisticRegression()\n",
    "\n",
    "param_grid = {'C': [0.001, 0.01, 0.1, 1, 10, 100, 200]}\n",
    "grid = GridSearchCV(lr, param_grid, cv=3)\n",
    "grid.fit(X_train_cv, y_train)\n",
    "\n",
    "\n",
    "# Recheck the best cross-validation sccore\n",
    "\n",
    "print(\"Best cross-validation score:\", grid.best_score_)\n",
    "print(\"Best parameters:\", grid.best_params_)\n",
    "print(\"Test set score:\", grid.score(X_test_cv, y_test))"
   ]
  },
  {
   "cell_type": "code",
   "execution_count": null,
   "id": "b3f0970b",
   "metadata": {},
   "outputs": [],
   "source": [
    "y_pred_test = grid.predict(X_test_cv)"
   ]
  },
  {
   "cell_type": "code",
   "execution_count": null,
   "id": "b79826fb",
   "metadata": {},
   "outputs": [],
   "source": [
    "y_pred_train = grid.predict(X_train_cv)"
   ]
  },
  {
   "cell_type": "code",
   "execution_count": null,
   "id": "df0869f8",
   "metadata": {},
   "outputs": [],
   "source": [
    "print(classification_report(y_train, y_pred_train))"
   ]
  },
  {
   "cell_type": "code",
   "execution_count": null,
   "id": "d08063a1",
   "metadata": {},
   "outputs": [],
   "source": [
    "print(\"Classification report for test data: \\n\")\n",
    "print(classification_report(y_test, y_pred_test))"
   ]
  },
  {
   "cell_type": "code",
   "execution_count": null,
   "id": "2a418e95",
   "metadata": {},
   "outputs": [],
   "source": [
    "cf_matrix = confusion_matrix(y_test, y_pred_test)\n",
    "\n",
    "print(cf_matrix)"
   ]
  },
  {
   "cell_type": "code",
   "execution_count": null,
   "id": "894e517d",
   "metadata": {},
   "outputs": [],
   "source": []
  },
  {
   "cell_type": "code",
   "execution_count": null,
   "id": "76d0275f",
   "metadata": {},
   "outputs": [],
   "source": []
  },
  {
   "cell_type": "markdown",
   "id": "95d97385",
   "metadata": {},
   "source": [
    "# <div class = 'alert alert-warning'>Random Forest Classifer</div>"
   ]
  },
  {
   "cell_type": "code",
   "execution_count": null,
   "id": "dc9cb3cb",
   "metadata": {},
   "outputs": [],
   "source": [
    "from sklearn.ensemble import RandomForestClassifier\n",
    "from sklearn.metrics import accuracy_score, classification_report\n",
    "from sklearn.model_selection import cross_val_score\n",
    "from sklearn.model_selection import train_test_split\n",
    "from sklearn.metrics import classification_report\n",
    "from sklearn.model_selection import RandomizedSearchCV"
   ]
  },
  {
   "cell_type": "code",
   "execution_count": null,
   "id": "5a139dfe",
   "metadata": {},
   "outputs": [],
   "source": [
    "clsr = RandomForestClassifier(n_estimators=100)\n",
    "clsr.fit(X_train_cv, y_train)"
   ]
  },
  {
   "cell_type": "code",
   "execution_count": null,
   "id": "62ce2b2d",
   "metadata": {},
   "outputs": [],
   "source": [
    "y_pred_train = clsr.predict(X_train_cv)\n",
    "train_score = accuracy_score(y_train, y_pred_train)\n",
    "train_score"
   ]
  },
  {
   "cell_type": "code",
   "execution_count": null,
   "id": "d9e0142d",
   "metadata": {},
   "outputs": [],
   "source": [
    "# Predictions\n",
    "y_pred_test = clsr.predict(X_test_cv)\n",
    "test_score= accuracy_score(y_test, y_pred_test)\n",
    "test_score"
   ]
  },
  {
   "cell_type": "code",
   "execution_count": null,
   "id": "b022f9f6",
   "metadata": {},
   "outputs": [],
   "source": [
    "# Classification Report\n",
    "print('Classification report for Random Forest (Train set) = \\n')\n",
    "print(classification_report(y_pred_train, y_train))"
   ]
  },
  {
   "cell_type": "code",
   "execution_count": null,
   "id": "51701116",
   "metadata": {},
   "outputs": [],
   "source": [
    "# Classification Report\n",
    "print('Classification report for Random Forest (Test set)= \\n')\n",
    "print(classification_report(y_pred_test, y_test))"
   ]
  },
  {
   "cell_type": "code",
   "execution_count": null,
   "id": "70481817",
   "metadata": {},
   "outputs": [],
   "source": []
  },
  {
   "cell_type": "markdown",
   "id": "b36ef4c7",
   "metadata": {},
   "source": [
    "# <div class = 'alert alert-warning'>CV for Random Forest</div>"
   ]
  },
  {
   "cell_type": "code",
   "execution_count": null,
   "id": "b1b81c08",
   "metadata": {},
   "outputs": [],
   "source": []
  },
  {
   "cell_type": "code",
   "execution_count": null,
   "id": "494caeed",
   "metadata": {},
   "outputs": [],
   "source": [
    "# Number of trees in random forest\n",
    "n_estimators = [int(x) for x in np.linspace(start = 0, stop = 400, num = 10)]\n",
    "\n",
    "# Number of features to consider at every split\n",
    "max_features = ['sqrt','log2']\n",
    "\n",
    "# Maximum number of levels in tree\n",
    "max_depth = [2,4]\n",
    "\n",
    "# Minimum number of samples required to split a node\n",
    "min_samples_split = [2, 5]\n",
    "\n",
    "# Minimum number of samples required at each leaf node\n",
    "min_samples_leaf = [1, 2]\n",
    "\n",
    "# Method of selecting samples for training each tree\n",
    "bootstrap = [True, False]"
   ]
  },
  {
   "cell_type": "code",
   "execution_count": null,
   "id": "1c90de7c",
   "metadata": {},
   "outputs": [],
   "source": [
    "# Create the param grid\n",
    "param_grid = {'n_estimators': n_estimators,\n",
    "               'max_features': max_features,\n",
    "               'max_depth': max_depth,\n",
    "               'min_samples_split': min_samples_split,\n",
    "               'min_samples_leaf': min_samples_leaf,\n",
    "               'bootstrap': bootstrap}\n",
    "print(param_grid)"
   ]
  },
  {
   "cell_type": "code",
   "execution_count": null,
   "id": "b22bc791",
   "metadata": {},
   "outputs": [],
   "source": []
  },
  {
   "cell_type": "code",
   "execution_count": null,
   "id": "c64fff91",
   "metadata": {},
   "outputs": [],
   "source": [
    "rf = RandomForestClassifier()"
   ]
  },
  {
   "cell_type": "code",
   "execution_count": null,
   "id": "0cc30a0c",
   "metadata": {},
   "outputs": [],
   "source": [
    "from sklearn.model_selection import RandomizedSearchCV\n",
    "\n",
    "rf_RandomGrid = RandomizedSearchCV(estimator = rf, param_distributions = param_grid, scoring='f1', cv = 10, verbose=2, n_jobs = 4)"
   ]
  },
  {
   "cell_type": "code",
   "execution_count": null,
   "id": "88a91966",
   "metadata": {},
   "outputs": [],
   "source": [
    "rf_RandomGrid.fit(X_train_cv, y_train)"
   ]
  },
  {
   "cell_type": "code",
   "execution_count": null,
   "id": "1045bf41",
   "metadata": {},
   "outputs": [],
   "source": []
  },
  {
   "cell_type": "code",
   "execution_count": null,
   "id": "51eada6c",
   "metadata": {},
   "outputs": [],
   "source": [
    "rf_RandomGrid.best_params_"
   ]
  },
  {
   "cell_type": "code",
   "execution_count": null,
   "id": "f514b0b5",
   "metadata": {},
   "outputs": [],
   "source": []
  },
  {
   "cell_type": "code",
   "execution_count": null,
   "id": "fb50381a",
   "metadata": {},
   "outputs": [],
   "source": [
    "confusion_matrix(y_test, y_pred_test)"
   ]
  },
  {
   "cell_type": "code",
   "execution_count": null,
   "id": "14ce8f50",
   "metadata": {},
   "outputs": [],
   "source": [
    "print(classification_report(y_test, y_pred_test))"
   ]
  },
  {
   "cell_type": "code",
   "execution_count": null,
   "id": "6d7901d2",
   "metadata": {},
   "outputs": [],
   "source": []
  },
  {
   "cell_type": "code",
   "execution_count": null,
   "id": "e891a1e7",
   "metadata": {},
   "outputs": [],
   "source": []
  },
  {
   "cell_type": "code",
   "execution_count": null,
   "id": "c859deb9",
   "metadata": {},
   "outputs": [],
   "source": []
  },
  {
   "cell_type": "code",
   "execution_count": null,
   "id": "90ac01ca",
   "metadata": {},
   "outputs": [],
   "source": []
  },
  {
   "cell_type": "code",
   "execution_count": null,
   "id": "4740c454",
   "metadata": {},
   "outputs": [],
   "source": []
  },
  {
   "cell_type": "code",
   "execution_count": null,
   "id": "cf12c259",
   "metadata": {},
   "outputs": [],
   "source": []
  },
  {
   "cell_type": "code",
   "execution_count": null,
   "id": "7eda320f",
   "metadata": {},
   "outputs": [],
   "source": []
  },
  {
   "cell_type": "code",
   "execution_count": null,
   "id": "f8a273e6",
   "metadata": {},
   "outputs": [],
   "source": [
    "# params = {'n_estimators':[200],\n",
    "#           'max_features':['sqrt',4,'log2','auto'],\n",
    "#           'max_leaf_nodes':[10, 20, 40]\n",
    "#           }\n",
    "\n",
    "# # Apply random Forest Classifier Model\n",
    "\n",
    "# rf_cv = GridSearchCV(rf, params, scoring='f1', cv=5)\n",
    "# rf_cv.fit(X_train_cv, y_train)"
   ]
  },
  {
   "cell_type": "code",
   "execution_count": null,
   "id": "0668285d",
   "metadata": {},
   "outputs": [],
   "source": [
    "# rf_cv.best_params_"
   ]
  },
  {
   "cell_type": "code",
   "execution_count": null,
   "id": "19bf5c2f",
   "metadata": {},
   "outputs": [],
   "source": [
    "# rf_cv.best_estimator_"
   ]
  },
  {
   "cell_type": "code",
   "execution_count": null,
   "id": "45ecb54d",
   "metadata": {},
   "outputs": [],
   "source": [
    "# rf_cv.best_score_"
   ]
  },
  {
   "cell_type": "code",
   "execution_count": null,
   "id": "80da960b",
   "metadata": {},
   "outputs": [],
   "source": [
    "# rf_cv = RandomForestClassifier(bootstrap=True, ccp_alpha=0.0, class_weight=None,\n",
    "#                        criterion='gini', max_depth=40, max_features='sqrt',\n",
    "#                        max_leaf_nodes=40, max_samples=None,\n",
    "#                        min_impurity_decrease=0.0,\n",
    "#                        min_samples_leaf=1, min_samples_split=2,\n",
    "#                        min_weight_fraction_leaf=0.0, n_estimators=200,\n",
    "#                        n_jobs=None, oob_score=False, random_state=None,\n",
    "#                        verbose=0, warm_start=False)\n",
    "# rf_cv.fit(X_train_cv, y_train)"
   ]
  },
  {
   "cell_type": "code",
   "execution_count": null,
   "id": "2888d097",
   "metadata": {},
   "outputs": [],
   "source": [
    "# y_pred_train = rf_cv.predict(X_train_cv)\n",
    "# accuracy_score(y_train, y_pred_train)"
   ]
  },
  {
   "cell_type": "code",
   "execution_count": null,
   "id": "caed401e",
   "metadata": {},
   "outputs": [],
   "source": []
  },
  {
   "cell_type": "code",
   "execution_count": null,
   "id": "4c0d1dc6",
   "metadata": {},
   "outputs": [],
   "source": [
    "# y_pred_test = rf_cv.predict(X_test_cv)\n",
    "# accuracy_score(y_test, y_pred_test)"
   ]
  },
  {
   "cell_type": "code",
   "execution_count": null,
   "id": "97f2b2cc",
   "metadata": {},
   "outputs": [],
   "source": []
  },
  {
   "cell_type": "code",
   "execution_count": null,
   "id": "d9aac47a",
   "metadata": {},
   "outputs": [],
   "source": []
  },
  {
   "cell_type": "code",
   "execution_count": null,
   "id": "d4ccba91",
   "metadata": {},
   "outputs": [],
   "source": []
  },
  {
   "cell_type": "markdown",
   "id": "b3344be0",
   "metadata": {},
   "source": [
    "# <div class = 'alert alert-warning'>XGBoost Classifier</div>"
   ]
  },
  {
   "cell_type": "code",
   "execution_count": null,
   "id": "49535263",
   "metadata": {},
   "outputs": [],
   "source": [
    "# Already installed\n",
    "\n",
    "# pip install xgboost"
   ]
  },
  {
   "cell_type": "code",
   "execution_count": null,
   "id": "1d6d1d1e",
   "metadata": {},
   "outputs": [],
   "source": [
    "from xgboost import XGBClassifier"
   ]
  },
  {
   "cell_type": "code",
   "execution_count": null,
   "id": "9c9718c4",
   "metadata": {},
   "outputs": [],
   "source": []
  },
  {
   "cell_type": "code",
   "execution_count": null,
   "id": "d780f222",
   "metadata": {},
   "outputs": [],
   "source": [
    "df2 = df.copy()"
   ]
  },
  {
   "cell_type": "code",
   "execution_count": null,
   "id": "a5eda8ff",
   "metadata": {},
   "outputs": [],
   "source": [
    "df2.loc[df['type_id'] == 1, 'type_id'] = 0\n",
    "df2.loc[df['type_id'] == 2, 'type_id'] = 1\n",
    "df2.loc[df['type_id'] == 3, 'type_id'] = 2\n",
    "df2.loc[df['type_id'] == 5, 'type_id'] = 3\n",
    "df2.loc[df['type_id'] == 6, 'type_id'] = 4\n",
    "df2.loc[df['type_id'] == 7, 'type_id'] = 5\n",
    "df2.loc[df['type_id'] == 8, 'type_id'] = 6\n",
    "df2.loc[df['type_id'] == 9, 'type_id'] = 7"
   ]
  },
  {
   "cell_type": "code",
   "execution_count": null,
   "id": "6b6941b6",
   "metadata": {},
   "outputs": [],
   "source": [
    "df2[['type_id','type_name']].value_counts()"
   ]
  },
  {
   "cell_type": "code",
   "execution_count": null,
   "id": "81d12e49",
   "metadata": {},
   "outputs": [],
   "source": []
  },
  {
   "cell_type": "code",
   "execution_count": null,
   "id": "2d2c0bd8",
   "metadata": {},
   "outputs": [],
   "source": []
  },
  {
   "cell_type": "code",
   "execution_count": null,
   "id": "dea0f447",
   "metadata": {},
   "outputs": [],
   "source": [
    "X = df2['title']\n",
    "y = df2[['type_id']]\n",
    "\n",
    "\n",
    "from sklearn.model_selection import train_test_split\n",
    "X_train, X_test, y_train, y_test = train_test_split(X, y, test_size=0.2, random_state=123)"
   ]
  },
  {
   "cell_type": "code",
   "execution_count": null,
   "id": "11822dbc",
   "metadata": {},
   "outputs": [],
   "source": [
    "X_train.shape"
   ]
  },
  {
   "cell_type": "code",
   "execution_count": null,
   "id": "612bd3c4",
   "metadata": {},
   "outputs": [],
   "source": [
    "X_test.shape"
   ]
  },
  {
   "cell_type": "code",
   "execution_count": null,
   "id": "7b3e7b9a",
   "metadata": {},
   "outputs": [],
   "source": [
    "from sklearn.feature_extraction.text import CountVectorizer\n",
    "\n",
    "cv = CountVectorizer()\n",
    "\n",
    "X_train_cv = cv.fit_transform(X_train)\n",
    "\n",
    "X_train_cv.shape"
   ]
  },
  {
   "cell_type": "code",
   "execution_count": null,
   "id": "6a0d3822",
   "metadata": {},
   "outputs": [],
   "source": [
    "# transform X_test using CV\n",
    "X_test_cv = cv.transform(X_test)\n",
    "\n",
    "X_test_cv.shape"
   ]
  },
  {
   "cell_type": "code",
   "execution_count": null,
   "id": "899bc14f",
   "metadata": {},
   "outputs": [],
   "source": []
  },
  {
   "cell_type": "code",
   "execution_count": null,
   "id": "39ee45b0",
   "metadata": {},
   "outputs": [],
   "source": [
    "xgb = XGBClassifier(max_depth = 5, learning_rate = 0.1)\n",
    "xgb.fit(X_train_cv, y_train)\n",
    "XGBClassifier(max_depth=5, objective='multi:softprob')"
   ]
  },
  {
   "cell_type": "code",
   "execution_count": null,
   "id": "0ad5b3b4",
   "metadata": {},
   "outputs": [],
   "source": [
    "# Predictions\n",
    "y_pred_train = xgb.predict(X_train_cv)\n",
    "y_pred_test = xgb.predict(X_test_cv)"
   ]
  },
  {
   "cell_type": "code",
   "execution_count": null,
   "id": "94723bf0",
   "metadata": {},
   "outputs": [],
   "source": [
    "score = classification_report(y_train, y_pred_train)\n",
    "print('Classification Report for XGBoost(Train set)= \\n')\n",
    "print(score)"
   ]
  },
  {
   "cell_type": "code",
   "execution_count": null,
   "id": "495660a1",
   "metadata": {},
   "outputs": [],
   "source": [
    "score = classification_report(y_test, y_pred_test)\n",
    "print('Classification Report for XGBoost(Train set)= \\n')\n",
    "print(score)"
   ]
  },
  {
   "cell_type": "code",
   "execution_count": null,
   "id": "a6112a92",
   "metadata": {},
   "outputs": [],
   "source": []
  },
  {
   "cell_type": "code",
   "execution_count": null,
   "id": "cd51ba89",
   "metadata": {},
   "outputs": [],
   "source": []
  },
  {
   "cell_type": "markdown",
   "id": "d81248ac",
   "metadata": {},
   "source": [
    "# <div class = 'alert alert-success'>Pickle and Predict</div>"
   ]
  },
  {
   "cell_type": "code",
   "execution_count": null,
   "id": "f2340682",
   "metadata": {},
   "outputs": [],
   "source": [
    "from sklearn.pipeline import Pipeline\n",
    "from sklearn.feature_extraction.text import CountVectorizer, TfidfVectorizer\n",
    "from sklearn.multioutput import MultiOutputClassifier\n",
    "from sklearn.model_selection import GridSearchCV\n",
    "from sklearn.linear_model import LogisticRegression"
   ]
  },
  {
   "cell_type": "code",
   "execution_count": null,
   "id": "bfcfe449",
   "metadata": {},
   "outputs": [],
   "source": [
    "pipe_lr = Pipeline(steps=[('cv',TfidfVectorizer(analyzer='word',stop_words= 'english')),\n",
    "                          ('lr_multi',MultiOutputClassifier(\n",
    "                              GridSearchCV(LogisticRegression(), {'C': [0.001, 0.01, 0.1, 1, 10, 100, 200]}, cv=5)\n",
    "                              ))]\n",
    "                  )"
   ]
  },
  {
   "cell_type": "code",
   "execution_count": null,
   "id": "e18dcea3",
   "metadata": {},
   "outputs": [],
   "source": [
    "pipe_lr.fit(X_train, y_train)"
   ]
  },
  {
   "cell_type": "code",
   "execution_count": null,
   "id": "0c8f66e8",
   "metadata": {},
   "outputs": [],
   "source": [
    "pipe_lr.score(X_train,y_train)"
   ]
  },
  {
   "cell_type": "code",
   "execution_count": null,
   "id": "eda883e9",
   "metadata": {},
   "outputs": [],
   "source": [
    "pipe_lr.score(X_test,y_test)"
   ]
  },
  {
   "cell_type": "code",
   "execution_count": null,
   "id": "0c6e91fd",
   "metadata": {},
   "outputs": [],
   "source": [
    "# Save the model to a file using pickle\n",
    "filename = 'FAD_MLclassifier_AdType.pkl'\n",
    "with open(filename, 'wb') as file:\n",
    "    pickle.dump(pipe_lr, file)"
   ]
  },
  {
   "cell_type": "code",
   "execution_count": null,
   "id": "5880fac3",
   "metadata": {},
   "outputs": [],
   "source": []
  },
  {
   "cell_type": "code",
   "execution_count": null,
   "id": "7734c905",
   "metadata": {},
   "outputs": [],
   "source": [
    "file.close()"
   ]
  },
  {
   "cell_type": "code",
   "execution_count": null,
   "id": "c35b8ff4",
   "metadata": {},
   "outputs": [],
   "source": []
  },
  {
   "cell_type": "code",
   "execution_count": null,
   "id": "a4c15880",
   "metadata": {},
   "outputs": [],
   "source": []
  },
  {
   "cell_type": "code",
   "execution_count": null,
   "id": "158cac69",
   "metadata": {},
   "outputs": [],
   "source": []
  },
  {
   "cell_type": "code",
   "execution_count": 1,
   "id": "ef2cf7df",
   "metadata": {},
   "outputs": [],
   "source": [
    "# Let's Predict"
   ]
  },
  {
   "cell_type": "code",
   "execution_count": 1,
   "id": "1b9fec5e",
   "metadata": {},
   "outputs": [],
   "source": [
    "from sklearn.feature_extraction.text import CountVectorizer, TfidfVectorizer\n",
    "import pickle"
   ]
  },
  {
   "cell_type": "code",
   "execution_count": 2,
   "id": "ce02bded",
   "metadata": {},
   "outputs": [],
   "source": [
    "with open('FAD_AdTypeClassifier_model.pkl', 'rb') as file:\n",
    "    mod = pickle.load(file)\n",
    "\n",
    "# Load some new data for prediction\n",
    "X_new = [\"Hiring for Services\"]"
   ]
  },
  {
   "cell_type": "code",
   "execution_count": null,
   "id": "6a431d36",
   "metadata": {},
   "outputs": [],
   "source": []
  },
  {
   "cell_type": "code",
   "execution_count": null,
   "id": "908486cc",
   "metadata": {},
   "outputs": [],
   "source": [
    "mod.predict(X_new)"
   ]
  },
  {
   "cell_type": "code",
   "execution_count": null,
   "id": "46be0f64",
   "metadata": {},
   "outputs": [],
   "source": []
  },
  {
   "cell_type": "code",
   "execution_count": null,
   "id": "68574eb3",
   "metadata": {},
   "outputs": [],
   "source": [
    "file.close()"
   ]
  },
  {
   "cell_type": "code",
   "execution_count": null,
   "id": "7b3480f7",
   "metadata": {},
   "outputs": [],
   "source": []
  },
  {
   "cell_type": "code",
   "execution_count": null,
   "id": "d03759fb",
   "metadata": {},
   "outputs": [],
   "source": []
  },
  {
   "cell_type": "code",
   "execution_count": null,
   "id": "a8248808",
   "metadata": {},
   "outputs": [],
   "source": []
  },
  {
   "cell_type": "code",
   "execution_count": null,
   "id": "55c3480b",
   "metadata": {},
   "outputs": [],
   "source": []
  },
  {
   "cell_type": "code",
   "execution_count": null,
   "id": "60d413ed",
   "metadata": {},
   "outputs": [],
   "source": []
  },
  {
   "cell_type": "code",
   "execution_count": null,
   "id": "fef89098",
   "metadata": {},
   "outputs": [],
   "source": []
  },
  {
   "cell_type": "code",
   "execution_count": null,
   "id": "83aec9e7",
   "metadata": {},
   "outputs": [],
   "source": [
    "# tfidfvectorizer = TfidfVectorizer(analyzer='word',stop_words= 'english')\n",
    "\n",
    "# X_train_new = tfidfvectorizer.fit_transform(X_train)\n",
    "# X_new_cv = tfidfvectorizer.transform(X_new)\n",
    "\n",
    "# X_new_cv.shape"
   ]
  },
  {
   "cell_type": "code",
   "execution_count": null,
   "id": "30b97921",
   "metadata": {},
   "outputs": [],
   "source": []
  },
  {
   "cell_type": "code",
   "execution_count": null,
   "id": "86b83394",
   "metadata": {},
   "outputs": [],
   "source": [
    "# print(X_new_cv)"
   ]
  },
  {
   "cell_type": "code",
   "execution_count": 3,
   "id": "e65318bd",
   "metadata": {},
   "outputs": [
    {
     "ename": "ValueError",
     "evalue": "Expected 2D array, got 1D array instead:\narray=['Hiring for Services'].\nReshape your data either using array.reshape(-1, 1) if your data has a single feature or array.reshape(1, -1) if it contains a single sample.",
     "output_type": "error",
     "traceback": [
      "\u001b[1;31m---------------------------------------------------------------------------\u001b[0m",
      "\u001b[1;31mValueError\u001b[0m                                Traceback (most recent call last)",
      "Cell \u001b[1;32mIn[3], line 2\u001b[0m\n\u001b[0;32m      1\u001b[0m \u001b[38;5;66;03m# Predict the output for the new data using the loaded model\u001b[39;00m\n\u001b[1;32m----> 2\u001b[0m prediction \u001b[38;5;241m=\u001b[39m mod\u001b[38;5;241m.\u001b[39mpredict(X_new)\n\u001b[0;32m      4\u001b[0m \u001b[38;5;28mprint\u001b[39m(prediction)\n",
      "File \u001b[1;32m~\\AppData\\Local\\anaconda3\\Lib\\site-packages\\sklearn\\model_selection\\_search.py:519\u001b[0m, in \u001b[0;36mBaseSearchCV.predict\u001b[1;34m(self, X)\u001b[0m\n\u001b[0;32m    501\u001b[0m \u001b[38;5;250m\u001b[39m\u001b[38;5;124;03m\"\"\"Call predict on the estimator with the best found parameters.\u001b[39;00m\n\u001b[0;32m    502\u001b[0m \n\u001b[0;32m    503\u001b[0m \u001b[38;5;124;03mOnly available if ``refit=True`` and the underlying estimator supports\u001b[39;00m\n\u001b[1;32m   (...)\u001b[0m\n\u001b[0;32m    516\u001b[0m \u001b[38;5;124;03m    the best found parameters.\u001b[39;00m\n\u001b[0;32m    517\u001b[0m \u001b[38;5;124;03m\"\"\"\u001b[39;00m\n\u001b[0;32m    518\u001b[0m check_is_fitted(\u001b[38;5;28mself\u001b[39m)\n\u001b[1;32m--> 519\u001b[0m \u001b[38;5;28;01mreturn\u001b[39;00m \u001b[38;5;28mself\u001b[39m\u001b[38;5;241m.\u001b[39mbest_estimator_\u001b[38;5;241m.\u001b[39mpredict(X)\n",
      "File \u001b[1;32m~\\AppData\\Local\\anaconda3\\Lib\\site-packages\\sklearn\\linear_model\\_base.py:451\u001b[0m, in \u001b[0;36mLinearClassifierMixin.predict\u001b[1;34m(self, X)\u001b[0m\n\u001b[0;32m    437\u001b[0m \u001b[38;5;250m\u001b[39m\u001b[38;5;124;03m\"\"\"\u001b[39;00m\n\u001b[0;32m    438\u001b[0m \u001b[38;5;124;03mPredict class labels for samples in X.\u001b[39;00m\n\u001b[0;32m    439\u001b[0m \n\u001b[1;32m   (...)\u001b[0m\n\u001b[0;32m    448\u001b[0m \u001b[38;5;124;03m    Vector containing the class labels for each sample.\u001b[39;00m\n\u001b[0;32m    449\u001b[0m \u001b[38;5;124;03m\"\"\"\u001b[39;00m\n\u001b[0;32m    450\u001b[0m xp, _ \u001b[38;5;241m=\u001b[39m get_namespace(X)\n\u001b[1;32m--> 451\u001b[0m scores \u001b[38;5;241m=\u001b[39m \u001b[38;5;28mself\u001b[39m\u001b[38;5;241m.\u001b[39mdecision_function(X)\n\u001b[0;32m    452\u001b[0m \u001b[38;5;28;01mif\u001b[39;00m \u001b[38;5;28mlen\u001b[39m(scores\u001b[38;5;241m.\u001b[39mshape) \u001b[38;5;241m==\u001b[39m \u001b[38;5;241m1\u001b[39m:\n\u001b[0;32m    453\u001b[0m     indices \u001b[38;5;241m=\u001b[39m xp\u001b[38;5;241m.\u001b[39mastype(scores \u001b[38;5;241m>\u001b[39m \u001b[38;5;241m0\u001b[39m, \u001b[38;5;28mint\u001b[39m)\n",
      "File \u001b[1;32m~\\AppData\\Local\\anaconda3\\Lib\\site-packages\\sklearn\\linear_model\\_base.py:432\u001b[0m, in \u001b[0;36mLinearClassifierMixin.decision_function\u001b[1;34m(self, X)\u001b[0m\n\u001b[0;32m    429\u001b[0m check_is_fitted(\u001b[38;5;28mself\u001b[39m)\n\u001b[0;32m    430\u001b[0m xp, _ \u001b[38;5;241m=\u001b[39m get_namespace(X)\n\u001b[1;32m--> 432\u001b[0m X \u001b[38;5;241m=\u001b[39m \u001b[38;5;28mself\u001b[39m\u001b[38;5;241m.\u001b[39m_validate_data(X, accept_sparse\u001b[38;5;241m=\u001b[39m\u001b[38;5;124m\"\u001b[39m\u001b[38;5;124mcsr\u001b[39m\u001b[38;5;124m\"\u001b[39m, reset\u001b[38;5;241m=\u001b[39m\u001b[38;5;28;01mFalse\u001b[39;00m)\n\u001b[0;32m    433\u001b[0m scores \u001b[38;5;241m=\u001b[39m safe_sparse_dot(X, \u001b[38;5;28mself\u001b[39m\u001b[38;5;241m.\u001b[39mcoef_\u001b[38;5;241m.\u001b[39mT, dense_output\u001b[38;5;241m=\u001b[39m\u001b[38;5;28;01mTrue\u001b[39;00m) \u001b[38;5;241m+\u001b[39m \u001b[38;5;28mself\u001b[39m\u001b[38;5;241m.\u001b[39mintercept_\n\u001b[0;32m    434\u001b[0m \u001b[38;5;28;01mreturn\u001b[39;00m xp\u001b[38;5;241m.\u001b[39mreshape(scores, (\u001b[38;5;241m-\u001b[39m\u001b[38;5;241m1\u001b[39m,)) \u001b[38;5;28;01mif\u001b[39;00m scores\u001b[38;5;241m.\u001b[39mshape[\u001b[38;5;241m1\u001b[39m] \u001b[38;5;241m==\u001b[39m \u001b[38;5;241m1\u001b[39m \u001b[38;5;28;01melse\u001b[39;00m scores\n",
      "File \u001b[1;32m~\\AppData\\Local\\anaconda3\\Lib\\site-packages\\sklearn\\base.py:604\u001b[0m, in \u001b[0;36mBaseEstimator._validate_data\u001b[1;34m(self, X, y, reset, validate_separately, cast_to_ndarray, **check_params)\u001b[0m\n\u001b[0;32m    602\u001b[0m         out \u001b[38;5;241m=\u001b[39m X, y\n\u001b[0;32m    603\u001b[0m \u001b[38;5;28;01melif\u001b[39;00m \u001b[38;5;129;01mnot\u001b[39;00m no_val_X \u001b[38;5;129;01mand\u001b[39;00m no_val_y:\n\u001b[1;32m--> 604\u001b[0m     out \u001b[38;5;241m=\u001b[39m check_array(X, input_name\u001b[38;5;241m=\u001b[39m\u001b[38;5;124m\"\u001b[39m\u001b[38;5;124mX\u001b[39m\u001b[38;5;124m\"\u001b[39m, \u001b[38;5;241m*\u001b[39m\u001b[38;5;241m*\u001b[39mcheck_params)\n\u001b[0;32m    605\u001b[0m \u001b[38;5;28;01melif\u001b[39;00m no_val_X \u001b[38;5;129;01mand\u001b[39;00m \u001b[38;5;129;01mnot\u001b[39;00m no_val_y:\n\u001b[0;32m    606\u001b[0m     out \u001b[38;5;241m=\u001b[39m _check_y(y, \u001b[38;5;241m*\u001b[39m\u001b[38;5;241m*\u001b[39mcheck_params)\n",
      "File \u001b[1;32m~\\AppData\\Local\\anaconda3\\Lib\\site-packages\\sklearn\\utils\\validation.py:940\u001b[0m, in \u001b[0;36mcheck_array\u001b[1;34m(array, accept_sparse, accept_large_sparse, dtype, order, copy, force_all_finite, ensure_2d, allow_nd, ensure_min_samples, ensure_min_features, estimator, input_name)\u001b[0m\n\u001b[0;32m    938\u001b[0m     \u001b[38;5;66;03m# If input is 1D raise error\u001b[39;00m\n\u001b[0;32m    939\u001b[0m     \u001b[38;5;28;01mif\u001b[39;00m array\u001b[38;5;241m.\u001b[39mndim \u001b[38;5;241m==\u001b[39m \u001b[38;5;241m1\u001b[39m:\n\u001b[1;32m--> 940\u001b[0m         \u001b[38;5;28;01mraise\u001b[39;00m \u001b[38;5;167;01mValueError\u001b[39;00m(\n\u001b[0;32m    941\u001b[0m             \u001b[38;5;124m\"\u001b[39m\u001b[38;5;124mExpected 2D array, got 1D array instead:\u001b[39m\u001b[38;5;130;01m\\n\u001b[39;00m\u001b[38;5;124marray=\u001b[39m\u001b[38;5;132;01m{}\u001b[39;00m\u001b[38;5;124m.\u001b[39m\u001b[38;5;130;01m\\n\u001b[39;00m\u001b[38;5;124m\"\u001b[39m\n\u001b[0;32m    942\u001b[0m             \u001b[38;5;124m\"\u001b[39m\u001b[38;5;124mReshape your data either using array.reshape(-1, 1) if \u001b[39m\u001b[38;5;124m\"\u001b[39m\n\u001b[0;32m    943\u001b[0m             \u001b[38;5;124m\"\u001b[39m\u001b[38;5;124myour data has a single feature or array.reshape(1, -1) \u001b[39m\u001b[38;5;124m\"\u001b[39m\n\u001b[0;32m    944\u001b[0m             \u001b[38;5;124m\"\u001b[39m\u001b[38;5;124mif it contains a single sample.\u001b[39m\u001b[38;5;124m\"\u001b[39m\u001b[38;5;241m.\u001b[39mformat(array)\n\u001b[0;32m    945\u001b[0m         )\n\u001b[0;32m    947\u001b[0m \u001b[38;5;28;01mif\u001b[39;00m dtype_numeric \u001b[38;5;129;01mand\u001b[39;00m \u001b[38;5;28mhasattr\u001b[39m(array\u001b[38;5;241m.\u001b[39mdtype, \u001b[38;5;124m\"\u001b[39m\u001b[38;5;124mkind\u001b[39m\u001b[38;5;124m\"\u001b[39m) \u001b[38;5;129;01mand\u001b[39;00m array\u001b[38;5;241m.\u001b[39mdtype\u001b[38;5;241m.\u001b[39mkind \u001b[38;5;129;01min\u001b[39;00m \u001b[38;5;124m\"\u001b[39m\u001b[38;5;124mUSV\u001b[39m\u001b[38;5;124m\"\u001b[39m:\n\u001b[0;32m    948\u001b[0m     \u001b[38;5;28;01mraise\u001b[39;00m \u001b[38;5;167;01mValueError\u001b[39;00m(\n\u001b[0;32m    949\u001b[0m         \u001b[38;5;124m\"\u001b[39m\u001b[38;5;124mdtype=\u001b[39m\u001b[38;5;124m'\u001b[39m\u001b[38;5;124mnumeric\u001b[39m\u001b[38;5;124m'\u001b[39m\u001b[38;5;124m is not compatible with arrays of bytes/strings.\u001b[39m\u001b[38;5;124m\"\u001b[39m\n\u001b[0;32m    950\u001b[0m         \u001b[38;5;124m\"\u001b[39m\u001b[38;5;124mConvert your data to numeric values explicitly instead.\u001b[39m\u001b[38;5;124m\"\u001b[39m\n\u001b[0;32m    951\u001b[0m     )\n",
      "\u001b[1;31mValueError\u001b[0m: Expected 2D array, got 1D array instead:\narray=['Hiring for Services'].\nReshape your data either using array.reshape(-1, 1) if your data has a single feature or array.reshape(1, -1) if it contains a single sample."
     ]
    }
   ],
   "source": [
    "# # Predict the output for the new data using the loaded model\n",
    "# prediction = mod.predict(X_new)\n",
    "\n",
    "# print(prediction)"
   ]
  }
 ],
 "metadata": {
  "kernelspec": {
   "display_name": "Python 3 (ipykernel)",
   "language": "python",
   "name": "python3"
  },
  "language_info": {
   "codemirror_mode": {
    "name": "ipython",
    "version": 3
   },
   "file_extension": ".py",
   "mimetype": "text/x-python",
   "name": "python",
   "nbconvert_exporter": "python",
   "pygments_lexer": "ipython3",
   "version": "3.11.5"
  }
 },
 "nbformat": 4,
 "nbformat_minor": 5
}
