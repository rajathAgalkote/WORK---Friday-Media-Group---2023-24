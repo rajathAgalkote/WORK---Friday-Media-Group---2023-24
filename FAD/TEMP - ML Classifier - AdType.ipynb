{
 "cells": [
  {
   "cell_type": "markdown",
   "id": "b629f6ac",
   "metadata": {},
   "source": [
    "# <div class='alert alert-info'>Ad type predictions</div>"
   ]
  },
  {
   "cell_type": "code",
   "execution_count": 1,
   "id": "2c3b66c6",
   "metadata": {},
   "outputs": [],
   "source": [
    "import pandas as pd\n",
    "import numpy as np\n",
    "import matplotlib.pyplot as plt\n",
    "import seaborn as sns\n",
    "import pickle"
   ]
  },
  {
   "cell_type": "code",
   "execution_count": 2,
   "id": "b9815cea",
   "metadata": {},
   "outputs": [],
   "source": [
    "pd.set_option('display.max_rows', None)"
   ]
  },
  {
   "cell_type": "code",
   "execution_count": 49,
   "id": "79dacbc3",
   "metadata": {
    "scrolled": true
   },
   "outputs": [
    {
     "name": "stderr",
     "output_type": "stream",
     "text": [
      "C:\\Users\\rajathadri_as\\AppData\\Local\\Temp\\ipykernel_9828\\2139548497.py:1: DtypeWarning: Columns (3,17,32,43,47,53,57,58,59,63,77,79,106,107,110,113,116,119,122,132,133,134,136,141,143,144,145,147,151,152,156,158,159,160,163,164,166,173,174,176,177,181,190,191,192,193,194,195,196,197,198,199,204,205,206,207,208,210,212,214,216,217,219,220,222,223,224,226,232,233,234,235,236,240,241,248,249,250,251,254,256,257,258,261,267,269,272,273,274,276,277,278,280,281,283,285,288,290,292,293,303,304,305,308,309,310,311,314,315,316,318,320,321,322,323,324,325,326,327,331,332,333,334,336,337,338,339,340,341,343,344,345,346,348,349,350,351,353,359,364,365,366,367,369,371,373,377,379,385,386,387,391,394,398,399,431,432,439,441,442,443,444,446,448,450,456,457,459,461,463,468,473,477,484,537,539,541) have mixed types. Specify dtype option on import or set low_memory=False.\n",
      "  df= pd.read_csv('/Users/rajathadri_as/Documents/FAD - website_ads_ad - 20231130.csv')\n"
     ]
    }
   ],
   "source": [
    "df= pd.read_csv('/Users/rajathadri_as/Documents/FAD - website_ads_ad - 20231130.csv')"
   ]
  },
  {
   "cell_type": "code",
   "execution_count": 50,
   "id": "b5b16856",
   "metadata": {},
   "outputs": [
    {
     "data": {
      "text/plain": [
       "(161410, 568)"
      ]
     },
     "execution_count": 50,
     "metadata": {},
     "output_type": "execute_result"
    }
   ],
   "source": [
    "df.shape"
   ]
  },
  {
   "cell_type": "code",
   "execution_count": 51,
   "id": "c3a13fb5",
   "metadata": {},
   "outputs": [],
   "source": [
    "df=df[['title','type_name','type_id','cat_name','cat_id']]"
   ]
  },
  {
   "cell_type": "code",
   "execution_count": 52,
   "id": "600f2e73",
   "metadata": {},
   "outputs": [
    {
     "data": {
      "text/html": [
       "<div>\n",
       "<style scoped>\n",
       "    .dataframe tbody tr th:only-of-type {\n",
       "        vertical-align: middle;\n",
       "    }\n",
       "\n",
       "    .dataframe tbody tr th {\n",
       "        vertical-align: top;\n",
       "    }\n",
       "\n",
       "    .dataframe thead th {\n",
       "        text-align: right;\n",
       "    }\n",
       "</style>\n",
       "<table border=\"1\" class=\"dataframe\">\n",
       "  <thead>\n",
       "    <tr style=\"text-align: right;\">\n",
       "      <th></th>\n",
       "      <th>title</th>\n",
       "      <th>type_name</th>\n",
       "      <th>type_id</th>\n",
       "      <th>cat_name</th>\n",
       "      <th>cat_id</th>\n",
       "    </tr>\n",
       "  </thead>\n",
       "  <tbody>\n",
       "    <tr>\n",
       "      <th>0</th>\n",
       "      <td>Free government boiler heating insulation grants</td>\n",
       "      <td>Services</td>\n",
       "      <td>4</td>\n",
       "      <td>Home &amp; Garden</td>\n",
       "      <td>197</td>\n",
       "    </tr>\n",
       "    <tr>\n",
       "      <th>1</th>\n",
       "      <td>Solid Farmhouse Table &amp; 6 Dining Chairs</td>\n",
       "      <td>Services</td>\n",
       "      <td>4</td>\n",
       "      <td>Home &amp; Garden</td>\n",
       "      <td>197</td>\n",
       "    </tr>\n",
       "    <tr>\n",
       "      <th>2</th>\n",
       "      <td>Citroen C3 2015 in White</td>\n",
       "      <td>Motors</td>\n",
       "      <td>2</td>\n",
       "      <td>Cars</td>\n",
       "      <td>63</td>\n",
       "    </tr>\n",
       "    <tr>\n",
       "      <th>3</th>\n",
       "      <td>Handy Joe</td>\n",
       "      <td>Services</td>\n",
       "      <td>4</td>\n",
       "      <td>Home &amp; Garden</td>\n",
       "      <td>197</td>\n",
       "    </tr>\n",
       "    <tr>\n",
       "      <th>4</th>\n",
       "      <td>Chair. £5</td>\n",
       "      <td>Services</td>\n",
       "      <td>4</td>\n",
       "      <td>Home &amp; Garden</td>\n",
       "      <td>197</td>\n",
       "    </tr>\n",
       "  </tbody>\n",
       "</table>\n",
       "</div>"
      ],
      "text/plain": [
       "                                              title type_name  type_id  \\\n",
       "0  Free government boiler heating insulation grants  Services        4   \n",
       "1           Solid Farmhouse Table & 6 Dining Chairs  Services        4   \n",
       "2                          Citroen C3 2015 in White    Motors        2   \n",
       "3                                         Handy Joe  Services        4   \n",
       "4                                         Chair. £5  Services        4   \n",
       "\n",
       "        cat_name  cat_id  \n",
       "0  Home & Garden     197  \n",
       "1  Home & Garden     197  \n",
       "2           Cars      63  \n",
       "3  Home & Garden     197  \n",
       "4  Home & Garden     197  "
      ]
     },
     "execution_count": 52,
     "metadata": {},
     "output_type": "execute_result"
    }
   ],
   "source": [
    "df.head()"
   ]
  },
  {
   "cell_type": "code",
   "execution_count": 53,
   "id": "6bd8fb78",
   "metadata": {},
   "outputs": [
    {
     "data": {
      "text/plain": [
       "title          254\n",
       "type_name    28516\n",
       "type_id          0\n",
       "cat_name     30360\n",
       "cat_id           0\n",
       "dtype: int64"
      ]
     },
     "execution_count": 53,
     "metadata": {},
     "output_type": "execute_result"
    }
   ],
   "source": [
    "df.isna().sum()"
   ]
  },
  {
   "cell_type": "code",
   "execution_count": 54,
   "id": "70cbb6c2",
   "metadata": {},
   "outputs": [],
   "source": [
    "df.dropna(subset=['title'], inplace=True)"
   ]
  },
  {
   "cell_type": "code",
   "execution_count": 55,
   "id": "7c1d3122",
   "metadata": {},
   "outputs": [
    {
     "data": {
      "text/plain": [
       "type_name\n",
       "Motors              48807\n",
       "Services            27359\n",
       "For Sale            20605\n",
       "Adult               14980\n",
       "Adult Businesses     9595\n",
       "Animals              8474\n",
       "Jobs                 1659\n",
       "Property              693\n",
       "Events                472\n",
       "Name: count, dtype: int64"
      ]
     },
     "execution_count": 55,
     "metadata": {},
     "output_type": "execute_result"
    }
   ],
   "source": [
    "df['type_name'].value_counts()"
   ]
  },
  {
   "cell_type": "code",
   "execution_count": 56,
   "id": "f6002634",
   "metadata": {},
   "outputs": [],
   "source": [
    "# Handling null values in Type_name\n",
    "df.loc[df['type_id'] == 4, 'type_name'] = 'Services'\n",
    "df.loc[df['type_id'] == 9, 'type_name'] = 'Adult Businesses'"
   ]
  },
  {
   "cell_type": "code",
   "execution_count": 57,
   "id": "a9a73e39",
   "metadata": {},
   "outputs": [],
   "source": [
    "# Handling null values in Cat_name\n",
    "df.loc[df['cat_id'] == 190, 'cat_name'] = 'Business & Office'\n",
    "df.loc[df['cat_id'] == 191, 'cat_name'] = 'Professional Services'\n",
    "df.loc[df['cat_id'] == 192, 'cat_name'] = 'Events & Celebrations'\n",
    "df.loc[df['cat_id'] == 193, 'cat_name'] = 'Family & Care Services'\n",
    "df.loc[df['cat_id'] == 194, 'cat_name'] = 'Health, Beauty & Wellness'\n",
    "df.loc[df['cat_id'] == 195, 'cat_name'] = 'Fitness'\n",
    "df.loc[df['cat_id'] == 196, 'cat_name'] = 'Lessons & Tuition'\n",
    "df.loc[df['cat_id'] == 197, 'cat_name'] = 'Home & Garden'\n",
    "df.loc[df['cat_id'] == 198, 'cat_name'] = 'Pets & Horses'\n",
    "df.loc[df['cat_id'] == 199, 'cat_name'] = 'Motoring & Transport'\n",
    "df.loc[df['cat_id'] == 201, 'cat_name'] = 'Local Food & Drink'\n",
    "df.loc[df['cat_id'] == 202, 'cat_name'] = 'Retail'\n",
    "df.loc[df['cat_id'] == 263, 'cat_name'] = 'Escort Agencies'"
   ]
  },
  {
   "cell_type": "code",
   "execution_count": 101,
   "id": "c1659795",
   "metadata": {
    "scrolled": true
   },
   "outputs": [
    {
     "data": {
      "text/plain": [
       "cat_id  cat_name                        \n",
       "1       Agricultural                          302\n",
       "2       Antiques & Collectables              1674\n",
       "3       Baby & Kids                          1033\n",
       "4       Bicycles                              367\n",
       "5       Bizarre Bazaar                        401\n",
       "6       Businesses for sale                  1001\n",
       "7       Clothing, Footwear & Accessories     2613\n",
       "8       Computers & Electronics               831\n",
       "9       Cookware & Dining                     459\n",
       "10      Consoles                              149\n",
       "11      DIY                                   581\n",
       "12      Event Ticket Resales                   83\n",
       "13      Furniture                            3084\n",
       "14      Garden                                600\n",
       "15      Heating & Cooling                     230\n",
       "16      Hobbies & Leisure                     677\n",
       "17      Home Appliances                       776\n",
       "18      Home Decor                            906\n",
       "19      Lighting                              204\n",
       "20      Mobility                              281\n",
       "21      Movies, Games, Books & Music          732\n",
       "22      Musical Instruments                   414\n",
       "23      Phones & Accessories                  352\n",
       "24      Sports Equipment                      527\n",
       "25      Travel & Holidays                     117\n",
       "26      Tv, Audio & Cameras                   598\n",
       "62      Boats                                  16\n",
       "63      Cars                                19469\n",
       "64      Commercial Vehicles                  2136\n",
       "65      Farm                                  161\n",
       "66      Horseboxes & Trailers                1489\n",
       "67      Motorbikes, Scooters & Quads        15255\n",
       "68      Motorhomes & Caravans                9568\n",
       "69      Parts & Accessories                   426\n",
       "84      Plant Machinery                         6\n",
       "90      Motorbikes                              6\n",
       "109     Accountancy & Finance                  27\n",
       "110     Automotive Jobs                        58\n",
       "111     Aviation                                3\n",
       "112     Childcare                              14\n",
       "114     Charity & Volunteering                 34\n",
       "115     Computing & IT                         42\n",
       "116     Construction & Tradesmen               58\n",
       "117     Education                              42\n",
       "118     Engineering                            30\n",
       "119     Farming, Gardening & Pet               19\n",
       "120     General jobs                          481\n",
       "121     Graduate Jobs & Apprenticeships         8\n",
       "122     Healthcare & Medicine                 114\n",
       "123     Health, Beauty & Fitness               54\n",
       "124     Home & Social Care                    252\n",
       "125     Hospitality & Catering                 45\n",
       "126     Law                                     7\n",
       "127     Marketing, Media & PR                  51\n",
       "128     Office, Admin & PA                     48\n",
       "129     Recruitment & HR                       25\n",
       "130     Sales, Retail & Customer Service      209\n",
       "131     Seasonal & Overseas                    16\n",
       "138     Houses & Bungalows                     83\n",
       "139     Flats & Bedsits                       179\n",
       "140     Rooms                                  68\n",
       "141     Mobile & Park Homes                   136\n",
       "142     Garages                                68\n",
       "143     Parking                                10\n",
       "144     Commercial                             46\n",
       "145     Industrial Units                       15\n",
       "146     Offices                                23\n",
       "147     Shops                                   9\n",
       "148     Portable & Prefab buildings             1\n",
       "149     L&                                     10\n",
       "150     Overseas                               17\n",
       "151     Pets                                 2802\n",
       "152     Pet Accessories & Supplies            191\n",
       "156     Equine                               5480\n",
       "164     Birthdays & Notices                    41\n",
       "165     Boot Fairs & Garage Sales              88\n",
       "166     Car Events & Shows                      4\n",
       "167     Charity Runs                            3\n",
       "168     Christmas                              59\n",
       "169     Dog Racing & Shows                      2\n",
       "170     Entertainment                          51\n",
       "171     Nightlife                               6\n",
       "173     Clubs                                  34\n",
       "174     Gambling                               10\n",
       "175     Fairs                                  48\n",
       "176     Horse Racing & Shows                    3\n",
       "177     Music Gigs & Festivals                 10\n",
       "178     Pick Your Own                          15\n",
       "179     Places To Visit                        11\n",
       "180     Sports Events                          20\n",
       "181     Adult Contacts                        322\n",
       "182     Escorts                             12206\n",
       "185     Industry Jobs                         108\n",
       "187     Adult Massage                         597\n",
       "258     Kid's Activities                        2\n",
       "259     Classes                                31\n",
       "263     Escort Agencies                      9554\n",
       "264     Sex Shops                              52\n",
       "292     Gay Male Escorts                       58\n",
       "295     Male Escorts                           20\n",
       "298     Trans Escorts                        1648\n",
       "300     Massage Parlours                       65\n",
       "Name: count, dtype: int64"
      ]
     },
     "execution_count": 101,
     "metadata": {},
     "output_type": "execute_result"
    }
   ],
   "source": [
    "df[['cat_id','cat_name']].value_counts().sort_index()"
   ]
  },
  {
   "cell_type": "code",
   "execution_count": 100,
   "id": "4971a29e",
   "metadata": {},
   "outputs": [],
   "source": [
    "df['cat_name'] = df['cat_name'].str.replace('and','&')\n",
    "df['cat_name'] = df['cat_name'].str.replace('+','&')\n",
    "df['cat_name'] = df['cat_name'].str.replace('Bizaar','Bazaar')"
   ]
  },
  {
   "cell_type": "code",
   "execution_count": 102,
   "id": "597196e6",
   "metadata": {},
   "outputs": [
    {
     "data": {
      "text/plain": [
       "type_name\n",
       "Motors              48532\n",
       "For Sale            18992\n",
       "Adult               14959\n",
       "Adult Businesses     9671\n",
       "Animals              8473\n",
       "Jobs                 1637\n",
       "Property              665\n",
       "Events                438\n",
       "Name: count, dtype: int64"
      ]
     },
     "execution_count": 102,
     "metadata": {},
     "output_type": "execute_result"
    }
   ],
   "source": [
    "df['type_name'].value_counts()"
   ]
  },
  {
   "cell_type": "code",
   "execution_count": 103,
   "id": "ab0c09b0",
   "metadata": {},
   "outputs": [],
   "source": [
    "df = df[df['cat_id']!=0]"
   ]
  },
  {
   "cell_type": "code",
   "execution_count": 104,
   "id": "de1f09e9",
   "metadata": {},
   "outputs": [],
   "source": [
    "df = df[df['type_id']!=0]"
   ]
  },
  {
   "cell_type": "code",
   "execution_count": 105,
   "id": "abe3685a",
   "metadata": {},
   "outputs": [],
   "source": [
    "df = df[df['type_name'] != 'Services']"
   ]
  },
  {
   "cell_type": "code",
   "execution_count": 106,
   "id": "3fbfe7d4",
   "metadata": {},
   "outputs": [],
   "source": [
    "df.dropna(inplace=True)"
   ]
  },
  {
   "cell_type": "code",
   "execution_count": 107,
   "id": "dd54c8ec",
   "metadata": {},
   "outputs": [
    {
     "data": {
      "text/plain": [
       "title        0\n",
       "type_name    0\n",
       "type_id      0\n",
       "cat_name     0\n",
       "cat_id       0\n",
       "dtype: int64"
      ]
     },
     "execution_count": 107,
     "metadata": {},
     "output_type": "execute_result"
    }
   ],
   "source": [
    "df.isna().sum()"
   ]
  },
  {
   "cell_type": "code",
   "execution_count": 108,
   "id": "eec475bf",
   "metadata": {},
   "outputs": [
    {
     "data": {
      "text/plain": [
       "(103367, 5)"
      ]
     },
     "execution_count": 108,
     "metadata": {},
     "output_type": "execute_result"
    }
   ],
   "source": [
    "df.shape"
   ]
  },
  {
   "cell_type": "code",
   "execution_count": 109,
   "id": "61ddd54e",
   "metadata": {},
   "outputs": [
    {
     "data": {
      "text/plain": [
       "type_name\n",
       "Motors              48532\n",
       "For Sale            18992\n",
       "Adult               14959\n",
       "Adult Businesses     9671\n",
       "Animals              8473\n",
       "Jobs                 1637\n",
       "Property              665\n",
       "Events                438\n",
       "Name: count, dtype: int64"
      ]
     },
     "execution_count": 109,
     "metadata": {},
     "output_type": "execute_result"
    }
   ],
   "source": [
    "df['type_name'].value_counts()"
   ]
  },
  {
   "cell_type": "code",
   "execution_count": 110,
   "id": "40682299",
   "metadata": {},
   "outputs": [
    {
     "data": {
      "text/html": [
       "<div>\n",
       "<style scoped>\n",
       "    .dataframe tbody tr th:only-of-type {\n",
       "        vertical-align: middle;\n",
       "    }\n",
       "\n",
       "    .dataframe tbody tr th {\n",
       "        vertical-align: top;\n",
       "    }\n",
       "\n",
       "    .dataframe thead th {\n",
       "        text-align: right;\n",
       "    }\n",
       "</style>\n",
       "<table border=\"1\" class=\"dataframe\">\n",
       "  <thead>\n",
       "    <tr style=\"text-align: right;\">\n",
       "      <th></th>\n",
       "      <th>title</th>\n",
       "      <th>type_name</th>\n",
       "      <th>type_id</th>\n",
       "      <th>cat_name</th>\n",
       "      <th>cat_id</th>\n",
       "    </tr>\n",
       "  </thead>\n",
       "  <tbody>\n",
       "    <tr>\n",
       "      <th>2</th>\n",
       "      <td>citroen c whit</td>\n",
       "      <td>Motors</td>\n",
       "      <td>2</td>\n",
       "      <td>Cars</td>\n",
       "      <td>63</td>\n",
       "    </tr>\n",
       "    <tr>\n",
       "      <th>26</th>\n",
       "      <td>hand mixer brand new open</td>\n",
       "      <td>For Sale</td>\n",
       "      <td>1</td>\n",
       "      <td>Home Appliances</td>\n",
       "      <td>17</td>\n",
       "    </tr>\n",
       "    <tr>\n",
       "      <th>29</th>\n",
       "      <td>mahogany display cabinet</td>\n",
       "      <td>For Sale</td>\n",
       "      <td>1</td>\n",
       "      <td>Antiques &amp; Collectables</td>\n",
       "      <td>2</td>\n",
       "    </tr>\n",
       "    <tr>\n",
       "      <th>30</th>\n",
       "      <td>technics mk x rane mixer speaker headphone ful...</td>\n",
       "      <td>For Sale</td>\n",
       "      <td>1</td>\n",
       "      <td>Computers &amp; Electronics</td>\n",
       "      <td>8</td>\n",
       "    </tr>\n",
       "    <tr>\n",
       "      <th>32</th>\n",
       "      <td>mega blok castl</td>\n",
       "      <td>For Sale</td>\n",
       "      <td>1</td>\n",
       "      <td>Baby &amp; Kids</td>\n",
       "      <td>3</td>\n",
       "    </tr>\n",
       "  </tbody>\n",
       "</table>\n",
       "</div>"
      ],
      "text/plain": [
       "                                                title type_name  type_id  \\\n",
       "2                                      citroen c whit    Motors        2   \n",
       "26                          hand mixer brand new open  For Sale        1   \n",
       "29                           mahogany display cabinet  For Sale        1   \n",
       "30  technics mk x rane mixer speaker headphone ful...  For Sale        1   \n",
       "32                                    mega blok castl  For Sale        1   \n",
       "\n",
       "                   cat_name  cat_id  \n",
       "2                      Cars      63  \n",
       "26          Home Appliances      17  \n",
       "29  Antiques & Collectables       2  \n",
       "30  Computers & Electronics       8  \n",
       "32              Baby & Kids       3  "
      ]
     },
     "execution_count": 110,
     "metadata": {},
     "output_type": "execute_result"
    }
   ],
   "source": [
    "df.head()"
   ]
  },
  {
   "cell_type": "code",
   "execution_count": 111,
   "id": "824ca191",
   "metadata": {},
   "outputs": [
    {
     "data": {
      "text/plain": [
       "<Axes: xlabel='type_name'>"
      ]
     },
     "execution_count": 111,
     "metadata": {},
     "output_type": "execute_result"
    },
    {
     "data": {
      "image/png": "[encoded data removed]",
      "text/plain": [
       "<Figure size 640x480 with 1 Axes>"
      ]
     },
     "metadata": {},
     "output_type": "display_data"
    }
   ],
   "source": [
    "df['type_name'].value_counts(normalize = True).plot.bar()"
   ]
  },
  {
   "cell_type": "code",
   "execution_count": 112,
   "id": "7165ec01",
   "metadata": {},
   "outputs": [
    {
     "data": {
      "text/plain": [
       "<Axes: xlabel='cat_name'>"
      ]
     },
     "execution_count": 112,
     "metadata": {},
     "output_type": "execute_result"
    },
    {
     "data": {
      "image/png": "[encoded data removed]",
      "text/plain": [
       "<Figure size 640x480 with 1 Axes>"
      ]
     },
     "metadata": {},
     "output_type": "display_data"
    }
   ],
   "source": [
    "df['cat_name'].value_counts(normalize = True).plot.bar()"
   ]
  },
  {
   "cell_type": "markdown",
   "id": "978dc532",
   "metadata": {},
   "source": [
    "# <div class = 'alert alert-info'>NLTK text processing</div>"
   ]
  },
  {
   "cell_type": "code",
   "execution_count": 113,
   "id": "bb0838f7",
   "metadata": {
    "scrolled": true
   },
   "outputs": [
    {
     "name": "stderr",
     "output_type": "stream",
     "text": [
      "[nltk_data] Downloading collection 'all'\n",
      "[nltk_data]    | \n",
      "[nltk_data]    | Downloading package abc to\n",
      "[nltk_data]    |     C:\\Users\\rajathadri_as\\AppData\\Roaming\\nltk_data.\n",
      "[nltk_data]    |     ..\n",
      "[nltk_data]    |   Package abc is already up-to-date!\n",
      "[nltk_data]    | Downloading package alpino to\n",
      "[nltk_data]    |     C:\\Users\\rajathadri_as\\AppData\\Roaming\\nltk_data.\n",
      "[nltk_data]    |     ..\n",
      "[nltk_data]    |   Package alpino is already up-to-date!\n",
      "[nltk_data]    | Downloading package averaged_perceptron_tagger to\n",
      "[nltk_data]    |     C:\\Users\\rajathadri_as\\AppData\\Roaming\\nltk_data.\n",
      "[nltk_data]    |     ..\n",
      "[nltk_data]    |   Package averaged_perceptron_tagger is already up-\n",
      "[nltk_data]    |       to-date!\n",
      "[nltk_data]    | Downloading package averaged_perceptron_tagger_ru to\n",
      "[nltk_data]    |     C:\\Users\\rajathadri_as\\AppData\\Roaming\\nltk_data.\n",
      "[nltk_data]    |     ..\n",
      "[nltk_data]    |   Package averaged_perceptron_tagger_ru is already\n",
      "[nltk_data]    |       up-to-date!\n",
      "[nltk_data]    | Downloading package basque_grammars to\n",
      "[nltk_data]    |     C:\\Users\\rajathadri_as\\AppData\\Roaming\\nltk_data.\n",
      "[nltk_data]    |     ..\n",
      "[nltk_data]    |   Package basque_grammars is already up-to-date!\n",
      "[nltk_data]    | Downloading package bcp47 to\n",
      "[nltk_data]    |     C:\\Users\\rajathadri_as\\AppData\\Roaming\\nltk_data.\n",
      "[nltk_data]    |     ..\n",
      "[nltk_data]    |   Package bcp47 is already up-to-date!\n",
      "[nltk_data]    | Downloading package biocreative_ppi to\n",
      "[nltk_data]    |     C:\\Users\\rajathadri_as\\AppData\\Roaming\\nltk_data.\n",
      "[nltk_data]    |     ..\n",
      "[nltk_data]    |   Package biocreative_ppi is already up-to-date!\n",
      "[nltk_data]    | Downloading package bllip_wsj_no_aux to\n",
      "[nltk_data]    |     C:\\Users\\rajathadri_as\\AppData\\Roaming\\nltk_data.\n",
      "[nltk_data]    |     ..\n",
      "[nltk_data]    |   Package bllip_wsj_no_aux is already up-to-date!\n",
      "[nltk_data]    | Downloading package book_grammars to\n",
      "[nltk_data]    |     C:\\Users\\rajathadri_as\\AppData\\Roaming\\nltk_data.\n",
      "[nltk_data]    |     ..\n",
      "[nltk_data]    |   Package book_grammars is already up-to-date!\n",
      "[nltk_data]    | Downloading package brown to\n",
      "[nltk_data]    |     C:\\Users\\rajathadri_as\\AppData\\Roaming\\nltk_data.\n",
      "[nltk_data]    |     ..\n",
      "[nltk_data]    |   Package brown is already up-to-date!\n",
      "[nltk_data]    | Downloading package brown_tei to\n",
      "[nltk_data]    |     C:\\Users\\rajathadri_as\\AppData\\Roaming\\nltk_data.\n",
      "[nltk_data]    |     ..\n",
      "[nltk_data]    |   Package brown_tei is already up-to-date!\n",
      "[nltk_data]    | Downloading package cess_cat to\n",
      "[nltk_data]    |     C:\\Users\\rajathadri_as\\AppData\\Roaming\\nltk_data.\n",
      "[nltk_data]    |     ..\n",
      "[nltk_data]    |   Package cess_cat is already up-to-date!\n",
      "[nltk_data]    | Downloading package cess_esp to\n",
      "[nltk_data]    |     C:\\Users\\rajathadri_as\\AppData\\Roaming\\nltk_data.\n",
      "[nltk_data]    |     ..\n",
      "[nltk_data]    |   Package cess_esp is already up-to-date!\n",
      "[nltk_data]    | Downloading package chat80 to\n",
      "[nltk_data]    |     C:\\Users\\rajathadri_as\\AppData\\Roaming\\nltk_data.\n",
      "[nltk_data]    |     ..\n",
      "[nltk_data]    |   Package chat80 is already up-to-date!\n",
      "[nltk_data]    | Downloading package city_database to\n",
      "[nltk_data]    |     C:\\Users\\rajathadri_as\\AppData\\Roaming\\nltk_data.\n",
      "[nltk_data]    |     ..\n",
      "[nltk_data]    |   Package city_database is already up-to-date!\n",
      "[nltk_data]    | Downloading package cmudict to\n",
      "[nltk_data]    |     C:\\Users\\rajathadri_as\\AppData\\Roaming\\nltk_data.\n",
      "[nltk_data]    |     ..\n",
      "[nltk_data]    |   Package cmudict is already up-to-date!\n",
      "[nltk_data]    | Downloading package comparative_sentences to\n",
      "[nltk_data]    |     C:\\Users\\rajathadri_as\\AppData\\Roaming\\nltk_data.\n",
      "[nltk_data]    |     ..\n",
      "[nltk_data]    |   Package comparative_sentences is already up-to-\n",
      "[nltk_data]    |       date!\n",
      "[nltk_data]    | Downloading package comtrans to\n",
      "[nltk_data]    |     C:\\Users\\rajathadri_as\\AppData\\Roaming\\nltk_data.\n",
      "[nltk_data]    |     ..\n",
      "[nltk_data]    |   Package comtrans is already up-to-date!\n",
      "[nltk_data]    | Downloading package conll2000 to\n",
      "[nltk_data]    |     C:\\Users\\rajathadri_as\\AppData\\Roaming\\nltk_data.\n",
      "[nltk_data]    |     ..\n",
      "[nltk_data]    |   Package conll2000 is already up-to-date!\n",
      "[nltk_data]    | Downloading package conll2002 to\n",
      "[nltk_data]    |     C:\\Users\\rajathadri_as\\AppData\\Roaming\\nltk_data.\n",
      "[nltk_data]    |     ..\n",
      "[nltk_data]    |   Package conll2002 is already up-to-date!\n",
      "[nltk_data]    | Downloading package conll2007 to\n",
      "[nltk_data]    |     C:\\Users\\rajathadri_as\\AppData\\Roaming\\nltk_data.\n",
      "[nltk_data]    |     ..\n",
      "[nltk_data]    |   Package conll2007 is already up-to-date!\n",
      "[nltk_data]    | Downloading package crubadan to\n",
      "[nltk_data]    |     C:\\Users\\rajathadri_as\\AppData\\Roaming\\nltk_data.\n",
      "[nltk_data]    |     ..\n",
      "[nltk_data]    |   Package crubadan is already up-to-date!\n",
      "[nltk_data]    | Downloading package dependency_treebank to\n",
      "[nltk_data]    |     C:\\Users\\rajathadri_as\\AppData\\Roaming\\nltk_data.\n",
      "[nltk_data]    |     ..\n",
      "[nltk_data]    |   Package dependency_treebank is already up-to-date!\n",
      "[nltk_data]    | Downloading package dolch to\n",
      "[nltk_data]    |     C:\\Users\\rajathadri_as\\AppData\\Roaming\\nltk_data.\n",
      "[nltk_data]    |     ..\n",
      "[nltk_data]    |   Package dolch is already up-to-date!\n",
      "[nltk_data]    | Downloading package europarl_raw to\n",
      "[nltk_data]    |     C:\\Users\\rajathadri_as\\AppData\\Roaming\\nltk_data.\n",
      "[nltk_data]    |     ..\n",
      "[nltk_data]    |   Package europarl_raw is already up-to-date!\n",
      "[nltk_data]    | Downloading package extended_omw to\n",
      "[nltk_data]    |     C:\\Users\\rajathadri_as\\AppData\\Roaming\\nltk_data.\n",
      "[nltk_data]    |     ..\n",
      "[nltk_data]    |   Package extended_omw is already up-to-date!\n",
      "[nltk_data]    | Downloading package floresta to\n",
      "[nltk_data]    |     C:\\Users\\rajathadri_as\\AppData\\Roaming\\nltk_data.\n",
      "[nltk_data]    |     ..\n",
      "[nltk_data]    |   Package floresta is already up-to-date!\n",
      "[nltk_data]    | Downloading package framenet_v15 to\n",
      "[nltk_data]    |     C:\\Users\\rajathadri_as\\AppData\\Roaming\\nltk_data.\n",
      "[nltk_data]    |     ..\n",
      "[nltk_data]    |   Package framenet_v15 is already up-to-date!\n",
      "[nltk_data]    | Downloading package framenet_v17 to\n",
      "[nltk_data]    |     C:\\Users\\rajathadri_as\\AppData\\Roaming\\nltk_data.\n",
      "[nltk_data]    |     ..\n",
      "[nltk_data]    |   Package framenet_v17 is already up-to-date!\n",
      "[nltk_data]    | Downloading package gazetteers to\n",
      "[nltk_data]    |     C:\\Users\\rajathadri_as\\AppData\\Roaming\\nltk_data.\n",
      "[nltk_data]    |     ..\n",
      "[nltk_data]    |   Package gazetteers is already up-to-date!\n",
      "[nltk_data]    | Downloading package genesis to\n",
      "[nltk_data]    |     C:\\Users\\rajathadri_as\\AppData\\Roaming\\nltk_data.\n",
      "[nltk_data]    |     ..\n",
      "[nltk_data]    |   Package genesis is already up-to-date!\n",
      "[nltk_data]    | Downloading package gutenberg to\n",
      "[nltk_data]    |     C:\\Users\\rajathadri_as\\AppData\\Roaming\\nltk_data.\n",
      "[nltk_data]    |     ..\n",
      "[nltk_data]    |   Package gutenberg is already up-to-date!\n",
      "[nltk_data]    | Downloading package ieer to\n",
      "[nltk_data]    |     C:\\Users\\rajathadri_as\\AppData\\Roaming\\nltk_data.\n",
      "[nltk_data]    |     ..\n",
      "[nltk_data]    |   Package ieer is already up-to-date!\n",
      "[nltk_data]    | Downloading package inaugural to\n",
      "[nltk_data]    |     C:\\Users\\rajathadri_as\\AppData\\Roaming\\nltk_data.\n",
      "[nltk_data]    |     ..\n",
      "[nltk_data]    |   Package inaugural is already up-to-date!\n",
      "[nltk_data]    | Downloading package indian to\n",
      "[nltk_data]    |     C:\\Users\\rajathadri_as\\AppData\\Roaming\\nltk_data.\n",
      "[nltk_data]    |     ..\n",
      "[nltk_data]    |   Package indian is already up-to-date!\n",
      "[nltk_data]    | Downloading package jeita to\n",
      "[nltk_data]    |     C:\\Users\\rajathadri_as\\AppData\\Roaming\\nltk_data.\n",
      "[nltk_data]    |     ..\n",
      "[nltk_data]    |   Package jeita is already up-to-date!\n",
      "[nltk_data]    | Downloading package kimmo to\n",
      "[nltk_data]    |     C:\\Users\\rajathadri_as\\AppData\\Roaming\\nltk_data.\n",
      "[nltk_data]    |     ..\n",
      "[nltk_data]    |   Package kimmo is already up-to-date!\n",
      "[nltk_data]    | Downloading package knbc to\n",
      "[nltk_data]    |     C:\\Users\\rajathadri_as\\AppData\\Roaming\\nltk_data.\n",
      "[nltk_data]    |     ..\n",
      "[nltk_data]    |   Package knbc is already up-to-date!\n",
      "[nltk_data]    | Downloading package large_grammars to\n",
      "[nltk_data]    |     C:\\Users\\rajathadri_as\\AppData\\Roaming\\nltk_data.\n",
      "[nltk_data]    |     ..\n",
      "[nltk_data]    |   Package large_grammars is already up-to-date!\n",
      "[nltk_data]    | Downloading package lin_thesaurus to\n",
      "[nltk_data]    |     C:\\Users\\rajathadri_as\\AppData\\Roaming\\nltk_data.\n",
      "[nltk_data]    |     ..\n",
      "[nltk_data]    |   Package lin_thesaurus is already up-to-date!\n",
      "[nltk_data]    | Downloading package mac_morpho to\n",
      "[nltk_data]    |     C:\\Users\\rajathadri_as\\AppData\\Roaming\\nltk_data.\n",
      "[nltk_data]    |     ..\n",
      "[nltk_data]    |   Package mac_morpho is already up-to-date!\n",
      "[nltk_data]    | Downloading package machado to\n",
      "[nltk_data]    |     C:\\Users\\rajathadri_as\\AppData\\Roaming\\nltk_data.\n",
      "[nltk_data]    |     ..\n",
      "[nltk_data]    |   Package machado is already up-to-date!\n",
      "[nltk_data]    | Downloading package masc_tagged to\n",
      "[nltk_data]    |     C:\\Users\\rajathadri_as\\AppData\\Roaming\\nltk_data.\n",
      "[nltk_data]    |     ..\n",
      "[nltk_data]    |   Package masc_tagged is already up-to-date!\n",
      "[nltk_data]    | Downloading package maxent_ne_chunker to\n",
      "[nltk_data]    |     C:\\Users\\rajathadri_as\\AppData\\Roaming\\nltk_data.\n",
      "[nltk_data]    |     ..\n",
      "[nltk_data]    |   Package maxent_ne_chunker is already up-to-date!\n",
      "[nltk_data]    | Downloading package maxent_treebank_pos_tagger to\n",
      "[nltk_data]    |     C:\\Users\\rajathadri_as\\AppData\\Roaming\\nltk_data.\n",
      "[nltk_data]    |     ..\n",
      "[nltk_data]    |   Package maxent_treebank_pos_tagger is already up-\n",
      "[nltk_data]    |       to-date!\n",
      "[nltk_data]    | Downloading package moses_sample to\n",
      "[nltk_data]    |     C:\\Users\\rajathadri_as\\AppData\\Roaming\\nltk_data.\n",
      "[nltk_data]    |     ..\n",
      "[nltk_data]    |   Package moses_sample is already up-to-date!\n",
      "[nltk_data]    | Downloading package movie_reviews to\n",
      "[nltk_data]    |     C:\\Users\\rajathadri_as\\AppData\\Roaming\\nltk_data.\n",
      "[nltk_data]    |     ..\n",
      "[nltk_data]    |   Package movie_reviews is already up-to-date!\n",
      "[nltk_data]    | Downloading package mte_teip5 to\n",
      "[nltk_data]    |     C:\\Users\\rajathadri_as\\AppData\\Roaming\\nltk_data.\n",
      "[nltk_data]    |     ..\n",
      "[nltk_data]    |   Package mte_teip5 is already up-to-date!\n",
      "[nltk_data]    | Downloading package mwa_ppdb to\n",
      "[nltk_data]    |     C:\\Users\\rajathadri_as\\AppData\\Roaming\\nltk_data.\n",
      "[nltk_data]    |     ..\n",
      "[nltk_data]    |   Package mwa_ppdb is already up-to-date!\n",
      "[nltk_data]    | Downloading package names to\n",
      "[nltk_data]    |     C:\\Users\\rajathadri_as\\AppData\\Roaming\\nltk_data.\n",
      "[nltk_data]    |     ..\n",
      "[nltk_data]    |   Package names is already up-to-date!\n",
      "[nltk_data]    | Downloading package nombank.1.0 to\n",
      "[nltk_data]    |     C:\\Users\\rajathadri_as\\AppData\\Roaming\\nltk_data.\n",
      "[nltk_data]    |     ..\n",
      "[nltk_data]    |   Package nombank.1.0 is already up-to-date!\n",
      "[nltk_data]    | Downloading package nonbreaking_prefixes to\n",
      "[nltk_data]    |     C:\\Users\\rajathadri_as\\AppData\\Roaming\\nltk_data.\n",
      "[nltk_data]    |     ..\n",
      "[nltk_data]    |   Package nonbreaking_prefixes is already up-to-date!\n",
      "[nltk_data]    | Downloading package nps_chat to\n",
      "[nltk_data]    |     C:\\Users\\rajathadri_as\\AppData\\Roaming\\nltk_data.\n",
      "[nltk_data]    |     ..\n",
      "[nltk_data]    |   Package nps_chat is already up-to-date!\n",
      "[nltk_data]    | Downloading package omw to\n",
      "[nltk_data]    |     C:\\Users\\rajathadri_as\\AppData\\Roaming\\nltk_data.\n",
      "[nltk_data]    |     ..\n",
      "[nltk_data]    |   Package omw is already up-to-date!\n",
      "[nltk_data]    | Downloading package omw-1.4 to\n",
      "[nltk_data]    |     C:\\Users\\rajathadri_as\\AppData\\Roaming\\nltk_data.\n",
      "[nltk_data]    |     ..\n",
      "[nltk_data]    |   Package omw-1.4 is already up-to-date!\n",
      "[nltk_data]    | Downloading package opinion_lexicon to\n",
      "[nltk_data]    |     C:\\Users\\rajathadri_as\\AppData\\Roaming\\nltk_data.\n",
      "[nltk_data]    |     ..\n",
      "[nltk_data]    |   Package opinion_lexicon is already up-to-date!\n",
      "[nltk_data]    | Downloading package panlex_swadesh to\n",
      "[nltk_data]    |     C:\\Users\\rajathadri_as\\AppData\\Roaming\\nltk_data.\n",
      "[nltk_data]    |     ..\n",
      "[nltk_data]    |   Package panlex_swadesh is already up-to-date!\n",
      "[nltk_data]    | Downloading package paradigms to\n",
      "[nltk_data]    |     C:\\Users\\rajathadri_as\\AppData\\Roaming\\nltk_data.\n",
      "[nltk_data]    |     ..\n",
      "[nltk_data]    |   Package paradigms is already up-to-date!\n",
      "[nltk_data]    | Downloading package pe08 to\n",
      "[nltk_data]    |     C:\\Users\\rajathadri_as\\AppData\\Roaming\\nltk_data.\n",
      "[nltk_data]    |     ..\n",
      "[nltk_data]    |   Package pe08 is already up-to-date!\n",
      "[nltk_data]    | Downloading package perluniprops to\n",
      "[nltk_data]    |     C:\\Users\\rajathadri_as\\AppData\\Roaming\\nltk_data.\n",
      "[nltk_data]    |     ..\n",
      "[nltk_data]    |   Package perluniprops is already up-to-date!\n",
      "[nltk_data]    | Downloading package pil to\n",
      "[nltk_data]    |     C:\\Users\\rajathadri_as\\AppData\\Roaming\\nltk_data.\n",
      "[nltk_data]    |     ..\n",
      "[nltk_data]    |   Package pil is already up-to-date!\n",
      "[nltk_data]    | Downloading package pl196x to\n",
      "[nltk_data]    |     C:\\Users\\rajathadri_as\\AppData\\Roaming\\nltk_data.\n",
      "[nltk_data]    |     ..\n",
      "[nltk_data]    |   Package pl196x is already up-to-date!\n",
      "[nltk_data]    | Downloading package porter_test to\n",
      "[nltk_data]    |     C:\\Users\\rajathadri_as\\AppData\\Roaming\\nltk_data.\n",
      "[nltk_data]    |     ..\n",
      "[nltk_data]    |   Package porter_test is already up-to-date!\n",
      "[nltk_data]    | Downloading package ppattach to\n",
      "[nltk_data]    |     C:\\Users\\rajathadri_as\\AppData\\Roaming\\nltk_data.\n",
      "[nltk_data]    |     ..\n",
      "[nltk_data]    |   Package ppattach is already up-to-date!\n",
      "[nltk_data]    | Downloading package problem_reports to\n",
      "[nltk_data]    |     C:\\Users\\rajathadri_as\\AppData\\Roaming\\nltk_data.\n",
      "[nltk_data]    |     ..\n",
      "[nltk_data]    |   Package problem_reports is already up-to-date!\n",
      "[nltk_data]    | Downloading package product_reviews_1 to\n",
      "[nltk_data]    |     C:\\Users\\rajathadri_as\\AppData\\Roaming\\nltk_data.\n",
      "[nltk_data]    |     ..\n",
      "[nltk_data]    |   Package product_reviews_1 is already up-to-date!\n",
      "[nltk_data]    | Downloading package product_reviews_2 to\n",
      "[nltk_data]    |     C:\\Users\\rajathadri_as\\AppData\\Roaming\\nltk_data.\n",
      "[nltk_data]    |     ..\n",
      "[nltk_data]    |   Package product_reviews_2 is already up-to-date!\n",
      "[nltk_data]    | Downloading package propbank to\n",
      "[nltk_data]    |     C:\\Users\\rajathadri_as\\AppData\\Roaming\\nltk_data.\n",
      "[nltk_data]    |     ..\n",
      "[nltk_data]    |   Package propbank is already up-to-date!\n",
      "[nltk_data]    | Downloading package pros_cons to\n",
      "[nltk_data]    |     C:\\Users\\rajathadri_as\\AppData\\Roaming\\nltk_data.\n",
      "[nltk_data]    |     ..\n",
      "[nltk_data]    |   Package pros_cons is already up-to-date!\n",
      "[nltk_data]    | Downloading package ptb to\n",
      "[nltk_data]    |     C:\\Users\\rajathadri_as\\AppData\\Roaming\\nltk_data.\n",
      "[nltk_data]    |     ..\n",
      "[nltk_data]    |   Package ptb is already up-to-date!\n",
      "[nltk_data]    | Downloading package punkt to\n",
      "[nltk_data]    |     C:\\Users\\rajathadri_as\\AppData\\Roaming\\nltk_data.\n",
      "[nltk_data]    |     ..\n",
      "[nltk_data]    |   Package punkt is already up-to-date!\n",
      "[nltk_data]    | Downloading package qc to\n",
      "[nltk_data]    |     C:\\Users\\rajathadri_as\\AppData\\Roaming\\nltk_data.\n",
      "[nltk_data]    |     ..\n",
      "[nltk_data]    |   Package qc is already up-to-date!\n",
      "[nltk_data]    | Downloading package reuters to\n",
      "[nltk_data]    |     C:\\Users\\rajathadri_as\\AppData\\Roaming\\nltk_data.\n",
      "[nltk_data]    |     ..\n",
      "[nltk_data]    |   Package reuters is already up-to-date!\n",
      "[nltk_data]    | Downloading package rslp to\n",
      "[nltk_data]    |     C:\\Users\\rajathadri_as\\AppData\\Roaming\\nltk_data.\n",
      "[nltk_data]    |     ..\n",
      "[nltk_data]    |   Package rslp is already up-to-date!\n",
      "[nltk_data]    | Downloading package rte to\n",
      "[nltk_data]    |     C:\\Users\\rajathadri_as\\AppData\\Roaming\\nltk_data.\n",
      "[nltk_data]    |     ..\n",
      "[nltk_data]    |   Package rte is already up-to-date!\n",
      "[nltk_data]    | Downloading package sample_grammars to\n",
      "[nltk_data]    |     C:\\Users\\rajathadri_as\\AppData\\Roaming\\nltk_data.\n",
      "[nltk_data]    |     ..\n",
      "[nltk_data]    |   Package sample_grammars is already up-to-date!\n",
      "[nltk_data]    | Downloading package semcor to\n",
      "[nltk_data]    |     C:\\Users\\rajathadri_as\\AppData\\Roaming\\nltk_data.\n",
      "[nltk_data]    |     ..\n",
      "[nltk_data]    |   Package semcor is already up-to-date!\n",
      "[nltk_data]    | Downloading package senseval to\n",
      "[nltk_data]    |     C:\\Users\\rajathadri_as\\AppData\\Roaming\\nltk_data.\n",
      "[nltk_data]    |     ..\n",
      "[nltk_data]    |   Package senseval is already up-to-date!\n",
      "[nltk_data]    | Downloading package sentence_polarity to\n",
      "[nltk_data]    |     C:\\Users\\rajathadri_as\\AppData\\Roaming\\nltk_data.\n",
      "[nltk_data]    |     ..\n",
      "[nltk_data]    |   Package sentence_polarity is already up-to-date!\n",
      "[nltk_data]    | Downloading package sentiwordnet to\n",
      "[nltk_data]    |     C:\\Users\\rajathadri_as\\AppData\\Roaming\\nltk_data.\n",
      "[nltk_data]    |     ..\n",
      "[nltk_data]    |   Package sentiwordnet is already up-to-date!\n",
      "[nltk_data]    | Downloading package shakespeare to\n",
      "[nltk_data]    |     C:\\Users\\rajathadri_as\\AppData\\Roaming\\nltk_data.\n",
      "[nltk_data]    |     ..\n",
      "[nltk_data]    |   Package shakespeare is already up-to-date!\n",
      "[nltk_data]    | Downloading package sinica_treebank to\n",
      "[nltk_data]    |     C:\\Users\\rajathadri_as\\AppData\\Roaming\\nltk_data.\n",
      "[nltk_data]    |     ..\n",
      "[nltk_data]    |   Package sinica_treebank is already up-to-date!\n",
      "[nltk_data]    | Downloading package smultron to\n",
      "[nltk_data]    |     C:\\Users\\rajathadri_as\\AppData\\Roaming\\nltk_data.\n",
      "[nltk_data]    |     ..\n",
      "[nltk_data]    |   Package smultron is already up-to-date!\n",
      "[nltk_data]    | Downloading package snowball_data to\n",
      "[nltk_data]    |     C:\\Users\\rajathadri_as\\AppData\\Roaming\\nltk_data.\n",
      "[nltk_data]    |     ..\n",
      "[nltk_data]    |   Package snowball_data is already up-to-date!\n",
      "[nltk_data]    | Downloading package spanish_grammars to\n",
      "[nltk_data]    |     C:\\Users\\rajathadri_as\\AppData\\Roaming\\nltk_data.\n",
      "[nltk_data]    |     ..\n",
      "[nltk_data]    |   Package spanish_grammars is already up-to-date!\n",
      "[nltk_data]    | Downloading package state_union to\n",
      "[nltk_data]    |     C:\\Users\\rajathadri_as\\AppData\\Roaming\\nltk_data.\n",
      "[nltk_data]    |     ..\n",
      "[nltk_data]    |   Package state_union is already up-to-date!\n",
      "[nltk_data]    | Downloading package stopwords to\n",
      "[nltk_data]    |     C:\\Users\\rajathadri_as\\AppData\\Roaming\\nltk_data.\n",
      "[nltk_data]    |     ..\n",
      "[nltk_data]    |   Package stopwords is already up-to-date!\n",
      "[nltk_data]    | Downloading package subjectivity to\n",
      "[nltk_data]    |     C:\\Users\\rajathadri_as\\AppData\\Roaming\\nltk_data.\n",
      "[nltk_data]    |     ..\n",
      "[nltk_data]    |   Package subjectivity is already up-to-date!\n",
      "[nltk_data]    | Downloading package swadesh to\n",
      "[nltk_data]    |     C:\\Users\\rajathadri_as\\AppData\\Roaming\\nltk_data.\n",
      "[nltk_data]    |     ..\n",
      "[nltk_data]    |   Package swadesh is already up-to-date!\n",
      "[nltk_data]    | Downloading package switchboard to\n",
      "[nltk_data]    |     C:\\Users\\rajathadri_as\\AppData\\Roaming\\nltk_data.\n",
      "[nltk_data]    |     ..\n",
      "[nltk_data]    |   Package switchboard is already up-to-date!\n",
      "[nltk_data]    | Downloading package tagsets to\n",
      "[nltk_data]    |     C:\\Users\\rajathadri_as\\AppData\\Roaming\\nltk_data.\n",
      "[nltk_data]    |     ..\n",
      "[nltk_data]    |   Package tagsets is already up-to-date!\n",
      "[nltk_data]    | Downloading package timit to\n",
      "[nltk_data]    |     C:\\Users\\rajathadri_as\\AppData\\Roaming\\nltk_data.\n",
      "[nltk_data]    |     ..\n",
      "[nltk_data]    |   Package timit is already up-to-date!\n",
      "[nltk_data]    | Downloading package toolbox to\n",
      "[nltk_data]    |     C:\\Users\\rajathadri_as\\AppData\\Roaming\\nltk_data.\n",
      "[nltk_data]    |     ..\n",
      "[nltk_data]    |   Package toolbox is already up-to-date!\n",
      "[nltk_data]    | Downloading package treebank to\n",
      "[nltk_data]    |     C:\\Users\\rajathadri_as\\AppData\\Roaming\\nltk_data.\n",
      "[nltk_data]    |     ..\n",
      "[nltk_data]    |   Package treebank is already up-to-date!\n",
      "[nltk_data]    | Downloading package twitter_samples to\n",
      "[nltk_data]    |     C:\\Users\\rajathadri_as\\AppData\\Roaming\\nltk_data.\n",
      "[nltk_data]    |     ..\n",
      "[nltk_data]    |   Package twitter_samples is already up-to-date!\n",
      "[nltk_data]    | Downloading package udhr to\n",
      "[nltk_data]    |     C:\\Users\\rajathadri_as\\AppData\\Roaming\\nltk_data.\n",
      "[nltk_data]    |     ..\n",
      "[nltk_data]    |   Package udhr is already up-to-date!\n",
      "[nltk_data]    | Downloading package udhr2 to\n",
      "[nltk_data]    |     C:\\Users\\rajathadri_as\\AppData\\Roaming\\nltk_data.\n",
      "[nltk_data]    |     ..\n",
      "[nltk_data]    |   Package udhr2 is already up-to-date!\n",
      "[nltk_data]    | Downloading package unicode_samples to\n",
      "[nltk_data]    |     C:\\Users\\rajathadri_as\\AppData\\Roaming\\nltk_data.\n",
      "[nltk_data]    |     ..\n",
      "[nltk_data]    |   Package unicode_samples is already up-to-date!\n",
      "[nltk_data]    | Downloading package universal_tagset to\n",
      "[nltk_data]    |     C:\\Users\\rajathadri_as\\AppData\\Roaming\\nltk_data.\n",
      "[nltk_data]    |     ..\n",
      "[nltk_data]    |   Package universal_tagset is already up-to-date!\n",
      "[nltk_data]    | Downloading package universal_treebanks_v20 to\n",
      "[nltk_data]    |     C:\\Users\\rajathadri_as\\AppData\\Roaming\\nltk_data.\n",
      "[nltk_data]    |     ..\n",
      "[nltk_data]    |   Package universal_treebanks_v20 is already up-to-\n",
      "[nltk_data]    |       date!\n",
      "[nltk_data]    | Downloading package vader_lexicon to\n",
      "[nltk_data]    |     C:\\Users\\rajathadri_as\\AppData\\Roaming\\nltk_data.\n",
      "[nltk_data]    |     ..\n",
      "[nltk_data]    |   Package vader_lexicon is already up-to-date!\n",
      "[nltk_data]    | Downloading package verbnet to\n",
      "[nltk_data]    |     C:\\Users\\rajathadri_as\\AppData\\Roaming\\nltk_data.\n",
      "[nltk_data]    |     ..\n",
      "[nltk_data]    |   Package verbnet is already up-to-date!\n",
      "[nltk_data]    | Downloading package verbnet3 to\n",
      "[nltk_data]    |     C:\\Users\\rajathadri_as\\AppData\\Roaming\\nltk_data.\n",
      "[nltk_data]    |     ..\n",
      "[nltk_data]    |   Package verbnet3 is already up-to-date!\n",
      "[nltk_data]    | Downloading package webtext to\n",
      "[nltk_data]    |     C:\\Users\\rajathadri_as\\AppData\\Roaming\\nltk_data.\n",
      "[nltk_data]    |     ..\n",
      "[nltk_data]    |   Package webtext is already up-to-date!\n",
      "[nltk_data]    | Downloading package wmt15_eval to\n",
      "[nltk_data]    |     C:\\Users\\rajathadri_as\\AppData\\Roaming\\nltk_data.\n",
      "[nltk_data]    |     ..\n",
      "[nltk_data]    |   Package wmt15_eval is already up-to-date!\n",
      "[nltk_data]    | Downloading package word2vec_sample to\n",
      "[nltk_data]    |     C:\\Users\\rajathadri_as\\AppData\\Roaming\\nltk_data.\n",
      "[nltk_data]    |     ..\n",
      "[nltk_data]    |   Package word2vec_sample is already up-to-date!\n",
      "[nltk_data]    | Downloading package wordnet to\n",
      "[nltk_data]    |     C:\\Users\\rajathadri_as\\AppData\\Roaming\\nltk_data.\n",
      "[nltk_data]    |     ..\n",
      "[nltk_data]    |   Package wordnet is already up-to-date!\n",
      "[nltk_data]    | Downloading package wordnet2021 to\n",
      "[nltk_data]    |     C:\\Users\\rajathadri_as\\AppData\\Roaming\\nltk_data.\n",
      "[nltk_data]    |     ..\n",
      "[nltk_data]    |   Package wordnet2021 is already up-to-date!\n",
      "[nltk_data]    | Downloading package wordnet2022 to\n",
      "[nltk_data]    |     C:\\Users\\rajathadri_as\\AppData\\Roaming\\nltk_data.\n",
      "[nltk_data]    |     ..\n",
      "[nltk_data]    |   Package wordnet2022 is already up-to-date!\n",
      "[nltk_data]    | Downloading package wordnet31 to\n",
      "[nltk_data]    |     C:\\Users\\rajathadri_as\\AppData\\Roaming\\nltk_data.\n",
      "[nltk_data]    |     ..\n",
      "[nltk_data]    |   Package wordnet31 is already up-to-date!\n",
      "[nltk_data]    | Downloading package wordnet_ic to\n",
      "[nltk_data]    |     C:\\Users\\rajathadri_as\\AppData\\Roaming\\nltk_data.\n",
      "[nltk_data]    |     ..\n",
      "[nltk_data]    |   Package wordnet_ic is already up-to-date!\n",
      "[nltk_data]    | Downloading package words to\n",
      "[nltk_data]    |     C:\\Users\\rajathadri_as\\AppData\\Roaming\\nltk_data.\n",
      "[nltk_data]    |     ..\n",
      "[nltk_data]    |   Package words is already up-to-date!\n",
      "[nltk_data]    | Downloading package ycoe to\n",
      "[nltk_data]    |     C:\\Users\\rajathadri_as\\AppData\\Roaming\\nltk_data.\n",
      "[nltk_data]    |     ..\n",
      "[nltk_data]    |   Package ycoe is already up-to-date!\n",
      "[nltk_data]    | \n",
      "[nltk_data]  Done downloading collection all\n"
     ]
    },
    {
     "data": {
      "text/plain": [
       "True"
      ]
     },
     "execution_count": 113,
     "metadata": {},
     "output_type": "execute_result"
    }
   ],
   "source": [
    "import nltk\n",
    "nltk.download('all')"
   ]
  },
  {
   "cell_type": "code",
   "execution_count": 114,
   "id": "37cd2334",
   "metadata": {},
   "outputs": [],
   "source": [
    "# create a list text\n",
    "text = list(df['title'])"
   ]
  },
  {
   "cell_type": "code",
   "execution_count": 115,
   "id": "cbde7fcb",
   "metadata": {},
   "outputs": [],
   "source": [
    "# preprocessing loop\n",
    "import re\n",
    "from nltk.corpus import stopwords\n",
    "from nltk.stem import WordNetLemmatizer\n",
    "lemmatizer = WordNetLemmatizer()"
   ]
  },
  {
   "cell_type": "code",
   "execution_count": 116,
   "id": "914bd99d",
   "metadata": {},
   "outputs": [],
   "source": [
    "corpus = []\n",
    "\n",
    "for i in range(len(text)):\n",
    "    r = re.sub('[^a-zA-Z]', ' ', text[i])\n",
    "    r = r.lower()\n",
    "    r = r.split()\n",
    "    r = [word for word in r if word not in stopwords.words('english')]\n",
    "    r = [lemmatizer.lemmatize(word) for word in r]\n",
    "    r = ' '.join(r)\n",
    "    corpus.append(r)"
   ]
  },
  {
   "cell_type": "code",
   "execution_count": 117,
   "id": "fbf7eea5",
   "metadata": {
    "scrolled": true
   },
   "outputs": [
    {
     "data": {
      "text/plain": [
       "['citroen c whit',\n",
       " 'hand mixer brand new open',\n",
       " 'mahogany display cabinet',\n",
       " 'technics mk x rane mixer speaker headphone full dj set',\n",
       " 'mega blok castl',\n",
       " 'shed fence timber deck',\n",
       " 'exclusive caravan hire weymouth',\n",
       " 'child play hous',\n",
       " 'care support worker hastings st leonard f p w e ev',\n",
       " 'atw clear',\n",
       " 'atw clear',\n",
       " 'diana dildo toy party everyday',\n",
       " 'bedsit room w',\n",
       " 'louis tomlinson x factor judge collector doll brand new unopen',\n",
       " 'hot brenda brazilian new brighton party toy g f',\n",
       " 'shabby chic paint grandfather chair couri',\n",
       " 'independent sexy christine tun line back holiday',\n",
       " 'diana new best party brighton',\n",
       " 'full service naughti',\n",
       " 'dalia natural full servic',\n",
       " 'marine fish tank oak cabinet fish cor',\n",
       " 'solid pine drawer wax dress table stool couri',\n",
       " 'set arcoroc continental style glass metal hold',\n",
       " 'vintage royal doulton bunnykins cricket beach pl',\n",
       " 'box golf put set',\n",
       " 'old firework memorabilia',\n",
       " 'large collector vintage courvoisier star luxe cognac bottl',\n",
       " 'nautical oil canva',\n",
       " 'set stylish red silver glass',\n",
       " 'solid pine farmhouse table chair wax turn leg couri',\n",
       " 'four small stain glass shad',\n",
       " 'salt pepper pot mexico ashtray',\n",
       " 'single pink diamante frame mattress',\n",
       " 'double crystal memory set',\n",
       " 'double crown',\n",
       " 'double westminst',\n",
       " 'double budget',\n",
       " 'single budget',\n",
       " 'triple sleep',\n",
       " 'hayley pine bunk b',\n",
       " 'ottawa piece set',\n",
       " 'candy corn',\n",
       " 'handmade wooden florist cart',\n",
       " 'four jaques bowl',\n",
       " 'tina piece chocolate cream set',\n",
       " 'white tina piece set',\n",
       " 'vintage leather cover wooden box',\n",
       " 'pair harry hall child rid boot',\n",
       " 'renault modu',\n",
       " 'mercedes benz sl class',\n",
       " 'double apollo set',\n",
       " 'single apollo set',\n",
       " 'king size apollo set',\n",
       " 'temptation escort',\n",
       " 'brand new factory seal single oxford set',\n",
       " 'brand new factory seal double oxford set',\n",
       " 'brand new factory seal king size oxford set',\n",
       " 'vintage sew box superb condition couri',\n",
       " 'lovely shabby chic rock chair couri',\n",
       " 'small shabby chic table paint annie sloan dark wax couri',\n",
       " 'louis style coffee table glass insert lovely condition couri',\n",
       " 'retro dress table annie sloan couri',\n",
       " 'tall heavy solid bookcase shelf couri',\n",
       " 'solid pine dresser quality make couri',\n",
       " 'lovely wax pine wardrobe large drawer light pine colour couri',\n",
       " 'solid pine double wardrobe large drawer wax quality item couri',\n",
       " 'kingsize york set',\n",
       " 'temptation escort',\n",
       " 'temptation escort',\n",
       " 'belford pottery pot va',\n",
       " 'new new lady hastings venezuela',\n",
       " 'single spring slat metal fram',\n",
       " 'diana back love party day nite anal dom role play',\n",
       " 'x oak wheelback chair solid heavy couri',\n",
       " 'gg busty tropical beauty leith',\n",
       " 'wooden fire surround fireguard',\n",
       " 'chest draw',\n",
       " 'hot thai linley',\n",
       " 'abby escort recruit target earn week',\n",
       " 'bosch wash machin',\n",
       " 'diana anal lover party new brighton',\n",
       " 'exercise bike reebok z',\n",
       " 'bruna back g f e toy party day nit',\n",
       " 'brenda hot brasilian party toy brighton mild dom',\n",
       " 'crown shorty b',\n",
       " 'selection solid pine bedside table various',\n",
       " 'karol best party brighton full servic',\n",
       " 'quality solid wardrobe large drawer couri',\n",
       " 'samantha new party iladie n brighton heav',\n",
       " 'brand new double bakersfield b',\n",
       " 'ottowa piece bedroom packag',\n",
       " 'alabama double storage b',\n",
       " 'brookyln silver metal king',\n",
       " 'duo karol sam party full service brighton',\n",
       " 'arizona day bed whit',\n",
       " 'atlanta double bedstead',\n",
       " 'morgan single metal bedfram',\n",
       " 'door black walnut wardrobe mirror',\n",
       " 'double black lincoln tv b',\n",
       " 'arizona day b',\n",
       " 'double sparkle metal bedframe black',\n",
       " 'new model swift bordeaux exclusive static caravan somerset',\n",
       " 'second hand kitchen',\n",
       " 'double mayfair bedstead',\n",
       " 'miami door drawer wardrob',\n",
       " 'ottowa boy desk',\n",
       " 'sexy monique hot brazilian colchest',\n",
       " 'double michigan gas lift storage bedstead',\n",
       " 'double avery luxury chenille bedstead',\n",
       " 'novaro bunk b',\n",
       " 'byron black grey',\n",
       " 'double phoenix metal bedfram',\n",
       " 'memphis day bed trundle b',\n",
       " 'montreal mid sleep',\n",
       " 'solid pine dresser ft quality make lot storage couri',\n",
       " 'luciana luxury chenille king bedstead',\n",
       " 'coorado double drawer storage bedstead',\n",
       " 'sexy jasmine best body massag',\n",
       " 'mellissa pine bunk b',\n",
       " 'volvo v',\n",
       " 'double bamboo divan bed base mattress',\n",
       " 'solid pine coffee table wax light colour chunky couri',\n",
       " 'seattle double side gas lift bedstead',\n",
       " 'single crystal memory set',\n",
       " 'sexy petite size spanish se orita pert c bust',\n",
       " 'hotpoint future fridge freezer rf wp',\n",
       " 'morphy richards kettl',\n",
       " 'atlas lakeland static caravan sit doniford bay holiday park somerset',\n",
       " 'double everest divan set',\n",
       " 'double elite pocket spring divan base mattress',\n",
       " 'elite divan bed inch pocket spring mattress',\n",
       " 'double red leather crystal memory set base mattress headboard',\n",
       " 'beautiful wax solid pine wardrobe large drawer couri',\n",
       " 'bed box singl',\n",
       " 'delta wardrobe chest bedsid',\n",
       " 'silver crush velvet sofa',\n",
       " 'brand new double regency b',\n",
       " 'oak white piec wardrobe set',\n",
       " 'bakerfield double front lift gas bed inch semi orthapedic mattress',\n",
       " 'ottawa piece wardrobe set oak whit',\n",
       " 'yazmin grey charco',\n",
       " 'oakland sideboard',\n",
       " 'mellissa pine bunk bed mattress',\n",
       " 'sofi',\n",
       " 'sofi',\n",
       " 'soho',\n",
       " 'sussex pine online top quality use pine furniture free local deliveri',\n",
       " 'bed council house n wale exch bed lancaster carlisle scotland',\n",
       " 'static caravan somerset willerby herald gold bedroom',\n",
       " 'los angeles bookcase draw',\n",
       " 'los angeles display unit',\n",
       " 'byron sofa',\n",
       " 'amy sofa',\n",
       " 'twin axle trail',\n",
       " 'bed council house n wale exchange bed lancaster carlisle scotland',\n",
       " 'family caravan doniford bay holiday park somerset bedroom',\n",
       " 'corgi classic original omnibus compani',\n",
       " 'indesit wil wash machin',\n",
       " 'electrolux fridge good condit',\n",
       " 'los angeles bookcase draw',\n",
       " 'los angeles display unit',\n",
       " 'single lucky dip ba',\n",
       " 'kimberley sofa b',\n",
       " 'phil ted double pushchair complete set',\n",
       " 'walnut black gloss piec',\n",
       " 'white oak gloss piece wardrobe set',\n",
       " 'delta wardrobe chest bedside set',\n",
       " 'silentnight single duvet',\n",
       " 'silentnight double duvet',\n",
       " 'teal crush velvet hand make bed diamante doubl',\n",
       " 'myrabell sexy swindon',\n",
       " 'beautiful solid pine chest drawer couri',\n",
       " 'vintage blonde ercol piece suit chair twin sofa couri',\n",
       " 'orlando pocket spring set singl',\n",
       " 'orlando pocket spring mattress singl',\n",
       " 'single crystal memory set non storag',\n",
       " 'single crystal memory set draw',\n",
       " 'single crystal memory set slide storag',\n",
       " 'double crystal memory set non storag',\n",
       " 'buy pine furnitur',\n",
       " 'new quality pine drawer bedside table import flat pack couri',\n",
       " 'new quality pine drawer bedside table import flat pack couri',\n",
       " 'new quality pine chest drawer flat pack import couri',\n",
       " 'new large quality low pine chest couri',\n",
       " 'new large quality pine chest flat pack import couri',\n",
       " 'brand new devon metal bed frame budget mattress',\n",
       " 'brand new foot budget divan matress',\n",
       " 'brand new foot apollo divan bed mattress',\n",
       " 'brand new foot winchester divan bed mattress',\n",
       " 'super king size divan bed memory mattress heabdoard',\n",
       " 'fully assemble wardrobe black',\n",
       " 'tina white wardrobe fully assembl',\n",
       " 'tina beech wardrobe fully assembl',\n",
       " 'fully assemble black chest drawer tina',\n",
       " 'white wash pine bunk bed mattress new',\n",
       " 'hayley pine bunk bed mattress new',\n",
       " 'heavenly body massage parlour',\n",
       " 'pine bunk bed white wash mattress',\n",
       " 'double budget set double black headboard',\n",
       " 'single budget set single headboard',\n",
       " 'white tina set',\n",
       " 'black tina set',\n",
       " 'ercol vintage extendable table courier free local deliveri',\n",
       " 'colour long life haologen light',\n",
       " 'single duchess bedfram',\n",
       " 'double duchess bedfram',\n",
       " 'king duchess bedfram',\n",
       " 'super king size duchess bedfram',\n",
       " 'single venice bedfram',\n",
       " 'double venice bedfram',\n",
       " 'king venice bedfram',\n",
       " 'super king size venice bedfram',\n",
       " 'double saffron handmade bedfram',\n",
       " 'king saffron handmade bedfram',\n",
       " 'new quality solid pine wardrobe drawer import flat pack couri',\n",
       " 'new quality pine chest drawer flat pack import couri',\n",
       " 'retro drink cabinet solid teak couri',\n",
       " 'double westminster set',\n",
       " 'black monroe table chair',\n",
       " 'black monroe table chair',\n",
       " 'ashleigh table chair',\n",
       " 'ashleigh table chair',\n",
       " 'ashleigh table chair',\n",
       " 'ashford table chair',\n",
       " 'ashford table chair',\n",
       " 'ashford table chair',\n",
       " 'quality make solid pine wax wardrobe shelf couri',\n",
       " 'sexy little minx new birm',\n",
       " 'naughty kitty cat wanna play servic',\n",
       " 'new new new naughty blonde bombshel',\n",
       " 'birmingham outcall babe new new new',\n",
       " 'outcall escort house hotel visit',\n",
       " 'beautiful outcall girl available tonight',\n",
       " 'naughty outcall escort available tonight',\n",
       " 'hello boy new girl town xx',\n",
       " 'large solid pine desk quality make solid drawer couri',\n",
       " 'hayley pine bunk bed fram',\n",
       " 'hayley pine bunk bed mattress',\n",
       " 'lenora round',\n",
       " 'mellisa pine bunk fram',\n",
       " 'melissa bunk bed mattress',\n",
       " 'hayley pine bunk bed white wash mattress',\n",
       " 'manhatten double tv b',\n",
       " 'manhatten king tv b',\n",
       " 'morton double tv b',\n",
       " 'morton king tv b',\n",
       " 'bmw x xdrive',\n",
       " 'thai candy massag',\n",
       " 'antique pine wardrobe oval mirror drawer couri',\n",
       " 'dropleaf gateleg table large extend superb condition couri',\n",
       " 'bed swift bordeaux static caravan sit rockley park dorset',\n",
       " 'pair barn owl',\n",
       " 'volkswagen beetl',\n",
       " 'ft quality solid pine dresser wax finish couri',\n",
       " 'summer house garden room',\n",
       " 'bookcase quality make pine wax drawer couri',\n",
       " 'solid pine corner unit shelf wax finish lovely condition couri',\n",
       " 'buy vintage furniture cash pay vintage furnitur',\n",
       " 'phone',\n",
       " 'costa blanca spain grind floor apartment sm',\n",
       " 'quality make solid pine farmhouse table stool chair set courier free local deliveri',\n",
       " 'solid pine wax bookcase quality make tongue groove couri',\n",
       " 'new oriental girl kenton harrow harow wealdstone wembley area',\n",
       " 'oriental full body body massage sensual oil massage kenton harrow harrow wealdstone wembley area',\n",
       " 'carden boot last wks oct',\n",
       " 'top quality solid pine triple wardrobe shelf drawer wax couri',\n",
       " 'waitress waiter bar staff need nice country pub',\n",
       " 'x quality make solid pine bedside table drawer courier free local deliveri',\n",
       " 'arvor fish boat',\n",
       " 'rustic drawer solid pine dress table desk top quality couri',\n",
       " 'nt nose sideburn trimmer set',\n",
       " 'lady want join team heavenly bodi',\n",
       " 'julia new girl maidston',\n",
       " 'mature gentleman',\n",
       " 'london escort',\n",
       " 'three seater sofa sal',\n",
       " 'nice office chair sal',\n",
       " 'coffe table sal',\n",
       " 'russian glamour model carmen',\n",
       " 'sweet sexy party escort call u',\n",
       " 'hot sexy mexican baby new latin town',\n",
       " 'logic fridge freez',\n",
       " 'pub cafe chair heavy sturdy courier free local deliveri',\n",
       " 'blomberg',\n",
       " 'pink duvet set',\n",
       " 'quality wax sell pine dress table drawer couri',\n",
       " 'beko kg wash machine black',\n",
       " 'v large solid pine chest drawer wax pine rustic couri',\n",
       " 'quality make f solid pine sideboard stun colour wax finish couri',\n",
       " 'x cafe bar chair solid sturdy wobble courier free local deliveri',\n",
       " 'new camberley',\n",
       " 'sofa',\n",
       " 'bespeak drawer bedroom chest',\n",
       " 'farmhouse chair include carver sturdy couri',\n",
       " 'x wax farmhouse beech carver chair light colour couri',\n",
       " 'quality make solid pine double wardrobe large drawer wax light colour couri',\n",
       " 'stun short haired chihuahua puppi',\n",
       " 'chest draw',\n",
       " 'hotpoint electric stainless steel cook',\n",
       " 'top quality escort model harrow',\n",
       " 'urgent home need staffy cross spring',\n",
       " 'busty english milf',\n",
       " 'sexy petite victoria south america',\n",
       " 'hi lexi slim british escort',\n",
       " 'english sultry scarlet',\n",
       " 'lucy sexy wild gf',\n",
       " 'young mix race escort avaiable outcal',\n",
       " 'busty natural beauty want g',\n",
       " 'cheapest dg ch static caravan',\n",
       " 'beautiful blonde leggy glamorous brightoncallgirls com',\n",
       " 'certain give look brightoncallgirls com',\n",
       " 'tone size waist long brunette hair soft brown cum brightoncallgirls com',\n",
       " 'adult service woman',\n",
       " 'pre luxury lodge sale winchelsea sand near camber sussex',\n",
       " 'toyota granvia td auto elevate roof rear conversion x single bed layout',\n",
       " 'peugeot partner hdi ith zooom mobile german berth convers',\n",
       " 'stressless ekornes windsor leather recline chair',\n",
       " 'single divan bed luxury rest assure royal crown ft',\n",
       " 'black real leather suit',\n",
       " 'floor stand lamp',\n",
       " 'table lamp',\n",
       " 'v bowl',\n",
       " 'green parasol',\n",
       " 'ford transit hymer eriba lhd motorhome garage version c good extra',\n",
       " 'homecare support worker care assistant care worker carer hca community care worker dom',\n",
       " 'homecare support worker care assistant care worker carer hca community care worker dom',\n",
       " 'homecare support worker care assistant care worker carer hca community care worker dom',\n",
       " 'homecare support worker care assistant care worker carer hca community care worker dom',\n",
       " 'samsung galaxy edg',\n",
       " 'homecare support worker care assistant care worker carer hca community care worker dom',\n",
       " 'homecare support worker care assistant care worker carer hca community care worker dom',\n",
       " 'homecare support worker care assistant care worker carer hca community care worker dom',\n",
       " 'homecare support worker care assistant care worker carer hca community care worker dom',\n",
       " 'homecare support worker care assistant care worker carer hca community care worker dom',\n",
       " 'homecare support worker care assistant care worker carer hca community care worker dom',\n",
       " 'homecare support worker care assistant care worker carer hca community care worker dom',\n",
       " 'homecare support worker care assistant care worker carer hca community care worker dom',\n",
       " 'homecare support worker care assistant care worker carer hca community care worker dom',\n",
       " 'homecare support worker care assistant care worker carer hca community care worker dom',\n",
       " 'homecare support worker care assistant care worker carer hca community care worker dom',\n",
       " 'homecare support worker care assistant care worker carer hca community care worker dom',\n",
       " 'homecare support worker care assistant care worker carer hca community care worker dom',\n",
       " 'homecare support worker care assistant care worker carer hca community care worker dom',\n",
       " 'omecare support worker care assistant care worker carer hca community care worker domici',\n",
       " 'omecare support worker care assistant care worker carer hca community care worker domici',\n",
       " 'lovely quality make pine wardrobe wax finish light colour drawer courier free loc',\n",
       " 'homecare support worker care assistant care worker carer hca community care worker dom',\n",
       " 'homecare support worker care assistant care worker carer hca community care worker dom',\n",
       " 'homecare support worker care assistant care worker carer hca community care worker dom',\n",
       " 'homecare support worker care assistant care worker carer hca community care worker dom',\n",
       " 'homecare support worker care assistant care worker carer hca community care worker dom',\n",
       " 'homecare support worker care assistant care worker carer hca community care worker dom',\n",
       " 'x rustic quality make bedside table wax finish courier free local deliveri',\n",
       " 'top quality large pine chest drawer rustic couri',\n",
       " 'farmhouse chair include carver sturdy couri',\n",
       " 'fiddleback pine chair sturdy solid wobble courier free local deliveri',\n",
       " 'scalextr',\n",
       " 'look girl puppi',\n",
       " 'bmw seri',\n",
       " 'elegant french louis dress table adjustable mirror glass couri',\n",
       " 'elegant vintage french louis style drawer chest couri',\n",
       " 'year old man woman',\n",
       " 'french louis dress table drawer chest set couri',\n",
       " 'volvo c r design',\n",
       " 'hotpoint fridge freez',\n",
       " 'whirlpool fridge freez',\n",
       " 'basic fridge freez',\n",
       " 'skoda octavia tdi se estate facelift model',\n",
       " 'mini fridge freez',\n",
       " 'samsung fridge freez',\n",
       " 'bosch fridge freez',\n",
       " 'bosch large fridge freez',\n",
       " 'hotpoint fridge freez',\n",
       " 'sussex pine online top quality use pine furniture uk wide delivery free local deliveri',\n",
       " 'tv stand',\n",
       " 'mobility scoot',\n",
       " 'black grey sideboard',\n",
       " 'alfie cockapoo rehom',\n",
       " 'frame pictur',\n",
       " 'honda integra',\n",
       " 'din table chair',\n",
       " 'hello boy new girl town',\n",
       " 'high quality good condition seater sofa cushion case machine washable pick',\n",
       " 'door drawer wardrobe perfect condition pick',\n",
       " 'vauxhall corsa sal',\n",
       " 'pound',\n",
       " 'rustic foot pine welsh dresser great paint project couri',\n",
       " 'solid pine bedroom furniture set wax finish light rustic look couri',\n",
       " 'pine chest drawer total light colour couri',\n",
       " 'lovely black fluffy cat sal',\n",
       " 'elysium agency sexiest babe area blow mind way',\n",
       " 'large solid pine blanket box lot storage courier free local deliveri',\n",
       " 'vintage ercol rock chair rustic great paint project couri',\n",
       " 'homecare support worker care assistant care worker carer hca community care worker dom',\n",
       " 'rustic paint farmhouse dropleaf pine table couri',\n",
       " 'solid pine table light colour sturdy courier free local deliveri',\n",
       " 'x ercol windsor chair couri',\n",
       " 'ft farmhouse solid pine table chair wax light colour couri',\n",
       " 'bedroom flat cadogan square chelsea london holiday let',\n",
       " 'br ashford court gladstone park holiday let',\n",
       " 'bedroom rental soho ln holiday let',\n",
       " 'bedroom rental chelsea ln holiday let',\n",
       " 'bedroom flat chelsea london edith grove fulham road london holiday let',\n",
       " 'bedroom flat gatliff road ebury bridge road london holiday let',\n",
       " 'alcove studio gatliff road london',\n",
       " 'bedroom apartment rental lisson grove st john wood regent park holiday let',\n",
       " 'bedroom rental notting hill holiday let',\n",
       " 'sell two white xbox control',\n",
       " 'need house rent marlborough wilshir',\n",
       " 'honda',\n",
       " 'sofa',\n",
       " 'tv corner unit',\n",
       " 'pine unit',\n",
       " 'coffe',\n",
       " 'din table chair',\n",
       " 'blue cover black samsung galxay ac',\n",
       " 'black blue shark army watch sal',\n",
       " 'iam sell yugioh card sale good shiny card',\n",
       " 'ft old ercol refectory table seat look amaze sand couri',\n",
       " 'hello boy new girl town',\n",
       " 'new without tag animal print heel shoe',\n",
       " 'male available adult massage gentleman london home counti',\n",
       " 'undercounter frezz',\n",
       " 'best new party girl avail',\n",
       " 'high class girl available rotherham',\n",
       " 'naughty new party girl available tonight outcal',\n",
       " 'pleasure honey recruit',\n",
       " 'two kitten free good hom',\n",
       " 'dvd storage tower mahogani',\n",
       " 'stun italian bedroom set',\n",
       " 'chestnut brown large seater leather sofa',\n",
       " 'ford galaxy seater diesel automat',\n",
       " 'german shepherd puppi',\n",
       " 'farmhouse solid pine extendable table chair courier free local deliveri',\n",
       " 'homecare support worker care assistant care worker carer hca community care worker dom',\n",
       " 'homecare support worker care assistant care worker carer hca community care worker dom',\n",
       " 'solid wood chair incl carver lovely condition couri',\n",
       " 'queen anne style ft exten table chair incl carver couri',\n",
       " 'rock chair solid beech heavy sturdy great paint couri',\n",
       " 'rock chair solid beech lovely condition many mark couri',\n",
       " 'cute little cupboard tv unit solid pine wax couri',\n",
       " 'rustic cupboard chest drawer solid pine paint project couri',\n",
       " 'solid pine rustic sideboard tongue groove quality make couri',\n",
       " 'bnib adidas stan smith primeknit',\n",
       " 'solid pine chunky coffee table wax light colour couri',\n",
       " 'sony dvd scart boost',\n",
       " 'lead lenser r accessori',\n",
       " 'tilley multicam cm',\n",
       " 'road id elite band badg',\n",
       " 'oyster pram',\n",
       " 'receptionist',\n",
       " 'free playboy bisexual luton',\n",
       " 'log saw hors',\n",
       " 'gateleg table chair',\n",
       " 'miele wash machin',\n",
       " 'side side fridge freez',\n",
       " 'ford ka',\n",
       " 'solid pine fiddleback chair superb condition couri',\n",
       " 'solid pine bedside table paint light green couri',\n",
       " 'pine kitchen furnitur',\n",
       " 'ercol chair vintage couri',\n",
       " 'philip host trolly amaze condition couri',\n",
       " 'rockin rollin great vinyl lp',\n",
       " 'solid pine farmhouse kitchen table chair incl carver ft couri',\n",
       " 'g plan extendable table chair inc carver teak couri',\n",
       " 'cherry sweet hot sexy thai lady first time worth',\n",
       " 'free delivery dylan fabric corner sofa sale express deliveri',\n",
       " 'brand new doubleking leather storage bed frame availabl',\n",
       " 'electric cooker grill oven',\n",
       " 'beko fridg',\n",
       " 'leisure mini rang',\n",
       " 'hotpoint wash machin',\n",
       " 'hotpoint washer dryer nearly new',\n",
       " 'stud dog want yorkipoo',\n",
       " 'brand new dino corner sofa faux leather jumbo fabr',\n",
       " 'ford c max',\n",
       " 'vintage summer dress',\n",
       " 'pure oak din',\n",
       " 'two oak bedside',\n",
       " 'punch bag',\n",
       " 'corner rhf sofa',\n",
       " 'oak din table two powder blue chair',\n",
       " 'big big offer brand new dylan corner sofa cord fabri',\n",
       " 'white summer shirt',\n",
       " 'king size bed frame mattress good condit',\n",
       " 'sofa two one seat',\n",
       " 'solid pine bench set sturdy solid couri',\n",
       " 'large solid beech nurse chair wax light colour couri',\n",
       " 'antique grandfather wheelback chair solid oak deliv',\n",
       " 'lovely old carver chair solid oak couri',\n",
       " 'pine tv unit drawer deliv',\n",
       " 'brand new julie crush velvet sofa',\n",
       " 'yamaha ybr',\n",
       " 'casual cloth',\n",
       " 'casual shirt',\n",
       " 'sleeveless shirt',\n",
       " 'shirt large sleev',\n",
       " 'escort servic',\n",
       " 'year old woman',\n",
       " 'volvo c convert',\n",
       " 'bmw seri',\n",
       " 'old oil lamp clean protect rust',\n",
       " 'triple coffee',\n",
       " 'bedroom dresser best female accessori',\n",
       " 'small coffee table decorate good protect',\n",
       " 'decorative table high quality artistic design',\n",
       " 'pristine ford focus ghia metropolis blue model full heat black leather interior',\n",
       " 'lec larder fridg',\n",
       " 'hotpoint larder fridg',\n",
       " 'zanussi counter freez',\n",
       " 'hotpoint wash machin',\n",
       " 'beko condenser tumble dry',\n",
       " 'armani watch brand new box',\n",
       " 'stylish white chair',\n",
       " 'sony psp portable gam',\n",
       " 'hotpoint freezer hotpoint fridg',\n",
       " 'ford fiesta zetec dr silv',\n",
       " 'walk trolley',\n",
       " 'kitchen patio bbq multipurpose wood trolley stainless steel top sturdy caster wheel',\n",
       " 'new girl try best',\n",
       " 'maclaren xlr grey pink',\n",
       " 'kitchenaid procesor',\n",
       " 'double b',\n",
       " 'gas cook',\n",
       " 'young english yr old teen x',\n",
       " 'l tank three fish fillt',\n",
       " 'ft king size bed luxury memory foam matress',\n",
       " 'volkswagen golf',\n",
       " 'joiner cabinet maker requir',\n",
       " 'canon pixma mp colour multifunctional print',\n",
       " 'electric popcorn mak',\n",
       " 'double bed divan base without mattress',\n",
       " 'samsung fridge freezer excellent condit',\n",
       " 'hotpoint condenser dry',\n",
       " 'beko vent dry',\n",
       " 'aviary cage vgc',\n",
       " 'jem jenome sew machin',\n",
       " 'hotpoint condenser dryer kg',\n",
       " 'rangemaster gas stainless steel',\n",
       " 'pine lamp',\n",
       " 'computer accessori',\n",
       " 'ct yellow gold large crucifix',\n",
       " 'ct gold man chain',\n",
       " 'young escort lilly incalls outcal',\n",
       " 'customer service assist',\n",
       " 'asian oriental three bridge surround area',\n",
       " 'full body massage paddington w',\n",
       " 'nissan figaro leave hand dr',\n",
       " 'electric brand new german adult bike cheapest',\n",
       " 'men nike train',\n",
       " 'ct gold break jewelleri',\n",
       " 'jasper large corner sofa',\n",
       " 'kemptown flat',\n",
       " 'terracotta plant',\n",
       " 'toshiba satellite p c laptop',\n",
       " 'yorkie pup sal',\n",
       " 'renault twingo extrem',\n",
       " 'samsung fridge freezer excellent condit',\n",
       " 'new japanese girl paddington',\n",
       " 'pinarello fp uno carbon rac',\n",
       " 'towbar',\n",
       " 'two sony camera',\n",
       " 'outcall service privat girl aria text message call whatsaap text',\n",
       " 'iphone c yellow gb vodafon',\n",
       " 'chest draw',\n",
       " 'x chest draw',\n",
       " 'care supervisor full part tim',\n",
       " 'seasonal even customer service assistant require immediate start',\n",
       " 'seasonal warehouse picker packer requir',\n",
       " 'winter alloy wheel set bmw',\n",
       " 'hot stun mexicana aunthentic picture cal',\n",
       " 'chair',\n",
       " 'oval',\n",
       " 'paint draw',\n",
       " 'tabl',\n",
       " 'graco buggi',\n",
       " 'lovely bed house rent stirchley',\n",
       " 'bosch wash machin',\n",
       " 'zanussi wash machin',\n",
       " 'beko wash machin',\n",
       " 'daewoo american fridge freez',\n",
       " 'bosch fridge freez',\n",
       " 'hotpoint fridge freez',\n",
       " 'electric double oven ceramic hob',\n",
       " 'outcall service privat girl aria selma',\n",
       " 'eric clapton crossroad compact disc box edit',\n",
       " 'peugeot meridian',\n",
       " 'leather bed fram',\n",
       " 'hair clip sport work occas',\n",
       " 'hair slid',\n",
       " 'christmas light',\n",
       " 'curtain',\n",
       " 'hair band',\n",
       " 'pine effect din table chair',\n",
       " 'foxy lady personal massag',\n",
       " 'foxy lady personal massage service beautiful foxy vixen',\n",
       " 'foxy lady personal massag',\n",
       " 'personal care assist',\n",
       " 'last',\n",
       " 'honda',\n",
       " 'bicycl',\n",
       " 'volkswagen golf',\n",
       " 'brand new android tablet box ca',\n",
       " 'android tablet brand new box ca',\n",
       " 'bluetooth mp wireless headphon',\n",
       " 'bed settee rent large room',\n",
       " 'george forman grill machin',\n",
       " 'hampton collection tble leaf chr carv',\n",
       " 'iphone space grey gb excellent condit',\n",
       " 'ipad air gb perfect condit',\n",
       " 'ikea coffee',\n",
       " 'philip viva hr juicer stainless steel',\n",
       " 'book case black',\n",
       " 'elysium escort escort',\n",
       " 'call escort elysium',\n",
       " 'brand new jessie j single duvet set',\n",
       " 'rabbids teddi',\n",
       " 'duchamp oil paint canva',\n",
       " 'doc mcstuffins pull along clin',\n",
       " 'eto boy jean',\n",
       " 'blue white school summer dress black school skirt',\n",
       " 'baby name book',\n",
       " 'pink top tail bowl',\n",
       " 'carlsberg draughtmast',\n",
       " 'red black spot toddler tricycl',\n",
       " 'alesis dm x kit',\n",
       " 'integrate lamorna microwav',\n",
       " 'catit design sen super roller circuit',\n",
       " 'breville slow cook',\n",
       " 'brand new girl school sho',\n",
       " 'selena new girl town',\n",
       " 'test',\n",
       " 'renault clio blue mil',\n",
       " 'border collie puppi',\n",
       " 'hannah dress size dd call escort avail',\n",
       " 'indian amera age dress size outcall escort',\n",
       " 'genuine stunner holiday francesca year old french student c size outcall escort',\n",
       " 'fleetwood heritage e berth caravan',\n",
       " 'htc one gb amber gold unlock',\n",
       " 'quinny zapp',\n",
       " 'volkswagen passat',\n",
       " 'sony xperia z premium',\n",
       " 'samsung galaxy edge gold ee gb',\n",
       " 'htc gold unlock',\n",
       " 'iphone gb white use excellent condition unlock smartphon',\n",
       " 'apple iphone jet black gb unlock',\n",
       " 'rug',\n",
       " 'im visit outcall aria',\n",
       " 'pine drop leaf',\n",
       " 'single mum look adult company near',\n",
       " 'single mum look adult company near',\n",
       " 'single mum look adult company near',\n",
       " 'single mum look adult company near',\n",
       " 'single mum look adult company near',\n",
       " 'outcall im visit aria',\n",
       " 'alaskan malamute x staff puppi',\n",
       " 'elysium escort picture genuin',\n",
       " 'brittany spaniel kc regist',\n",
       " 'pendant necklace ear',\n",
       " 'renault megan',\n",
       " 'samantha naughty party brighton day nit',\n",
       " 'escort',\n",
       " 'new memory foam mattress top singl',\n",
       " 'new new latina town authent',\n",
       " 'estimator immediate start akmc group london good rate tba perman',\n",
       " 'dry liner ipaf ticket cscs card requir',\n",
       " 'outcall aria affordable r',\n",
       " 'massage service priv',\n",
       " 'air rifl',\n",
       " 'din table chair',\n",
       " 'bookcas',\n",
       " 'chest draw',\n",
       " 'paint side',\n",
       " 'shelfing unit',\n",
       " 'bundle girl cloth',\n",
       " 'peppa pig girl coat',\n",
       " 'bundle girl sho',\n",
       " 'dog stick sound',\n",
       " 'ride horse sound',\n",
       " 'ford focu',\n",
       " 'incredible sexy horny super gorgeous sexy body oriental girl',\n",
       " 'double headbaord',\n",
       " 'hello gentleman would like introduce tunbridge well tonbridge sevenoaks kent whole home county lovely lady charlotte arianna sarah escort service much provide inc',\n",
       " 'volkswagen polo l petrol mile sell due univers',\n",
       " 'lovely solid pine nursery set wardrobe bed chest drawer changer mattress',\n",
       " 'lp vinyl',\n",
       " 'book old jan stewer book x',\n",
       " 'new shoe',\n",
       " 'glen miller greatest collector vinyl lp',\n",
       " 'nissan pixo',\n",
       " 'labrador puppy sal',\n",
       " 'old glass bottle marble insid',\n",
       " 'six old bottle marble insid',\n",
       " 'autocruise starquest',\n",
       " 'data entry specialist home typist position avail',\n",
       " 'incalls lacey discreet clean apartment firmli',\n",
       " 'chole lacey dirty duo come play discreet hous',\n",
       " 'come discreet house sexy fun',\n",
       " 'incalls firmley elouise sexy independent dol',\n",
       " 'melissa local incall escort camberley',\n",
       " 'tesa first call escort',\n",
       " 'duo courtney luci',\n",
       " 'look ticklish people earn money tickl',\n",
       " 'pride go go elite traveller lx use tim',\n",
       " 'microwav',\n",
       " 'new money make system',\n",
       " 'iaso delgada coffee week supply genuine product official uk distributor',\n",
       " 'iaso cafe hot chocolate ganodema chaga week supply official uk rep',\n",
       " 'luna cellular growth serum ml',\n",
       " 'iaso ojos eye cream ml',\n",
       " 'handsome spanish podenco rescue mal',\n",
       " 'look love uk',\n",
       " 'look love wrong plac',\n",
       " 'single ukrainian girl look love uk',\n",
       " 'seater sofa recliner chair match mint green also double bed frame wood mattr',\n",
       " 'bosch wash machin',\n",
       " 'wheelchair',\n",
       " 'sleigh b',\n",
       " 'podenco rescu',\n",
       " 'rescue puppi',\n",
       " 'wheelchair foot rest',\n",
       " 'want passionate partn',\n",
       " 'drama queen want lov',\n",
       " 'want find someone fun lov',\n",
       " 'want find real lov',\n",
       " 'want love forev',\n",
       " 'want find someone share world',\n",
       " 'date diana id age odessa ukrain',\n",
       " 'hate alone want find lov',\n",
       " 'want fall love g',\n",
       " 'still look lov',\n",
       " 'need find love lif',\n",
       " 'love life wan find love lif',\n",
       " 'look love right plac',\n",
       " 'want alone forev',\n",
       " 'new fire door',\n",
       " 'set old russian stackable dol',\n",
       " 'office cleaner w',\n",
       " 'one seater one seater sette',\n",
       " 'book frederick forsyth brand new still',\n",
       " 'cream leather sofa',\n",
       " 'free scrap bonfire wood',\n",
       " 'mission impossible rogue nation ft x ft cinema banner rar',\n",
       " 'boy complete dress suit yr cm',\n",
       " 'mistress heidi incalls firmli',\n",
       " 'seat ibiza',\n",
       " 'bed flat rent upperton garden eastbourne bn',\n",
       " 'desktop unit pentium core duo optiplex pc dell insid',\n",
       " 'aeg build electric oven',\n",
       " 'shaperon',\n",
       " 'citroen berlingo',\n",
       " 'sexy izabela new swindon call nice time kisssxxx',\n",
       " 'week old black male pug',\n",
       " 'stun little man',\n",
       " 'fawn pug',\n",
       " 'silver microwave come instruct',\n",
       " 'sony wega inch tv freeview box',\n",
       " 'bosch wash machin',\n",
       " 'double pine wardrob',\n",
       " 'single wardrob',\n",
       " 'midsleeper cabin b',\n",
       " 'im independent cal',\n",
       " 'tricity electric cooker cm',\n",
       " 'wood burn stav',\n",
       " 'ford ka',\n",
       " 'ford focus estate diesel',\n",
       " 'graco quattro tour deluxe travel system',\n",
       " 'sigma dg mm f hsm ex dg lens canon',\n",
       " 'lightweight aluminum section ladd',\n",
       " 'x halogen mr aluminium w v long life lamp hour',\n",
       " 'x crompton yellow colour halogen dichroic w hour v gu yellow lamp',\n",
       " 'x hour colour halogen dichroic w v degree lamp',\n",
       " 'bendix english electric hotpoint tumble dryer belt j',\n",
       " 'nanjawa stationeri',\n",
       " 'whirlpool akz kw fan oven el',\n",
       " 'one bedroom available rent two bedroom flat bill inclusive kemptown whitehawk',\n",
       " 'toyota estima year disable access seat',\n",
       " 'vauxhall zafira',\n",
       " 'volkswagen golf',\n",
       " 'super sexy super naughty super fun lady wait call ultimate naughti',\n",
       " 'new new new',\n",
       " 'tennis racquet bal',\n",
       " 'barn store mix hardwood log',\n",
       " 'london best outcall escort fr ph availa',\n",
       " 'stun colombian town',\n",
       " 'cheap static caravan sale month park open year round',\n",
       " 'advertise business friday ad limit time christmas',\n",
       " 'advertise business friday ad limit time christmas',\n",
       " 'advertise business friday ad limit time christmas',\n",
       " 'advertise business friday ad limit time christmas',\n",
       " 'advertise business friday ad limit time christmas',\n",
       " 'crusader tumble dry',\n",
       " 'full service escort woking vip escort verify model',\n",
       " 'electric bass guitar w amp pro guitar lead ft',\n",
       " 'mimi sm',\n",
       " 'part time account clerk',\n",
       " 'panasonic vieja lcd hd tv',\n",
       " 'new bella new',\n",
       " 'toyota rav',\n",
       " 'sale stafford bull terrier cross jack russel',\n",
       " 'collapsible wheelchair',\n",
       " 'nw london escort massag',\n",
       " 'party girl kent marcia',\n",
       " 'stefany party kent outcall escort',\n",
       " 'beauty kent escort kent party girl',\n",
       " 'becky year old escort',\n",
       " 'new girl k',\n",
       " 'chihuahua',\n",
       " 'tricity bendix sb electric cook',\n",
       " 'outcall area com',\n",
       " 'look please pleasur',\n",
       " 'straight male esh',\n",
       " 'vauxhall vivaro',\n",
       " 'model girl require catalogue model glamour adult video',\n",
       " 'look property rent west sussex',\n",
       " 'robbie williams ltd cd single box set new factory',\n",
       " 'frigidaire table top freez',\n",
       " 'whisky brandy rum',\n",
       " 'vauxhall astra',\n",
       " 'easter holiday cours',\n",
       " 'grey suede corner couch',\n",
       " 'babysitter child carer nanni',\n",
       " 'flavel eye level gas cook',\n",
       " 'siemens integrate fridge freez',\n",
       " 'roller bike train',\n",
       " 'peugeot partn',\n",
       " 'samsung galaxy sale come free laptop',\n",
       " 'laptop sal',\n",
       " 'new sexy blonde girl town',\n",
       " 'job sale social medium',\n",
       " 'competition school break liveri',\n",
       " 'dagger zydeco sale west sussex',\n",
       " 'ocean kayak frenzy sale west sussex',\n",
       " 'ocean kayak frenzy sale west sussex',\n",
       " 'windsor hotel receptionist',\n",
       " 'female escort single older male need sexy compani',\n",
       " 'single ikea duken bed frame malvik foam mattress',\n",
       " 'polish tatra sheepdog',\n",
       " 'job sale social medium',\n",
       " 'vauxhall corsa',\n",
       " 'office pedestal sale wood metal choic',\n",
       " 'wood sal',\n",
       " 'white city nw office awesome view let park car',\n",
       " 'heart butterfly bird hang decor',\n",
       " 'kana sexy year old stud',\n",
       " 'farmer market crate general stor',\n",
       " 'high chair fre',\n",
       " 'flirty student study london want meet men fun',\n",
       " 'hotpoint wash machine work ord',\n",
       " 'instantly free sexual desire year old cilla avail',\n",
       " 'su lin sexy year old',\n",
       " 'rustic shabby chic olive jug',\n",
       " 'original cola box cr',\n",
       " 'fleur wat',\n",
       " 'general store vintage wooden cr',\n",
       " 'general store storage box lid',\n",
       " 'lovely chalkboard box clay pot',\n",
       " 'wire basket tea light candl',\n",
       " 'wire basket tea light candl',\n",
       " 'double glass jar heart lid',\n",
       " 'single glass jar heart lid',\n",
       " 'kitchen metal cockerel',\n",
       " 'beautiful bronze sit hare orna',\n",
       " 'beautiful lie hare orna',\n",
       " 'men deserve real deal anyo year old fom japan',\n",
       " 'beautiful bronze gaze hare orna',\n",
       " 'beautiful stoneware leaf jug',\n",
       " 'lovely heart egg hous',\n",
       " 'everywhere men rave ria come se',\n",
       " 'perfect petite japanese doll london bunny instant attraction huge satisfaction guarante',\n",
       " 'free sexual fantasy instantly new girlfriend experi',\n",
       " 'men miss pleasure mix race brazilian korean carmen',\n",
       " 'life',\n",
       " 'meet f ck fast local hook',\n",
       " 'meet casual sex',\n",
       " 'meet casual sex',\n",
       " 'meet casual sex',\n",
       " 'english rise bbw',\n",
       " 'cavalier king charles black n tan pup',\n",
       " 'lec fridge freez',\n",
       " 'renault megane expression dci turbo diesal mpg owner mot sept exceptional condition care maintsained lif',\n",
       " 'toshiba satellite c c laptop',\n",
       " 'love phone sex mobile cal',\n",
       " 'asian suck mobile cal',\n",
       " 'sexy horny milf love suck',\n",
       " 'granny love suck',\n",
       " 'sexy asian minx mobile cal',\n",
       " 'beko',\n",
       " 'beko',\n",
       " 'meet casual sex',\n",
       " 'meet casual sex',\n",
       " 'meet casual sex',\n",
       " 'vauxhall zafira',\n",
       " 'gent even suit',\n",
       " 'gent white tuxedo trous',\n",
       " 'bedroom house grab',\n",
       " 'alic',\n",
       " 'peugeot',\n",
       " 'renault megane expression turbo diesal mpg owner exceptional car care maintain since new mot sept service history cruise control etc',\n",
       " 'new ford fiesta',\n",
       " 'urgent relocation month use accept offer indesit eco time iwdd',\n",
       " 'new bmw sport',\n",
       " 'pandora necklac',\n",
       " 'child coat decathlon',\n",
       " 'glass tv stand',\n",
       " 'reebok treadmil',\n",
       " 'slide head auto setter asl',\n",
       " 'ford transit',\n",
       " 'tokyo house epsom',\n",
       " 'water soften',\n",
       " 'beautiful work cocker spaniel puppi',\n",
       " 'vauxhall insignia salvage part take away cat b',\n",
       " 'naughty escort offer servic',\n",
       " 'party girl level gfe ow',\n",
       " 'annet service provid',\n",
       " 'annet hot escort ready anyth',\n",
       " 'party girl medeea ready fun',\n",
       " 'briana open adventur',\n",
       " 'ashly energetic attitude become addict',\n",
       " 'exotic erotic escort available outcall tonight',\n",
       " 'pleasure girl escort',\n",
       " 'horny f ck escort readi',\n",
       " 'fast horny escort live fantasi',\n",
       " 'queen danilo calendar new unus',\n",
       " 'queen danilo calendar new',\n",
       " 'beatles official danilo calendar new factory',\n",
       " 'pound night outcall area',\n",
       " 'large dog cage l x w x',\n",
       " 'bamboom cane coffee',\n",
       " 'cleaner requir',\n",
       " 'picture one limit edition signature show',\n",
       " 'handmade console',\n",
       " 'handmade console',\n",
       " 'mirror handmade fram',\n",
       " 'handmade console',\n",
       " 'male escort',\n",
       " 'large dog cage x x',\n",
       " 'small dog cage x x',\n",
       " 'bed double single new good qu',\n",
       " 'vauxhall adam',\n",
       " 'eddie stobbart ford escort van rnli van',\n",
       " 'double room spacious modern flat',\n",
       " 'sew machine viking series model',\n",
       " 'citroen dispatch',\n",
       " 'internal door',\n",
       " 'bell silver cm double electric cook',\n",
       " 'bush white freestanding electric cook',\n",
       " 'beko kg wash machine guarante',\n",
       " 'flavel silver cm electric cook',\n",
       " 'flavel white electric cook',\n",
       " 'want professional female look bedroom flat bognor regi',\n",
       " 'baby change table bath storag',\n",
       " 'abi horizon static caravan berth doniford bay watchet somerset',\n",
       " 'vintage bedroom wardrobe dress table round mirror chest drawer daybed good condit',\n",
       " 'nissan micra',\n",
       " 'indesit kg wash machin',\n",
       " 'zanussi fridge freeze',\n",
       " 'hotpoint fridge freez',\n",
       " 'gorenje kg wash machin',\n",
       " 'hotpoint aqualtis wash machin',\n",
       " 'zanussi condenser dry',\n",
       " 'washer dry',\n",
       " 'hotpoint kg wash machin',\n",
       " 'hotpoint washer dry',\n",
       " 'kg hoover condenser dry',\n",
       " 'shar pei puppi',\n",
       " 'black stave electric fir',\n",
       " 'large oval pine',\n",
       " 'pine top kitchen bar table trolley',\n",
       " 'xbox',\n",
       " 'sip slide mitre saw',\n",
       " 'rangemast',\n",
       " 'leather three piece suit',\n",
       " 'leather chair foot stool',\n",
       " 'kitchen dress',\n",
       " 'extendable kitchen table two chair',\n",
       " 'shed ft x ft',\n",
       " 'french bulldog cross chihuahua female puppy month',\n",
       " 'mirror',\n",
       " 'collectible mirror',\n",
       " 'print',\n",
       " 'japanese va',\n",
       " 'promotionalvan set',\n",
       " 'brian robot',\n",
       " 'little britain talk toy',\n",
       " 'star trek figur',\n",
       " 'berlitz interpret',\n",
       " 'keel plush toy',\n",
       " 'piknikpaks hi gear',\n",
       " 'ornamental brass eagl',\n",
       " 'ornamental american indian statu',\n",
       " 'lisa',\n",
       " 'kawasaki gpz',\n",
       " 'al ko hitch lock',\n",
       " 'black headboard single b',\n",
       " 'ford focus zetec tdci',\n",
       " 'ford focu',\n",
       " 'male degus sal',\n",
       " 'wethepeople bmx',\n",
       " 'dark wood mirror',\n",
       " ...]"
      ]
     },
     "execution_count": 117,
     "metadata": {},
     "output_type": "execute_result"
    }
   ],
   "source": [
    "corpus"
   ]
  },
  {
   "cell_type": "code",
   "execution_count": 118,
   "id": "297c2604",
   "metadata": {},
   "outputs": [
    {
     "data": {
      "text/html": [
       "<div>\n",
       "<style scoped>\n",
       "    .dataframe tbody tr th:only-of-type {\n",
       "        vertical-align: middle;\n",
       "    }\n",
       "\n",
       "    .dataframe tbody tr th {\n",
       "        vertical-align: top;\n",
       "    }\n",
       "\n",
       "    .dataframe thead th {\n",
       "        text-align: right;\n",
       "    }\n",
       "</style>\n",
       "<table border=\"1\" class=\"dataframe\">\n",
       "  <thead>\n",
       "    <tr style=\"text-align: right;\">\n",
       "      <th></th>\n",
       "      <th>title</th>\n",
       "      <th>type_name</th>\n",
       "      <th>type_id</th>\n",
       "      <th>cat_name</th>\n",
       "      <th>cat_id</th>\n",
       "    </tr>\n",
       "  </thead>\n",
       "  <tbody>\n",
       "    <tr>\n",
       "      <th>2</th>\n",
       "      <td>citroen c whit</td>\n",
       "      <td>Motors</td>\n",
       "      <td>2</td>\n",
       "      <td>Cars</td>\n",
       "      <td>63</td>\n",
       "    </tr>\n",
       "    <tr>\n",
       "      <th>26</th>\n",
       "      <td>hand mixer brand new open</td>\n",
       "      <td>For Sale</td>\n",
       "      <td>1</td>\n",
       "      <td>Home Appliances</td>\n",
       "      <td>17</td>\n",
       "    </tr>\n",
       "    <tr>\n",
       "      <th>29</th>\n",
       "      <td>mahogany display cabinet</td>\n",
       "      <td>For Sale</td>\n",
       "      <td>1</td>\n",
       "      <td>Antiques &amp; Collectables</td>\n",
       "      <td>2</td>\n",
       "    </tr>\n",
       "    <tr>\n",
       "      <th>30</th>\n",
       "      <td>technics mk x rane mixer speaker headphone ful...</td>\n",
       "      <td>For Sale</td>\n",
       "      <td>1</td>\n",
       "      <td>Computers &amp; Electronics</td>\n",
       "      <td>8</td>\n",
       "    </tr>\n",
       "    <tr>\n",
       "      <th>32</th>\n",
       "      <td>mega blok castl</td>\n",
       "      <td>For Sale</td>\n",
       "      <td>1</td>\n",
       "      <td>Baby &amp; Kids</td>\n",
       "      <td>3</td>\n",
       "    </tr>\n",
       "  </tbody>\n",
       "</table>\n",
       "</div>"
      ],
      "text/plain": [
       "                                                title type_name  type_id  \\\n",
       "2                                      citroen c whit    Motors        2   \n",
       "26                          hand mixer brand new open  For Sale        1   \n",
       "29                           mahogany display cabinet  For Sale        1   \n",
       "30  technics mk x rane mixer speaker headphone ful...  For Sale        1   \n",
       "32                                    mega blok castl  For Sale        1   \n",
       "\n",
       "                   cat_name  cat_id  \n",
       "2                      Cars      63  \n",
       "26          Home Appliances      17  \n",
       "29  Antiques & Collectables       2  \n",
       "30  Computers & Electronics       8  \n",
       "32              Baby & Kids       3  "
      ]
     },
     "execution_count": 118,
     "metadata": {},
     "output_type": "execute_result"
    }
   ],
   "source": [
    "#assign corpus to df\n",
    "df['title'] = corpus\n",
    "df.head()"
   ]
  },
  {
   "cell_type": "code",
   "execution_count": 119,
   "id": "558e4f7c",
   "metadata": {},
   "outputs": [],
   "source": [
    "def lemmatize_words(text):\n",
    "    words = text.split()\n",
    "    words = [lemmatizer.lemmatize(word,pos='v') for word in words]\n",
    "    return ' '.join(words)"
   ]
  },
  {
   "cell_type": "code",
   "execution_count": 120,
   "id": "920fabcd",
   "metadata": {},
   "outputs": [],
   "source": [
    "df['title'] = df['title'].apply(lemmatize_words)"
   ]
  },
  {
   "cell_type": "code",
   "execution_count": 121,
   "id": "6da91452",
   "metadata": {},
   "outputs": [
    {
     "data": {
      "text/html": [
       "<div>\n",
       "<style scoped>\n",
       "    .dataframe tbody tr th:only-of-type {\n",
       "        vertical-align: middle;\n",
       "    }\n",
       "\n",
       "    .dataframe tbody tr th {\n",
       "        vertical-align: top;\n",
       "    }\n",
       "\n",
       "    .dataframe thead th {\n",
       "        text-align: right;\n",
       "    }\n",
       "</style>\n",
       "<table border=\"1\" class=\"dataframe\">\n",
       "  <thead>\n",
       "    <tr style=\"text-align: right;\">\n",
       "      <th></th>\n",
       "      <th>title</th>\n",
       "      <th>type_name</th>\n",
       "      <th>type_id</th>\n",
       "      <th>cat_name</th>\n",
       "      <th>cat_id</th>\n",
       "    </tr>\n",
       "  </thead>\n",
       "  <tbody>\n",
       "    <tr>\n",
       "      <th>2</th>\n",
       "      <td>citroen c whit</td>\n",
       "      <td>Motors</td>\n",
       "      <td>2</td>\n",
       "      <td>Cars</td>\n",
       "      <td>63</td>\n",
       "    </tr>\n",
       "    <tr>\n",
       "      <th>26</th>\n",
       "      <td>hand mixer brand new open</td>\n",
       "      <td>For Sale</td>\n",
       "      <td>1</td>\n",
       "      <td>Home Appliances</td>\n",
       "      <td>17</td>\n",
       "    </tr>\n",
       "    <tr>\n",
       "      <th>29</th>\n",
       "      <td>mahogany display cabinet</td>\n",
       "      <td>For Sale</td>\n",
       "      <td>1</td>\n",
       "      <td>Antiques &amp; Collectables</td>\n",
       "      <td>2</td>\n",
       "    </tr>\n",
       "    <tr>\n",
       "      <th>30</th>\n",
       "      <td>technics mk x rane mixer speaker headphone ful...</td>\n",
       "      <td>For Sale</td>\n",
       "      <td>1</td>\n",
       "      <td>Computers &amp; Electronics</td>\n",
       "      <td>8</td>\n",
       "    </tr>\n",
       "    <tr>\n",
       "      <th>32</th>\n",
       "      <td>mega blok castl</td>\n",
       "      <td>For Sale</td>\n",
       "      <td>1</td>\n",
       "      <td>Baby &amp; Kids</td>\n",
       "      <td>3</td>\n",
       "    </tr>\n",
       "  </tbody>\n",
       "</table>\n",
       "</div>"
      ],
      "text/plain": [
       "                                                title type_name  type_id  \\\n",
       "2                                      citroen c whit    Motors        2   \n",
       "26                          hand mixer brand new open  For Sale        1   \n",
       "29                           mahogany display cabinet  For Sale        1   \n",
       "30  technics mk x rane mixer speaker headphone ful...  For Sale        1   \n",
       "32                                    mega blok castl  For Sale        1   \n",
       "\n",
       "                   cat_name  cat_id  \n",
       "2                      Cars      63  \n",
       "26          Home Appliances      17  \n",
       "29  Antiques & Collectables       2  \n",
       "30  Computers & Electronics       8  \n",
       "32              Baby & Kids       3  "
      ]
     },
     "execution_count": 121,
     "metadata": {},
     "output_type": "execute_result"
    }
   ],
   "source": [
    "df.head()"
   ]
  },
  {
   "cell_type": "code",
   "execution_count": 122,
   "id": "19171446",
   "metadata": {},
   "outputs": [],
   "source": [
    "# import these modules\n",
    "from nltk.stem import PorterStemmer\n",
    "from nltk.tokenize import word_tokenize\n",
    "\n",
    "ps = PorterStemmer()"
   ]
  },
  {
   "cell_type": "code",
   "execution_count": 123,
   "id": "08416479",
   "metadata": {},
   "outputs": [],
   "source": [
    "df['title'] = df['title'].apply(ps.stem)"
   ]
  },
  {
   "cell_type": "code",
   "execution_count": 124,
   "id": "4bf43647",
   "metadata": {},
   "outputs": [
    {
     "data": {
      "text/plain": [
       "type_id  type_name       \n",
       "2        Motors              48532\n",
       "1        For Sale            18992\n",
       "8        Adult               14959\n",
       "9        Adult Businesses     9671\n",
       "6        Animals              8473\n",
       "3        Jobs                 1637\n",
       "5        Property              665\n",
       "7        Events                438\n",
       "Name: count, dtype: int64"
      ]
     },
     "execution_count": 124,
     "metadata": {},
     "output_type": "execute_result"
    }
   ],
   "source": [
    "df[['type_id','type_name']].value_counts()"
   ]
  },
  {
   "cell_type": "code",
   "execution_count": 125,
   "id": "ff5b3543",
   "metadata": {},
   "outputs": [
    {
     "data": {
      "text/html": [
       "<div>\n",
       "<style scoped>\n",
       "    .dataframe tbody tr th:only-of-type {\n",
       "        vertical-align: middle;\n",
       "    }\n",
       "\n",
       "    .dataframe tbody tr th {\n",
       "        vertical-align: top;\n",
       "    }\n",
       "\n",
       "    .dataframe thead th {\n",
       "        text-align: right;\n",
       "    }\n",
       "</style>\n",
       "<table border=\"1\" class=\"dataframe\">\n",
       "  <thead>\n",
       "    <tr style=\"text-align: right;\">\n",
       "      <th></th>\n",
       "      <th>title</th>\n",
       "      <th>type_name</th>\n",
       "      <th>type_id</th>\n",
       "      <th>cat_name</th>\n",
       "      <th>cat_id</th>\n",
       "    </tr>\n",
       "  </thead>\n",
       "  <tbody>\n",
       "    <tr>\n",
       "      <th>2</th>\n",
       "      <td>citroen c whit</td>\n",
       "      <td>Motors</td>\n",
       "      <td>2</td>\n",
       "      <td>Cars</td>\n",
       "      <td>63</td>\n",
       "    </tr>\n",
       "    <tr>\n",
       "      <th>26</th>\n",
       "      <td>hand mixer brand new open</td>\n",
       "      <td>For Sale</td>\n",
       "      <td>1</td>\n",
       "      <td>Home Appliances</td>\n",
       "      <td>17</td>\n",
       "    </tr>\n",
       "    <tr>\n",
       "      <th>29</th>\n",
       "      <td>mahogany display cabinet</td>\n",
       "      <td>For Sale</td>\n",
       "      <td>1</td>\n",
       "      <td>Antiques &amp; Collectables</td>\n",
       "      <td>2</td>\n",
       "    </tr>\n",
       "    <tr>\n",
       "      <th>30</th>\n",
       "      <td>technics mk x rane mixer speaker headphone ful...</td>\n",
       "      <td>For Sale</td>\n",
       "      <td>1</td>\n",
       "      <td>Computers &amp; Electronics</td>\n",
       "      <td>8</td>\n",
       "    </tr>\n",
       "    <tr>\n",
       "      <th>32</th>\n",
       "      <td>mega blok castl</td>\n",
       "      <td>For Sale</td>\n",
       "      <td>1</td>\n",
       "      <td>Baby &amp; Kids</td>\n",
       "      <td>3</td>\n",
       "    </tr>\n",
       "  </tbody>\n",
       "</table>\n",
       "</div>"
      ],
      "text/plain": [
       "                                                title type_name  type_id  \\\n",
       "2                                      citroen c whit    Motors        2   \n",
       "26                          hand mixer brand new open  For Sale        1   \n",
       "29                           mahogany display cabinet  For Sale        1   \n",
       "30  technics mk x rane mixer speaker headphone ful...  For Sale        1   \n",
       "32                                    mega blok castl  For Sale        1   \n",
       "\n",
       "                   cat_name  cat_id  \n",
       "2                      Cars      63  \n",
       "26          Home Appliances      17  \n",
       "29  Antiques & Collectables       2  \n",
       "30  Computers & Electronics       8  \n",
       "32              Baby & Kids       3  "
      ]
     },
     "execution_count": 125,
     "metadata": {},
     "output_type": "execute_result"
    }
   ],
   "source": [
    "df.head()"
   ]
  },
  {
   "cell_type": "markdown",
   "id": "5329fae6",
   "metadata": {},
   "source": [
    "# <div class = 'alert alert-info'>Feature Engineering</div>"
   ]
  },
  {
   "cell_type": "code",
   "execution_count": 126,
   "id": "14b39083",
   "metadata": {},
   "outputs": [
    {
     "data": {
      "text/html": [
       "<div>\n",
       "<style scoped>\n",
       "    .dataframe tbody tr th:only-of-type {\n",
       "        vertical-align: middle;\n",
       "    }\n",
       "\n",
       "    .dataframe tbody tr th {\n",
       "        vertical-align: top;\n",
       "    }\n",
       "\n",
       "    .dataframe thead th {\n",
       "        text-align: right;\n",
       "    }\n",
       "</style>\n",
       "<table border=\"1\" class=\"dataframe\">\n",
       "  <thead>\n",
       "    <tr style=\"text-align: right;\">\n",
       "      <th></th>\n",
       "      <th>title</th>\n",
       "      <th>type_name</th>\n",
       "      <th>type_id</th>\n",
       "      <th>cat_name</th>\n",
       "      <th>cat_id</th>\n",
       "    </tr>\n",
       "  </thead>\n",
       "  <tbody>\n",
       "    <tr>\n",
       "      <th>2</th>\n",
       "      <td>citroen c whit</td>\n",
       "      <td>Motors</td>\n",
       "      <td>2</td>\n",
       "      <td>Cars</td>\n",
       "      <td>63</td>\n",
       "    </tr>\n",
       "    <tr>\n",
       "      <th>26</th>\n",
       "      <td>hand mixer brand new open</td>\n",
       "      <td>For Sale</td>\n",
       "      <td>1</td>\n",
       "      <td>Home Appliances</td>\n",
       "      <td>17</td>\n",
       "    </tr>\n",
       "    <tr>\n",
       "      <th>29</th>\n",
       "      <td>mahogany display cabinet</td>\n",
       "      <td>For Sale</td>\n",
       "      <td>1</td>\n",
       "      <td>Antiques &amp; Collectables</td>\n",
       "      <td>2</td>\n",
       "    </tr>\n",
       "  </tbody>\n",
       "</table>\n",
       "</div>"
      ],
      "text/plain": [
       "                        title type_name  type_id                 cat_name  \\\n",
       "2              citroen c whit    Motors        2                     Cars   \n",
       "26  hand mixer brand new open  For Sale        1          Home Appliances   \n",
       "29   mahogany display cabinet  For Sale        1  Antiques & Collectables   \n",
       "\n",
       "    cat_id  \n",
       "2       63  \n",
       "26      17  \n",
       "29       2  "
      ]
     },
     "execution_count": 126,
     "metadata": {},
     "output_type": "execute_result"
    }
   ],
   "source": [
    "df.head(3)"
   ]
  },
  {
   "cell_type": "markdown",
   "id": "6a471f43",
   "metadata": {},
   "source": [
    "### Null Check"
   ]
  },
  {
   "cell_type": "code",
   "execution_count": 127,
   "id": "05bb9f88",
   "metadata": {},
   "outputs": [
    {
     "data": {
      "text/plain": [
       "title        0\n",
       "type_name    0\n",
       "type_id      0\n",
       "cat_name     0\n",
       "cat_id       0\n",
       "dtype: int64"
      ]
     },
     "execution_count": 127,
     "metadata": {},
     "output_type": "execute_result"
    }
   ],
   "source": [
    "df.isnull().sum()"
   ]
  },
  {
   "cell_type": "markdown",
   "id": "a626e99e",
   "metadata": {},
   "source": [
    "### Outliers"
   ]
  },
  {
   "cell_type": "code",
   "execution_count": 128,
   "id": "490624f9",
   "metadata": {},
   "outputs": [
    {
     "data": {
      "text/html": [
       "<div>\n",
       "<style scoped>\n",
       "    .dataframe tbody tr th:only-of-type {\n",
       "        vertical-align: middle;\n",
       "    }\n",
       "\n",
       "    .dataframe tbody tr th {\n",
       "        vertical-align: top;\n",
       "    }\n",
       "\n",
       "    .dataframe thead th {\n",
       "        text-align: right;\n",
       "    }\n",
       "</style>\n",
       "<table border=\"1\" class=\"dataframe\">\n",
       "  <thead>\n",
       "    <tr style=\"text-align: right;\">\n",
       "      <th></th>\n",
       "      <th>type_id</th>\n",
       "      <th>cat_id</th>\n",
       "    </tr>\n",
       "  </thead>\n",
       "  <tbody>\n",
       "    <tr>\n",
       "      <th>count</th>\n",
       "      <td>103367.000000</td>\n",
       "      <td>103367.000000</td>\n",
       "    </tr>\n",
       "    <tr>\n",
       "      <th>mean</th>\n",
       "      <td>3.723693</td>\n",
       "      <td>102.012925</td>\n",
       "    </tr>\n",
       "    <tr>\n",
       "      <th>std</th>\n",
       "      <td>2.915158</td>\n",
       "      <td>79.409263</td>\n",
       "    </tr>\n",
       "    <tr>\n",
       "      <th>min</th>\n",
       "      <td>1.000000</td>\n",
       "      <td>1.000000</td>\n",
       "    </tr>\n",
       "    <tr>\n",
       "      <th>25%</th>\n",
       "      <td>2.000000</td>\n",
       "      <td>63.000000</td>\n",
       "    </tr>\n",
       "    <tr>\n",
       "      <th>50%</th>\n",
       "      <td>2.000000</td>\n",
       "      <td>67.000000</td>\n",
       "    </tr>\n",
       "    <tr>\n",
       "      <th>75%</th>\n",
       "      <td>6.000000</td>\n",
       "      <td>156.000000</td>\n",
       "    </tr>\n",
       "    <tr>\n",
       "      <th>max</th>\n",
       "      <td>9.000000</td>\n",
       "      <td>300.000000</td>\n",
       "    </tr>\n",
       "  </tbody>\n",
       "</table>\n",
       "</div>"
      ],
      "text/plain": [
       "             type_id         cat_id\n",
       "count  103367.000000  103367.000000\n",
       "mean        3.723693     102.012925\n",
       "std         2.915158      79.409263\n",
       "min         1.000000       1.000000\n",
       "25%         2.000000      63.000000\n",
       "50%         2.000000      67.000000\n",
       "75%         6.000000     156.000000\n",
       "max         9.000000     300.000000"
      ]
     },
     "execution_count": 128,
     "metadata": {},
     "output_type": "execute_result"
    }
   ],
   "source": [
    "df.describe()"
   ]
  },
  {
   "cell_type": "code",
   "execution_count": 129,
   "id": "00910475",
   "metadata": {},
   "outputs": [
    {
     "data": {
      "image/png": "[encoded data removed]",
      "text/plain": [
       "<Figure size 500x500 with 1 Axes>"
      ]
     },
     "metadata": {},
     "output_type": "display_data"
    }
   ],
   "source": [
    "fig = plt.figure(figsize =(5, 5))\n",
    "\n",
    "plt.boxplot(df['type_id'])\n",
    "plt.show()"
   ]
  },
  {
   "cell_type": "code",
   "execution_count": null,
   "id": "44f286d3",
   "metadata": {},
   "outputs": [],
   "source": []
  },
  {
   "cell_type": "code",
   "execution_count": 130,
   "id": "e95564ef",
   "metadata": {},
   "outputs": [
    {
     "data": {
      "image/png": "[encoded data removed]",
      "text/plain": [
       "<Figure size 500x500 with 1 Axes>"
      ]
     },
     "metadata": {},
     "output_type": "display_data"
    }
   ],
   "source": [
    "fig = plt.figure(figsize =(5, 5))\n",
    "\n",
    "plt.boxplot(df['cat_id'])\n",
    "plt.show()"
   ]
  },
  {
   "cell_type": "code",
   "execution_count": 131,
   "id": "b1bcb67f",
   "metadata": {},
   "outputs": [
    {
     "data": {
      "text/plain": [
       "array([ 63,  17,   2,   8,   3,   6,  25, 124,  13, 182, 138, 151,   9,\n",
       "        24,   5,  18,  19, 181,  68,  11,  66,   1,  14,  23, 150, 187,\n",
       "       165, 125,  62,  21,  20, 139,  10,  67,   7,  26, 128, 116, 152,\n",
       "        16, 130,   4, 131,  69,  22, 115, 120, 123,  15, 109,  64, 112,\n",
       "       114, 156, 146, 118, 140, 143, 119, 147, 117, 168, 127, 185, 110,\n",
       "        12, 121, 141, 292, 122,  65, 142, 164, 179, 173, 263, 264, 170,\n",
       "       126,  84,  90, 166, 144, 298, 259, 149, 177, 145, 129, 174, 178,\n",
       "       180, 295, 300, 171, 258, 175, 167, 111, 169, 148, 176], dtype=int64)"
      ]
     },
     "execution_count": 131,
     "metadata": {},
     "output_type": "execute_result"
    }
   ],
   "source": [
    "df['cat_id'].unique()"
   ]
  },
  {
   "cell_type": "code",
   "execution_count": 132,
   "id": "e2a95351",
   "metadata": {
    "scrolled": true
   },
   "outputs": [
    {
     "data": {
      "text/plain": [
       "cat_id\n",
       "63     19469\n",
       "67     15255\n",
       "182    12206\n",
       "68      9568\n",
       "263     9554\n",
       "156     5480\n",
       "13      3084\n",
       "151     2802\n",
       "7       2613\n",
       "64      2136\n",
       "2       1674\n",
       "298     1648\n",
       "66      1489\n",
       "3       1033\n",
       "6       1001\n",
       "18       906\n",
       "8        831\n",
       "17       776\n",
       "21       732\n",
       "16       677\n",
       "14       600\n",
       "26       598\n",
       "187      597\n",
       "11       581\n",
       "24       527\n",
       "120      481\n",
       "9        459\n",
       "69       426\n",
       "22       414\n",
       "5        401\n",
       "4        367\n",
       "23       352\n",
       "181      322\n",
       "1        302\n",
       "20       281\n",
       "124      252\n",
       "15       230\n",
       "130      209\n",
       "19       204\n",
       "152      191\n",
       "139      179\n",
       "65       161\n",
       "10       149\n",
       "141      136\n",
       "25       117\n",
       "122      114\n",
       "185      108\n",
       "165       88\n",
       "138       83\n",
       "12        83\n",
       "140       68\n",
       "142       68\n",
       "300       65\n",
       "168       59\n",
       "292       58\n",
       "110       58\n",
       "116       58\n",
       "123       54\n",
       "264       52\n",
       "170       51\n",
       "127       51\n",
       "175       48\n",
       "128       48\n",
       "144       46\n",
       "125       45\n",
       "115       42\n",
       "117       42\n",
       "164       41\n",
       "114       34\n",
       "173       34\n",
       "259       31\n",
       "118       30\n",
       "109       27\n",
       "129       25\n",
       "146       23\n",
       "295       20\n",
       "180       20\n",
       "119       19\n",
       "150       17\n",
       "131       16\n",
       "62        16\n",
       "178       15\n",
       "145       15\n",
       "112       14\n",
       "179       11\n",
       "143       10\n",
       "177       10\n",
       "174       10\n",
       "149       10\n",
       "147        9\n",
       "121        8\n",
       "126        7\n",
       "90         6\n",
       "84         6\n",
       "171        6\n",
       "166        4\n",
       "167        3\n",
       "111        3\n",
       "176        3\n",
       "258        2\n",
       "169        2\n",
       "148        1\n",
       "Name: count, dtype: int64"
      ]
     },
     "execution_count": 132,
     "metadata": {},
     "output_type": "execute_result"
    }
   ],
   "source": [
    "df['cat_id'].value_counts()"
   ]
  },
  {
   "cell_type": "code",
   "execution_count": 47,
   "id": "eb6037dd",
   "metadata": {},
   "outputs": [],
   "source": [
    "# 292, 295, 298, 300"
   ]
  },
  {
   "cell_type": "code",
   "execution_count": 46,
   "id": "c9137a6a",
   "metadata": {},
   "outputs": [],
   "source": [
    "# df = df[df['cat_id'] < 290]"
   ]
  },
  {
   "cell_type": "code",
   "execution_count": null,
   "id": "73ecb437",
   "metadata": {},
   "outputs": [],
   "source": []
  },
  {
   "cell_type": "code",
   "execution_count": null,
   "id": "dbd12d0d",
   "metadata": {},
   "outputs": [],
   "source": []
  },
  {
   "cell_type": "code",
   "execution_count": null,
   "id": "39f6173f",
   "metadata": {},
   "outputs": [],
   "source": []
  },
  {
   "cell_type": "code",
   "execution_count": null,
   "id": "86568aa4",
   "metadata": {},
   "outputs": [],
   "source": []
  },
  {
   "cell_type": "code",
   "execution_count": null,
   "id": "6c176af3",
   "metadata": {},
   "outputs": [],
   "source": []
  },
  {
   "cell_type": "markdown",
   "id": "426c3b01",
   "metadata": {},
   "source": [
    "# <div class = 'alert alert-info'>Modeling - Ad Type</div>"
   ]
  },
  {
   "cell_type": "code",
   "execution_count": 91,
   "id": "d832db96",
   "metadata": {},
   "outputs": [],
   "source": [
    "import warnings\n",
    "warnings.filterwarnings('ignore')"
   ]
  },
  {
   "cell_type": "markdown",
   "id": "c4ed1e5d",
   "metadata": {},
   "source": [
    "---"
   ]
  },
  {
   "cell_type": "code",
   "execution_count": 75,
   "id": "2e36990d",
   "metadata": {},
   "outputs": [],
   "source": [
    "X = df['title']\n",
    "y = df[[\n",
    "        'type_name'\n",
    "      ,'cat_name'\n",
    "       ]]\n",
    "\n",
    "# from sklearn.preprocessing import MinMaxScaler\n",
    "# scaler = MinMaxScaler()\n",
    "# X_scaled = scaler.fit_transform(X)"
   ]
  },
  {
   "cell_type": "code",
   "execution_count": null,
   "id": "3b21ca8c",
   "metadata": {},
   "outputs": [],
   "source": []
  },
  {
   "cell_type": "code",
   "execution_count": 76,
   "id": "7a2a4c04",
   "metadata": {},
   "outputs": [],
   "source": [
    "from sklearn.model_selection import train_test_split\n",
    "X_train, X_test, y_train, y_test = train_test_split(X, y, test_size=0.2, random_state=13)"
   ]
  },
  {
   "cell_type": "code",
   "execution_count": 77,
   "id": "4da7b1e6",
   "metadata": {},
   "outputs": [
    {
     "data": {
      "text/plain": [
       "(81260,)"
      ]
     },
     "execution_count": 77,
     "metadata": {},
     "output_type": "execute_result"
    }
   ],
   "source": [
    "X_train.shape"
   ]
  },
  {
   "cell_type": "code",
   "execution_count": 78,
   "id": "f98dce35",
   "metadata": {},
   "outputs": [
    {
     "data": {
      "text/plain": [
       "(20316,)"
      ]
     },
     "execution_count": 78,
     "metadata": {},
     "output_type": "execute_result"
    }
   ],
   "source": [
    "X_test.shape"
   ]
  },
  {
   "cell_type": "code",
   "execution_count": 79,
   "id": "b443555b",
   "metadata": {},
   "outputs": [
    {
     "data": {
      "text/plain": [
       "(81260, 2)"
      ]
     },
     "execution_count": 79,
     "metadata": {},
     "output_type": "execute_result"
    }
   ],
   "source": [
    "y_train.shape"
   ]
  },
  {
   "cell_type": "code",
   "execution_count": 80,
   "id": "cedd0da4",
   "metadata": {},
   "outputs": [
    {
     "data": {
      "text/plain": [
       "(20316, 2)"
      ]
     },
     "execution_count": 80,
     "metadata": {},
     "output_type": "execute_result"
    }
   ],
   "source": [
    "y_test.shape"
   ]
  },
  {
   "cell_type": "code",
   "execution_count": null,
   "id": "b870c5c9",
   "metadata": {},
   "outputs": [],
   "source": []
  },
  {
   "cell_type": "code",
   "execution_count": null,
   "id": "759b3a9e",
   "metadata": {},
   "outputs": [],
   "source": []
  },
  {
   "cell_type": "code",
   "execution_count": null,
   "id": "8ce317c3",
   "metadata": {},
   "outputs": [],
   "source": []
  },
  {
   "cell_type": "markdown",
   "id": "9df5372e",
   "metadata": {},
   "source": [
    "# <div class = 'alert alert-success'> Logistic - Pipeline - MultiOutput</div>"
   ]
  },
  {
   "cell_type": "code",
   "execution_count": 145,
   "id": "ac501eaf",
   "metadata": {},
   "outputs": [],
   "source": [
    "from sklearn.pipeline import Pipeline\n",
    "from sklearn.feature_extraction.text import CountVectorizer, TfidfVectorizer\n",
    "from sklearn.multioutput import MultiOutputClassifier\n",
    "from sklearn.model_selection import GridSearchCV\n",
    "from sklearn.linear_model import LogisticRegression"
   ]
  },
  {
   "cell_type": "code",
   "execution_count": 82,
   "id": "71b34b23",
   "metadata": {},
   "outputs": [],
   "source": [
    "pipe_lr = Pipeline(steps=[('cv',TfidfVectorizer(analyzer='word',stop_words= 'english')),\n",
    "                          ('lr_multi',MultiOutputClassifier(\n",
    "                              GridSearchCV(LogisticRegression(), {'C': [0.001, 0.01, 0.1, 1, 10, 100, 200]}, cv=5)\n",
    "                              ))]\n",
    "                  )"
   ]
  },
  {
   "cell_type": "code",
   "execution_count": 83,
   "id": "3fbf0232",
   "metadata": {},
   "outputs": [
    {
     "data": {
      "text/html": [
       "<style>#sk-container-id-2 {color: black;}#sk-container-id-2 pre{padding: 0;}#sk-container-id-2 div.sk-toggleable {background-color: white;}#sk-container-id-2 label.sk-toggleable__label {cursor: pointer;display: block;width: 100%;margin-bottom: 0;padding: 0.3em;box-sizing: border-box;text-align: center;}#sk-container-id-2 label.sk-toggleable__label-arrow:before {content: \"▸\";float: left;margin-right: 0.25em;color: #696969;}#sk-container-id-2 label.sk-toggleable__label-arrow:hover:before {color: black;}#sk-container-id-2 div.sk-estimator:hover label.sk-toggleable__label-arrow:before {color: black;}#sk-container-id-2 div.sk-toggleable__content {max-height: 0;max-width: 0;overflow: hidden;text-align: left;background-color: #f0f8ff;}#sk-container-id-2 div.sk-toggleable__content pre {margin: 0.2em;color: black;border-radius: 0.25em;background-color: #f0f8ff;}#sk-container-id-2 input.sk-toggleable__control:checked~div.sk-toggleable__content {max-height: 200px;max-width: 100%;overflow: auto;}#sk-container-id-2 input.sk-toggleable__control:checked~label.sk-toggleable__label-arrow:before {content: \"▾\";}#sk-container-id-2 div.sk-estimator input.sk-toggleable__control:checked~label.sk-toggleable__label {background-color: #d4ebff;}#sk-container-id-2 div.sk-label input.sk-toggleable__control:checked~label.sk-toggleable__label {background-color: #d4ebff;}#sk-container-id-2 input.sk-hidden--visually {border: 0;clip: rect(1px 1px 1px 1px);clip: rect(1px, 1px, 1px, 1px);height: 1px;margin: -1px;overflow: hidden;padding: 0;position: absolute;width: 1px;}#sk-container-id-2 div.sk-estimator {font-family: monospace;background-color: #f0f8ff;border: 1px dotted black;border-radius: 0.25em;box-sizing: border-box;margin-bottom: 0.5em;}#sk-container-id-2 div.sk-estimator:hover {background-color: #d4ebff;}#sk-container-id-2 div.sk-parallel-item::after {content: \"\";width: 100%;border-bottom: 1px solid gray;flex-grow: 1;}#sk-container-id-2 div.sk-label:hover label.sk-toggleable__label {background-color: #d4ebff;}#sk-container-id-2 div.sk-serial::before {content: \"\";position: absolute;border-left: 1px solid gray;box-sizing: border-box;top: 0;bottom: 0;left: 50%;z-index: 0;}#sk-container-id-2 div.sk-serial {display: flex;flex-direction: column;align-items: center;background-color: white;padding-right: 0.2em;padding-left: 0.2em;position: relative;}#sk-container-id-2 div.sk-item {position: relative;z-index: 1;}#sk-container-id-2 div.sk-parallel {display: flex;align-items: stretch;justify-content: center;background-color: white;position: relative;}#sk-container-id-2 div.sk-item::before, #sk-container-id-2 div.sk-parallel-item::before {content: \"\";position: absolute;border-left: 1px solid gray;box-sizing: border-box;top: 0;bottom: 0;left: 50%;z-index: -1;}#sk-container-id-2 div.sk-parallel-item {display: flex;flex-direction: column;z-index: 1;position: relative;background-color: white;}#sk-container-id-2 div.sk-parallel-item:first-child::after {align-self: flex-end;width: 50%;}#sk-container-id-2 div.sk-parallel-item:last-child::after {align-self: flex-start;width: 50%;}#sk-container-id-2 div.sk-parallel-item:only-child::after {width: 0;}#sk-container-id-2 div.sk-dashed-wrapped {border: 1px dashed gray;margin: 0 0.4em 0.5em 0.4em;box-sizing: border-box;padding-bottom: 0.4em;background-color: white;}#sk-container-id-2 div.sk-label label {font-family: monospace;font-weight: bold;display: inline-block;line-height: 1.2em;}#sk-container-id-2 div.sk-label-container {text-align: center;}#sk-container-id-2 div.sk-container {/* jupyter's `normalize.less` sets `[hidden] { display: none; }` but bootstrap.min.css set `[hidden] { display: none !important; }` so we also need the `!important` here to be able to override the default hidden behavior on the sphinx rendered scikit-learn.org. See: https://github.com/scikit-learn/scikit-learn/issues/21755 */display: inline-block !important;position: relative;}#sk-container-id-2 div.sk-text-repr-fallback {display: none;}</style><div id=\"sk-container-id-2\" class=\"sk-top-container\"><div class=\"sk-text-repr-fallback\"><pre>Pipeline(steps=[(&#x27;cv&#x27;, TfidfVectorizer(stop_words=&#x27;english&#x27;)),\n",
       "                (&#x27;lr_multi&#x27;,\n",
       "                 MultiOutputClassifier(estimator=GridSearchCV(cv=5,\n",
       "                                                              estimator=LogisticRegression(),\n",
       "                                                              param_grid={&#x27;C&#x27;: [0.001,\n",
       "                                                                                0.01,\n",
       "                                                                                0.1,\n",
       "                                                                                1,\n",
       "                                                                                10,\n",
       "                                                                                100,\n",
       "                                                                                200]})))])</pre><b>In a Jupyter environment, please rerun this cell to show the HTML representation or trust the notebook. <br />On GitHub, the HTML representation is unable to render, please try loading this page with nbviewer.org.</b></div><div class=\"sk-container\" hidden><div class=\"sk-item sk-dashed-wrapped\"><div class=\"sk-label-container\"><div class=\"sk-label sk-toggleable\"><input class=\"sk-toggleable__control sk-hidden--visually\" id=\"sk-estimator-id-7\" type=\"checkbox\" ><label for=\"sk-estimator-id-7\" class=\"sk-toggleable__label sk-toggleable__label-arrow\">Pipeline</label><div class=\"sk-toggleable__content\"><pre>Pipeline(steps=[(&#x27;cv&#x27;, TfidfVectorizer(stop_words=&#x27;english&#x27;)),\n",
       "                (&#x27;lr_multi&#x27;,\n",
       "                 MultiOutputClassifier(estimator=GridSearchCV(cv=5,\n",
       "                                                              estimator=LogisticRegression(),\n",
       "                                                              param_grid={&#x27;C&#x27;: [0.001,\n",
       "                                                                                0.01,\n",
       "                                                                                0.1,\n",
       "                                                                                1,\n",
       "                                                                                10,\n",
       "                                                                                100,\n",
       "                                                                                200]})))])</pre></div></div></div><div class=\"sk-serial\"><div class=\"sk-item\"><div class=\"sk-estimator sk-toggleable\"><input class=\"sk-toggleable__control sk-hidden--visually\" id=\"sk-estimator-id-8\" type=\"checkbox\" ><label for=\"sk-estimator-id-8\" class=\"sk-toggleable__label sk-toggleable__label-arrow\">TfidfVectorizer</label><div class=\"sk-toggleable__content\"><pre>TfidfVectorizer(stop_words=&#x27;english&#x27;)</pre></div></div></div><div class=\"sk-item sk-dashed-wrapped\"><div class=\"sk-label-container\"><div class=\"sk-label sk-toggleable\"><input class=\"sk-toggleable__control sk-hidden--visually\" id=\"sk-estimator-id-9\" type=\"checkbox\" ><label for=\"sk-estimator-id-9\" class=\"sk-toggleable__label sk-toggleable__label-arrow\">lr_multi: MultiOutputClassifier</label><div class=\"sk-toggleable__content\"><pre>MultiOutputClassifier(estimator=GridSearchCV(cv=5,\n",
       "                                             estimator=LogisticRegression(),\n",
       "                                             param_grid={&#x27;C&#x27;: [0.001, 0.01, 0.1,\n",
       "                                                               1, 10, 100,\n",
       "                                                               200]}))</pre></div></div></div><div class=\"sk-parallel\"><div class=\"sk-parallel-item\"><div class=\"sk-item\"><div class=\"sk-label-container\"><div class=\"sk-label sk-toggleable\"><input class=\"sk-toggleable__control sk-hidden--visually\" id=\"sk-estimator-id-10\" type=\"checkbox\" ><label for=\"sk-estimator-id-10\" class=\"sk-toggleable__label sk-toggleable__label-arrow\">estimator: GridSearchCV</label><div class=\"sk-toggleable__content\"><pre>GridSearchCV(cv=5, estimator=LogisticRegression(),\n",
       "             param_grid={&#x27;C&#x27;: [0.001, 0.01, 0.1, 1, 10, 100, 200]})</pre></div></div></div><div class=\"sk-serial\"><div class=\"sk-item sk-dashed-wrapped\"><div class=\"sk-parallel\"><div class=\"sk-parallel-item\"><div class=\"sk-item\"><div class=\"sk-label-container\"><div class=\"sk-label sk-toggleable\"><input class=\"sk-toggleable__control sk-hidden--visually\" id=\"sk-estimator-id-11\" type=\"checkbox\" ><label for=\"sk-estimator-id-11\" class=\"sk-toggleable__label sk-toggleable__label-arrow\">estimator: LogisticRegression</label><div class=\"sk-toggleable__content\"><pre>LogisticRegression()</pre></div></div></div><div class=\"sk-serial\"><div class=\"sk-item\"><div class=\"sk-estimator sk-toggleable\"><input class=\"sk-toggleable__control sk-hidden--visually\" id=\"sk-estimator-id-12\" type=\"checkbox\" ><label for=\"sk-estimator-id-12\" class=\"sk-toggleable__label sk-toggleable__label-arrow\">LogisticRegression</label><div class=\"sk-toggleable__content\"><pre>LogisticRegression()</pre></div></div></div></div></div></div></div></div></div></div></div></div></div></div></div></div></div>"
      ],
      "text/plain": [
       "Pipeline(steps=[('cv', TfidfVectorizer(stop_words='english')),\n",
       "                ('lr_multi',\n",
       "                 MultiOutputClassifier(estimator=GridSearchCV(cv=5,\n",
       "                                                              estimator=LogisticRegression(),\n",
       "                                                              param_grid={'C': [0.001,\n",
       "                                                                                0.01,\n",
       "                                                                                0.1,\n",
       "                                                                                1,\n",
       "                                                                                10,\n",
       "                                                                                100,\n",
       "                                                                                200]})))])"
      ]
     },
     "execution_count": 83,
     "metadata": {},
     "output_type": "execute_result"
    }
   ],
   "source": [
    "pipe_lr.fit(X_train, y_train)"
   ]
  },
  {
   "cell_type": "code",
   "execution_count": 84,
   "id": "9eab65c1",
   "metadata": {},
   "outputs": [
    {
     "data": {
      "text/plain": [
       "0.9251784395766675"
      ]
     },
     "execution_count": 84,
     "metadata": {},
     "output_type": "execute_result"
    }
   ],
   "source": [
    "pipe_lr.score(X_train,y_train)"
   ]
  },
  {
   "cell_type": "code",
   "execution_count": 85,
   "id": "74496604",
   "metadata": {},
   "outputs": [
    {
     "data": {
      "text/plain": [
       "0.8192557590076787"
      ]
     },
     "execution_count": 85,
     "metadata": {},
     "output_type": "execute_result"
    }
   ],
   "source": [
    "pipe_lr.score(X_test,y_test)"
   ]
  },
  {
   "cell_type": "code",
   "execution_count": 86,
   "id": "dded5a9c",
   "metadata": {},
   "outputs": [],
   "source": [
    "pred1 = 'Four wheel servicing in Brighton'"
   ]
  },
  {
   "cell_type": "code",
   "execution_count": null,
   "id": "62fb8631",
   "metadata": {},
   "outputs": [],
   "source": [
    "X_test.iloc[0]"
   ]
  },
  {
   "cell_type": "code",
   "execution_count": 87,
   "id": "2700e6e9",
   "metadata": {},
   "outputs": [
    {
     "data": {
      "text/plain": [
       "array([['For Sale', 'Bicycles']], dtype=object)"
      ]
     },
     "execution_count": 87,
     "metadata": {},
     "output_type": "execute_result"
    }
   ],
   "source": [
    "pipe_lr.predict([pred1])"
   ]
  },
  {
   "cell_type": "code",
   "execution_count": null,
   "id": "e631862c",
   "metadata": {},
   "outputs": [],
   "source": []
  },
  {
   "cell_type": "code",
   "execution_count": 69,
   "id": "1758b50e",
   "metadata": {},
   "outputs": [
    {
     "data": {
      "text/plain": [
       "[array([[0.00235534, 0.01376362, 0.001434  , 0.01512163, 0.92716194,\n",
       "         0.01448279, 0.02269215, 0.00298854]])]"
      ]
     },
     "execution_count": 69,
     "metadata": {},
     "output_type": "execute_result"
    }
   ],
   "source": [
    "pipe_lr.predict_proba([pred1])"
   ]
  },
  {
   "cell_type": "code",
   "execution_count": null,
   "id": "be71151e",
   "metadata": {},
   "outputs": [],
   "source": []
  },
  {
   "cell_type": "code",
   "execution_count": null,
   "id": "28e5bb4d",
   "metadata": {},
   "outputs": [],
   "source": []
  },
  {
   "cell_type": "code",
   "execution_count": 88,
   "id": "947cfd91",
   "metadata": {},
   "outputs": [],
   "source": [
    "# Save the model to a file using pickle\n",
    "filename = 'FAD_MLclassifier_MultiOut.pkl'\n",
    "with open(filename, 'wb') as file:\n",
    "    pickle.dump(pipe_lr, file)"
   ]
  },
  {
   "cell_type": "code",
   "execution_count": 89,
   "id": "b6abf22d",
   "metadata": {},
   "outputs": [],
   "source": [
    "file.close()"
   ]
  },
  {
   "cell_type": "code",
   "execution_count": null,
   "id": "12791a2e",
   "metadata": {},
   "outputs": [],
   "source": []
  },
  {
   "cell_type": "code",
   "execution_count": null,
   "id": "fb330b71",
   "metadata": {},
   "outputs": [],
   "source": []
  },
  {
   "cell_type": "code",
   "execution_count": null,
   "id": "587b3895",
   "metadata": {},
   "outputs": [],
   "source": []
  },
  {
   "cell_type": "code",
   "execution_count": null,
   "id": "5ccbe165",
   "metadata": {},
   "outputs": [],
   "source": []
  },
  {
   "cell_type": "code",
   "execution_count": null,
   "id": "f67a3741",
   "metadata": {},
   "outputs": [],
   "source": []
  },
  {
   "cell_type": "code",
   "execution_count": null,
   "id": "8792b7eb",
   "metadata": {},
   "outputs": [],
   "source": []
  },
  {
   "cell_type": "code",
   "execution_count": null,
   "id": "2e1c0913",
   "metadata": {},
   "outputs": [],
   "source": []
  },
  {
   "cell_type": "code",
   "execution_count": null,
   "id": "55adaaeb",
   "metadata": {},
   "outputs": [],
   "source": []
  },
  {
   "cell_type": "code",
   "execution_count": null,
   "id": "6c8531f2",
   "metadata": {},
   "outputs": [],
   "source": []
  },
  {
   "cell_type": "code",
   "execution_count": null,
   "id": "0ca713b1",
   "metadata": {},
   "outputs": [],
   "source": []
  },
  {
   "cell_type": "code",
   "execution_count": 91,
   "id": "6fd7584e",
   "metadata": {},
   "outputs": [],
   "source": [
    "tfidfvectorizer = TfidfVectorizer(analyzer='word',stop_words= 'english')\n",
    "\n",
    "X_train_cv = tfidfvectorizer.fit_transform(X_train)\n",
    "X_test_cv = tfidfvectorizer.transform(X_test)"
   ]
  },
  {
   "cell_type": "code",
   "execution_count": 92,
   "id": "a065385b",
   "metadata": {},
   "outputs": [
    {
     "data": {
      "text/plain": [
       "(81260, 22895)"
      ]
     },
     "execution_count": 92,
     "metadata": {},
     "output_type": "execute_result"
    }
   ],
   "source": [
    "# cv = CountVectorizer()\n",
    "\n",
    "# X_train_cv = cv.fit_transform(X_train)\n",
    "\n",
    "X_train_cv.shape"
   ]
  },
  {
   "cell_type": "code",
   "execution_count": 93,
   "id": "87e42ad5",
   "metadata": {},
   "outputs": [
    {
     "data": {
      "text/plain": [
       "(20316, 22895)"
      ]
     },
     "execution_count": 93,
     "metadata": {},
     "output_type": "execute_result"
    }
   ],
   "source": [
    "# transform X_test using CV\n",
    "# X_test_cv = cv.transform(X_test)\n",
    "\n",
    "X_test_cv.shape"
   ]
  },
  {
   "cell_type": "code",
   "execution_count": null,
   "id": "5a2dba68",
   "metadata": {},
   "outputs": [],
   "source": []
  },
  {
   "cell_type": "code",
   "execution_count": null,
   "id": "3bb9aa38",
   "metadata": {},
   "outputs": [],
   "source": []
  },
  {
   "cell_type": "code",
   "execution_count": null,
   "id": "639aaa85",
   "metadata": {},
   "outputs": [],
   "source": []
  },
  {
   "cell_type": "code",
   "execution_count": null,
   "id": "f6fd85fc",
   "metadata": {},
   "outputs": [],
   "source": []
  },
  {
   "cell_type": "code",
   "execution_count": null,
   "id": "a5267552",
   "metadata": {},
   "outputs": [],
   "source": [
    "Break Auto Execution # Self-induced error"
   ]
  },
  {
   "cell_type": "markdown",
   "id": "fe4c6977",
   "metadata": {},
   "source": [
    "---"
   ]
  },
  {
   "cell_type": "markdown",
   "id": "fa200b13",
   "metadata": {},
   "source": [
    "# <div class = 'alert alert-warning'> Logistic Regression Classifier</div>"
   ]
  },
  {
   "cell_type": "code",
   "execution_count": null,
   "id": "17347ff1",
   "metadata": {},
   "outputs": [],
   "source": [
    "# Logistic Regression model\n",
    "from sklearn.metrics import classification_report\n",
    "from sklearn.metrics import confusion_matrix"
   ]
  },
  {
   "cell_type": "code",
   "execution_count": null,
   "id": "14721ff5",
   "metadata": {},
   "outputs": [],
   "source": [
    "lr = LogisticRegression()\n",
    "\n",
    "lr.fit(X_train_cv, y_train)"
   ]
  },
  {
   "cell_type": "code",
   "execution_count": null,
   "id": "99a3007a",
   "metadata": {},
   "outputs": [],
   "source": [
    "# Predictions\n",
    "y_pred_test = lr.predict(X_test_cv)\n",
    "y_pred_test"
   ]
  },
  {
   "cell_type": "code",
   "execution_count": null,
   "id": "11f94dcf",
   "metadata": {},
   "outputs": [],
   "source": [
    "y_pred_train = lr.predict(X_train_cv)\n",
    "y_pred_train"
   ]
  },
  {
   "cell_type": "code",
   "execution_count": null,
   "id": "6c01718c",
   "metadata": {},
   "outputs": [],
   "source": [
    "print(classification_report(y_pred_train, y_train))"
   ]
  },
  {
   "cell_type": "code",
   "execution_count": null,
   "id": "822e1549",
   "metadata": {},
   "outputs": [],
   "source": [
    "print(classification_report(y_pred_test, y_test))"
   ]
  },
  {
   "cell_type": "code",
   "execution_count": null,
   "id": "e592d782",
   "metadata": {},
   "outputs": [],
   "source": [
    "cf_matrix = confusion_matrix(y_train, y_pred_train)\n",
    "\n",
    "print(cf_matrix)"
   ]
  },
  {
   "cell_type": "code",
   "execution_count": null,
   "id": "8a1c955f",
   "metadata": {},
   "outputs": [],
   "source": [
    "cf_matrix = confusion_matrix(y_test, y_pred_test)\n",
    "\n",
    "print(cf_matrix)"
   ]
  },
  {
   "cell_type": "code",
   "execution_count": null,
   "id": "a0e19f33",
   "metadata": {},
   "outputs": [],
   "source": []
  },
  {
   "cell_type": "markdown",
   "id": "370f8386",
   "metadata": {},
   "source": [
    "# <div class = 'alert alert-success'>CV for Logistic Regression</div>"
   ]
  },
  {
   "cell_type": "code",
   "execution_count": null,
   "id": "7410d8b0",
   "metadata": {},
   "outputs": [],
   "source": []
  },
  {
   "cell_type": "code",
   "execution_count": null,
   "id": "96604d45",
   "metadata": {},
   "outputs": [],
   "source": [
    "lr = LogisticRegression()\n",
    "\n",
    "param_grid = {'C': [0.001, 0.01, 0.1, 1, 10, 100, 200]}\n",
    "grid = GridSearchCV(lr, param_grid, cv=3)\n",
    "grid.fit(X_train_cv, y_train)\n",
    "\n",
    "\n",
    "# Recheck the best cross-validation sccore\n",
    "\n",
    "print(\"Best cross-validation score:\", grid.best_score_)\n",
    "print(\"Best parameters:\", grid.best_params_)\n",
    "print(\"Test set score:\", grid.score(X_test_cv, y_test))"
   ]
  },
  {
   "cell_type": "code",
   "execution_count": null,
   "id": "b3f0970b",
   "metadata": {},
   "outputs": [],
   "source": [
    "y_pred_test = grid.predict(X_test_cv)"
   ]
  },
  {
   "cell_type": "code",
   "execution_count": null,
   "id": "b79826fb",
   "metadata": {},
   "outputs": [],
   "source": [
    "y_pred_train = grid.predict(X_train_cv)"
   ]
  },
  {
   "cell_type": "code",
   "execution_count": null,
   "id": "df0869f8",
   "metadata": {},
   "outputs": [],
   "source": [
    "print(classification_report(y_train, y_pred_train))"
   ]
  },
  {
   "cell_type": "code",
   "execution_count": null,
   "id": "d08063a1",
   "metadata": {},
   "outputs": [],
   "source": [
    "print(\"Classification report for test data: \\n\")\n",
    "print(classification_report(y_test, y_pred_test))"
   ]
  },
  {
   "cell_type": "code",
   "execution_count": null,
   "id": "2a418e95",
   "metadata": {},
   "outputs": [],
   "source": [
    "cf_matrix = confusion_matrix(y_test, y_pred_test)\n",
    "\n",
    "print(cf_matrix)"
   ]
  },
  {
   "cell_type": "code",
   "execution_count": null,
   "id": "894e517d",
   "metadata": {},
   "outputs": [],
   "source": []
  },
  {
   "cell_type": "code",
   "execution_count": null,
   "id": "76d0275f",
   "metadata": {},
   "outputs": [],
   "source": []
  },
  {
   "cell_type": "markdown",
   "id": "95d97385",
   "metadata": {},
   "source": [
    "# <div class = 'alert alert-warning'>Random Forest Classifer</div>"
   ]
  },
  {
   "cell_type": "code",
   "execution_count": 147,
   "id": "dc9cb3cb",
   "metadata": {},
   "outputs": [],
   "source": [
    "from sklearn.ensemble import RandomForestClassifier\n",
    "from sklearn.metrics import accuracy_score, classification_report\n",
    "from sklearn.model_selection import cross_val_score\n",
    "from sklearn.model_selection import train_test_split\n",
    "from sklearn.metrics import classification_report\n",
    "from sklearn.model_selection import RandomizedSearchCV"
   ]
  },
  {
   "cell_type": "code",
   "execution_count": 95,
   "id": "5a139dfe",
   "metadata": {},
   "outputs": [
    {
     "data": {
      "text/html": [
       "<style>#sk-container-id-3 {color: black;}#sk-container-id-3 pre{padding: 0;}#sk-container-id-3 div.sk-toggleable {background-color: white;}#sk-container-id-3 label.sk-toggleable__label {cursor: pointer;display: block;width: 100%;margin-bottom: 0;padding: 0.3em;box-sizing: border-box;text-align: center;}#sk-container-id-3 label.sk-toggleable__label-arrow:before {content: \"▸\";float: left;margin-right: 0.25em;color: #696969;}#sk-container-id-3 label.sk-toggleable__label-arrow:hover:before {color: black;}#sk-container-id-3 div.sk-estimator:hover label.sk-toggleable__label-arrow:before {color: black;}#sk-container-id-3 div.sk-toggleable__content {max-height: 0;max-width: 0;overflow: hidden;text-align: left;background-color: #f0f8ff;}#sk-container-id-3 div.sk-toggleable__content pre {margin: 0.2em;color: black;border-radius: 0.25em;background-color: #f0f8ff;}#sk-container-id-3 input.sk-toggleable__control:checked~div.sk-toggleable__content {max-height: 200px;max-width: 100%;overflow: auto;}#sk-container-id-3 input.sk-toggleable__control:checked~label.sk-toggleable__label-arrow:before {content: \"▾\";}#sk-container-id-3 div.sk-estimator input.sk-toggleable__control:checked~label.sk-toggleable__label {background-color: #d4ebff;}#sk-container-id-3 div.sk-label input.sk-toggleable__control:checked~label.sk-toggleable__label {background-color: #d4ebff;}#sk-container-id-3 input.sk-hidden--visually {border: 0;clip: rect(1px 1px 1px 1px);clip: rect(1px, 1px, 1px, 1px);height: 1px;margin: -1px;overflow: hidden;padding: 0;position: absolute;width: 1px;}#sk-container-id-3 div.sk-estimator {font-family: monospace;background-color: #f0f8ff;border: 1px dotted black;border-radius: 0.25em;box-sizing: border-box;margin-bottom: 0.5em;}#sk-container-id-3 div.sk-estimator:hover {background-color: #d4ebff;}#sk-container-id-3 div.sk-parallel-item::after {content: \"\";width: 100%;border-bottom: 1px solid gray;flex-grow: 1;}#sk-container-id-3 div.sk-label:hover label.sk-toggleable__label {background-color: #d4ebff;}#sk-container-id-3 div.sk-serial::before {content: \"\";position: absolute;border-left: 1px solid gray;box-sizing: border-box;top: 0;bottom: 0;left: 50%;z-index: 0;}#sk-container-id-3 div.sk-serial {display: flex;flex-direction: column;align-items: center;background-color: white;padding-right: 0.2em;padding-left: 0.2em;position: relative;}#sk-container-id-3 div.sk-item {position: relative;z-index: 1;}#sk-container-id-3 div.sk-parallel {display: flex;align-items: stretch;justify-content: center;background-color: white;position: relative;}#sk-container-id-3 div.sk-item::before, #sk-container-id-3 div.sk-parallel-item::before {content: \"\";position: absolute;border-left: 1px solid gray;box-sizing: border-box;top: 0;bottom: 0;left: 50%;z-index: -1;}#sk-container-id-3 div.sk-parallel-item {display: flex;flex-direction: column;z-index: 1;position: relative;background-color: white;}#sk-container-id-3 div.sk-parallel-item:first-child::after {align-self: flex-end;width: 50%;}#sk-container-id-3 div.sk-parallel-item:last-child::after {align-self: flex-start;width: 50%;}#sk-container-id-3 div.sk-parallel-item:only-child::after {width: 0;}#sk-container-id-3 div.sk-dashed-wrapped {border: 1px dashed gray;margin: 0 0.4em 0.5em 0.4em;box-sizing: border-box;padding-bottom: 0.4em;background-color: white;}#sk-container-id-3 div.sk-label label {font-family: monospace;font-weight: bold;display: inline-block;line-height: 1.2em;}#sk-container-id-3 div.sk-label-container {text-align: center;}#sk-container-id-3 div.sk-container {/* jupyter's `normalize.less` sets `[hidden] { display: none; }` but bootstrap.min.css set `[hidden] { display: none !important; }` so we also need the `!important` here to be able to override the default hidden behavior on the sphinx rendered scikit-learn.org. See: https://github.com/scikit-learn/scikit-learn/issues/21755 */display: inline-block !important;position: relative;}#sk-container-id-3 div.sk-text-repr-fallback {display: none;}</style><div id=\"sk-container-id-3\" class=\"sk-top-container\"><div class=\"sk-text-repr-fallback\"><pre>RandomForestClassifier()</pre><b>In a Jupyter environment, please rerun this cell to show the HTML representation or trust the notebook. <br />On GitHub, the HTML representation is unable to render, please try loading this page with nbviewer.org.</b></div><div class=\"sk-container\" hidden><div class=\"sk-item\"><div class=\"sk-estimator sk-toggleable\"><input class=\"sk-toggleable__control sk-hidden--visually\" id=\"sk-estimator-id-13\" type=\"checkbox\" checked><label for=\"sk-estimator-id-13\" class=\"sk-toggleable__label sk-toggleable__label-arrow\">RandomForestClassifier</label><div class=\"sk-toggleable__content\"><pre>RandomForestClassifier()</pre></div></div></div></div></div>"
      ],
      "text/plain": [
       "RandomForestClassifier()"
      ]
     },
     "execution_count": 95,
     "metadata": {},
     "output_type": "execute_result"
    }
   ],
   "source": [
    "clsr = RandomForestClassifier(n_estimators=100)\n",
    "clsr.fit(X_train_cv, y_train)"
   ]
  },
  {
   "cell_type": "code",
   "execution_count": 98,
   "id": "62ce2b2d",
   "metadata": {},
   "outputs": [
    {
     "ename": "ValueError",
     "evalue": "multiclass-multioutput is not supported",
     "output_type": "error",
     "traceback": [
      "\u001b[1;31m---------------------------------------------------------------------------\u001b[0m",
      "\u001b[1;31mValueError\u001b[0m                                Traceback (most recent call last)",
      "Cell \u001b[1;32mIn[98], line 2\u001b[0m\n\u001b[0;32m      1\u001b[0m y_pred_train \u001b[38;5;241m=\u001b[39m clsr\u001b[38;5;241m.\u001b[39mpredict(X_train_cv)\n\u001b[1;32m----> 2\u001b[0m train_score \u001b[38;5;241m=\u001b[39m accuracy_score(y_train, y_pred_train)\n\u001b[0;32m      3\u001b[0m train_score\n",
      "File \u001b[1;32m~\\AppData\\Local\\anaconda3\\Lib\\site-packages\\sklearn\\utils\\_param_validation.py:211\u001b[0m, in \u001b[0;36mvalidate_params.<locals>.decorator.<locals>.wrapper\u001b[1;34m(*args, **kwargs)\u001b[0m\n\u001b[0;32m    205\u001b[0m \u001b[38;5;28;01mtry\u001b[39;00m:\n\u001b[0;32m    206\u001b[0m     \u001b[38;5;28;01mwith\u001b[39;00m config_context(\n\u001b[0;32m    207\u001b[0m         skip_parameter_validation\u001b[38;5;241m=\u001b[39m(\n\u001b[0;32m    208\u001b[0m             prefer_skip_nested_validation \u001b[38;5;129;01mor\u001b[39;00m global_skip_validation\n\u001b[0;32m    209\u001b[0m         )\n\u001b[0;32m    210\u001b[0m     ):\n\u001b[1;32m--> 211\u001b[0m         \u001b[38;5;28;01mreturn\u001b[39;00m func(\u001b[38;5;241m*\u001b[39margs, \u001b[38;5;241m*\u001b[39m\u001b[38;5;241m*\u001b[39mkwargs)\n\u001b[0;32m    212\u001b[0m \u001b[38;5;28;01mexcept\u001b[39;00m InvalidParameterError \u001b[38;5;28;01mas\u001b[39;00m e:\n\u001b[0;32m    213\u001b[0m     \u001b[38;5;66;03m# When the function is just a wrapper around an estimator, we allow\u001b[39;00m\n\u001b[0;32m    214\u001b[0m     \u001b[38;5;66;03m# the function to delegate validation to the estimator, but we replace\u001b[39;00m\n\u001b[0;32m    215\u001b[0m     \u001b[38;5;66;03m# the name of the estimator by the name of the function in the error\u001b[39;00m\n\u001b[0;32m    216\u001b[0m     \u001b[38;5;66;03m# message to avoid confusion.\u001b[39;00m\n\u001b[0;32m    217\u001b[0m     msg \u001b[38;5;241m=\u001b[39m re\u001b[38;5;241m.\u001b[39msub(\n\u001b[0;32m    218\u001b[0m         \u001b[38;5;124mr\u001b[39m\u001b[38;5;124m\"\u001b[39m\u001b[38;5;124mparameter of \u001b[39m\u001b[38;5;124m\\\u001b[39m\u001b[38;5;124mw+ must be\u001b[39m\u001b[38;5;124m\"\u001b[39m,\n\u001b[0;32m    219\u001b[0m         \u001b[38;5;124mf\u001b[39m\u001b[38;5;124m\"\u001b[39m\u001b[38;5;124mparameter of \u001b[39m\u001b[38;5;132;01m{\u001b[39;00mfunc\u001b[38;5;241m.\u001b[39m\u001b[38;5;18m__qualname__\u001b[39m\u001b[38;5;132;01m}\u001b[39;00m\u001b[38;5;124m must be\u001b[39m\u001b[38;5;124m\"\u001b[39m,\n\u001b[0;32m    220\u001b[0m         \u001b[38;5;28mstr\u001b[39m(e),\n\u001b[0;32m    221\u001b[0m     )\n",
      "File \u001b[1;32m~\\AppData\\Local\\anaconda3\\Lib\\site-packages\\sklearn\\metrics\\_classification.py:220\u001b[0m, in \u001b[0;36maccuracy_score\u001b[1;34m(y_true, y_pred, normalize, sample_weight)\u001b[0m\n\u001b[0;32m    154\u001b[0m \u001b[38;5;250m\u001b[39m\u001b[38;5;124;03m\"\"\"Accuracy classification score.\u001b[39;00m\n\u001b[0;32m    155\u001b[0m \n\u001b[0;32m    156\u001b[0m \u001b[38;5;124;03mIn multilabel classification, this function computes subset accuracy:\u001b[39;00m\n\u001b[1;32m   (...)\u001b[0m\n\u001b[0;32m    216\u001b[0m \u001b[38;5;124;03m0.5\u001b[39;00m\n\u001b[0;32m    217\u001b[0m \u001b[38;5;124;03m\"\"\"\u001b[39;00m\n\u001b[0;32m    219\u001b[0m \u001b[38;5;66;03m# Compute accuracy for each possible representation\u001b[39;00m\n\u001b[1;32m--> 220\u001b[0m y_type, y_true, y_pred \u001b[38;5;241m=\u001b[39m _check_targets(y_true, y_pred)\n\u001b[0;32m    221\u001b[0m check_consistent_length(y_true, y_pred, sample_weight)\n\u001b[0;32m    222\u001b[0m \u001b[38;5;28;01mif\u001b[39;00m y_type\u001b[38;5;241m.\u001b[39mstartswith(\u001b[38;5;124m\"\u001b[39m\u001b[38;5;124mmultilabel\u001b[39m\u001b[38;5;124m\"\u001b[39m):\n",
      "File \u001b[1;32m~\\AppData\\Local\\anaconda3\\Lib\\site-packages\\sklearn\\metrics\\_classification.py:104\u001b[0m, in \u001b[0;36m_check_targets\u001b[1;34m(y_true, y_pred)\u001b[0m\n\u001b[0;32m    102\u001b[0m \u001b[38;5;66;03m# No metrics support \"multiclass-multioutput\" format\u001b[39;00m\n\u001b[0;32m    103\u001b[0m \u001b[38;5;28;01mif\u001b[39;00m y_type \u001b[38;5;129;01mnot\u001b[39;00m \u001b[38;5;129;01min\u001b[39;00m [\u001b[38;5;124m\"\u001b[39m\u001b[38;5;124mbinary\u001b[39m\u001b[38;5;124m\"\u001b[39m, \u001b[38;5;124m\"\u001b[39m\u001b[38;5;124mmulticlass\u001b[39m\u001b[38;5;124m\"\u001b[39m, \u001b[38;5;124m\"\u001b[39m\u001b[38;5;124mmultilabel-indicator\u001b[39m\u001b[38;5;124m\"\u001b[39m]:\n\u001b[1;32m--> 104\u001b[0m     \u001b[38;5;28;01mraise\u001b[39;00m \u001b[38;5;167;01mValueError\u001b[39;00m(\u001b[38;5;124m\"\u001b[39m\u001b[38;5;132;01m{0}\u001b[39;00m\u001b[38;5;124m is not supported\u001b[39m\u001b[38;5;124m\"\u001b[39m\u001b[38;5;241m.\u001b[39mformat(y_type))\n\u001b[0;32m    106\u001b[0m \u001b[38;5;28;01mif\u001b[39;00m y_type \u001b[38;5;129;01min\u001b[39;00m [\u001b[38;5;124m\"\u001b[39m\u001b[38;5;124mbinary\u001b[39m\u001b[38;5;124m\"\u001b[39m, \u001b[38;5;124m\"\u001b[39m\u001b[38;5;124mmulticlass\u001b[39m\u001b[38;5;124m\"\u001b[39m]:\n\u001b[0;32m    107\u001b[0m     y_true \u001b[38;5;241m=\u001b[39m column_or_1d(y_true)\n",
      "\u001b[1;31mValueError\u001b[0m: multiclass-multioutput is not supported"
     ]
    }
   ],
   "source": [
    "y_pred_train = clsr.predict(X_train_cv)\n",
    "train_score = accuracy_score(y_train, y_pred_train)\n",
    "train_score"
   ]
  },
  {
   "cell_type": "code",
   "execution_count": null,
   "id": "d9e0142d",
   "metadata": {},
   "outputs": [],
   "source": [
    "# Predictions\n",
    "y_pred_test = clsr.predict(X_test_cv)\n",
    "test_score= accuracy_score(y_test, y_pred_test)\n",
    "test_score"
   ]
  },
  {
   "cell_type": "code",
   "execution_count": null,
   "id": "b022f9f6",
   "metadata": {},
   "outputs": [],
   "source": [
    "# Classification Report\n",
    "print('Classification report for Random Forest (Train set) = \\n')\n",
    "print(classification_report(y_pred_train, y_train))"
   ]
  },
  {
   "cell_type": "code",
   "execution_count": null,
   "id": "51701116",
   "metadata": {},
   "outputs": [],
   "source": [
    "# Classification Report\n",
    "print('Classification report for Random Forest (Test set)= \\n')\n",
    "print(classification_report(y_pred_test, y_test))"
   ]
  },
  {
   "cell_type": "code",
   "execution_count": null,
   "id": "70481817",
   "metadata": {},
   "outputs": [],
   "source": []
  },
  {
   "cell_type": "markdown",
   "id": "b36ef4c7",
   "metadata": {},
   "source": [
    "# <div class = 'alert alert-warning'>CV for Random Forest</div>"
   ]
  },
  {
   "cell_type": "code",
   "execution_count": 99,
   "id": "dbb248be",
   "metadata": {},
   "outputs": [],
   "source": [
    "n_estimators = [int(x) for x in np.linspace(start = 0, stop = 200, num = 10)]\n",
    "\n",
    "max_features = ['sqrt','log2']\n",
    "\n",
    "max_depth = [2,4]\n",
    "\n",
    "min_samples_split = [2, 5]\n",
    "\n",
    "min_samples_leaf = [1, 2]\n",
    "\n",
    "bootstrap = [True, False]"
   ]
  },
  {
   "cell_type": "code",
   "execution_count": 100,
   "id": "b014156d",
   "metadata": {},
   "outputs": [],
   "source": [
    "pipe_lr = Pipeline(steps=[('cv',TfidfVectorizer(analyzer='word',stop_words= 'english')),\n",
    "                          ('lr_multi',MultiOutputClassifier(\n",
    "                              RandomizedSearchCV(RandomForestClassifier(), \n",
    "                                                 {'n_estimators': n_estimators,\n",
    "                                                   'max_features': max_features,\n",
    "                                                   'max_depth': max_depth,\n",
    "                                                   'min_samples_split': min_samples_split,\n",
    "                                                   'min_samples_leaf': min_samples_leaf,\n",
    "                                                   'bootstrap': bootstrap}, \n",
    "                                                 cv=5)\n",
    "                              ))]\n",
    "                  )"
   ]
  },
  {
   "cell_type": "code",
   "execution_count": 101,
   "id": "5109868d",
   "metadata": {},
   "outputs": [
    {
     "data": {
      "text/html": [
       "<style>#sk-container-id-4 {color: black;}#sk-container-id-4 pre{padding: 0;}#sk-container-id-4 div.sk-toggleable {background-color: white;}#sk-container-id-4 label.sk-toggleable__label {cursor: pointer;display: block;width: 100%;margin-bottom: 0;padding: 0.3em;box-sizing: border-box;text-align: center;}#sk-container-id-4 label.sk-toggleable__label-arrow:before {content: \"▸\";float: left;margin-right: 0.25em;color: #696969;}#sk-container-id-4 label.sk-toggleable__label-arrow:hover:before {color: black;}#sk-container-id-4 div.sk-estimator:hover label.sk-toggleable__label-arrow:before {color: black;}#sk-container-id-4 div.sk-toggleable__content {max-height: 0;max-width: 0;overflow: hidden;text-align: left;background-color: #f0f8ff;}#sk-container-id-4 div.sk-toggleable__content pre {margin: 0.2em;color: black;border-radius: 0.25em;background-color: #f0f8ff;}#sk-container-id-4 input.sk-toggleable__control:checked~div.sk-toggleable__content {max-height: 200px;max-width: 100%;overflow: auto;}#sk-container-id-4 input.sk-toggleable__control:checked~label.sk-toggleable__label-arrow:before {content: \"▾\";}#sk-container-id-4 div.sk-estimator input.sk-toggleable__control:checked~label.sk-toggleable__label {background-color: #d4ebff;}#sk-container-id-4 div.sk-label input.sk-toggleable__control:checked~label.sk-toggleable__label {background-color: #d4ebff;}#sk-container-id-4 input.sk-hidden--visually {border: 0;clip: rect(1px 1px 1px 1px);clip: rect(1px, 1px, 1px, 1px);height: 1px;margin: -1px;overflow: hidden;padding: 0;position: absolute;width: 1px;}#sk-container-id-4 div.sk-estimator {font-family: monospace;background-color: #f0f8ff;border: 1px dotted black;border-radius: 0.25em;box-sizing: border-box;margin-bottom: 0.5em;}#sk-container-id-4 div.sk-estimator:hover {background-color: #d4ebff;}#sk-container-id-4 div.sk-parallel-item::after {content: \"\";width: 100%;border-bottom: 1px solid gray;flex-grow: 1;}#sk-container-id-4 div.sk-label:hover label.sk-toggleable__label {background-color: #d4ebff;}#sk-container-id-4 div.sk-serial::before {content: \"\";position: absolute;border-left: 1px solid gray;box-sizing: border-box;top: 0;bottom: 0;left: 50%;z-index: 0;}#sk-container-id-4 div.sk-serial {display: flex;flex-direction: column;align-items: center;background-color: white;padding-right: 0.2em;padding-left: 0.2em;position: relative;}#sk-container-id-4 div.sk-item {position: relative;z-index: 1;}#sk-container-id-4 div.sk-parallel {display: flex;align-items: stretch;justify-content: center;background-color: white;position: relative;}#sk-container-id-4 div.sk-item::before, #sk-container-id-4 div.sk-parallel-item::before {content: \"\";position: absolute;border-left: 1px solid gray;box-sizing: border-box;top: 0;bottom: 0;left: 50%;z-index: -1;}#sk-container-id-4 div.sk-parallel-item {display: flex;flex-direction: column;z-index: 1;position: relative;background-color: white;}#sk-container-id-4 div.sk-parallel-item:first-child::after {align-self: flex-end;width: 50%;}#sk-container-id-4 div.sk-parallel-item:last-child::after {align-self: flex-start;width: 50%;}#sk-container-id-4 div.sk-parallel-item:only-child::after {width: 0;}#sk-container-id-4 div.sk-dashed-wrapped {border: 1px dashed gray;margin: 0 0.4em 0.5em 0.4em;box-sizing: border-box;padding-bottom: 0.4em;background-color: white;}#sk-container-id-4 div.sk-label label {font-family: monospace;font-weight: bold;display: inline-block;line-height: 1.2em;}#sk-container-id-4 div.sk-label-container {text-align: center;}#sk-container-id-4 div.sk-container {/* jupyter's `normalize.less` sets `[hidden] { display: none; }` but bootstrap.min.css set `[hidden] { display: none !important; }` so we also need the `!important` here to be able to override the default hidden behavior on the sphinx rendered scikit-learn.org. See: https://github.com/scikit-learn/scikit-learn/issues/21755 */display: inline-block !important;position: relative;}#sk-container-id-4 div.sk-text-repr-fallback {display: none;}</style><div id=\"sk-container-id-4\" class=\"sk-top-container\"><div class=\"sk-text-repr-fallback\"><pre>Pipeline(steps=[(&#x27;cv&#x27;, TfidfVectorizer(stop_words=&#x27;english&#x27;)),\n",
       "                (&#x27;lr_multi&#x27;,\n",
       "                 MultiOutputClassifier(estimator=RandomizedSearchCV(cv=5,\n",
       "                                                                    estimator=RandomForestClassifier(),\n",
       "                                                                    param_distributions={&#x27;bootstrap&#x27;: [True,\n",
       "                                                                                                       False],\n",
       "                                                                                         &#x27;max_depth&#x27;: [2,\n",
       "                                                                                                       4],\n",
       "                                                                                         &#x27;max_features&#x27;: [&#x27;sqrt&#x27;,\n",
       "                                                                                                          &#x27;log2&#x27;],\n",
       "                                                                                         &#x27;min_samples_leaf&#x27;: [1,\n",
       "                                                                                                              2],\n",
       "                                                                                         &#x27;min_samples_split&#x27;: [2,\n",
       "                                                                                                               5],\n",
       "                                                                                         &#x27;n_estimators&#x27;: [0,\n",
       "                                                                                                          22,\n",
       "                                                                                                          44,\n",
       "                                                                                                          66,\n",
       "                                                                                                          88,\n",
       "                                                                                                          111,\n",
       "                                                                                                          133,\n",
       "                                                                                                          155,\n",
       "                                                                                                          177,\n",
       "                                                                                                          200]})))])</pre><b>In a Jupyter environment, please rerun this cell to show the HTML representation or trust the notebook. <br />On GitHub, the HTML representation is unable to render, please try loading this page with nbviewer.org.</b></div><div class=\"sk-container\" hidden><div class=\"sk-item sk-dashed-wrapped\"><div class=\"sk-label-container\"><div class=\"sk-label sk-toggleable\"><input class=\"sk-toggleable__control sk-hidden--visually\" id=\"sk-estimator-id-14\" type=\"checkbox\" ><label for=\"sk-estimator-id-14\" class=\"sk-toggleable__label sk-toggleable__label-arrow\">Pipeline</label><div class=\"sk-toggleable__content\"><pre>Pipeline(steps=[(&#x27;cv&#x27;, TfidfVectorizer(stop_words=&#x27;english&#x27;)),\n",
       "                (&#x27;lr_multi&#x27;,\n",
       "                 MultiOutputClassifier(estimator=RandomizedSearchCV(cv=5,\n",
       "                                                                    estimator=RandomForestClassifier(),\n",
       "                                                                    param_distributions={&#x27;bootstrap&#x27;: [True,\n",
       "                                                                                                       False],\n",
       "                                                                                         &#x27;max_depth&#x27;: [2,\n",
       "                                                                                                       4],\n",
       "                                                                                         &#x27;max_features&#x27;: [&#x27;sqrt&#x27;,\n",
       "                                                                                                          &#x27;log2&#x27;],\n",
       "                                                                                         &#x27;min_samples_leaf&#x27;: [1,\n",
       "                                                                                                              2],\n",
       "                                                                                         &#x27;min_samples_split&#x27;: [2,\n",
       "                                                                                                               5],\n",
       "                                                                                         &#x27;n_estimators&#x27;: [0,\n",
       "                                                                                                          22,\n",
       "                                                                                                          44,\n",
       "                                                                                                          66,\n",
       "                                                                                                          88,\n",
       "                                                                                                          111,\n",
       "                                                                                                          133,\n",
       "                                                                                                          155,\n",
       "                                                                                                          177,\n",
       "                                                                                                          200]})))])</pre></div></div></div><div class=\"sk-serial\"><div class=\"sk-item\"><div class=\"sk-estimator sk-toggleable\"><input class=\"sk-toggleable__control sk-hidden--visually\" id=\"sk-estimator-id-15\" type=\"checkbox\" ><label for=\"sk-estimator-id-15\" class=\"sk-toggleable__label sk-toggleable__label-arrow\">TfidfVectorizer</label><div class=\"sk-toggleable__content\"><pre>TfidfVectorizer(stop_words=&#x27;english&#x27;)</pre></div></div></div><div class=\"sk-item sk-dashed-wrapped\"><div class=\"sk-label-container\"><div class=\"sk-label sk-toggleable\"><input class=\"sk-toggleable__control sk-hidden--visually\" id=\"sk-estimator-id-16\" type=\"checkbox\" ><label for=\"sk-estimator-id-16\" class=\"sk-toggleable__label sk-toggleable__label-arrow\">lr_multi: MultiOutputClassifier</label><div class=\"sk-toggleable__content\"><pre>MultiOutputClassifier(estimator=RandomizedSearchCV(cv=5,\n",
       "                                                   estimator=RandomForestClassifier(),\n",
       "                                                   param_distributions={&#x27;bootstrap&#x27;: [True,\n",
       "                                                                                      False],\n",
       "                                                                        &#x27;max_depth&#x27;: [2,\n",
       "                                                                                      4],\n",
       "                                                                        &#x27;max_features&#x27;: [&#x27;sqrt&#x27;,\n",
       "                                                                                         &#x27;log2&#x27;],\n",
       "                                                                        &#x27;min_samples_leaf&#x27;: [1,\n",
       "                                                                                             2],\n",
       "                                                                        &#x27;min_samples_split&#x27;: [2,\n",
       "                                                                                              5],\n",
       "                                                                        &#x27;n_estimators&#x27;: [0,\n",
       "                                                                                         22,\n",
       "                                                                                         44,\n",
       "                                                                                         66,\n",
       "                                                                                         88,\n",
       "                                                                                         111,\n",
       "                                                                                         133,\n",
       "                                                                                         155,\n",
       "                                                                                         177,\n",
       "                                                                                         200]}))</pre></div></div></div><div class=\"sk-parallel\"><div class=\"sk-parallel-item\"><div class=\"sk-item\"><div class=\"sk-label-container\"><div class=\"sk-label sk-toggleable\"><input class=\"sk-toggleable__control sk-hidden--visually\" id=\"sk-estimator-id-17\" type=\"checkbox\" ><label for=\"sk-estimator-id-17\" class=\"sk-toggleable__label sk-toggleable__label-arrow\">estimator: RandomizedSearchCV</label><div class=\"sk-toggleable__content\"><pre>RandomizedSearchCV(cv=5, estimator=RandomForestClassifier(),\n",
       "                   param_distributions={&#x27;bootstrap&#x27;: [True, False],\n",
       "                                        &#x27;max_depth&#x27;: [2, 4],\n",
       "                                        &#x27;max_features&#x27;: [&#x27;sqrt&#x27;, &#x27;log2&#x27;],\n",
       "                                        &#x27;min_samples_leaf&#x27;: [1, 2],\n",
       "                                        &#x27;min_samples_split&#x27;: [2, 5],\n",
       "                                        &#x27;n_estimators&#x27;: [0, 22, 44, 66, 88, 111,\n",
       "                                                         133, 155, 177, 200]})</pre></div></div></div><div class=\"sk-serial\"><div class=\"sk-item sk-dashed-wrapped\"><div class=\"sk-parallel\"><div class=\"sk-parallel-item\"><div class=\"sk-item\"><div class=\"sk-label-container\"><div class=\"sk-label sk-toggleable\"><input class=\"sk-toggleable__control sk-hidden--visually\" id=\"sk-estimator-id-18\" type=\"checkbox\" ><label for=\"sk-estimator-id-18\" class=\"sk-toggleable__label sk-toggleable__label-arrow\">estimator: RandomForestClassifier</label><div class=\"sk-toggleable__content\"><pre>RandomForestClassifier()</pre></div></div></div><div class=\"sk-serial\"><div class=\"sk-item\"><div class=\"sk-estimator sk-toggleable\"><input class=\"sk-toggleable__control sk-hidden--visually\" id=\"sk-estimator-id-19\" type=\"checkbox\" ><label for=\"sk-estimator-id-19\" class=\"sk-toggleable__label sk-toggleable__label-arrow\">RandomForestClassifier</label><div class=\"sk-toggleable__content\"><pre>RandomForestClassifier()</pre></div></div></div></div></div></div></div></div></div></div></div></div></div></div></div></div></div>"
      ],
      "text/plain": [
       "Pipeline(steps=[('cv', TfidfVectorizer(stop_words='english')),\n",
       "                ('lr_multi',\n",
       "                 MultiOutputClassifier(estimator=RandomizedSearchCV(cv=5,\n",
       "                                                                    estimator=RandomForestClassifier(),\n",
       "                                                                    param_distributions={'bootstrap': [True,\n",
       "                                                                                                       False],\n",
       "                                                                                         'max_depth': [2,\n",
       "                                                                                                       4],\n",
       "                                                                                         'max_features': ['sqrt',\n",
       "                                                                                                          'log2'],\n",
       "                                                                                         'min_samples_leaf': [1,\n",
       "                                                                                                              2],\n",
       "                                                                                         'min_samples_split': [2,\n",
       "                                                                                                               5],\n",
       "                                                                                         'n_estimators': [0,\n",
       "                                                                                                          22,\n",
       "                                                                                                          44,\n",
       "                                                                                                          66,\n",
       "                                                                                                          88,\n",
       "                                                                                                          111,\n",
       "                                                                                                          133,\n",
       "                                                                                                          155,\n",
       "                                                                                                          177,\n",
       "                                                                                                          200]})))])"
      ]
     },
     "execution_count": 101,
     "metadata": {},
     "output_type": "execute_result"
    }
   ],
   "source": [
    "pipe_lr.fit(X_train, y_train)"
   ]
  },
  {
   "cell_type": "code",
   "execution_count": null,
   "id": "a6287fd5",
   "metadata": {},
   "outputs": [],
   "source": []
  },
  {
   "cell_type": "code",
   "execution_count": null,
   "id": "69fe1ccc",
   "metadata": {},
   "outputs": [],
   "source": []
  },
  {
   "cell_type": "code",
   "execution_count": 102,
   "id": "3419bbd9",
   "metadata": {},
   "outputs": [
    {
     "data": {
      "text/plain": [
       "0.2723972434161949"
      ]
     },
     "execution_count": 102,
     "metadata": {},
     "output_type": "execute_result"
    }
   ],
   "source": [
    "pipe_lr.score(X_train,y_train)"
   ]
  },
  {
   "cell_type": "code",
   "execution_count": 103,
   "id": "c6d92615",
   "metadata": {},
   "outputs": [
    {
     "data": {
      "text/plain": [
       "0.2769738137428628"
      ]
     },
     "execution_count": 103,
     "metadata": {},
     "output_type": "execute_result"
    }
   ],
   "source": [
    "pipe_lr.score(X_test,y_test)"
   ]
  },
  {
   "cell_type": "code",
   "execution_count": 104,
   "id": "2f3d107b",
   "metadata": {},
   "outputs": [],
   "source": [
    "pred1 = 'Four wheel servicing in Brighton'"
   ]
  },
  {
   "cell_type": "code",
   "execution_count": null,
   "id": "34d1442b",
   "metadata": {},
   "outputs": [],
   "source": [
    "X_test.iloc[0]"
   ]
  },
  {
   "cell_type": "code",
   "execution_count": 105,
   "id": "48957002",
   "metadata": {},
   "outputs": [
    {
     "data": {
      "text/plain": [
       "array([['Motors', 'Cars']], dtype=object)"
      ]
     },
     "execution_count": 105,
     "metadata": {},
     "output_type": "execute_result"
    }
   ],
   "source": [
    "pipe_lr.predict([pred1])"
   ]
  },
  {
   "cell_type": "code",
   "execution_count": null,
   "id": "7d3001d6",
   "metadata": {},
   "outputs": [],
   "source": []
  },
  {
   "cell_type": "code",
   "execution_count": 69,
   "id": "d074c0b1",
   "metadata": {},
   "outputs": [
    {
     "data": {
      "text/plain": [
       "[array([[0.00235534, 0.01376362, 0.001434  , 0.01512163, 0.92716194,\n",
       "         0.01448279, 0.02269215, 0.00298854]])]"
      ]
     },
     "execution_count": 69,
     "metadata": {},
     "output_type": "execute_result"
    }
   ],
   "source": [
    "pipe_lr.predict_proba([pred1])"
   ]
  },
  {
   "cell_type": "code",
   "execution_count": null,
   "id": "3b860176",
   "metadata": {},
   "outputs": [],
   "source": []
  },
  {
   "cell_type": "code",
   "execution_count": null,
   "id": "c5fb2153",
   "metadata": {},
   "outputs": [],
   "source": []
  },
  {
   "cell_type": "code",
   "execution_count": null,
   "id": "b1b81c08",
   "metadata": {},
   "outputs": [],
   "source": []
  },
  {
   "cell_type": "code",
   "execution_count": null,
   "id": "494caeed",
   "metadata": {},
   "outputs": [],
   "source": [
    "# Number of trees in random forest\n",
    "n_estimators = [int(x) for x in np.linspace(start = 0, stop = 400, num = 10)]\n",
    "\n",
    "# Number of features to consider at every split\n",
    "max_features = ['sqrt','log2']\n",
    "\n",
    "# Maximum number of levels in tree\n",
    "max_depth = [2,4]\n",
    "\n",
    "# Minimum number of samples required to split a node\n",
    "min_samples_split = [2, 5]\n",
    "\n",
    "# Minimum number of samples required at each leaf node\n",
    "min_samples_leaf = [1, 2]\n",
    "\n",
    "# Method of selecting samples for training each tree\n",
    "bootstrap = [True, False]"
   ]
  },
  {
   "cell_type": "code",
   "execution_count": null,
   "id": "1c90de7c",
   "metadata": {},
   "outputs": [],
   "source": [
    "# Create the param grid\n",
    "param_grid = {'n_estimators': n_estimators,\n",
    "               'max_features': max_features,\n",
    "               'max_depth': max_depth,\n",
    "               'min_samples_split': min_samples_split,\n",
    "               'min_samples_leaf': min_samples_leaf,\n",
    "               'bootstrap': bootstrap}\n",
    "print(param_grid)"
   ]
  },
  {
   "cell_type": "code",
   "execution_count": null,
   "id": "b22bc791",
   "metadata": {},
   "outputs": [],
   "source": []
  },
  {
   "cell_type": "code",
   "execution_count": null,
   "id": "c64fff91",
   "metadata": {},
   "outputs": [],
   "source": [
    "rf = RandomForestClassifier()"
   ]
  },
  {
   "cell_type": "code",
   "execution_count": null,
   "id": "0cc30a0c",
   "metadata": {},
   "outputs": [],
   "source": [
    "from sklearn.model_selection import RandomizedSearchCV\n",
    "\n",
    "rf_RandomGrid = RandomizedSearchCV(estimator = rf, param_distributions = param_grid, scoring='f1', cv = 10, verbose=2, n_jobs = 4)"
   ]
  },
  {
   "cell_type": "code",
   "execution_count": null,
   "id": "88a91966",
   "metadata": {},
   "outputs": [],
   "source": [
    "rf_RandomGrid.fit(X_train_cv, y_train)"
   ]
  },
  {
   "cell_type": "code",
   "execution_count": null,
   "id": "1045bf41",
   "metadata": {},
   "outputs": [],
   "source": []
  },
  {
   "cell_type": "code",
   "execution_count": null,
   "id": "51eada6c",
   "metadata": {},
   "outputs": [],
   "source": [
    "rf_RandomGrid.best_params_"
   ]
  },
  {
   "cell_type": "code",
   "execution_count": null,
   "id": "f514b0b5",
   "metadata": {},
   "outputs": [],
   "source": []
  },
  {
   "cell_type": "code",
   "execution_count": null,
   "id": "fb50381a",
   "metadata": {},
   "outputs": [],
   "source": [
    "confusion_matrix(y_test, y_pred_test)"
   ]
  },
  {
   "cell_type": "code",
   "execution_count": null,
   "id": "14ce8f50",
   "metadata": {},
   "outputs": [],
   "source": [
    "print(classification_report(y_test, y_pred_test))"
   ]
  },
  {
   "cell_type": "code",
   "execution_count": null,
   "id": "6d7901d2",
   "metadata": {},
   "outputs": [],
   "source": []
  },
  {
   "cell_type": "code",
   "execution_count": null,
   "id": "e891a1e7",
   "metadata": {},
   "outputs": [],
   "source": []
  },
  {
   "cell_type": "code",
   "execution_count": null,
   "id": "c859deb9",
   "metadata": {},
   "outputs": [],
   "source": []
  },
  {
   "cell_type": "code",
   "execution_count": null,
   "id": "90ac01ca",
   "metadata": {},
   "outputs": [],
   "source": []
  },
  {
   "cell_type": "code",
   "execution_count": null,
   "id": "4740c454",
   "metadata": {},
   "outputs": [],
   "source": []
  },
  {
   "cell_type": "code",
   "execution_count": null,
   "id": "cf12c259",
   "metadata": {},
   "outputs": [],
   "source": []
  },
  {
   "cell_type": "code",
   "execution_count": null,
   "id": "7eda320f",
   "metadata": {},
   "outputs": [],
   "source": []
  },
  {
   "cell_type": "code",
   "execution_count": null,
   "id": "f8a273e6",
   "metadata": {},
   "outputs": [],
   "source": [
    "# params = {'n_estimators':[200],\n",
    "#           'max_features':['sqrt',4,'log2','auto'],\n",
    "#           'max_leaf_nodes':[10, 20, 40]\n",
    "#           }\n",
    "\n",
    "# # Apply random Forest Classifier Model\n",
    "\n",
    "# rf_cv = GridSearchCV(rf, params, scoring='f1', cv=5)\n",
    "# rf_cv.fit(X_train_cv, y_train)"
   ]
  },
  {
   "cell_type": "code",
   "execution_count": null,
   "id": "0668285d",
   "metadata": {},
   "outputs": [],
   "source": [
    "# rf_cv.best_params_"
   ]
  },
  {
   "cell_type": "code",
   "execution_count": null,
   "id": "19bf5c2f",
   "metadata": {},
   "outputs": [],
   "source": [
    "# rf_cv.best_estimator_"
   ]
  },
  {
   "cell_type": "code",
   "execution_count": null,
   "id": "45ecb54d",
   "metadata": {},
   "outputs": [],
   "source": [
    "# rf_cv.best_score_"
   ]
  },
  {
   "cell_type": "code",
   "execution_count": null,
   "id": "80da960b",
   "metadata": {},
   "outputs": [],
   "source": [
    "# rf_cv = RandomForestClassifier(bootstrap=True, ccp_alpha=0.0, class_weight=None,\n",
    "#                        criterion='gini', max_depth=40, max_features='sqrt',\n",
    "#                        max_leaf_nodes=40, max_samples=None,\n",
    "#                        min_impurity_decrease=0.0,\n",
    "#                        min_samples_leaf=1, min_samples_split=2,\n",
    "#                        min_weight_fraction_leaf=0.0, n_estimators=200,\n",
    "#                        n_jobs=None, oob_score=False, random_state=None,\n",
    "#                        verbose=0, warm_start=False)\n",
    "# rf_cv.fit(X_train_cv, y_train)"
   ]
  },
  {
   "cell_type": "code",
   "execution_count": null,
   "id": "2888d097",
   "metadata": {},
   "outputs": [],
   "source": [
    "# y_pred_train = rf_cv.predict(X_train_cv)\n",
    "# accuracy_score(y_train, y_pred_train)"
   ]
  },
  {
   "cell_type": "code",
   "execution_count": null,
   "id": "caed401e",
   "metadata": {},
   "outputs": [],
   "source": []
  },
  {
   "cell_type": "code",
   "execution_count": null,
   "id": "4c0d1dc6",
   "metadata": {},
   "outputs": [],
   "source": [
    "# y_pred_test = rf_cv.predict(X_test_cv)\n",
    "# accuracy_score(y_test, y_pred_test)"
   ]
  },
  {
   "cell_type": "code",
   "execution_count": null,
   "id": "97f2b2cc",
   "metadata": {},
   "outputs": [],
   "source": []
  },
  {
   "cell_type": "code",
   "execution_count": null,
   "id": "d9aac47a",
   "metadata": {},
   "outputs": [],
   "source": []
  },
  {
   "cell_type": "code",
   "execution_count": null,
   "id": "d4ccba91",
   "metadata": {},
   "outputs": [],
   "source": []
  },
  {
   "cell_type": "markdown",
   "id": "b3344be0",
   "metadata": {},
   "source": [
    "# <div class = 'alert alert-warning'>XGBoost Classifier</div>"
   ]
  },
  {
   "cell_type": "code",
   "execution_count": null,
   "id": "83296131",
   "metadata": {},
   "outputs": [],
   "source": [
    "# Already installed\n",
    "\n",
    "# pip install xgboost"
   ]
  },
  {
   "cell_type": "code",
   "execution_count": 133,
   "id": "827eae13",
   "metadata": {},
   "outputs": [],
   "source": [
    "from xgboost import XGBClassifier"
   ]
  },
  {
   "cell_type": "code",
   "execution_count": null,
   "id": "0b9784b3",
   "metadata": {},
   "outputs": [],
   "source": []
  },
  {
   "cell_type": "code",
   "execution_count": 158,
   "id": "92a45e8e",
   "metadata": {},
   "outputs": [],
   "source": [
    "df2 = df.copy()"
   ]
  },
  {
   "cell_type": "code",
   "execution_count": 159,
   "id": "baa6a06b",
   "metadata": {},
   "outputs": [],
   "source": [
    "df2.loc[df['type_id'] == 1, 'type_id'] = 0\n",
    "df2.loc[df['type_id'] == 2, 'type_id'] = 1\n",
    "df2.loc[df['type_id'] == 3, 'type_id'] = 2\n",
    "df2.loc[df['type_id'] == 5, 'type_id'] = 3\n",
    "df2.loc[df['type_id'] == 6, 'type_id'] = 4\n",
    "df2.loc[df['type_id'] == 7, 'type_id'] = 5\n",
    "df2.loc[df['type_id'] == 8, 'type_id'] = 6\n",
    "df2.loc[df['type_id'] == 9, 'type_id'] = 7"
   ]
  },
  {
   "cell_type": "code",
   "execution_count": 160,
   "id": "443b9155",
   "metadata": {},
   "outputs": [
    {
     "data": {
      "text/plain": [
       "type_id  type_name       \n",
       "1        Motors              48532\n",
       "0        For Sale            18992\n",
       "6        Adult               14959\n",
       "7        Adult Businesses     9671\n",
       "4        Animals              8473\n",
       "2        Jobs                 1637\n",
       "3        Property              665\n",
       "5        Events                438\n",
       "Name: count, dtype: int64"
      ]
     },
     "execution_count": 160,
     "metadata": {},
     "output_type": "execute_result"
    }
   ],
   "source": [
    "df2[['type_id','type_name']].value_counts()"
   ]
  },
  {
   "cell_type": "code",
   "execution_count": 161,
   "id": "5068b32b",
   "metadata": {},
   "outputs": [
    {
     "data": {
      "text/plain": [
       "102"
      ]
     },
     "execution_count": 161,
     "metadata": {},
     "output_type": "execute_result"
    }
   ],
   "source": [
    "df2['cat_id'].nunique()"
   ]
  },
  {
   "cell_type": "code",
   "execution_count": 165,
   "id": "3adc36e6",
   "metadata": {},
   "outputs": [],
   "source": [
    "df2 = df2[df['cat_id']!=148]\n",
    "df2 = df2[df['cat_id']!=169]"
   ]
  },
  {
   "cell_type": "code",
   "execution_count": 173,
   "id": "e43b95bc",
   "metadata": {
    "scrolled": true
   },
   "outputs": [
    {
     "data": {
      "text/plain": [
       "cat_id  cat_name                        \n",
       "0       Agricultural                          302\n",
       "1       Antiques & Collectables              1674\n",
       "2       Baby & Kids                          1033\n",
       "3       Bicycles                              367\n",
       "4       Bizarre Bazaar                        401\n",
       "5       Businesses for sale                  1001\n",
       "6       Clothing, Footwear & Accessories     2613\n",
       "7       Computers & Electronics               831\n",
       "8       Cookware & Dining                     459\n",
       "9       Consoles                              149\n",
       "10      DIY                                   581\n",
       "11      Event Ticket Resales                   83\n",
       "12      Furniture                            3084\n",
       "13      Garden                                600\n",
       "14      Heating & Cooling                     230\n",
       "15      Hobbies & Leisure                     677\n",
       "16      Home Appliances                       776\n",
       "17      Home Decor                            906\n",
       "18      Lighting                              204\n",
       "19      Mobility                              281\n",
       "20      Movies, Games, Books & Music          732\n",
       "21      Musical Instruments                   414\n",
       "22      Phones & Accessories                  352\n",
       "23      Sports Equipment                      527\n",
       "24      Travel & Holidays                     117\n",
       "25      Tv, Audio & Cameras                   598\n",
       "26      Boats                                  16\n",
       "27      Cars                                19469\n",
       "28      Commercial Vehicles                  2136\n",
       "29      Farm                                  161\n",
       "30      Horseboxes & Trailers                1489\n",
       "31      Motorbikes, Scooters & Quads        15255\n",
       "32      Motorhomes & Caravans                9568\n",
       "33      Parts & Accessories                   426\n",
       "34      Plant Machinery                         6\n",
       "35      Motorbikes                              6\n",
       "36      Accountancy & Finance                  27\n",
       "37      Automotive Jobs                        58\n",
       "38      Aviation                                3\n",
       "39      Childcare                              14\n",
       "40      Charity & Volunteering                 34\n",
       "41      Computing & IT                         42\n",
       "42      Construction & Tradesmen               58\n",
       "43      Education                              42\n",
       "44      Engineering                            30\n",
       "45      Farming, Gardening & Pet               19\n",
       "46      General jobs                          481\n",
       "47      Graduate Jobs & Apprenticeships         8\n",
       "48      Healthcare & Medicine                 114\n",
       "49      Health, Beauty & Fitness               54\n",
       "50      Home & Social Care                    252\n",
       "51      Hospitality & Catering                 45\n",
       "52      Law                                     7\n",
       "53      Marketing, Media & PR                  51\n",
       "54      Office, Admin & PA                     48\n",
       "55      Recruitment & HR                       25\n",
       "56      Sales, Retail & Customer Service      209\n",
       "57      Seasonal & Overseas                    16\n",
       "58      Houses & Bungalows                     83\n",
       "59      Flats & Bedsits                       179\n",
       "60      Rooms                                  68\n",
       "61      Mobile & Park Homes                   136\n",
       "62      Garages                                68\n",
       "63      Parking                                10\n",
       "64      Commercial                             46\n",
       "65      Industrial Units                       15\n",
       "66      Offices                                23\n",
       "67      Shops                                   9\n",
       "68      L&                                     10\n",
       "69      Overseas                               17\n",
       "70      Pets                                 2802\n",
       "71      Pet Accessories & Supplies            191\n",
       "72      Equine                               5480\n",
       "73      Birthdays & Notices                    41\n",
       "74      Boot Fairs & Garage Sales              88\n",
       "75      Car Events & Shows                      4\n",
       "76      Charity Runs                            3\n",
       "77      Christmas                              59\n",
       "78      Entertainment                          51\n",
       "79      Nightlife                               6\n",
       "80      Clubs                                  34\n",
       "81      Gambling                               10\n",
       "82      Fairs                                  48\n",
       "83      Horse Racing & Shows                    3\n",
       "84      Music Gigs & Festivals                 10\n",
       "85      Pick Your Own                          15\n",
       "86      Places To Visit                        11\n",
       "87      Sports Events                          20\n",
       "88      Adult Contacts                        322\n",
       "89      Escorts                             12206\n",
       "90      Industry Jobs                         108\n",
       "91      Adult Massage                         597\n",
       "92      Kid's Activities                        2\n",
       "93      Classes                                31\n",
       "94      Escort Agencies                      9554\n",
       "95      Sex Shops                              52\n",
       "96      Gay Male Escorts                       58\n",
       "97      Male Escorts                           20\n",
       "98      Trans Escorts                        1648\n",
       "99      Massage Parlours                       65\n",
       "Name: count, dtype: int64"
      ]
     },
     "execution_count": 173,
     "metadata": {},
     "output_type": "execute_result"
    }
   ],
   "source": [
    "df2[['cat_id','cat_name']].value_counts().sort_index(ascending=True)"
   ]
  },
  {
   "cell_type": "code",
   "execution_count": 167,
   "id": "344ac321",
   "metadata": {},
   "outputs": [
    {
     "data": {
      "text/html": [
       "<div>\n",
       "<style scoped>\n",
       "    .dataframe tbody tr th:only-of-type {\n",
       "        vertical-align: middle;\n",
       "    }\n",
       "\n",
       "    .dataframe tbody tr th {\n",
       "        vertical-align: top;\n",
       "    }\n",
       "\n",
       "    .dataframe thead th {\n",
       "        text-align: right;\n",
       "    }\n",
       "</style>\n",
       "<table border=\"1\" class=\"dataframe\">\n",
       "  <thead>\n",
       "    <tr style=\"text-align: right;\">\n",
       "      <th></th>\n",
       "      <th>title</th>\n",
       "      <th>type_name</th>\n",
       "      <th>type_id</th>\n",
       "      <th>cat_name</th>\n",
       "      <th>cat_id</th>\n",
       "    </tr>\n",
       "  </thead>\n",
       "  <tbody>\n",
       "    <tr>\n",
       "      <th>2</th>\n",
       "      <td>citroen c whit</td>\n",
       "      <td>Motors</td>\n",
       "      <td>1</td>\n",
       "      <td>Cars</td>\n",
       "      <td>63</td>\n",
       "    </tr>\n",
       "    <tr>\n",
       "      <th>26</th>\n",
       "      <td>hand mixer brand new open</td>\n",
       "      <td>For Sale</td>\n",
       "      <td>0</td>\n",
       "      <td>Home Appliances</td>\n",
       "      <td>17</td>\n",
       "    </tr>\n",
       "    <tr>\n",
       "      <th>29</th>\n",
       "      <td>mahogany display cabinet</td>\n",
       "      <td>For Sale</td>\n",
       "      <td>0</td>\n",
       "      <td>Antiques &amp; Collectables</td>\n",
       "      <td>2</td>\n",
       "    </tr>\n",
       "    <tr>\n",
       "      <th>30</th>\n",
       "      <td>technics mk x rane mixer speaker headphone ful...</td>\n",
       "      <td>For Sale</td>\n",
       "      <td>0</td>\n",
       "      <td>Computers &amp; Electronics</td>\n",
       "      <td>8</td>\n",
       "    </tr>\n",
       "    <tr>\n",
       "      <th>32</th>\n",
       "      <td>mega blok castl</td>\n",
       "      <td>For Sale</td>\n",
       "      <td>0</td>\n",
       "      <td>Baby &amp; Kids</td>\n",
       "      <td>3</td>\n",
       "    </tr>\n",
       "  </tbody>\n",
       "</table>\n",
       "</div>"
      ],
      "text/plain": [
       "                                                title type_name  type_id  \\\n",
       "2                                      citroen c whit    Motors        1   \n",
       "26                          hand mixer brand new open  For Sale        0   \n",
       "29                           mahogany display cabinet  For Sale        0   \n",
       "30  technics mk x rane mixer speaker headphone ful...  For Sale        0   \n",
       "32                                    mega blok castl  For Sale        0   \n",
       "\n",
       "                   cat_name  cat_id  \n",
       "2                      Cars      63  \n",
       "26          Home Appliances      17  \n",
       "29  Antiques & Collectables       2  \n",
       "30  Computers & Electronics       8  \n",
       "32              Baby & Kids       3  "
      ]
     },
     "execution_count": 167,
     "metadata": {},
     "output_type": "execute_result"
    }
   ],
   "source": [
    "df2.head()"
   ]
  },
  {
   "cell_type": "code",
   "execution_count": 168,
   "id": "b3db30e7",
   "metadata": {},
   "outputs": [],
   "source": [
    "df2.loc[df['cat_id']==62, 'cat_id'] = 27\n",
    "df2.loc[df['cat_id']==63, 'cat_id'] = 28\n",
    "df2.loc[df['cat_id']==64, 'cat_id'] = 29\n",
    "df2.loc[df['cat_id']==65, 'cat_id'] = 30\n",
    "df2.loc[df['cat_id']==66, 'cat_id'] = 31\n",
    "df2.loc[df['cat_id']==67, 'cat_id'] = 32\n",
    "df2.loc[df['cat_id']==68, 'cat_id'] = 33\n",
    "df2.loc[df['cat_id']==69, 'cat_id'] = 34\n",
    "df2.loc[df['cat_id']==84, 'cat_id'] = 35\n",
    "df2.loc[df['cat_id']==90, 'cat_id'] = 36\n",
    "df2.loc[df['cat_id']==109, 'cat_id'] = 37\n",
    "df2.loc[df['cat_id']==110, 'cat_id'] = 38\n",
    "df2.loc[df['cat_id']==111, 'cat_id'] = 39\n",
    "df2.loc[df['cat_id']==112, 'cat_id'] = 40\n",
    "df2.loc[df['cat_id']==114, 'cat_id'] = 41\n",
    "df2.loc[df['cat_id']==115, 'cat_id'] = 42\n",
    "df2.loc[df['cat_id']==116, 'cat_id'] = 43\n",
    "df2.loc[df['cat_id']==117, 'cat_id'] = 44\n",
    "df2.loc[df['cat_id']==118, 'cat_id'] = 45\n",
    "df2.loc[df['cat_id']==119, 'cat_id'] = 46\n",
    "df2.loc[df['cat_id']==120, 'cat_id'] = 47\n",
    "df2.loc[df['cat_id']==121, 'cat_id'] = 48\n",
    "df2.loc[df['cat_id']==122, 'cat_id'] = 49\n",
    "df2.loc[df['cat_id']==123, 'cat_id'] = 50\n",
    "df2.loc[df['cat_id']==124, 'cat_id'] = 51\n",
    "df2.loc[df['cat_id']==125, 'cat_id'] = 52\n",
    "df2.loc[df['cat_id']==126, 'cat_id'] = 53\n",
    "df2.loc[df['cat_id']==127, 'cat_id'] = 54\n",
    "df2.loc[df['cat_id']==128, 'cat_id'] = 55\n",
    "df2.loc[df['cat_id']==129, 'cat_id'] = 56\n",
    "df2.loc[df['cat_id']==130, 'cat_id'] = 57\n",
    "df2.loc[df['cat_id']==131, 'cat_id'] = 58\n",
    "df2.loc[df['cat_id']==138, 'cat_id'] = 59\n",
    "df2.loc[df['cat_id']==139, 'cat_id'] = 60\n",
    "df2.loc[df['cat_id']==140, 'cat_id'] = 61\n",
    "df2.loc[df['cat_id']==141, 'cat_id'] = 62\n",
    "df2.loc[df['cat_id']==142, 'cat_id'] = 63\n",
    "df2.loc[df['cat_id']==143, 'cat_id'] = 64\n",
    "df2.loc[df['cat_id']==144, 'cat_id'] = 65\n",
    "df2.loc[df['cat_id']==145, 'cat_id'] = 66\n",
    "df2.loc[df['cat_id']==146, 'cat_id'] = 67\n",
    "df2.loc[df['cat_id']==147, 'cat_id'] = 68\n",
    "\n",
    "df2.loc[df['cat_id']==149, 'cat_id'] = 69\n",
    "df2.loc[df['cat_id']==150, 'cat_id'] = 70\n",
    "df2.loc[df['cat_id']==151, 'cat_id'] = 71\n",
    "df2.loc[df['cat_id']==152, 'cat_id'] = 72\n",
    "df2.loc[df['cat_id']==156, 'cat_id'] = 73\n",
    "df2.loc[df['cat_id']==164, 'cat_id'] = 74\n",
    "df2.loc[df['cat_id']==165, 'cat_id'] = 75\n",
    "df2.loc[df['cat_id']==166, 'cat_id'] = 76\n",
    "df2.loc[df['cat_id']==167, 'cat_id'] = 77\n",
    "df2.loc[df['cat_id']==168, 'cat_id'] = 78\n",
    "\n",
    "df2.loc[df['cat_id']==170, 'cat_id'] = 79\n",
    "df2.loc[df['cat_id']==171, 'cat_id'] = 80\n",
    "df2.loc[df['cat_id']==173, 'cat_id'] = 81\n",
    "df2.loc[df['cat_id']==174, 'cat_id'] = 82\n",
    "df2.loc[df['cat_id']==175, 'cat_id'] = 83\n",
    "df2.loc[df['cat_id']==176, 'cat_id'] = 84\n",
    "df2.loc[df['cat_id']==177, 'cat_id'] = 85\n",
    "df2.loc[df['cat_id']==178, 'cat_id'] = 86\n",
    "df2.loc[df['cat_id']==179, 'cat_id'] = 87\n",
    "df2.loc[df['cat_id']==180, 'cat_id'] = 88\n",
    "df2.loc[df['cat_id']==181, 'cat_id'] = 89\n",
    "df2.loc[df['cat_id']==182, 'cat_id'] = 90\n",
    "df2.loc[df['cat_id']==185, 'cat_id'] = 91\n",
    "df2.loc[df['cat_id']==187, 'cat_id'] = 92\n",
    "df2.loc[df['cat_id']==258, 'cat_id'] = 93\n",
    "df2.loc[df['cat_id']==259, 'cat_id'] = 94\n",
    "df2.loc[df['cat_id']==263, 'cat_id'] = 95\n",
    "df2.loc[df['cat_id']==264, 'cat_id'] = 96\n",
    "df2.loc[df['cat_id']==292, 'cat_id'] = 97\n",
    "df2.loc[df['cat_id']==295, 'cat_id'] = 98\n",
    "df2.loc[df['cat_id']==298, 'cat_id'] = 99\n",
    "df2.loc[df['cat_id']==300, 'cat_id'] = 100"
   ]
  },
  {
   "cell_type": "code",
   "execution_count": null,
   "id": "969b6d4e",
   "metadata": {},
   "outputs": [],
   "source": [
    "#  0   1   2   3   4   5   6   7   8   9  10  11  12  13  14  15  16  17\n",
    "# 18  19  20  21  22  23  24  25  26  62  63  64  65  66  67  68  69  84\n",
    "# 90 109 110 111 112 114 115 116 117 118 119 120 121 122 123 124 125 126\n",
    "# 127 128 129 130 131 138 139 140 141 142 143 144 145 146 147 148 149 150\n",
    "# 151 152 156 164 165 166 167 168 169 170 171 173 174 175 176 177 178 179\n",
    "# 180 181 182 185 187 258 259 263 264 292 295 298 300"
   ]
  },
  {
   "cell_type": "code",
   "execution_count": 172,
   "id": "3e802bd1",
   "metadata": {},
   "outputs": [],
   "source": [
    "df2['cat_id'] = df2['cat_id']-1"
   ]
  },
  {
   "cell_type": "code",
   "execution_count": null,
   "id": "cc19b3c5",
   "metadata": {},
   "outputs": [],
   "source": []
  },
  {
   "cell_type": "code",
   "execution_count": null,
   "id": "a7e5ca4e",
   "metadata": {},
   "outputs": [],
   "source": []
  },
  {
   "cell_type": "code",
   "execution_count": 174,
   "id": "886e8342",
   "metadata": {},
   "outputs": [],
   "source": [
    "X = df2['title']\n",
    "y = df2[['type_id','cat_id']]\n",
    "\n",
    "\n",
    "from sklearn.model_selection import train_test_split\n",
    "X_train, X_test, y_train, y_test = train_test_split(X, y, test_size=0.2, random_state=123)"
   ]
  },
  {
   "cell_type": "code",
   "execution_count": 175,
   "id": "b27b5d79",
   "metadata": {},
   "outputs": [
    {
     "data": {
      "text/plain": [
       "(82691,)"
      ]
     },
     "execution_count": 175,
     "metadata": {},
     "output_type": "execute_result"
    }
   ],
   "source": [
    "X_train.shape"
   ]
  },
  {
   "cell_type": "code",
   "execution_count": 176,
   "id": "ac382d61",
   "metadata": {},
   "outputs": [
    {
     "data": {
      "text/plain": [
       "(20673,)"
      ]
     },
     "execution_count": 176,
     "metadata": {},
     "output_type": "execute_result"
    }
   ],
   "source": [
    "X_test.shape"
   ]
  },
  {
   "cell_type": "code",
   "execution_count": null,
   "id": "f5aa8c1e",
   "metadata": {},
   "outputs": [],
   "source": []
  },
  {
   "cell_type": "code",
   "execution_count": null,
   "id": "f22a17cc",
   "metadata": {},
   "outputs": [],
   "source": []
  },
  {
   "cell_type": "code",
   "execution_count": 154,
   "id": "aec4061d",
   "metadata": {},
   "outputs": [],
   "source": [
    "pipe_lr = Pipeline(steps=[('cv',TfidfVectorizer(analyzer='word',stop_words= 'english')),\n",
    "                          ('lr_multi',MultiOutputClassifier(\n",
    "                              RandomizedSearchCV(XGBClassifier(),\n",
    "                                                 {\n",
    "                                                    'learning_rate': [0.01, 0.1, 0.5],\n",
    "                                                    'max_depth': [3, 5, 7],\n",
    "                                                    'n_estimators': [50, 100, 200]\n",
    "                                                }, \n",
    "                                                 cv=5)\n",
    "                              ))]\n",
    "                  )"
   ]
  },
  {
   "cell_type": "code",
   "execution_count": 177,
   "id": "8f042169",
   "metadata": {},
   "outputs": [
    {
     "data": {
      "text/html": [
       "<style>#sk-container-id-1 {color: black;background-color: white;}#sk-container-id-1 pre{padding: 0;}#sk-container-id-1 div.sk-toggleable {background-color: white;}#sk-container-id-1 label.sk-toggleable__label {cursor: pointer;display: block;width: 100%;margin-bottom: 0;padding: 0.3em;box-sizing: border-box;text-align: center;}#sk-container-id-1 label.sk-toggleable__label-arrow:before {content: \"▸\";float: left;margin-right: 0.25em;color: #696969;}#sk-container-id-1 label.sk-toggleable__label-arrow:hover:before {color: black;}#sk-container-id-1 div.sk-estimator:hover label.sk-toggleable__label-arrow:before {color: black;}#sk-container-id-1 div.sk-toggleable__content {max-height: 0;max-width: 0;overflow: hidden;text-align: left;background-color: #f0f8ff;}#sk-container-id-1 div.sk-toggleable__content pre {margin: 0.2em;color: black;border-radius: 0.25em;background-color: #f0f8ff;}#sk-container-id-1 input.sk-toggleable__control:checked~div.sk-toggleable__content {max-height: 200px;max-width: 100%;overflow: auto;}#sk-container-id-1 input.sk-toggleable__control:checked~label.sk-toggleable__label-arrow:before {content: \"▾\";}#sk-container-id-1 div.sk-estimator input.sk-toggleable__control:checked~label.sk-toggleable__label {background-color: #d4ebff;}#sk-container-id-1 div.sk-label input.sk-toggleable__control:checked~label.sk-toggleable__label {background-color: #d4ebff;}#sk-container-id-1 input.sk-hidden--visually {border: 0;clip: rect(1px 1px 1px 1px);clip: rect(1px, 1px, 1px, 1px);height: 1px;margin: -1px;overflow: hidden;padding: 0;position: absolute;width: 1px;}#sk-container-id-1 div.sk-estimator {font-family: monospace;background-color: #f0f8ff;border: 1px dotted black;border-radius: 0.25em;box-sizing: border-box;margin-bottom: 0.5em;}#sk-container-id-1 div.sk-estimator:hover {background-color: #d4ebff;}#sk-container-id-1 div.sk-parallel-item::after {content: \"\";width: 100%;border-bottom: 1px solid gray;flex-grow: 1;}#sk-container-id-1 div.sk-label:hover label.sk-toggleable__label {background-color: #d4ebff;}#sk-container-id-1 div.sk-serial::before {content: \"\";position: absolute;border-left: 1px solid gray;box-sizing: border-box;top: 0;bottom: 0;left: 50%;z-index: 0;}#sk-container-id-1 div.sk-serial {display: flex;flex-direction: column;align-items: center;background-color: white;padding-right: 0.2em;padding-left: 0.2em;position: relative;}#sk-container-id-1 div.sk-item {position: relative;z-index: 1;}#sk-container-id-1 div.sk-parallel {display: flex;align-items: stretch;justify-content: center;background-color: white;position: relative;}#sk-container-id-1 div.sk-item::before, #sk-container-id-1 div.sk-parallel-item::before {content: \"\";position: absolute;border-left: 1px solid gray;box-sizing: border-box;top: 0;bottom: 0;left: 50%;z-index: -1;}#sk-container-id-1 div.sk-parallel-item {display: flex;flex-direction: column;z-index: 1;position: relative;background-color: white;}#sk-container-id-1 div.sk-parallel-item:first-child::after {align-self: flex-end;width: 50%;}#sk-container-id-1 div.sk-parallel-item:last-child::after {align-self: flex-start;width: 50%;}#sk-container-id-1 div.sk-parallel-item:only-child::after {width: 0;}#sk-container-id-1 div.sk-dashed-wrapped {border: 1px dashed gray;margin: 0 0.4em 0.5em 0.4em;box-sizing: border-box;padding-bottom: 0.4em;background-color: white;}#sk-container-id-1 div.sk-label label {font-family: monospace;font-weight: bold;display: inline-block;line-height: 1.2em;}#sk-container-id-1 div.sk-label-container {text-align: center;}#sk-container-id-1 div.sk-container {/* jupyter's `normalize.less` sets `[hidden] { display: none; }` but bootstrap.min.css set `[hidden] { display: none !important; }` so we also need the `!important` here to be able to override the default hidden behavior on the sphinx rendered scikit-learn.org. See: https://github.com/scikit-learn/scikit-learn/issues/21755 */display: inline-block !important;position: relative;}#sk-container-id-1 div.sk-text-repr-fallback {display: none;}</style><div id=\"sk-container-id-1\" class=\"sk-top-container\"><div class=\"sk-text-repr-fallback\"><pre>Pipeline(steps=[(&#x27;cv&#x27;, TfidfVectorizer(stop_words=&#x27;english&#x27;)),\n",
       "                (&#x27;lr_multi&#x27;,\n",
       "                 MultiOutputClassifier(estimator=RandomizedSearchCV(cv=5,\n",
       "                                                                    estimator=XGBClassifier(base_score=None,\n",
       "                                                                                            booster=None,\n",
       "                                                                                            callbacks=None,\n",
       "                                                                                            colsample_bylevel=None,\n",
       "                                                                                            colsample_bynode=None,\n",
       "                                                                                            colsample_bytree=None,\n",
       "                                                                                            device=None,\n",
       "                                                                                            early_stopping_rounds=None,\n",
       "                                                                                            enable_categorical=False,\n",
       "                                                                                            eval_metric=None,\n",
       "                                                                                            featu...\n",
       "                                                                                            max_cat_threshold=None,\n",
       "                                                                                            max_cat_to_onehot=None,\n",
       "                                                                                            max_delta_step=None,\n",
       "                                                                                            max_depth=5,\n",
       "                                                                                            max_leaves=None,\n",
       "                                                                                            min_child_weight=None,\n",
       "                                                                                            missing=nan,\n",
       "                                                                                            monotone_constraints=None,\n",
       "                                                                                            multi_strategy=None,\n",
       "                                                                                            n_estimators=None,\n",
       "                                                                                            n_jobs=None,\n",
       "                                                                                            num_parallel_tree=None,\n",
       "                                                                                            random_state=None, ...),\n",
       "                                                                    param_distributions={&#x27;learning_rate&#x27;: [0.01,\n",
       "                                                                                                           0.1,\n",
       "                                                                                                           0.5],\n",
       "                                                                                         &#x27;max_depth&#x27;: [3,\n",
       "                                                                                                       5,\n",
       "                                                                                                       7],\n",
       "                                                                                         &#x27;n_estimators&#x27;: [50,\n",
       "                                                                                                          100,\n",
       "                                                                                                          200]})))])</pre><b>In a Jupyter environment, please rerun this cell to show the HTML representation or trust the notebook. <br />On GitHub, the HTML representation is unable to render, please try loading this page with nbviewer.org.</b></div><div class=\"sk-container\" hidden><div class=\"sk-item sk-dashed-wrapped\"><div class=\"sk-label-container\"><div class=\"sk-label sk-toggleable\"><input class=\"sk-toggleable__control sk-hidden--visually\" id=\"sk-estimator-id-1\" type=\"checkbox\" ><label for=\"sk-estimator-id-1\" class=\"sk-toggleable__label sk-toggleable__label-arrow\">Pipeline</label><div class=\"sk-toggleable__content\"><pre>Pipeline(steps=[(&#x27;cv&#x27;, TfidfVectorizer(stop_words=&#x27;english&#x27;)),\n",
       "                (&#x27;lr_multi&#x27;,\n",
       "                 MultiOutputClassifier(estimator=RandomizedSearchCV(cv=5,\n",
       "                                                                    estimator=XGBClassifier(base_score=None,\n",
       "                                                                                            booster=None,\n",
       "                                                                                            callbacks=None,\n",
       "                                                                                            colsample_bylevel=None,\n",
       "                                                                                            colsample_bynode=None,\n",
       "                                                                                            colsample_bytree=None,\n",
       "                                                                                            device=None,\n",
       "                                                                                            early_stopping_rounds=None,\n",
       "                                                                                            enable_categorical=False,\n",
       "                                                                                            eval_metric=None,\n",
       "                                                                                            featu...\n",
       "                                                                                            max_cat_threshold=None,\n",
       "                                                                                            max_cat_to_onehot=None,\n",
       "                                                                                            max_delta_step=None,\n",
       "                                                                                            max_depth=5,\n",
       "                                                                                            max_leaves=None,\n",
       "                                                                                            min_child_weight=None,\n",
       "                                                                                            missing=nan,\n",
       "                                                                                            monotone_constraints=None,\n",
       "                                                                                            multi_strategy=None,\n",
       "                                                                                            n_estimators=None,\n",
       "                                                                                            n_jobs=None,\n",
       "                                                                                            num_parallel_tree=None,\n",
       "                                                                                            random_state=None, ...),\n",
       "                                                                    param_distributions={&#x27;learning_rate&#x27;: [0.01,\n",
       "                                                                                                           0.1,\n",
       "                                                                                                           0.5],\n",
       "                                                                                         &#x27;max_depth&#x27;: [3,\n",
       "                                                                                                       5,\n",
       "                                                                                                       7],\n",
       "                                                                                         &#x27;n_estimators&#x27;: [50,\n",
       "                                                                                                          100,\n",
       "                                                                                                          200]})))])</pre></div></div></div><div class=\"sk-serial\"><div class=\"sk-item\"><div class=\"sk-estimator sk-toggleable\"><input class=\"sk-toggleable__control sk-hidden--visually\" id=\"sk-estimator-id-2\" type=\"checkbox\" ><label for=\"sk-estimator-id-2\" class=\"sk-toggleable__label sk-toggleable__label-arrow\">TfidfVectorizer</label><div class=\"sk-toggleable__content\"><pre>TfidfVectorizer(stop_words=&#x27;english&#x27;)</pre></div></div></div><div class=\"sk-item sk-dashed-wrapped\"><div class=\"sk-label-container\"><div class=\"sk-label sk-toggleable\"><input class=\"sk-toggleable__control sk-hidden--visually\" id=\"sk-estimator-id-3\" type=\"checkbox\" ><label for=\"sk-estimator-id-3\" class=\"sk-toggleable__label sk-toggleable__label-arrow\">lr_multi: MultiOutputClassifier</label><div class=\"sk-toggleable__content\"><pre>MultiOutputClassifier(estimator=RandomizedSearchCV(cv=5,\n",
       "                                                   estimator=XGBClassifier(base_score=None,\n",
       "                                                                           booster=None,\n",
       "                                                                           callbacks=None,\n",
       "                                                                           colsample_bylevel=None,\n",
       "                                                                           colsample_bynode=None,\n",
       "                                                                           colsample_bytree=None,\n",
       "                                                                           device=None,\n",
       "                                                                           early_stopping_rounds=None,\n",
       "                                                                           enable_categorical=False,\n",
       "                                                                           eval_metric=None,\n",
       "                                                                           feature_types=None,\n",
       "                                                                           gamma=None,\n",
       "                                                                           grow_policy=None,\n",
       "                                                                           importance_type=None,\n",
       "                                                                           interactio...\n",
       "                                                                           max_cat_threshold=None,\n",
       "                                                                           max_cat_to_onehot=None,\n",
       "                                                                           max_delta_step=None,\n",
       "                                                                           max_depth=5,\n",
       "                                                                           max_leaves=None,\n",
       "                                                                           min_child_weight=None,\n",
       "                                                                           missing=nan,\n",
       "                                                                           monotone_constraints=None,\n",
       "                                                                           multi_strategy=None,\n",
       "                                                                           n_estimators=None,\n",
       "                                                                           n_jobs=None,\n",
       "                                                                           num_parallel_tree=None,\n",
       "                                                                           random_state=None, ...),\n",
       "                                                   param_distributions={&#x27;learning_rate&#x27;: [0.01,\n",
       "                                                                                          0.1,\n",
       "                                                                                          0.5],\n",
       "                                                                        &#x27;max_depth&#x27;: [3,\n",
       "                                                                                      5,\n",
       "                                                                                      7],\n",
       "                                                                        &#x27;n_estimators&#x27;: [50,\n",
       "                                                                                         100,\n",
       "                                                                                         200]}))</pre></div></div></div><div class=\"sk-parallel\"><div class=\"sk-parallel-item\"><div class=\"sk-item\"><div class=\"sk-label-container\"><div class=\"sk-label sk-toggleable\"><input class=\"sk-toggleable__control sk-hidden--visually\" id=\"sk-estimator-id-4\" type=\"checkbox\" ><label for=\"sk-estimator-id-4\" class=\"sk-toggleable__label sk-toggleable__label-arrow\">estimator: RandomizedSearchCV</label><div class=\"sk-toggleable__content\"><pre>RandomizedSearchCV(cv=5,\n",
       "                   estimator=XGBClassifier(base_score=None, booster=None,\n",
       "                                           callbacks=None,\n",
       "                                           colsample_bylevel=None,\n",
       "                                           colsample_bynode=None,\n",
       "                                           colsample_bytree=None, device=None,\n",
       "                                           early_stopping_rounds=None,\n",
       "                                           enable_categorical=False,\n",
       "                                           eval_metric=None, feature_types=None,\n",
       "                                           gamma=None, grow_policy=None,\n",
       "                                           importance_type=None,\n",
       "                                           interaction_constraints=None,\n",
       "                                           learning_rate...\n",
       "                                           max_cat_threshold=None,\n",
       "                                           max_cat_to_onehot=None,\n",
       "                                           max_delta_step=None, max_depth=5,\n",
       "                                           max_leaves=None,\n",
       "                                           min_child_weight=None, missing=nan,\n",
       "                                           monotone_constraints=None,\n",
       "                                           multi_strategy=None,\n",
       "                                           n_estimators=None, n_jobs=None,\n",
       "                                           num_parallel_tree=None,\n",
       "                                           random_state=None, ...),\n",
       "                   param_distributions={&#x27;learning_rate&#x27;: [0.01, 0.1, 0.5],\n",
       "                                        &#x27;max_depth&#x27;: [3, 5, 7],\n",
       "                                        &#x27;n_estimators&#x27;: [50, 100, 200]})</pre></div></div></div><div class=\"sk-serial\"><div class=\"sk-item sk-dashed-wrapped\"><div class=\"sk-parallel\"><div class=\"sk-parallel-item\"><div class=\"sk-item\"><div class=\"sk-label-container\"><div class=\"sk-label sk-toggleable\"><input class=\"sk-toggleable__control sk-hidden--visually\" id=\"sk-estimator-id-5\" type=\"checkbox\" ><label for=\"sk-estimator-id-5\" class=\"sk-toggleable__label sk-toggleable__label-arrow\">estimator: XGBClassifier</label><div class=\"sk-toggleable__content\"><pre>XGBClassifier(base_score=None, booster=None, callbacks=None,\n",
       "              colsample_bylevel=None, colsample_bynode=None,\n",
       "              colsample_bytree=None, device=None, early_stopping_rounds=None,\n",
       "              enable_categorical=False, eval_metric=None, feature_types=None,\n",
       "              gamma=None, grow_policy=None, importance_type=None,\n",
       "              interaction_constraints=None, learning_rate=0.1, max_bin=None,\n",
       "              max_cat_threshold=None, max_cat_to_onehot=None,\n",
       "              max_delta_step=None, max_depth=5, max_leaves=None,\n",
       "              min_child_weight=None, missing=nan, monotone_constraints=None,\n",
       "              multi_strategy=None, n_estimators=None, n_jobs=None,\n",
       "              num_parallel_tree=None, random_state=None, ...)</pre></div></div></div><div class=\"sk-serial\"><div class=\"sk-item\"><div class=\"sk-estimator sk-toggleable\"><input class=\"sk-toggleable__control sk-hidden--visually\" id=\"sk-estimator-id-6\" type=\"checkbox\" ><label for=\"sk-estimator-id-6\" class=\"sk-toggleable__label sk-toggleable__label-arrow\">XGBClassifier</label><div class=\"sk-toggleable__content\"><pre>XGBClassifier(base_score=None, booster=None, callbacks=None,\n",
       "              colsample_bylevel=None, colsample_bynode=None,\n",
       "              colsample_bytree=None, device=None, early_stopping_rounds=None,\n",
       "              enable_categorical=False, eval_metric=None, feature_types=None,\n",
       "              gamma=None, grow_policy=None, importance_type=None,\n",
       "              interaction_constraints=None, learning_rate=0.1, max_bin=None,\n",
       "              max_cat_threshold=None, max_cat_to_onehot=None,\n",
       "              max_delta_step=None, max_depth=5, max_leaves=None,\n",
       "              min_child_weight=None, missing=nan, monotone_constraints=None,\n",
       "              multi_strategy=None, n_estimators=None, n_jobs=None,\n",
       "              num_parallel_tree=None, random_state=None, ...)</pre></div></div></div></div></div></div></div></div></div></div></div></div></div></div></div></div></div>"
      ],
      "text/plain": [
       "Pipeline(steps=[('cv', TfidfVectorizer(stop_words='english')),\n",
       "                ('lr_multi',\n",
       "                 MultiOutputClassifier(estimator=RandomizedSearchCV(cv=5,\n",
       "                                                                    estimator=XGBClassifier(base_score=None,\n",
       "                                                                                            booster=None,\n",
       "                                                                                            callbacks=None,\n",
       "                                                                                            colsample_bylevel=None,\n",
       "                                                                                            colsample_bynode=None,\n",
       "                                                                                            colsample_bytree=None,\n",
       "                                                                                            device=None,\n",
       "                                                                                            early_stopping_rounds=None,\n",
       "                                                                                            enable_categorical=False,\n",
       "                                                                                            eval_metric=None,\n",
       "                                                                                            featu...\n",
       "                                                                                            max_cat_threshold=None,\n",
       "                                                                                            max_cat_to_onehot=None,\n",
       "                                                                                            max_delta_step=None,\n",
       "                                                                                            max_depth=5,\n",
       "                                                                                            max_leaves=None,\n",
       "                                                                                            min_child_weight=None,\n",
       "                                                                                            missing=nan,\n",
       "                                                                                            monotone_constraints=None,\n",
       "                                                                                            multi_strategy=None,\n",
       "                                                                                            n_estimators=None,\n",
       "                                                                                            n_jobs=None,\n",
       "                                                                                            num_parallel_tree=None,\n",
       "                                                                                            random_state=None, ...),\n",
       "                                                                    param_distributions={'learning_rate': [0.01,\n",
       "                                                                                                           0.1,\n",
       "                                                                                                           0.5],\n",
       "                                                                                         'max_depth': [3,\n",
       "                                                                                                       5,\n",
       "                                                                                                       7],\n",
       "                                                                                         'n_estimators': [50,\n",
       "                                                                                                          100,\n",
       "                                                                                                          200]})))])"
      ]
     },
     "execution_count": 177,
     "metadata": {},
     "output_type": "execute_result"
    }
   ],
   "source": [
    "pipe_lr.fit(X_train, y_train)"
   ]
  },
  {
   "cell_type": "code",
   "execution_count": null,
   "id": "cbb59708",
   "metadata": {},
   "outputs": [],
   "source": []
  },
  {
   "cell_type": "code",
   "execution_count": null,
   "id": "32f358d8",
   "metadata": {},
   "outputs": [],
   "source": []
  },
  {
   "cell_type": "code",
   "execution_count": 178,
   "id": "665d2e4c",
   "metadata": {},
   "outputs": [
    {
     "data": {
      "text/plain": [
       "0.8112370149109335"
      ]
     },
     "execution_count": 178,
     "metadata": {},
     "output_type": "execute_result"
    }
   ],
   "source": [
    "pipe_lr.score(X_train,y_train)"
   ]
  },
  {
   "cell_type": "code",
   "execution_count": 179,
   "id": "59ecfcf2",
   "metadata": {},
   "outputs": [
    {
     "data": {
      "text/plain": [
       "0.747206501233493"
      ]
     },
     "execution_count": 179,
     "metadata": {},
     "output_type": "execute_result"
    }
   ],
   "source": [
    "pipe_lr.score(X_test,y_test)"
   ]
  },
  {
   "cell_type": "code",
   "execution_count": 180,
   "id": "499b9394",
   "metadata": {},
   "outputs": [],
   "source": [
    "pred1 = 'Four wheel servicing in Brighton'"
   ]
  },
  {
   "cell_type": "code",
   "execution_count": null,
   "id": "fc0c64c8",
   "metadata": {},
   "outputs": [],
   "source": [
    "X_test.iloc[0]"
   ]
  },
  {
   "cell_type": "code",
   "execution_count": 181,
   "id": "6f76a28f",
   "metadata": {},
   "outputs": [
    {
     "data": {
      "text/plain": [
       "array([[ 0, 89]], dtype=int64)"
      ]
     },
     "execution_count": 181,
     "metadata": {},
     "output_type": "execute_result"
    }
   ],
   "source": [
    "pipe_lr.predict([pred1])"
   ]
  },
  {
   "cell_type": "code",
   "execution_count": null,
   "id": "c1b46360",
   "metadata": {},
   "outputs": [],
   "source": []
  },
  {
   "cell_type": "code",
   "execution_count": 69,
   "id": "ed105728",
   "metadata": {},
   "outputs": [
    {
     "data": {
      "text/plain": [
       "[array([[0.00235534, 0.01376362, 0.001434  , 0.01512163, 0.92716194,\n",
       "         0.01448279, 0.02269215, 0.00298854]])]"
      ]
     },
     "execution_count": 69,
     "metadata": {},
     "output_type": "execute_result"
    }
   ],
   "source": [
    "pipe_lr.predict_proba([pred1])"
   ]
  },
  {
   "cell_type": "code",
   "execution_count": null,
   "id": "fb665380",
   "metadata": {},
   "outputs": [],
   "source": []
  },
  {
   "cell_type": "code",
   "execution_count": 182,
   "id": "001d3825",
   "metadata": {},
   "outputs": [],
   "source": [
    "# Save the model to a file using pickle\n",
    "filename = 'FAD_MLclassifierXGB_MultiOut.pkl'\n",
    "with open(filename, 'wb') as file:\n",
    "    pickle.dump(pipe_lr, file)"
   ]
  },
  {
   "cell_type": "code",
   "execution_count": 184,
   "id": "4c598fbc",
   "metadata": {},
   "outputs": [],
   "source": [
    "file.close()"
   ]
  },
  {
   "cell_type": "code",
   "execution_count": null,
   "id": "faa81f98",
   "metadata": {},
   "outputs": [],
   "source": []
  },
  {
   "cell_type": "code",
   "execution_count": null,
   "id": "6da190ff",
   "metadata": {},
   "outputs": [],
   "source": []
  },
  {
   "cell_type": "code",
   "execution_count": null,
   "id": "a74b61c9",
   "metadata": {},
   "outputs": [],
   "source": []
  },
  {
   "cell_type": "code",
   "execution_count": null,
   "id": "50513708",
   "metadata": {},
   "outputs": [],
   "source": []
  },
  {
   "cell_type": "code",
   "execution_count": null,
   "id": "1a30f942",
   "metadata": {},
   "outputs": [],
   "source": []
  },
  {
   "cell_type": "code",
   "execution_count": null,
   "id": "437634f3",
   "metadata": {},
   "outputs": [],
   "source": []
  },
  {
   "cell_type": "code",
   "execution_count": null,
   "id": "9095e0e6",
   "metadata": {},
   "outputs": [],
   "source": []
  },
  {
   "cell_type": "code",
   "execution_count": null,
   "id": "9e5a1ba4",
   "metadata": {},
   "outputs": [],
   "source": []
  },
  {
   "cell_type": "code",
   "execution_count": null,
   "id": "1a9a38d5",
   "metadata": {},
   "outputs": [],
   "source": []
  },
  {
   "cell_type": "code",
   "execution_count": null,
   "id": "ff05d1ab",
   "metadata": {},
   "outputs": [],
   "source": []
  },
  {
   "cell_type": "code",
   "execution_count": null,
   "id": "549ae5b6",
   "metadata": {},
   "outputs": [],
   "source": []
  },
  {
   "cell_type": "code",
   "execution_count": null,
   "id": "899bc14f",
   "metadata": {},
   "outputs": [],
   "source": []
  },
  {
   "cell_type": "code",
   "execution_count": null,
   "id": "39ee45b0",
   "metadata": {},
   "outputs": [],
   "source": [
    "xgb = XGBClassifier(max_depth = 5, learning_rate = 0.1)\n",
    "xgb.fit(X_train_cv, y_train)\n",
    "XGBClassifier(max_depth=5, objective='multi:softprob')"
   ]
  },
  {
   "cell_type": "code",
   "execution_count": null,
   "id": "0ad5b3b4",
   "metadata": {},
   "outputs": [],
   "source": [
    "# Predictions\n",
    "y_pred_train = xgb.predict(X_train_cv)\n",
    "y_pred_test = xgb.predict(X_test_cv)"
   ]
  },
  {
   "cell_type": "code",
   "execution_count": null,
   "id": "94723bf0",
   "metadata": {},
   "outputs": [],
   "source": [
    "score = classification_report(y_train, y_pred_train)\n",
    "print('Classification Report for XGBoost(Train set)= \\n')\n",
    "print(score)"
   ]
  },
  {
   "cell_type": "code",
   "execution_count": null,
   "id": "495660a1",
   "metadata": {},
   "outputs": [],
   "source": [
    "score = classification_report(y_test, y_pred_test)\n",
    "print('Classification Report for XGBoost(Train set)= \\n')\n",
    "print(score)"
   ]
  },
  {
   "cell_type": "code",
   "execution_count": null,
   "id": "a6112a92",
   "metadata": {},
   "outputs": [],
   "source": []
  },
  {
   "cell_type": "code",
   "execution_count": null,
   "id": "cd51ba89",
   "metadata": {},
   "outputs": [],
   "source": []
  },
  {
   "cell_type": "markdown",
   "id": "d81248ac",
   "metadata": {},
   "source": [
    "# <div class = 'alert alert-success'>Pickle and Predict</div>"
   ]
  },
  {
   "cell_type": "code",
   "execution_count": null,
   "id": "f2340682",
   "metadata": {},
   "outputs": [],
   "source": [
    "from sklearn.linear_model import LogisticRegression\n",
    "from sklearn.model_selection import GridSearchCV\n"
   ]
  },
  {
   "cell_type": "code",
   "execution_count": null,
   "id": "bfcfe449",
   "metadata": {},
   "outputs": [],
   "source": []
  },
  {
   "cell_type": "code",
   "execution_count": null,
   "id": "0c6e91fd",
   "metadata": {},
   "outputs": [],
   "source": [
    "model = LogisticRegression()\n",
    "\n",
    "params = {'C': [0.001, 0.01, 0.1, 1, 10, 100, 200]}\n",
    "\n",
    "mdl = GridSearchCV(model, params, cv=5)\n",
    "mdl.fit(X_train_cv, y_train)\n",
    "\n",
    "# Save the model to a file using pickle\n",
    "filename = 'FAD_AdTypeClassifier_model.pkl'\n",
    "with open(filename, 'wb') as file:\n",
    "    pickle.dump(mdl, file)"
   ]
  },
  {
   "cell_type": "code",
   "execution_count": null,
   "id": "7c0ddabd",
   "metadata": {},
   "outputs": [],
   "source": []
  },
  {
   "cell_type": "code",
   "execution_count": null,
   "id": "8bf0d4d5",
   "metadata": {},
   "outputs": [],
   "source": []
  },
  {
   "cell_type": "code",
   "execution_count": null,
   "id": "5880fac3",
   "metadata": {},
   "outputs": [],
   "source": [
    "X_train.sort_index()"
   ]
  },
  {
   "cell_type": "code",
   "execution_count": null,
   "id": "7734c905",
   "metadata": {},
   "outputs": [],
   "source": [
    "pd.DataFrame(X_train).to_csv('X_train.csv')"
   ]
  },
  {
   "cell_type": "code",
   "execution_count": null,
   "id": "ef2cf7df",
   "metadata": {},
   "outputs": [],
   "source": [
    "# Let's Predict"
   ]
  },
  {
   "cell_type": "code",
   "execution_count": null,
   "id": "1b9fec5e",
   "metadata": {},
   "outputs": [],
   "source": [
    "from sklearn.feature_extraction.text import CountVectorizer, TfidfVectorizer\n",
    "import pickle"
   ]
  },
  {
   "cell_type": "code",
   "execution_count": null,
   "id": "ce02bded",
   "metadata": {},
   "outputs": [],
   "source": [
    "with open('FAD_AdTypeClassifier_model.pkl', 'rb') as file:\n",
    "    mod = pickle.load(file)\n",
    "\n",
    "# Load some new data for prediction\n",
    "X_new = [\"Hiring for Services\"]\n",
    "\n",
    "tfidfvectorizer = TfidfVectorizer(analyzer='word',stop_words= 'english')\n",
    "\n",
    "X_train_new = tfidfvectorizer.fit_transform(X_train)\n",
    "X_new_cv = tfidfvectorizer.transform(X_new)\n",
    "\n",
    "X_new_cv.shape"
   ]
  },
  {
   "cell_type": "code",
   "execution_count": null,
   "id": "86b83394",
   "metadata": {},
   "outputs": [],
   "source": [
    "print(X_new_cv)"
   ]
  },
  {
   "cell_type": "code",
   "execution_count": null,
   "id": "e65318bd",
   "metadata": {},
   "outputs": [],
   "source": [
    "# Predict the output for the new data using the loaded model\n",
    "prediction = mod.predict(X_new_cv)\n",
    "\n",
    "print(prediction)"
   ]
  },
  {
   "cell_type": "code",
   "execution_count": null,
   "id": "63483ff5",
   "metadata": {},
   "outputs": [],
   "source": []
  },
  {
   "cell_type": "code",
   "execution_count": null,
   "id": "e127bdbd",
   "metadata": {},
   "outputs": [],
   "source": [
    "df['type_name'].unique()"
   ]
  },
  {
   "cell_type": "code",
   "execution_count": null,
   "id": "7099b347",
   "metadata": {},
   "outputs": [],
   "source": []
  }
 ],
 "metadata": {
  "kernelspec": {
   "display_name": "Python 3 (ipykernel)",
   "language": "python",
   "name": "python3"
  },
  "language_info": {
   "codemirror_mode": {
    "name": "ipython",
    "version": 3
   },
   "file_extension": ".py",
   "mimetype": "text/x-python",
   "name": "python",
   "nbconvert_exporter": "python",
   "pygments_lexer": "ipython3",
   "version": "3.11.5"
  }
 },
 "nbformat": 4,
 "nbformat_minor": 5
}
