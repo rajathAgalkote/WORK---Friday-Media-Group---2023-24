{
 "cells": [
  {
   "cell_type": "markdown",
   "id": "48df5d2d-8a78-4834-ac05-a61f2535d5c3",
   "metadata": {},
   "source": [
    "# Make Mapping - CFS"
   ]
  },
  {
   "cell_type": "code",
   "execution_count": 1,
   "id": "72a58917-3632-4726-9f98-23350f24ef3b",
   "metadata": {},
   "outputs": [],
   "source": [
    "import pandas as pd\n",
    "import numpy as np\n",
    "import matplotlib.pyplot as plt\n",
    "import seaborn as sns\n",
    "import pickle\n",
    "\n",
    "from sklearn import preprocessing \n",
    "from sklearn.pipeline import Pipeline\n",
    "from sklearn.feature_extraction.text import CountVectorizer, TfidfVectorizer\n",
    "from sklearn.multioutput import MultiOutputClassifier\n",
    "from sklearn.model_selection import GridSearchCV\n",
    "from sklearn import svm"
   ]
  },
  {
   "cell_type": "code",
   "execution_count": 2,
   "id": "e94f4b18-3280-4780-bbd6-0a4559313bf4",
   "metadata": {},
   "outputs": [],
   "source": [
    "import warnings\n",
    "\n",
    "warnings.filterwarnings('ignore')"
   ]
  },
  {
   "cell_type": "code",
   "execution_count": 3,
   "id": "ecef0737-bacc-49d4-9219-970e7b163210",
   "metadata": {},
   "outputs": [],
   "source": [
    "pd.set_option('display.max_columns', None)\n",
    "pd.set_option('display.max_rows', None)"
   ]
  },
  {
   "cell_type": "code",
   "execution_count": 4,
   "id": "cdc098a4-0c80-42eb-86d6-1df2a22de3c2",
   "metadata": {},
   "outputs": [],
   "source": [
    "df= pd.read_csv('/Users/rajathadri_as/Documents/CFSmapping.csv', names=['Make','ModelIn','ModelOut','Count'])"
   ]
  },
  {
   "cell_type": "code",
   "execution_count": 5,
   "id": "90cf7492-7a2d-4667-ac55-26cea4f72bbe",
   "metadata": {},
   "outputs": [
    {
     "data": {
      "text/html": [
       "<div>\n",
       "<style scoped>\n",
       "    .dataframe tbody tr th:only-of-type {\n",
       "        vertical-align: middle;\n",
       "    }\n",
       "\n",
       "    .dataframe tbody tr th {\n",
       "        vertical-align: top;\n",
       "    }\n",
       "\n",
       "    .dataframe thead th {\n",
       "        text-align: right;\n",
       "    }\n",
       "</style>\n",
       "<table border=\"1\" class=\"dataframe\">\n",
       "  <thead>\n",
       "    <tr style=\"text-align: right;\">\n",
       "      <th></th>\n",
       "      <th>Make</th>\n",
       "      <th>ModelIn</th>\n",
       "      <th>ModelOut</th>\n",
       "      <th>Count</th>\n",
       "    </tr>\n",
       "  </thead>\n",
       "  <tbody>\n",
       "    <tr>\n",
       "      <th>0</th>\n",
       "      <td>Xplore</td>\n",
       "      <td>Activ</td>\n",
       "      <td>Activ</td>\n",
       "      <td>12</td>\n",
       "    </tr>\n",
       "    <tr>\n",
       "      <th>1</th>\n",
       "      <td>Etrusco</td>\n",
       "      <td>T</td>\n",
       "      <td>T</td>\n",
       "      <td>9</td>\n",
       "    </tr>\n",
       "    <tr>\n",
       "      <th>2</th>\n",
       "      <td>Roller Team</td>\n",
       "      <td>Auto-Roller</td>\n",
       "      <td>Auto-Roller</td>\n",
       "      <td>5</td>\n",
       "    </tr>\n",
       "    <tr>\n",
       "      <th>3</th>\n",
       "      <td>Benimar</td>\n",
       "      <td>Tessoro</td>\n",
       "      <td>Tessoro</td>\n",
       "      <td>4</td>\n",
       "    </tr>\n",
       "    <tr>\n",
       "      <th>4</th>\n",
       "      <td>Chausson</td>\n",
       "      <td>Etape Line 650</td>\n",
       "      <td>Etape Line 650</td>\n",
       "      <td>4</td>\n",
       "    </tr>\n",
       "  </tbody>\n",
       "</table>\n",
       "</div>"
      ],
      "text/plain": [
       "          Make         ModelIn        ModelOut  Count\n",
       "0       Xplore           Activ           Activ     12\n",
       "1      Etrusco               T               T      9\n",
       "2  Roller Team     Auto-Roller     Auto-Roller      5\n",
       "3      Benimar         Tessoro         Tessoro      4\n",
       "4     Chausson  Etape Line 650  Etape Line 650      4"
      ]
     },
     "execution_count": 5,
     "metadata": {},
     "output_type": "execute_result"
    }
   ],
   "source": [
    "df.head()"
   ]
  },
  {
   "cell_type": "code",
   "execution_count": 6,
   "id": "04d27a52-fd43-4644-814b-2a23104cf12d",
   "metadata": {},
   "outputs": [
    {
     "data": {
      "text/plain": [
       "(4926, 4)"
      ]
     },
     "execution_count": 6,
     "metadata": {},
     "output_type": "execute_result"
    }
   ],
   "source": [
    "df.shape"
   ]
  },
  {
   "cell_type": "code",
   "execution_count": 7,
   "id": "9f467d51-26e5-4964-94fc-d02fc94287dc",
   "metadata": {},
   "outputs": [
    {
     "name": "stdout",
     "output_type": "stream",
     "text": [
      "<class 'pandas.core.frame.DataFrame'>\n",
      "RangeIndex: 4926 entries, 0 to 4925\n",
      "Data columns (total 4 columns):\n",
      " #   Column    Non-Null Count  Dtype \n",
      "---  ------    --------------  ----- \n",
      " 0   Make      4926 non-null   object\n",
      " 1   ModelIn   4923 non-null   object\n",
      " 2   ModelOut  4926 non-null   object\n",
      " 3   Count     4926 non-null   int64 \n",
      "dtypes: int64(1), object(3)\n",
      "memory usage: 154.1+ KB\n"
     ]
    }
   ],
   "source": [
    "df.info()"
   ]
  },
  {
   "cell_type": "code",
   "execution_count": 8,
   "id": "8492bf23-9ef1-46c4-9923-94f54af87dcf",
   "metadata": {},
   "outputs": [
    {
     "data": {
      "text/plain": [
       "174"
      ]
     },
     "execution_count": 8,
     "metadata": {},
     "output_type": "execute_result"
    }
   ],
   "source": [
    "df['Make'].nunique()"
   ]
  },
  {
   "cell_type": "code",
   "execution_count": 9,
   "id": "a7e0cddf-dd3e-4ac0-b5d5-a78eebae825f",
   "metadata": {},
   "outputs": [
    {
     "data": {
      "text/plain": [
       "4903"
      ]
     },
     "execution_count": 9,
     "metadata": {},
     "output_type": "execute_result"
    }
   ],
   "source": [
    "df['ModelIn'].nunique()"
   ]
  },
  {
   "cell_type": "code",
   "execution_count": 10,
   "id": "30a97ab0-3536-4082-b5a4-524e202ac5b1",
   "metadata": {},
   "outputs": [
    {
     "data": {
      "text/plain": [
       "1954"
      ]
     },
     "execution_count": 10,
     "metadata": {},
     "output_type": "execute_result"
    }
   ],
   "source": [
    "df['ModelOut'].nunique()"
   ]
  },
  {
   "cell_type": "markdown",
   "id": "70aa263d-cc02-4bcb-ae01-e12c55a791ed",
   "metadata": {},
   "source": [
    "<div class='alert alert-info'>Basically, we need to map 4903 Model inputs to 1954 Model outputs</div>"
   ]
  },
  {
   "cell_type": "code",
   "execution_count": 14,
   "id": "afac39aa-892e-41ae-af76-4e5e4401a107",
   "metadata": {},
   "outputs": [
    {
     "data": {
      "text/plain": [
       "Make        0\n",
       "ModelIn     3\n",
       "ModelOut    0\n",
       "Count       0\n",
       "dtype: int64"
      ]
     },
     "execution_count": 14,
     "metadata": {},
     "output_type": "execute_result"
    }
   ],
   "source": [
    "df.isna().sum()"
   ]
  },
  {
   "cell_type": "code",
   "execution_count": 11,
   "id": "e5433c23-f070-4935-a0a3-1989da48e35d",
   "metadata": {},
   "outputs": [
    {
     "data": {
      "text/html": [
       "<div>\n",
       "<style scoped>\n",
       "    .dataframe tbody tr th:only-of-type {\n",
       "        vertical-align: middle;\n",
       "    }\n",
       "\n",
       "    .dataframe tbody tr th {\n",
       "        vertical-align: top;\n",
       "    }\n",
       "\n",
       "    .dataframe thead th {\n",
       "        text-align: right;\n",
       "    }\n",
       "</style>\n",
       "<table border=\"1\" class=\"dataframe\">\n",
       "  <thead>\n",
       "    <tr style=\"text-align: right;\">\n",
       "      <th></th>\n",
       "      <th>Make</th>\n",
       "      <th>ModelIn</th>\n",
       "      <th>ModelOut</th>\n",
       "      <th>Count</th>\n",
       "    </tr>\n",
       "  </thead>\n",
       "  <tbody>\n",
       "    <tr>\n",
       "      <th>474</th>\n",
       "      <td>Auto-Sleepers</td>\n",
       "      <td>NaN</td>\n",
       "      <td>Unknown</td>\n",
       "      <td>2</td>\n",
       "    </tr>\n",
       "    <tr>\n",
       "      <th>1395</th>\n",
       "      <td>Coachman</td>\n",
       "      <td>NaN</td>\n",
       "      <td>VIP 565/4</td>\n",
       "      <td>1</td>\n",
       "    </tr>\n",
       "    <tr>\n",
       "      <th>3001</th>\n",
       "      <td>Saly</td>\n",
       "      <td>NaN</td>\n",
       "      <td>Calypso</td>\n",
       "      <td>2</td>\n",
       "    </tr>\n",
       "  </tbody>\n",
       "</table>\n",
       "</div>"
      ],
      "text/plain": [
       "               Make ModelIn   ModelOut  Count\n",
       "474   Auto-Sleepers     NaN    Unknown      2\n",
       "1395       Coachman     NaN  VIP 565/4      1\n",
       "3001           Saly     NaN    Calypso      2"
      ]
     },
     "execution_count": 11,
     "metadata": {},
     "output_type": "execute_result"
    }
   ],
   "source": [
    "df[df['ModelIn'].isna()==True]"
   ]
  },
  {
   "cell_type": "code",
   "execution_count": 20,
   "id": "e1076f21-64c4-4baa-bc22-472cac4af3ca",
   "metadata": {
    "scrolled": true
   },
   "outputs": [
    {
     "data": {
      "text/html": [
       "<div>\n",
       "<style scoped>\n",
       "    .dataframe tbody tr th:only-of-type {\n",
       "        vertical-align: middle;\n",
       "    }\n",
       "\n",
       "    .dataframe tbody tr th {\n",
       "        vertical-align: top;\n",
       "    }\n",
       "\n",
       "    .dataframe thead th {\n",
       "        text-align: right;\n",
       "    }\n",
       "</style>\n",
       "<table border=\"1\" class=\"dataframe\">\n",
       "  <thead>\n",
       "    <tr style=\"text-align: right;\">\n",
       "      <th></th>\n",
       "      <th>Make</th>\n",
       "      <th>ModelIn</th>\n",
       "      <th>ModelOut</th>\n",
       "      <th>Count</th>\n",
       "    </tr>\n",
       "  </thead>\n",
       "  <tbody>\n",
       "    <tr>\n",
       "      <th>1306</th>\n",
       "      <td>Coachman</td>\n",
       "      <td>580</td>\n",
       "      <td>Acadia 580</td>\n",
       "      <td>1</td>\n",
       "    </tr>\n",
       "    <tr>\n",
       "      <th>1307</th>\n",
       "      <td>Coachman</td>\n",
       "      <td>2021 Coachman Acadia 545 for sale</td>\n",
       "      <td>Acadia 545</td>\n",
       "      <td>1</td>\n",
       "    </tr>\n",
       "    <tr>\n",
       "      <th>1308</th>\n",
       "      <td>Coachman</td>\n",
       "      <td>520 Acadia</td>\n",
       "      <td>Acadia 520</td>\n",
       "      <td>1</td>\n",
       "    </tr>\n",
       "    <tr>\n",
       "      <th>1309</th>\n",
       "      <td>Coachman</td>\n",
       "      <td>520/3 VIP</td>\n",
       "      <td>VIP 520/3</td>\n",
       "      <td>1</td>\n",
       "    </tr>\n",
       "    <tr>\n",
       "      <th>1310</th>\n",
       "      <td>Coachman</td>\n",
       "      <td>520/4 Ashington</td>\n",
       "      <td>Ashington 520/4</td>\n",
       "      <td>1</td>\n",
       "    </tr>\n",
       "    <tr>\n",
       "      <th>1311</th>\n",
       "      <td>Coachman</td>\n",
       "      <td>545 Kimberly</td>\n",
       "      <td>VIP 545</td>\n",
       "      <td>1</td>\n",
       "    </tr>\n",
       "    <tr>\n",
       "      <th>1312</th>\n",
       "      <td>Coachman</td>\n",
       "      <td>565 Kimberley caravan  - 2022 – Single Axle 4 ...</td>\n",
       "      <td>VIP 565</td>\n",
       "      <td>1</td>\n",
       "    </tr>\n",
       "    <tr>\n",
       "      <th>1313</th>\n",
       "      <td>Coachman</td>\n",
       "      <td>Acadia</td>\n",
       "      <td>Acadia</td>\n",
       "      <td>13</td>\n",
       "    </tr>\n",
       "    <tr>\n",
       "      <th>1314</th>\n",
       "      <td>Coachman</td>\n",
       "      <td>Acadia 460</td>\n",
       "      <td>Acadia 460</td>\n",
       "      <td>2</td>\n",
       "    </tr>\n",
       "    <tr>\n",
       "      <th>1315</th>\n",
       "      <td>Coachman</td>\n",
       "      <td>Acadia 545</td>\n",
       "      <td>Acadia 545</td>\n",
       "      <td>3</td>\n",
       "    </tr>\n",
       "    <tr>\n",
       "      <th>1316</th>\n",
       "      <td>Coachman</td>\n",
       "      <td>Acadia 575</td>\n",
       "      <td>Acadia 575</td>\n",
       "      <td>5</td>\n",
       "    </tr>\n",
       "    <tr>\n",
       "      <th>1317</th>\n",
       "      <td>Coachman</td>\n",
       "      <td>Acadia 580</td>\n",
       "      <td>Acadia 580</td>\n",
       "      <td>1</td>\n",
       "    </tr>\n",
       "    <tr>\n",
       "      <th>1318</th>\n",
       "      <td>Coachman</td>\n",
       "      <td>Acadia 630</td>\n",
       "      <td>Acadia 630</td>\n",
       "      <td>1</td>\n",
       "    </tr>\n",
       "    <tr>\n",
       "      <th>1319</th>\n",
       "      <td>Coachman</td>\n",
       "      <td>ACADIA 630 XTRA</td>\n",
       "      <td>Acadia 630</td>\n",
       "      <td>1</td>\n",
       "    </tr>\n",
       "    <tr>\n",
       "      <th>1320</th>\n",
       "      <td>Coachman</td>\n",
       "      <td>ACADIA 660 XTRA</td>\n",
       "      <td>Acadia 660</td>\n",
       "      <td>3</td>\n",
       "    </tr>\n",
       "    <tr>\n",
       "      <th>1321</th>\n",
       "      <td>Coachman</td>\n",
       "      <td>Amara 380-2</td>\n",
       "      <td>Amara 380/2</td>\n",
       "      <td>1</td>\n",
       "    </tr>\n",
       "    <tr>\n",
       "      <th>1322</th>\n",
       "      <td>Coachman</td>\n",
       "      <td>AMARA 380/2</td>\n",
       "      <td>Amara 380/2</td>\n",
       "      <td>4</td>\n",
       "    </tr>\n",
       "    <tr>\n",
       "      <th>1323</th>\n",
       "      <td>Coachman</td>\n",
       "      <td>Amara 450</td>\n",
       "      <td>Amara 450</td>\n",
       "      <td>1</td>\n",
       "    </tr>\n",
       "    <tr>\n",
       "      <th>1324</th>\n",
       "      <td>Coachman</td>\n",
       "      <td>AMARA 450/2</td>\n",
       "      <td>Amara 450/2</td>\n",
       "      <td>2</td>\n",
       "    </tr>\n",
       "    <tr>\n",
       "      <th>1325</th>\n",
       "      <td>Coachman</td>\n",
       "      <td>Amara 450/2vs Special Edition</td>\n",
       "      <td>Amara 450/2</td>\n",
       "      <td>1</td>\n",
       "    </tr>\n",
       "    <tr>\n",
       "      <th>1326</th>\n",
       "      <td>Coachman</td>\n",
       "      <td>Amara 560</td>\n",
       "      <td>Amara 560/4</td>\n",
       "      <td>1</td>\n",
       "    </tr>\n",
       "    <tr>\n",
       "      <th>1327</th>\n",
       "      <td>Coachman</td>\n",
       "      <td>amara 560/4</td>\n",
       "      <td>Amara 560/6</td>\n",
       "      <td>1</td>\n",
       "    </tr>\n",
       "    <tr>\n",
       "      <th>1328</th>\n",
       "      <td>Coachman</td>\n",
       "      <td>AMARA 560/6</td>\n",
       "      <td>Amara 560/6</td>\n",
       "      <td>1</td>\n",
       "    </tr>\n",
       "    <tr>\n",
       "      <th>1329</th>\n",
       "      <td>Coachman</td>\n",
       "      <td>Amara 640/6</td>\n",
       "      <td>Amara 640/6</td>\n",
       "      <td>1</td>\n",
       "    </tr>\n",
       "    <tr>\n",
       "      <th>1330</th>\n",
       "      <td>Coachman</td>\n",
       "      <td>Amara Mendip 520</td>\n",
       "      <td>Amara Mendip 520</td>\n",
       "      <td>1</td>\n",
       "    </tr>\n",
       "    <tr>\n",
       "      <th>1331</th>\n",
       "      <td>Coachman</td>\n",
       "      <td>Amara VS</td>\n",
       "      <td>Amara</td>\n",
       "      <td>1</td>\n",
       "    </tr>\n",
       "    <tr>\n",
       "      <th>1332</th>\n",
       "      <td>Coachman</td>\n",
       "      <td>Amara Wiston 380 - 2 Berth - End Kitchen</td>\n",
       "      <td>Amara 380/2</td>\n",
       "      <td>1</td>\n",
       "    </tr>\n",
       "    <tr>\n",
       "      <th>1333</th>\n",
       "      <td>Coachman</td>\n",
       "      <td>Ashington 520/4</td>\n",
       "      <td>Ashington 520/4</td>\n",
       "      <td>1</td>\n",
       "    </tr>\n",
       "    <tr>\n",
       "      <th>1334</th>\n",
       "      <td>Coachman</td>\n",
       "      <td>coachman amara 380/2</td>\n",
       "      <td>Amara 380/2</td>\n",
       "      <td>1</td>\n",
       "    </tr>\n",
       "    <tr>\n",
       "      <th>1335</th>\n",
       "      <td>Coachman</td>\n",
       "      <td>Concord 3 slide American RV Motorhome</td>\n",
       "      <td>Concord 3</td>\n",
       "      <td>1</td>\n",
       "    </tr>\n",
       "    <tr>\n",
       "      <th>1336</th>\n",
       "      <td>Coachman</td>\n",
       "      <td>festival 450</td>\n",
       "      <td>Festival 450</td>\n",
       "      <td>1</td>\n",
       "    </tr>\n",
       "    <tr>\n",
       "      <th>1337</th>\n",
       "      <td>Coachman</td>\n",
       "      <td>Festival 520</td>\n",
       "      <td>Festival 520</td>\n",
       "      <td>1</td>\n",
       "    </tr>\n",
       "    <tr>\n",
       "      <th>1338</th>\n",
       "      <td>Coachman</td>\n",
       "      <td>Festival 860 Excel</td>\n",
       "      <td>Festival 860</td>\n",
       "      <td>1</td>\n",
       "    </tr>\n",
       "    <tr>\n",
       "      <th>1339</th>\n",
       "      <td>Coachman</td>\n",
       "      <td>festival/530/4</td>\n",
       "      <td>Festival 530/4</td>\n",
       "      <td>1</td>\n",
       "    </tr>\n",
       "    <tr>\n",
       "      <th>1340</th>\n",
       "      <td>Coachman</td>\n",
       "      <td>Golden Laser 590/4</td>\n",
       "      <td>Laser 590/4</td>\n",
       "      <td>1</td>\n",
       "    </tr>\n",
       "    <tr>\n",
       "      <th>1341</th>\n",
       "      <td>Coachman</td>\n",
       "      <td>Kimberley 560</td>\n",
       "      <td>VIP 560</td>\n",
       "      <td>1</td>\n",
       "    </tr>\n",
       "    <tr>\n",
       "      <th>1342</th>\n",
       "      <td>Coachman</td>\n",
       "      <td>Kimberley Acadia</td>\n",
       "      <td>Acadia</td>\n",
       "      <td>11</td>\n",
       "    </tr>\n",
       "    <tr>\n",
       "      <th>1343</th>\n",
       "      <td>Coachman</td>\n",
       "      <td>Kimberley Vision</td>\n",
       "      <td>Vision</td>\n",
       "      <td>3</td>\n",
       "    </tr>\n",
       "    <tr>\n",
       "      <th>1344</th>\n",
       "      <td>Coachman</td>\n",
       "      <td>Laser 575 Xtra</td>\n",
       "      <td>Laser 875 Xcel</td>\n",
       "      <td>2</td>\n",
       "    </tr>\n",
       "    <tr>\n",
       "      <th>1345</th>\n",
       "      <td>Coachman</td>\n",
       "      <td>Laser 620</td>\n",
       "      <td>Laser 620</td>\n",
       "      <td>4</td>\n",
       "    </tr>\n",
       "    <tr>\n",
       "      <th>1346</th>\n",
       "      <td>Coachman</td>\n",
       "      <td>Laser 620 Twin axle 4 berth</td>\n",
       "      <td>Laser 620</td>\n",
       "      <td>1</td>\n",
       "    </tr>\n",
       "    <tr>\n",
       "      <th>1347</th>\n",
       "      <td>Coachman</td>\n",
       "      <td>LASER 620 XTRA</td>\n",
       "      <td>Laser 620</td>\n",
       "      <td>4</td>\n",
       "    </tr>\n",
       "    <tr>\n",
       "      <th>1348</th>\n",
       "      <td>Coachman</td>\n",
       "      <td>Laser 640 twin axle with fixed double bed</td>\n",
       "      <td>Laser 640</td>\n",
       "      <td>1</td>\n",
       "    </tr>\n",
       "    <tr>\n",
       "      <th>1349</th>\n",
       "      <td>Coachman</td>\n",
       "      <td>Laser 650</td>\n",
       "      <td>Laser 650</td>\n",
       "      <td>5</td>\n",
       "    </tr>\n",
       "    <tr>\n",
       "      <th>1350</th>\n",
       "      <td>Coachman</td>\n",
       "      <td>Laser 650 inc a awd auto mover and alko locks !!</td>\n",
       "      <td>Laser 650</td>\n",
       "      <td>1</td>\n",
       "    </tr>\n",
       "    <tr>\n",
       "      <th>1351</th>\n",
       "      <td>Coachman</td>\n",
       "      <td>Laser 650/4</td>\n",
       "      <td>Laser 650</td>\n",
       "      <td>2</td>\n",
       "    </tr>\n",
       "    <tr>\n",
       "      <th>1352</th>\n",
       "      <td>Coachman</td>\n",
       "      <td>Laser 665</td>\n",
       "      <td>Laser 665</td>\n",
       "      <td>1</td>\n",
       "    </tr>\n",
       "    <tr>\n",
       "      <th>1353</th>\n",
       "      <td>Coachman</td>\n",
       "      <td>Laser 665 AC (D)</td>\n",
       "      <td>Laser 665</td>\n",
       "      <td>1</td>\n",
       "    </tr>\n",
       "    <tr>\n",
       "      <th>1354</th>\n",
       "      <td>Coachman</td>\n",
       "      <td>Laser 875 Xcel</td>\n",
       "      <td>Laser Xcel 875</td>\n",
       "      <td>2</td>\n",
       "    </tr>\n",
       "    <tr>\n",
       "      <th>1355</th>\n",
       "      <td>Coachman</td>\n",
       "      <td>Laser Xcel 575</td>\n",
       "      <td>Laser Xcel 575</td>\n",
       "      <td>1</td>\n",
       "    </tr>\n",
       "    <tr>\n",
       "      <th>1356</th>\n",
       "      <td>Coachman</td>\n",
       "      <td>Laser Xcel 845</td>\n",
       "      <td>Laser Xcel 845</td>\n",
       "      <td>2</td>\n",
       "    </tr>\n",
       "    <tr>\n",
       "      <th>1357</th>\n",
       "      <td>Coachman</td>\n",
       "      <td>Laser Xcel 850</td>\n",
       "      <td>Laser Xcel 850</td>\n",
       "      <td>4</td>\n",
       "    </tr>\n",
       "    <tr>\n",
       "      <th>1358</th>\n",
       "      <td>Coachman</td>\n",
       "      <td>LASER XCEL 855</td>\n",
       "      <td>Laser Xcel 855</td>\n",
       "      <td>1</td>\n",
       "    </tr>\n",
       "    <tr>\n",
       "      <th>1359</th>\n",
       "      <td>Coachman</td>\n",
       "      <td>Laser Xcel 875</td>\n",
       "      <td>Laser Xcel 875</td>\n",
       "      <td>2</td>\n",
       "    </tr>\n",
       "    <tr>\n",
       "      <th>1360</th>\n",
       "      <td>Coachman</td>\n",
       "      <td>Laser Xcel 875 (D)</td>\n",
       "      <td>Laser Xcel 875</td>\n",
       "      <td>1</td>\n",
       "    </tr>\n",
       "    <tr>\n",
       "      <th>1361</th>\n",
       "      <td>Coachman</td>\n",
       "      <td>Laser Xcel 875 ex demo 2022</td>\n",
       "      <td>Laser Xcel 875</td>\n",
       "      <td>1</td>\n",
       "    </tr>\n",
       "    <tr>\n",
       "      <th>1362</th>\n",
       "      <td>Coachman</td>\n",
       "      <td>Lusso</td>\n",
       "      <td>Lusso</td>\n",
       "      <td>15</td>\n",
       "    </tr>\n",
       "    <tr>\n",
       "      <th>1363</th>\n",
       "      <td>Coachman</td>\n",
       "      <td>Lusso 2</td>\n",
       "      <td>Lusso II</td>\n",
       "      <td>2</td>\n",
       "    </tr>\n",
       "    <tr>\n",
       "      <th>1364</th>\n",
       "      <td>Coachman</td>\n",
       "      <td>Lusso II</td>\n",
       "      <td>Lusso II</td>\n",
       "      <td>1</td>\n",
       "    </tr>\n",
       "    <tr>\n",
       "      <th>1365</th>\n",
       "      <td>Coachman</td>\n",
       "      <td>Olympia 570</td>\n",
       "      <td>Olympia 570</td>\n",
       "      <td>1</td>\n",
       "    </tr>\n",
       "    <tr>\n",
       "      <th>1366</th>\n",
       "      <td>Coachman</td>\n",
       "      <td>Pastiche 460 2 berth with motor mover</td>\n",
       "      <td>Pastiche 460</td>\n",
       "      <td>1</td>\n",
       "    </tr>\n",
       "    <tr>\n",
       "      <th>1367</th>\n",
       "      <td>Coachman</td>\n",
       "      <td>Pastiche 470</td>\n",
       "      <td>Pastiche 470</td>\n",
       "      <td>3</td>\n",
       "    </tr>\n",
       "    <tr>\n",
       "      <th>1368</th>\n",
       "      <td>Coachman</td>\n",
       "      <td>Pastiche 470/2</td>\n",
       "      <td>Pastiche 470/2</td>\n",
       "      <td>2</td>\n",
       "    </tr>\n",
       "    <tr>\n",
       "      <th>1369</th>\n",
       "      <td>Coachman</td>\n",
       "      <td>Pastiche 520 / 4</td>\n",
       "      <td>Pastiche 525/4</td>\n",
       "      <td>1</td>\n",
       "    </tr>\n",
       "    <tr>\n",
       "      <th>1370</th>\n",
       "      <td>Coachman</td>\n",
       "      <td>Pastiche 520/4</td>\n",
       "      <td>Pastiche 520/4</td>\n",
       "      <td>3</td>\n",
       "    </tr>\n",
       "    <tr>\n",
       "      <th>1371</th>\n",
       "      <td>Coachman</td>\n",
       "      <td>Pastiche 520/4 INC MOVER &amp; SOLAR</td>\n",
       "      <td>Pastiche 520/4</td>\n",
       "      <td>1</td>\n",
       "    </tr>\n",
       "    <tr>\n",
       "      <th>1372</th>\n",
       "      <td>Coachman</td>\n",
       "      <td>Pastiche 525/4</td>\n",
       "      <td>Pastiche 525/4</td>\n",
       "      <td>1</td>\n",
       "    </tr>\n",
       "    <tr>\n",
       "      <th>1373</th>\n",
       "      <td>Coachman</td>\n",
       "      <td>Pastiche 545 4 Berth/ Island Bed</td>\n",
       "      <td>Pastiche 545/4</td>\n",
       "      <td>1</td>\n",
       "    </tr>\n",
       "    <tr>\n",
       "      <th>1374</th>\n",
       "      <td>Coachman</td>\n",
       "      <td>Pastiche 550-5</td>\n",
       "      <td>Pastiche 550/5</td>\n",
       "      <td>1</td>\n",
       "    </tr>\n",
       "    <tr>\n",
       "      <th>1375</th>\n",
       "      <td>Coachman</td>\n",
       "      <td>Pastiche 565 4 berth/Single Fixed beds</td>\n",
       "      <td>Pastiche 565/4</td>\n",
       "      <td>1</td>\n",
       "    </tr>\n",
       "    <tr>\n",
       "      <th>1376</th>\n",
       "      <td>Coachman</td>\n",
       "      <td>Pastiche. ,575</td>\n",
       "      <td>Pastiche. 575</td>\n",
       "      <td>1</td>\n",
       "    </tr>\n",
       "    <tr>\n",
       "      <th>1377</th>\n",
       "      <td>Coachman</td>\n",
       "      <td>Pistache 560/4</td>\n",
       "      <td>Pistache 560/4</td>\n",
       "      <td>1</td>\n",
       "    </tr>\n",
       "    <tr>\n",
       "      <th>1378</th>\n",
       "      <td>Coachman</td>\n",
       "      <td>Travel Master</td>\n",
       "      <td>Travel Master</td>\n",
       "      <td>1</td>\n",
       "    </tr>\n",
       "    <tr>\n",
       "      <th>1379</th>\n",
       "      <td>Coachman</td>\n",
       "      <td>Travel Master 545</td>\n",
       "      <td>Travel Master 545</td>\n",
       "      <td>2</td>\n",
       "    </tr>\n",
       "    <tr>\n",
       "      <th>1380</th>\n",
       "      <td>Coachman</td>\n",
       "      <td>Travel Master 565</td>\n",
       "      <td>Travel Master 565</td>\n",
       "      <td>1</td>\n",
       "    </tr>\n",
       "    <tr>\n",
       "      <th>1381</th>\n",
       "      <td>Coachman</td>\n",
       "      <td>Travel Master Imperial 845</td>\n",
       "      <td>Travel Master Imperial 845</td>\n",
       "      <td>1</td>\n",
       "    </tr>\n",
       "    <tr>\n",
       "      <th>1382</th>\n",
       "      <td>Coachman</td>\n",
       "      <td>Travelmaster 545</td>\n",
       "      <td>Travelmaster 545</td>\n",
       "      <td>1</td>\n",
       "    </tr>\n",
       "    <tr>\n",
       "      <th>1383</th>\n",
       "      <td>Coachman</td>\n",
       "      <td>Travelmaster 565</td>\n",
       "      <td>Travelmaster 565</td>\n",
       "      <td>1</td>\n",
       "    </tr>\n",
       "    <tr>\n",
       "      <th>1384</th>\n",
       "      <td>Coachman</td>\n",
       "      <td>VIP 460 (Sussex Special Edition Chiltington)</td>\n",
       "      <td>VIP 460</td>\n",
       "      <td>1</td>\n",
       "    </tr>\n",
       "    <tr>\n",
       "      <th>1385</th>\n",
       "      <td>Coachman</td>\n",
       "      <td>VIP 460 GTRS Chiltington</td>\n",
       "      <td>VIP 460</td>\n",
       "      <td>1</td>\n",
       "    </tr>\n",
       "    <tr>\n",
       "      <th>1386</th>\n",
       "      <td>Coachman</td>\n",
       "      <td>VIP 460 Sussex Special Edition</td>\n",
       "      <td>VIP 460</td>\n",
       "      <td>1</td>\n",
       "    </tr>\n",
       "    <tr>\n",
       "      <th>1387</th>\n",
       "      <td>Coachman</td>\n",
       "      <td>VIP 460/2</td>\n",
       "      <td>VIP 460/2</td>\n",
       "      <td>6</td>\n",
       "    </tr>\n",
       "    <tr>\n",
       "      <th>1388</th>\n",
       "      <td>Coachman</td>\n",
       "      <td>VIP 460/2 (2023 model)</td>\n",
       "      <td>VIP 460/2</td>\n",
       "      <td>1</td>\n",
       "    </tr>\n",
       "    <tr>\n",
       "      <th>1389</th>\n",
       "      <td>Coachman</td>\n",
       "      <td>VIP 520 4 berth Dinette conversion Alde centra...</td>\n",
       "      <td>VIP 520/4</td>\n",
       "      <td>1</td>\n",
       "    </tr>\n",
       "    <tr>\n",
       "      <th>1390</th>\n",
       "      <td>Coachman</td>\n",
       "      <td>VIP 520/3</td>\n",
       "      <td>VIP 520/3</td>\n",
       "      <td>1</td>\n",
       "    </tr>\n",
       "    <tr>\n",
       "      <th>1391</th>\n",
       "      <td>Coachman</td>\n",
       "      <td>VIP 540 XTRA</td>\n",
       "      <td>VIP 540</td>\n",
       "      <td>2</td>\n",
       "    </tr>\n",
       "    <tr>\n",
       "      <th>1392</th>\n",
       "      <td>Coachman</td>\n",
       "      <td>VIP 545/4</td>\n",
       "      <td>VIP 545/4</td>\n",
       "      <td>1</td>\n",
       "    </tr>\n",
       "    <tr>\n",
       "      <th>1393</th>\n",
       "      <td>Coachman</td>\n",
       "      <td>VIP 560</td>\n",
       "      <td>VIP 560</td>\n",
       "      <td>1</td>\n",
       "    </tr>\n",
       "    <tr>\n",
       "      <th>1394</th>\n",
       "      <td>Coachman</td>\n",
       "      <td>VIP 565 Fixed single beds Alde heating</td>\n",
       "      <td>VIP 565</td>\n",
       "      <td>1</td>\n",
       "    </tr>\n",
       "    <tr>\n",
       "      <th>1395</th>\n",
       "      <td>Coachman</td>\n",
       "      <td>NaN</td>\n",
       "      <td>VIP 565/4</td>\n",
       "      <td>1</td>\n",
       "    </tr>\n",
       "    <tr>\n",
       "      <th>1396</th>\n",
       "      <td>Coachman</td>\n",
       "      <td>VIP 565/4 Singleton</td>\n",
       "      <td>VIP 565/4</td>\n",
       "      <td>1</td>\n",
       "    </tr>\n",
       "    <tr>\n",
       "      <th>1397</th>\n",
       "      <td>Coachman</td>\n",
       "      <td>VIP 575 Kingsham</td>\n",
       "      <td>VIP 575 Kingsham</td>\n",
       "      <td>1</td>\n",
       "    </tr>\n",
       "    <tr>\n",
       "      <th>1398</th>\n",
       "      <td>Coachman</td>\n",
       "      <td>VIP 575 Kingsham Sussex Special</td>\n",
       "      <td>VIP 575 Kingsham</td>\n",
       "      <td>1</td>\n",
       "    </tr>\n",
       "    <tr>\n",
       "      <th>1399</th>\n",
       "      <td>Coachman</td>\n",
       "      <td>VIP 575/4</td>\n",
       "      <td>VIP 575/4</td>\n",
       "      <td>1</td>\n",
       "    </tr>\n",
       "    <tr>\n",
       "      <th>1400</th>\n",
       "      <td>Coachman</td>\n",
       "      <td>VIP 620</td>\n",
       "      <td>VIP 620</td>\n",
       "      <td>2</td>\n",
       "    </tr>\n",
       "    <tr>\n",
       "      <th>1401</th>\n",
       "      <td>Coachman</td>\n",
       "      <td>VIP 620 inc solar and alko locks</td>\n",
       "      <td>VIP 620</td>\n",
       "      <td>1</td>\n",
       "    </tr>\n",
       "    <tr>\n",
       "      <th>1402</th>\n",
       "      <td>Coachman</td>\n",
       "      <td>Vision 380/2</td>\n",
       "      <td>Vision 380/2</td>\n",
       "      <td>2</td>\n",
       "    </tr>\n",
       "    <tr>\n",
       "      <th>1403</th>\n",
       "      <td>Coachman</td>\n",
       "      <td>Vision 575 Kimberley</td>\n",
       "      <td>Vision 575</td>\n",
       "      <td>1</td>\n",
       "    </tr>\n",
       "    <tr>\n",
       "      <th>1404</th>\n",
       "      <td>Coachman</td>\n",
       "      <td>Vision Design Edition 565</td>\n",
       "      <td>Vision Design Edition 565</td>\n",
       "      <td>1</td>\n",
       "    </tr>\n",
       "    <tr>\n",
       "      <th>1405</th>\n",
       "      <td>Coachman</td>\n",
       "      <td>Vision Xtra 450</td>\n",
       "      <td>Vision Xtra 450</td>\n",
       "      <td>1</td>\n",
       "    </tr>\n",
       "    <tr>\n",
       "      <th>1406</th>\n",
       "      <td>Coachman</td>\n",
       "      <td>Wanderer 13/2</td>\n",
       "      <td>Wanderer 13/2</td>\n",
       "      <td>2</td>\n",
       "    </tr>\n",
       "    <tr>\n",
       "      <th>1407</th>\n",
       "      <td>Coachman</td>\n",
       "      <td>Wanderer 15EW</td>\n",
       "      <td>Wanderer 15EW</td>\n",
       "      <td>1</td>\n",
       "    </tr>\n",
       "    <tr>\n",
       "      <th>1408</th>\n",
       "      <td>Coachman</td>\n",
       "      <td>Wanderer 15EW.</td>\n",
       "      <td>Wanderer 15EW</td>\n",
       "      <td>1</td>\n",
       "    </tr>\n",
       "    <tr>\n",
       "      <th>1409</th>\n",
       "      <td>Coachman</td>\n",
       "      <td>Wanderer 17/4</td>\n",
       "      <td>Wanderer 17/4</td>\n",
       "      <td>2</td>\n",
       "    </tr>\n",
       "    <tr>\n",
       "      <th>1410</th>\n",
       "      <td>Coachman</td>\n",
       "      <td>Wanderer 19 IB (D)</td>\n",
       "      <td>Wanderer 19 TB</td>\n",
       "      <td>1</td>\n",
       "    </tr>\n",
       "    <tr>\n",
       "      <th>1411</th>\n",
       "      <td>Coachman</td>\n",
       "      <td>Wanderer 19 TB</td>\n",
       "      <td>Wanderer 19 TB</td>\n",
       "      <td>1</td>\n",
       "    </tr>\n",
       "    <tr>\n",
       "      <th>1412</th>\n",
       "      <td>Coachman</td>\n",
       "      <td>Wanderer 19 TB (D)</td>\n",
       "      <td>Wanderer 19 TB</td>\n",
       "      <td>1</td>\n",
       "    </tr>\n",
       "    <tr>\n",
       "      <th>1413</th>\n",
       "      <td>Coachman</td>\n",
       "      <td>Wanderer 22 FB Extra</td>\n",
       "      <td>Wanderer 22 FB</td>\n",
       "      <td>1</td>\n",
       "    </tr>\n",
       "    <tr>\n",
       "      <th>1414</th>\n",
       "      <td>Coachman</td>\n",
       "      <td>Wanderer Amara</td>\n",
       "      <td>Wanderer Amara</td>\n",
       "      <td>1</td>\n",
       "    </tr>\n",
       "    <tr>\n",
       "      <th>1415</th>\n",
       "      <td>Coachman</td>\n",
       "      <td>Wanderer Lux 21/6 Including Isabella Awning</td>\n",
       "      <td>Wanderer Lux 21/6 I</td>\n",
       "      <td>1</td>\n",
       "    </tr>\n",
       "    <tr>\n",
       "      <th>1416</th>\n",
       "      <td>Coachman</td>\n",
       "      <td>Wanderer Vision 450</td>\n",
       "      <td>Wanderer Vision 450</td>\n",
       "      <td>1</td>\n",
       "    </tr>\n",
       "    <tr>\n",
       "      <th>1417</th>\n",
       "      <td>Coachman</td>\n",
       "      <td>Wanderer/fixed bed</td>\n",
       "      <td>Wanderer</td>\n",
       "      <td>1</td>\n",
       "    </tr>\n",
       "    <tr>\n",
       "      <th>1418</th>\n",
       "      <td>Coachman</td>\n",
       "      <td>Wandering 17/4</td>\n",
       "      <td>Wandering 17/4</td>\n",
       "      <td>1</td>\n",
       "    </tr>\n",
       "  </tbody>\n",
       "</table>\n",
       "</div>"
      ],
      "text/plain": [
       "          Make                                            ModelIn  \\\n",
       "1306  Coachman                                                580   \n",
       "1307  Coachman                  2021 Coachman Acadia 545 for sale   \n",
       "1308  Coachman                                         520 Acadia   \n",
       "1309  Coachman                                          520/3 VIP   \n",
       "1310  Coachman                                    520/4 Ashington   \n",
       "1311  Coachman                                       545 Kimberly   \n",
       "1312  Coachman  565 Kimberley caravan  - 2022 – Single Axle 4 ...   \n",
       "1313  Coachman                                             Acadia   \n",
       "1314  Coachman                                         Acadia 460   \n",
       "1315  Coachman                                         Acadia 545   \n",
       "1316  Coachman                                         Acadia 575   \n",
       "1317  Coachman                                         Acadia 580   \n",
       "1318  Coachman                                         Acadia 630   \n",
       "1319  Coachman                                    ACADIA 630 XTRA   \n",
       "1320  Coachman                                    ACADIA 660 XTRA   \n",
       "1321  Coachman                                        Amara 380-2   \n",
       "1322  Coachman                                        AMARA 380/2   \n",
       "1323  Coachman                                          Amara 450   \n",
       "1324  Coachman                                        AMARA 450/2   \n",
       "1325  Coachman                      Amara 450/2vs Special Edition   \n",
       "1326  Coachman                                          Amara 560   \n",
       "1327  Coachman                                        amara 560/4   \n",
       "1328  Coachman                                        AMARA 560/6   \n",
       "1329  Coachman                                        Amara 640/6   \n",
       "1330  Coachman                                   Amara Mendip 520   \n",
       "1331  Coachman                                           Amara VS   \n",
       "1332  Coachman           Amara Wiston 380 - 2 Berth - End Kitchen   \n",
       "1333  Coachman                                    Ashington 520/4   \n",
       "1334  Coachman                               coachman amara 380/2   \n",
       "1335  Coachman              Concord 3 slide American RV Motorhome   \n",
       "1336  Coachman                                       festival 450   \n",
       "1337  Coachman                                       Festival 520   \n",
       "1338  Coachman                                 Festival 860 Excel   \n",
       "1339  Coachman                                     festival/530/4   \n",
       "1340  Coachman                                 Golden Laser 590/4   \n",
       "1341  Coachman                                      Kimberley 560   \n",
       "1342  Coachman                                   Kimberley Acadia   \n",
       "1343  Coachman                                   Kimberley Vision   \n",
       "1344  Coachman                                     Laser 575 Xtra   \n",
       "1345  Coachman                                          Laser 620   \n",
       "1346  Coachman                        Laser 620 Twin axle 4 berth   \n",
       "1347  Coachman                                     LASER 620 XTRA   \n",
       "1348  Coachman          Laser 640 twin axle with fixed double bed   \n",
       "1349  Coachman                                          Laser 650   \n",
       "1350  Coachman   Laser 650 inc a awd auto mover and alko locks !!   \n",
       "1351  Coachman                                        Laser 650/4   \n",
       "1352  Coachman                                          Laser 665   \n",
       "1353  Coachman                                   Laser 665 AC (D)   \n",
       "1354  Coachman                                     Laser 875 Xcel   \n",
       "1355  Coachman                                     Laser Xcel 575   \n",
       "1356  Coachman                                     Laser Xcel 845   \n",
       "1357  Coachman                                     Laser Xcel 850   \n",
       "1358  Coachman                                     LASER XCEL 855   \n",
       "1359  Coachman                                     Laser Xcel 875   \n",
       "1360  Coachman                                 Laser Xcel 875 (D)   \n",
       "1361  Coachman                        Laser Xcel 875 ex demo 2022   \n",
       "1362  Coachman                                              Lusso   \n",
       "1363  Coachman                                            Lusso 2   \n",
       "1364  Coachman                                           Lusso II   \n",
       "1365  Coachman                                        Olympia 570   \n",
       "1366  Coachman              Pastiche 460 2 berth with motor mover   \n",
       "1367  Coachman                                       Pastiche 470   \n",
       "1368  Coachman                                     Pastiche 470/2   \n",
       "1369  Coachman                                   Pastiche 520 / 4   \n",
       "1370  Coachman                                     Pastiche 520/4   \n",
       "1371  Coachman                   Pastiche 520/4 INC MOVER & SOLAR   \n",
       "1372  Coachman                                     Pastiche 525/4   \n",
       "1373  Coachman                   Pastiche 545 4 Berth/ Island Bed   \n",
       "1374  Coachman                                     Pastiche 550-5   \n",
       "1375  Coachman             Pastiche 565 4 berth/Single Fixed beds   \n",
       "1376  Coachman                                     Pastiche. ,575   \n",
       "1377  Coachman                                     Pistache 560/4   \n",
       "1378  Coachman                                      Travel Master   \n",
       "1379  Coachman                                  Travel Master 545   \n",
       "1380  Coachman                                  Travel Master 565   \n",
       "1381  Coachman                         Travel Master Imperial 845   \n",
       "1382  Coachman                                   Travelmaster 545   \n",
       "1383  Coachman                                   Travelmaster 565   \n",
       "1384  Coachman       VIP 460 (Sussex Special Edition Chiltington)   \n",
       "1385  Coachman                           VIP 460 GTRS Chiltington   \n",
       "1386  Coachman                     VIP 460 Sussex Special Edition   \n",
       "1387  Coachman                                          VIP 460/2   \n",
       "1388  Coachman                             VIP 460/2 (2023 model)   \n",
       "1389  Coachman  VIP 520 4 berth Dinette conversion Alde centra...   \n",
       "1390  Coachman                                          VIP 520/3   \n",
       "1391  Coachman                                       VIP 540 XTRA   \n",
       "1392  Coachman                                          VIP 545/4   \n",
       "1393  Coachman                                            VIP 560   \n",
       "1394  Coachman             VIP 565 Fixed single beds Alde heating   \n",
       "1395  Coachman                                                NaN   \n",
       "1396  Coachman                                VIP 565/4 Singleton   \n",
       "1397  Coachman                                   VIP 575 Kingsham   \n",
       "1398  Coachman                    VIP 575 Kingsham Sussex Special   \n",
       "1399  Coachman                                          VIP 575/4   \n",
       "1400  Coachman                                            VIP 620   \n",
       "1401  Coachman                   VIP 620 inc solar and alko locks   \n",
       "1402  Coachman                                       Vision 380/2   \n",
       "1403  Coachman                               Vision 575 Kimberley   \n",
       "1404  Coachman                          Vision Design Edition 565   \n",
       "1405  Coachman                                    Vision Xtra 450   \n",
       "1406  Coachman                                      Wanderer 13/2   \n",
       "1407  Coachman                                      Wanderer 15EW   \n",
       "1408  Coachman                                     Wanderer 15EW.   \n",
       "1409  Coachman                                      Wanderer 17/4   \n",
       "1410  Coachman                                 Wanderer 19 IB (D)   \n",
       "1411  Coachman                                     Wanderer 19 TB   \n",
       "1412  Coachman                                 Wanderer 19 TB (D)   \n",
       "1413  Coachman                               Wanderer 22 FB Extra   \n",
       "1414  Coachman                                     Wanderer Amara   \n",
       "1415  Coachman        Wanderer Lux 21/6 Including Isabella Awning   \n",
       "1416  Coachman                                Wanderer Vision 450   \n",
       "1417  Coachman                                 Wanderer/fixed bed   \n",
       "1418  Coachman                                     Wandering 17/4   \n",
       "\n",
       "                        ModelOut  Count  \n",
       "1306                  Acadia 580      1  \n",
       "1307                  Acadia 545      1  \n",
       "1308                  Acadia 520      1  \n",
       "1309                   VIP 520/3      1  \n",
       "1310             Ashington 520/4      1  \n",
       "1311                     VIP 545      1  \n",
       "1312                     VIP 565      1  \n",
       "1313                      Acadia     13  \n",
       "1314                  Acadia 460      2  \n",
       "1315                  Acadia 545      3  \n",
       "1316                  Acadia 575      5  \n",
       "1317                  Acadia 580      1  \n",
       "1318                  Acadia 630      1  \n",
       "1319                  Acadia 630      1  \n",
       "1320                  Acadia 660      3  \n",
       "1321                 Amara 380/2      1  \n",
       "1322                 Amara 380/2      4  \n",
       "1323                   Amara 450      1  \n",
       "1324                 Amara 450/2      2  \n",
       "1325                 Amara 450/2      1  \n",
       "1326                 Amara 560/4      1  \n",
       "1327                 Amara 560/6      1  \n",
       "1328                 Amara 560/6      1  \n",
       "1329                 Amara 640/6      1  \n",
       "1330            Amara Mendip 520      1  \n",
       "1331                       Amara      1  \n",
       "1332                 Amara 380/2      1  \n",
       "1333             Ashington 520/4      1  \n",
       "1334                 Amara 380/2      1  \n",
       "1335                   Concord 3      1  \n",
       "1336                Festival 450      1  \n",
       "1337                Festival 520      1  \n",
       "1338               Festival 860       1  \n",
       "1339              Festival 530/4      1  \n",
       "1340                 Laser 590/4      1  \n",
       "1341                     VIP 560      1  \n",
       "1342                      Acadia     11  \n",
       "1343                      Vision      3  \n",
       "1344              Laser 875 Xcel      2  \n",
       "1345                   Laser 620      4  \n",
       "1346                   Laser 620      1  \n",
       "1347                   Laser 620      4  \n",
       "1348                   Laser 640      1  \n",
       "1349                   Laser 650      5  \n",
       "1350                   Laser 650      1  \n",
       "1351                   Laser 650      2  \n",
       "1352                   Laser 665      1  \n",
       "1353                   Laser 665      1  \n",
       "1354              Laser Xcel 875      2  \n",
       "1355              Laser Xcel 575      1  \n",
       "1356              Laser Xcel 845      2  \n",
       "1357              Laser Xcel 850      4  \n",
       "1358              Laser Xcel 855      1  \n",
       "1359              Laser Xcel 875      2  \n",
       "1360              Laser Xcel 875      1  \n",
       "1361              Laser Xcel 875      1  \n",
       "1362                       Lusso     15  \n",
       "1363                    Lusso II      2  \n",
       "1364                    Lusso II      1  \n",
       "1365                 Olympia 570      1  \n",
       "1366                Pastiche 460      1  \n",
       "1367                Pastiche 470      3  \n",
       "1368              Pastiche 470/2      2  \n",
       "1369              Pastiche 525/4      1  \n",
       "1370              Pastiche 520/4      3  \n",
       "1371              Pastiche 520/4      1  \n",
       "1372              Pastiche 525/4      1  \n",
       "1373              Pastiche 545/4      1  \n",
       "1374              Pastiche 550/5      1  \n",
       "1375              Pastiche 565/4      1  \n",
       "1376               Pastiche. 575      1  \n",
       "1377              Pistache 560/4      1  \n",
       "1378               Travel Master      1  \n",
       "1379           Travel Master 545      2  \n",
       "1380           Travel Master 565      1  \n",
       "1381  Travel Master Imperial 845      1  \n",
       "1382            Travelmaster 545      1  \n",
       "1383            Travelmaster 565      1  \n",
       "1384                    VIP 460       1  \n",
       "1385                    VIP 460       1  \n",
       "1386                    VIP 460       1  \n",
       "1387                   VIP 460/2      6  \n",
       "1388                   VIP 460/2      1  \n",
       "1389                   VIP 520/4      1  \n",
       "1390                   VIP 520/3      1  \n",
       "1391                     VIP 540      2  \n",
       "1392                   VIP 545/4      1  \n",
       "1393                     VIP 560      1  \n",
       "1394                     VIP 565      1  \n",
       "1395                   VIP 565/4      1  \n",
       "1396                  VIP 565/4       1  \n",
       "1397            VIP 575 Kingsham      1  \n",
       "1398            VIP 575 Kingsham      1  \n",
       "1399                   VIP 575/4      1  \n",
       "1400                     VIP 620      2  \n",
       "1401                     VIP 620      1  \n",
       "1402                Vision 380/2      2  \n",
       "1403                  Vision 575      1  \n",
       "1404   Vision Design Edition 565      1  \n",
       "1405             Vision Xtra 450      1  \n",
       "1406               Wanderer 13/2      2  \n",
       "1407               Wanderer 15EW      1  \n",
       "1408               Wanderer 15EW      1  \n",
       "1409               Wanderer 17/4      2  \n",
       "1410              Wanderer 19 TB      1  \n",
       "1411              Wanderer 19 TB      1  \n",
       "1412              Wanderer 19 TB      1  \n",
       "1413              Wanderer 22 FB      1  \n",
       "1414              Wanderer Amara      1  \n",
       "1415         Wanderer Lux 21/6 I      1  \n",
       "1416         Wanderer Vision 450      1  \n",
       "1417                    Wanderer      1  \n",
       "1418              Wandering 17/4      1  "
      ]
     },
     "execution_count": 20,
     "metadata": {},
     "output_type": "execute_result"
    }
   ],
   "source": [
    "df[df['Make']=='Coachman']"
   ]
  },
  {
   "cell_type": "markdown",
   "id": "e89a761f-d141-4cd8-ac6a-ac06ef30cb5e",
   "metadata": {},
   "source": [
    "<div class = 'alert alert-info'>Need info on how 'Coachman' with no Model input is mapped to 'VIP 565/4'</div>"
   ]
  },
  {
   "cell_type": "code",
   "execution_count": 22,
   "id": "77c7333e-43a4-4247-aa83-f67adf6c5833",
   "metadata": {
    "scrolled": true
   },
   "outputs": [],
   "source": [
    "df['ModelIn'].fillna('Unknown', inplace=True)"
   ]
  },
  {
   "cell_type": "code",
   "execution_count": 23,
   "id": "7d962406-5191-41a0-a213-82ca6c02805e",
   "metadata": {},
   "outputs": [
    {
     "data": {
      "text/plain": [
       "Make        0\n",
       "ModelIn     0\n",
       "ModelOut    0\n",
       "Count       0\n",
       "dtype: int64"
      ]
     },
     "execution_count": 23,
     "metadata": {},
     "output_type": "execute_result"
    }
   ],
   "source": [
    "df.isna().sum()"
   ]
  },
  {
   "cell_type": "code",
   "execution_count": null,
   "id": "379e2d37-cdd4-4f92-b15c-6fcd29627d91",
   "metadata": {},
   "outputs": [],
   "source": []
  },
  {
   "cell_type": "code",
   "execution_count": null,
   "id": "f47e44ee-b03e-4982-9aae-82e330312962",
   "metadata": {},
   "outputs": [],
   "source": []
  },
  {
   "cell_type": "markdown",
   "id": "464ace77-1bd2-40de-b444-93f979c3257a",
   "metadata": {},
   "source": [
    "## Feature Engineering"
   ]
  },
  {
   "cell_type": "code",
   "execution_count": 76,
   "id": "1ff51acc-28cc-425a-bfb8-264d1cbf720f",
   "metadata": {},
   "outputs": [],
   "source": [
    "df['input'] = df['Make']+', '+df['ModelIn']"
   ]
  },
  {
   "cell_type": "code",
   "execution_count": 78,
   "id": "d46ce7c7-2ae2-4bff-8503-0561b929a180",
   "metadata": {},
   "outputs": [],
   "source": [
    "df['output']=df['ModelOut']"
   ]
  },
  {
   "cell_type": "code",
   "execution_count": 79,
   "id": "6d4ac34d-a9cb-41fd-a187-39f299004a23",
   "metadata": {},
   "outputs": [
    {
     "data": {
      "text/html": [
       "<div>\n",
       "<style scoped>\n",
       "    .dataframe tbody tr th:only-of-type {\n",
       "        vertical-align: middle;\n",
       "    }\n",
       "\n",
       "    .dataframe tbody tr th {\n",
       "        vertical-align: top;\n",
       "    }\n",
       "\n",
       "    .dataframe thead th {\n",
       "        text-align: right;\n",
       "    }\n",
       "</style>\n",
       "<table border=\"1\" class=\"dataframe\">\n",
       "  <thead>\n",
       "    <tr style=\"text-align: right;\">\n",
       "      <th></th>\n",
       "      <th>Make</th>\n",
       "      <th>ModelIn</th>\n",
       "      <th>ModelOut</th>\n",
       "      <th>Count</th>\n",
       "      <th>input</th>\n",
       "      <th>output</th>\n",
       "    </tr>\n",
       "  </thead>\n",
       "  <tbody>\n",
       "    <tr>\n",
       "      <th>0</th>\n",
       "      <td>Xplore</td>\n",
       "      <td>Activ</td>\n",
       "      <td>Activ</td>\n",
       "      <td>12</td>\n",
       "      <td>Xplore, Activ</td>\n",
       "      <td>Activ</td>\n",
       "    </tr>\n",
       "    <tr>\n",
       "      <th>1</th>\n",
       "      <td>Etrusco</td>\n",
       "      <td>T</td>\n",
       "      <td>T</td>\n",
       "      <td>9</td>\n",
       "      <td>Etrusco, T</td>\n",
       "      <td>T</td>\n",
       "    </tr>\n",
       "    <tr>\n",
       "      <th>2</th>\n",
       "      <td>Roller Team</td>\n",
       "      <td>Auto-Roller</td>\n",
       "      <td>Auto-Roller</td>\n",
       "      <td>5</td>\n",
       "      <td>Roller Team, Auto-Roller</td>\n",
       "      <td>Auto-Roller</td>\n",
       "    </tr>\n",
       "    <tr>\n",
       "      <th>3</th>\n",
       "      <td>Benimar</td>\n",
       "      <td>Tessoro</td>\n",
       "      <td>Tessoro</td>\n",
       "      <td>4</td>\n",
       "      <td>Benimar, Tessoro</td>\n",
       "      <td>Tessoro</td>\n",
       "    </tr>\n",
       "    <tr>\n",
       "      <th>4</th>\n",
       "      <td>Chausson</td>\n",
       "      <td>Etape Line 650</td>\n",
       "      <td>Etape Line 650</td>\n",
       "      <td>4</td>\n",
       "      <td>Chausson, Etape Line 650</td>\n",
       "      <td>Etape Line 650</td>\n",
       "    </tr>\n",
       "  </tbody>\n",
       "</table>\n",
       "</div>"
      ],
      "text/plain": [
       "          Make         ModelIn        ModelOut  Count  \\\n",
       "0       Xplore           Activ           Activ     12   \n",
       "1      Etrusco               T               T      9   \n",
       "2  Roller Team     Auto-Roller     Auto-Roller      5   \n",
       "3      Benimar         Tessoro         Tessoro      4   \n",
       "4     Chausson  Etape Line 650  Etape Line 650      4   \n",
       "\n",
       "                      input          output  \n",
       "0             Xplore, Activ           Activ  \n",
       "1                Etrusco, T               T  \n",
       "2  Roller Team, Auto-Roller     Auto-Roller  \n",
       "3          Benimar, Tessoro         Tessoro  \n",
       "4  Chausson, Etape Line 650  Etape Line 650  "
      ]
     },
     "execution_count": 79,
     "metadata": {},
     "output_type": "execute_result"
    }
   ],
   "source": [
    "df.head()"
   ]
  },
  {
   "cell_type": "code",
   "execution_count": null,
   "id": "a2fa31a1-640b-49da-8168-d1a2f22e34c8",
   "metadata": {},
   "outputs": [],
   "source": []
  },
  {
   "cell_type": "code",
   "execution_count": null,
   "id": "5fc3c102-e924-4a0f-a47d-05fa92b55670",
   "metadata": {},
   "outputs": [],
   "source": []
  },
  {
   "cell_type": "code",
   "execution_count": null,
   "id": "8fe6d64a-d02a-43ac-8afd-b2b2f9f1e7a7",
   "metadata": {},
   "outputs": [],
   "source": []
  },
  {
   "cell_type": "markdown",
   "id": "b0f0adab-71a2-4382-8c8f-7bfb6c731f5f",
   "metadata": {},
   "source": [
    "## ML Classifier"
   ]
  },
  {
   "cell_type": "code",
   "execution_count": 229,
   "id": "ce6e6777-ba62-4f7c-987f-7688afceb0d2",
   "metadata": {},
   "outputs": [
    {
     "data": {
      "text/html": [
       "<div>\n",
       "<style scoped>\n",
       "    .dataframe tbody tr th:only-of-type {\n",
       "        vertical-align: middle;\n",
       "    }\n",
       "\n",
       "    .dataframe tbody tr th {\n",
       "        vertical-align: top;\n",
       "    }\n",
       "\n",
       "    .dataframe thead th {\n",
       "        text-align: right;\n",
       "    }\n",
       "</style>\n",
       "<table border=\"1\" class=\"dataframe\">\n",
       "  <thead>\n",
       "    <tr style=\"text-align: right;\">\n",
       "      <th></th>\n",
       "      <th>Make</th>\n",
       "      <th>ModelIn</th>\n",
       "      <th>ModelOut</th>\n",
       "      <th>Count</th>\n",
       "      <th>input</th>\n",
       "      <th>output</th>\n",
       "    </tr>\n",
       "  </thead>\n",
       "  <tbody>\n",
       "    <tr>\n",
       "      <th>0</th>\n",
       "      <td>Xplore</td>\n",
       "      <td>Activ</td>\n",
       "      <td>Activ</td>\n",
       "      <td>12</td>\n",
       "      <td>Xplore, Activ</td>\n",
       "      <td>Activ</td>\n",
       "    </tr>\n",
       "    <tr>\n",
       "      <th>1</th>\n",
       "      <td>Etrusco</td>\n",
       "      <td>T</td>\n",
       "      <td>T</td>\n",
       "      <td>9</td>\n",
       "      <td>Etrusco, T</td>\n",
       "      <td>T</td>\n",
       "    </tr>\n",
       "    <tr>\n",
       "      <th>2</th>\n",
       "      <td>Roller Team</td>\n",
       "      <td>Auto-Roller</td>\n",
       "      <td>Auto-Roller</td>\n",
       "      <td>5</td>\n",
       "      <td>Roller Team, Auto-Roller</td>\n",
       "      <td>Auto-Roller</td>\n",
       "    </tr>\n",
       "    <tr>\n",
       "      <th>3</th>\n",
       "      <td>Benimar</td>\n",
       "      <td>Tessoro</td>\n",
       "      <td>Tessoro</td>\n",
       "      <td>4</td>\n",
       "      <td>Benimar, Tessoro</td>\n",
       "      <td>Tessoro</td>\n",
       "    </tr>\n",
       "    <tr>\n",
       "      <th>4</th>\n",
       "      <td>Chausson</td>\n",
       "      <td>Etape Line 650</td>\n",
       "      <td>Etape Line 650</td>\n",
       "      <td>4</td>\n",
       "      <td>Chausson, Etape Line 650</td>\n",
       "      <td>Etape Line 650</td>\n",
       "    </tr>\n",
       "  </tbody>\n",
       "</table>\n",
       "</div>"
      ],
      "text/plain": [
       "          Make         ModelIn        ModelOut  Count  \\\n",
       "0       Xplore           Activ           Activ     12   \n",
       "1      Etrusco               T               T      9   \n",
       "2  Roller Team     Auto-Roller     Auto-Roller      5   \n",
       "3      Benimar         Tessoro         Tessoro      4   \n",
       "4     Chausson  Etape Line 650  Etape Line 650      4   \n",
       "\n",
       "                      input          output  \n",
       "0             Xplore, Activ           Activ  \n",
       "1                Etrusco, T               T  \n",
       "2  Roller Team, Auto-Roller     Auto-Roller  \n",
       "3          Benimar, Tessoro         Tessoro  \n",
       "4  Chausson, Etape Line 650  Etape Line 650  "
      ]
     },
     "execution_count": 229,
     "metadata": {},
     "output_type": "execute_result"
    }
   ],
   "source": [
    "df.head()"
   ]
  },
  {
   "cell_type": "code",
   "execution_count": null,
   "id": "fee7e8f6-9938-4736-9ba0-83e4f727011d",
   "metadata": {},
   "outputs": [],
   "source": []
  },
  {
   "cell_type": "code",
   "execution_count": 241,
   "id": "ad5b1ac3-bcd5-412b-bd4e-27e031e14f7c",
   "metadata": {},
   "outputs": [],
   "source": [
    "X = df['ModelIn']\n",
    "y = df['output']"
   ]
  },
  {
   "cell_type": "code",
   "execution_count": 242,
   "id": "fe9b8a97-cc80-4a8b-9cee-fea5ff22e897",
   "metadata": {},
   "outputs": [],
   "source": [
    "from sklearn.model_selection import train_test_split\n",
    "X_train, X_test, y_train, y_test = train_test_split(X, y, test_size=0.2, random_state=13)"
   ]
  },
  {
   "cell_type": "code",
   "execution_count": 243,
   "id": "1e29372f-8845-486c-9e67-fe5fa1d31df9",
   "metadata": {},
   "outputs": [
    {
     "data": {
      "text/plain": [
       "(3940,)"
      ]
     },
     "execution_count": 243,
     "metadata": {},
     "output_type": "execute_result"
    }
   ],
   "source": [
    "X_train.shape"
   ]
  },
  {
   "cell_type": "code",
   "execution_count": 244,
   "id": "c131fe93-1c4d-42df-a3ec-4ca0d7f9f940",
   "metadata": {},
   "outputs": [
    {
     "data": {
      "text/plain": [
       "(986,)"
      ]
     },
     "execution_count": 244,
     "metadata": {},
     "output_type": "execute_result"
    }
   ],
   "source": [
    "X_test.shape"
   ]
  },
  {
   "cell_type": "code",
   "execution_count": 245,
   "id": "b852c785-f279-4a7f-8611-1d44a677ea22",
   "metadata": {},
   "outputs": [
    {
     "data": {
      "text/plain": [
       "(3940,)"
      ]
     },
     "execution_count": 245,
     "metadata": {},
     "output_type": "execute_result"
    }
   ],
   "source": [
    "y_train.shape"
   ]
  },
  {
   "cell_type": "code",
   "execution_count": 246,
   "id": "943a1834-4027-4a67-b354-c46cee064070",
   "metadata": {},
   "outputs": [
    {
     "data": {
      "text/plain": [
       "(986,)"
      ]
     },
     "execution_count": 246,
     "metadata": {},
     "output_type": "execute_result"
    }
   ],
   "source": [
    "y_test.shape"
   ]
  },
  {
   "cell_type": "code",
   "execution_count": null,
   "id": "6f13cb1e-79f3-466d-92e5-c65607891e5d",
   "metadata": {},
   "outputs": [],
   "source": []
  },
  {
   "cell_type": "code",
   "execution_count": 236,
   "id": "d8b28195-dc21-44ad-baf9-60c4cfb45c58",
   "metadata": {},
   "outputs": [],
   "source": [
    "from sklearn.pipeline import Pipeline\n",
    "from sklearn.feature_extraction.text import CountVectorizer, TfidfVectorizer\n",
    "from sklearn.multioutput import MultiOutputClassifier\n",
    "from sklearn.model_selection import GridSearchCV\n",
    "from sklearn.linear_model import LogisticRegression"
   ]
  },
  {
   "cell_type": "code",
   "execution_count": 237,
   "id": "f0356d13-d0b3-43cd-829b-025fa27d543b",
   "metadata": {},
   "outputs": [],
   "source": [
    "import re\n",
    "from nltk.corpus import stopwords\n",
    "from nltk.stem import WordNetLemmatizer\n",
    "lemmatizer = WordNetLemmatizer()"
   ]
  },
  {
   "cell_type": "code",
   "execution_count": null,
   "id": "afa2677d-d608-42c9-afa3-43c087bc941a",
   "metadata": {},
   "outputs": [],
   "source": []
  },
  {
   "cell_type": "code",
   "execution_count": null,
   "id": "239a24f6-c57c-4ddf-8415-50bde426bece",
   "metadata": {},
   "outputs": [],
   "source": []
  },
  {
   "cell_type": "code",
   "execution_count": null,
   "id": "d51ca356-d261-4b29-9425-9b94626e7dd0",
   "metadata": {},
   "outputs": [],
   "source": []
  },
  {
   "cell_type": "code",
   "execution_count": null,
   "id": "f41d6584-707b-4a77-a5ac-337de4d9ccae",
   "metadata": {},
   "outputs": [],
   "source": []
  },
  {
   "cell_type": "code",
   "execution_count": null,
   "id": "3dd6f3fd-6b21-4e88-9385-cfb9da0ebcaf",
   "metadata": {},
   "outputs": [],
   "source": []
  },
  {
   "cell_type": "code",
   "execution_count": null,
   "id": "893db92e-1f95-4243-a259-31eb0e878cf8",
   "metadata": {},
   "outputs": [],
   "source": []
  },
  {
   "cell_type": "code",
   "execution_count": 247,
   "id": "95d2b84d-5f5e-40c6-8e62-66e06be2939e",
   "metadata": {},
   "outputs": [],
   "source": [
    "pipe_lr = Pipeline(steps=[('cv',TfidfVectorizer(analyzer='word',stop_words= 'english')),\n",
    "                          ('lr_gCV',GridSearchCV(LogisticRegression(), {'C': [0.001, 0.01, 0.1, 1, 10, 100, 200]}, cv=5))]\n",
    "                  )"
   ]
  },
  {
   "cell_type": "code",
   "execution_count": 255,
   "id": "ca07d615-a630-4abb-a4c6-0aa5ce250021",
   "metadata": {},
   "outputs": [
    {
     "data": {
      "text/html": [
       "<style>#sk-container-id-4 {color: black;background-color: white;}#sk-container-id-4 pre{padding: 0;}#sk-container-id-4 div.sk-toggleable {background-color: white;}#sk-container-id-4 label.sk-toggleable__label {cursor: pointer;display: block;width: 100%;margin-bottom: 0;padding: 0.3em;box-sizing: border-box;text-align: center;}#sk-container-id-4 label.sk-toggleable__label-arrow:before {content: \"▸\";float: left;margin-right: 0.25em;color: #696969;}#sk-container-id-4 label.sk-toggleable__label-arrow:hover:before {color: black;}#sk-container-id-4 div.sk-estimator:hover label.sk-toggleable__label-arrow:before {color: black;}#sk-container-id-4 div.sk-toggleable__content {max-height: 0;max-width: 0;overflow: hidden;text-align: left;background-color: #f0f8ff;}#sk-container-id-4 div.sk-toggleable__content pre {margin: 0.2em;color: black;border-radius: 0.25em;background-color: #f0f8ff;}#sk-container-id-4 input.sk-toggleable__control:checked~div.sk-toggleable__content {max-height: 200px;max-width: 100%;overflow: auto;}#sk-container-id-4 input.sk-toggleable__control:checked~label.sk-toggleable__label-arrow:before {content: \"▾\";}#sk-container-id-4 div.sk-estimator input.sk-toggleable__control:checked~label.sk-toggleable__label {background-color: #d4ebff;}#sk-container-id-4 div.sk-label input.sk-toggleable__control:checked~label.sk-toggleable__label {background-color: #d4ebff;}#sk-container-id-4 input.sk-hidden--visually {border: 0;clip: rect(1px 1px 1px 1px);clip: rect(1px, 1px, 1px, 1px);height: 1px;margin: -1px;overflow: hidden;padding: 0;position: absolute;width: 1px;}#sk-container-id-4 div.sk-estimator {font-family: monospace;background-color: #f0f8ff;border: 1px dotted black;border-radius: 0.25em;box-sizing: border-box;margin-bottom: 0.5em;}#sk-container-id-4 div.sk-estimator:hover {background-color: #d4ebff;}#sk-container-id-4 div.sk-parallel-item::after {content: \"\";width: 100%;border-bottom: 1px solid gray;flex-grow: 1;}#sk-container-id-4 div.sk-label:hover label.sk-toggleable__label {background-color: #d4ebff;}#sk-container-id-4 div.sk-serial::before {content: \"\";position: absolute;border-left: 1px solid gray;box-sizing: border-box;top: 0;bottom: 0;left: 50%;z-index: 0;}#sk-container-id-4 div.sk-serial {display: flex;flex-direction: column;align-items: center;background-color: white;padding-right: 0.2em;padding-left: 0.2em;position: relative;}#sk-container-id-4 div.sk-item {position: relative;z-index: 1;}#sk-container-id-4 div.sk-parallel {display: flex;align-items: stretch;justify-content: center;background-color: white;position: relative;}#sk-container-id-4 div.sk-item::before, #sk-container-id-4 div.sk-parallel-item::before {content: \"\";position: absolute;border-left: 1px solid gray;box-sizing: border-box;top: 0;bottom: 0;left: 50%;z-index: -1;}#sk-container-id-4 div.sk-parallel-item {display: flex;flex-direction: column;z-index: 1;position: relative;background-color: white;}#sk-container-id-4 div.sk-parallel-item:first-child::after {align-self: flex-end;width: 50%;}#sk-container-id-4 div.sk-parallel-item:last-child::after {align-self: flex-start;width: 50%;}#sk-container-id-4 div.sk-parallel-item:only-child::after {width: 0;}#sk-container-id-4 div.sk-dashed-wrapped {border: 1px dashed gray;margin: 0 0.4em 0.5em 0.4em;box-sizing: border-box;padding-bottom: 0.4em;background-color: white;}#sk-container-id-4 div.sk-label label {font-family: monospace;font-weight: bold;display: inline-block;line-height: 1.2em;}#sk-container-id-4 div.sk-label-container {text-align: center;}#sk-container-id-4 div.sk-container {/* jupyter's `normalize.less` sets `[hidden] { display: none; }` but bootstrap.min.css set `[hidden] { display: none !important; }` so we also need the `!important` here to be able to override the default hidden behavior on the sphinx rendered scikit-learn.org. See: https://github.com/scikit-learn/scikit-learn/issues/21755 */display: inline-block !important;position: relative;}#sk-container-id-4 div.sk-text-repr-fallback {display: none;}</style><div id=\"sk-container-id-4\" class=\"sk-top-container\"><div class=\"sk-text-repr-fallback\"><pre>Pipeline(steps=[(&#x27;cv&#x27;, TfidfVectorizer(stop_words=&#x27;english&#x27;)),\n",
       "                (&#x27;lr_gCV&#x27;,\n",
       "                 GridSearchCV(cv=5, estimator=LogisticRegression(),\n",
       "                              param_grid={&#x27;C&#x27;: [0.001, 0.01, 0.1, 1, 10, 100,\n",
       "                                                200]}))])</pre><b>In a Jupyter environment, please rerun this cell to show the HTML representation or trust the notebook. <br />On GitHub, the HTML representation is unable to render, please try loading this page with nbviewer.org.</b></div><div class=\"sk-container\" hidden><div class=\"sk-item sk-dashed-wrapped\"><div class=\"sk-label-container\"><div class=\"sk-label sk-toggleable\"><input class=\"sk-toggleable__control sk-hidden--visually\" id=\"sk-estimator-id-16\" type=\"checkbox\" ><label for=\"sk-estimator-id-16\" class=\"sk-toggleable__label sk-toggleable__label-arrow\">Pipeline</label><div class=\"sk-toggleable__content\"><pre>Pipeline(steps=[(&#x27;cv&#x27;, TfidfVectorizer(stop_words=&#x27;english&#x27;)),\n",
       "                (&#x27;lr_gCV&#x27;,\n",
       "                 GridSearchCV(cv=5, estimator=LogisticRegression(),\n",
       "                              param_grid={&#x27;C&#x27;: [0.001, 0.01, 0.1, 1, 10, 100,\n",
       "                                                200]}))])</pre></div></div></div><div class=\"sk-serial\"><div class=\"sk-item\"><div class=\"sk-estimator sk-toggleable\"><input class=\"sk-toggleable__control sk-hidden--visually\" id=\"sk-estimator-id-17\" type=\"checkbox\" ><label for=\"sk-estimator-id-17\" class=\"sk-toggleable__label sk-toggleable__label-arrow\">TfidfVectorizer</label><div class=\"sk-toggleable__content\"><pre>TfidfVectorizer(stop_words=&#x27;english&#x27;)</pre></div></div></div><div class=\"sk-item sk-dashed-wrapped\"><div class=\"sk-label-container\"><div class=\"sk-label sk-toggleable\"><input class=\"sk-toggleable__control sk-hidden--visually\" id=\"sk-estimator-id-18\" type=\"checkbox\" ><label for=\"sk-estimator-id-18\" class=\"sk-toggleable__label sk-toggleable__label-arrow\">lr_gCV: GridSearchCV</label><div class=\"sk-toggleable__content\"><pre>GridSearchCV(cv=5, estimator=LogisticRegression(),\n",
       "             param_grid={&#x27;C&#x27;: [0.001, 0.01, 0.1, 1, 10, 100, 200]})</pre></div></div></div><div class=\"sk-parallel\"><div class=\"sk-parallel-item\"><div class=\"sk-item\"><div class=\"sk-label-container\"><div class=\"sk-label sk-toggleable\"><input class=\"sk-toggleable__control sk-hidden--visually\" id=\"sk-estimator-id-19\" type=\"checkbox\" ><label for=\"sk-estimator-id-19\" class=\"sk-toggleable__label sk-toggleable__label-arrow\">estimator: LogisticRegression</label><div class=\"sk-toggleable__content\"><pre>LogisticRegression()</pre></div></div></div><div class=\"sk-serial\"><div class=\"sk-item\"><div class=\"sk-estimator sk-toggleable\"><input class=\"sk-toggleable__control sk-hidden--visually\" id=\"sk-estimator-id-20\" type=\"checkbox\" ><label for=\"sk-estimator-id-20\" class=\"sk-toggleable__label sk-toggleable__label-arrow\">LogisticRegression</label><div class=\"sk-toggleable__content\"><pre>LogisticRegression()</pre></div></div></div></div></div></div></div></div></div></div></div></div>"
      ],
      "text/plain": [
       "Pipeline(steps=[('cv', TfidfVectorizer(stop_words='english')),\n",
       "                ('lr_gCV',\n",
       "                 GridSearchCV(cv=5, estimator=LogisticRegression(),\n",
       "                              param_grid={'C': [0.001, 0.01, 0.1, 1, 10, 100,\n",
       "                                                200]}))])"
      ]
     },
     "execution_count": 255,
     "metadata": {},
     "output_type": "execute_result"
    }
   ],
   "source": [
    "pipe_lr.fit(X, y)"
   ]
  },
  {
   "cell_type": "code",
   "execution_count": null,
   "id": "cf2fbbe8-cb19-4e3f-a3ec-c7b0bbc5cea7",
   "metadata": {},
   "outputs": [],
   "source": []
  },
  {
   "cell_type": "code",
   "execution_count": null,
   "id": "1d38053e-a350-42b3-9588-7ee4067c8071",
   "metadata": {},
   "outputs": [],
   "source": []
  },
  {
   "cell_type": "code",
   "execution_count": 256,
   "id": "59229171-a843-442f-b9fb-443d1965cba6",
   "metadata": {},
   "outputs": [
    {
     "data": {
      "text/plain": [
       "0.9796995533901746"
      ]
     },
     "execution_count": 256,
     "metadata": {},
     "output_type": "execute_result"
    }
   ],
   "source": [
    "pipe_lr.score(X,y)"
   ]
  },
  {
   "cell_type": "code",
   "execution_count": 260,
   "id": "44cf1f42-88c8-41f5-b765-b7745d1eb8c5",
   "metadata": {},
   "outputs": [],
   "source": [
    "# pipe_lr.score(X_test,y_test)"
   ]
  },
  {
   "cell_type": "code",
   "execution_count": 257,
   "id": "777fff4d-dad2-4061-87ff-72be54260993",
   "metadata": {},
   "outputs": [],
   "source": [
    "pred1 = 'SANDHURST - TURNBERRY HOLIDAY PARK - SEA VIEWS - LOW SITE FEES'"
   ]
  },
  {
   "cell_type": "code",
   "execution_count": 258,
   "id": "a5d7d240-3593-4a47-a20c-a6a0d9fbbb3c",
   "metadata": {},
   "outputs": [
    {
     "data": {
      "text/plain": [
       "array(['Sandhurst'], dtype=object)"
      ]
     },
     "execution_count": 258,
     "metadata": {},
     "output_type": "execute_result"
    }
   ],
   "source": [
    "pipe_lr.predict([pred1])"
   ]
  },
  {
   "cell_type": "code",
   "execution_count": null,
   "id": "496780d8-6520-4b12-bb74-8ae0c0aa5670",
   "metadata": {},
   "outputs": [],
   "source": []
  },
  {
   "cell_type": "code",
   "execution_count": null,
   "id": "5392b7aa-c3ea-4f25-a3dc-43dada5faad3",
   "metadata": {},
   "outputs": [],
   "source": []
  },
  {
   "cell_type": "code",
   "execution_count": 259,
   "id": "d64d1080-ce44-4e2c-b9ba-cd1b5cbece45",
   "metadata": {},
   "outputs": [],
   "source": [
    "# Save the model to a file using pickle\n",
    "filename = 'CFS_mapper.pkl'\n",
    "with open(filename, 'wb') as file:\n",
    "    pickle.dump(pipe_lr, file)"
   ]
  },
  {
   "cell_type": "code",
   "execution_count": null,
   "id": "157d5f05-51dc-486b-9c22-906ad8f355ea",
   "metadata": {},
   "outputs": [],
   "source": [
    "file.close()"
   ]
  },
  {
   "cell_type": "code",
   "execution_count": null,
   "id": "93c4fa34-5722-4653-b722-a12b449cb634",
   "metadata": {},
   "outputs": [],
   "source": []
  },
  {
   "cell_type": "code",
   "execution_count": null,
   "id": "b77826bf-4caf-43db-b245-35e8587c3695",
   "metadata": {},
   "outputs": [],
   "source": []
  },
  {
   "cell_type": "markdown",
   "id": "1687ebb2-9184-4023-9abe-de2354ebfbd4",
   "metadata": {},
   "source": [
    "# <div class = 'alert alert-success'> Pickle and predict </div>"
   ]
  },
  {
   "cell_type": "code",
   "execution_count": 12,
   "id": "9b8c96cf-5972-4ed3-9229-42f0aa7102e8",
   "metadata": {},
   "outputs": [],
   "source": [
    "import pickle"
   ]
  },
  {
   "cell_type": "code",
   "execution_count": 13,
   "id": "ed98b1be-44c1-4c56-8dab-c5c4fad1ae1e",
   "metadata": {},
   "outputs": [],
   "source": [
    "with open('CFS_mapper.pkl', 'rb') as file:\n",
    "    mod = pickle.load(file)"
   ]
  },
  {
   "cell_type": "code",
   "execution_count": 14,
   "id": "9fa1a77f-01f8-4be9-a9ad-a94503b9e03b",
   "metadata": {},
   "outputs": [
    {
     "data": {
      "text/html": [
       "<style>#sk-container-id-1 {color: black;background-color: white;}#sk-container-id-1 pre{padding: 0;}#sk-container-id-1 div.sk-toggleable {background-color: white;}#sk-container-id-1 label.sk-toggleable__label {cursor: pointer;display: block;width: 100%;margin-bottom: 0;padding: 0.3em;box-sizing: border-box;text-align: center;}#sk-container-id-1 label.sk-toggleable__label-arrow:before {content: \"▸\";float: left;margin-right: 0.25em;color: #696969;}#sk-container-id-1 label.sk-toggleable__label-arrow:hover:before {color: black;}#sk-container-id-1 div.sk-estimator:hover label.sk-toggleable__label-arrow:before {color: black;}#sk-container-id-1 div.sk-toggleable__content {max-height: 0;max-width: 0;overflow: hidden;text-align: left;background-color: #f0f8ff;}#sk-container-id-1 div.sk-toggleable__content pre {margin: 0.2em;color: black;border-radius: 0.25em;background-color: #f0f8ff;}#sk-container-id-1 input.sk-toggleable__control:checked~div.sk-toggleable__content {max-height: 200px;max-width: 100%;overflow: auto;}#sk-container-id-1 input.sk-toggleable__control:checked~label.sk-toggleable__label-arrow:before {content: \"▾\";}#sk-container-id-1 div.sk-estimator input.sk-toggleable__control:checked~label.sk-toggleable__label {background-color: #d4ebff;}#sk-container-id-1 div.sk-label input.sk-toggleable__control:checked~label.sk-toggleable__label {background-color: #d4ebff;}#sk-container-id-1 input.sk-hidden--visually {border: 0;clip: rect(1px 1px 1px 1px);clip: rect(1px, 1px, 1px, 1px);height: 1px;margin: -1px;overflow: hidden;padding: 0;position: absolute;width: 1px;}#sk-container-id-1 div.sk-estimator {font-family: monospace;background-color: #f0f8ff;border: 1px dotted black;border-radius: 0.25em;box-sizing: border-box;margin-bottom: 0.5em;}#sk-container-id-1 div.sk-estimator:hover {background-color: #d4ebff;}#sk-container-id-1 div.sk-parallel-item::after {content: \"\";width: 100%;border-bottom: 1px solid gray;flex-grow: 1;}#sk-container-id-1 div.sk-label:hover label.sk-toggleable__label {background-color: #d4ebff;}#sk-container-id-1 div.sk-serial::before {content: \"\";position: absolute;border-left: 1px solid gray;box-sizing: border-box;top: 0;bottom: 0;left: 50%;z-index: 0;}#sk-container-id-1 div.sk-serial {display: flex;flex-direction: column;align-items: center;background-color: white;padding-right: 0.2em;padding-left: 0.2em;position: relative;}#sk-container-id-1 div.sk-item {position: relative;z-index: 1;}#sk-container-id-1 div.sk-parallel {display: flex;align-items: stretch;justify-content: center;background-color: white;position: relative;}#sk-container-id-1 div.sk-item::before, #sk-container-id-1 div.sk-parallel-item::before {content: \"\";position: absolute;border-left: 1px solid gray;box-sizing: border-box;top: 0;bottom: 0;left: 50%;z-index: -1;}#sk-container-id-1 div.sk-parallel-item {display: flex;flex-direction: column;z-index: 1;position: relative;background-color: white;}#sk-container-id-1 div.sk-parallel-item:first-child::after {align-self: flex-end;width: 50%;}#sk-container-id-1 div.sk-parallel-item:last-child::after {align-self: flex-start;width: 50%;}#sk-container-id-1 div.sk-parallel-item:only-child::after {width: 0;}#sk-container-id-1 div.sk-dashed-wrapped {border: 1px dashed gray;margin: 0 0.4em 0.5em 0.4em;box-sizing: border-box;padding-bottom: 0.4em;background-color: white;}#sk-container-id-1 div.sk-label label {font-family: monospace;font-weight: bold;display: inline-block;line-height: 1.2em;}#sk-container-id-1 div.sk-label-container {text-align: center;}#sk-container-id-1 div.sk-container {/* jupyter's `normalize.less` sets `[hidden] { display: none; }` but bootstrap.min.css set `[hidden] { display: none !important; }` so we also need the `!important` here to be able to override the default hidden behavior on the sphinx rendered scikit-learn.org. See: https://github.com/scikit-learn/scikit-learn/issues/21755 */display: inline-block !important;position: relative;}#sk-container-id-1 div.sk-text-repr-fallback {display: none;}</style><div id=\"sk-container-id-1\" class=\"sk-top-container\"><div class=\"sk-text-repr-fallback\"><pre>Pipeline(steps=[(&#x27;cv&#x27;, TfidfVectorizer(stop_words=&#x27;english&#x27;)),\n",
       "                (&#x27;lr_gCV&#x27;,\n",
       "                 GridSearchCV(cv=5, estimator=LogisticRegression(),\n",
       "                              param_grid={&#x27;C&#x27;: [0.001, 0.01, 0.1, 1, 10, 100,\n",
       "                                                200]}))])</pre><b>In a Jupyter environment, please rerun this cell to show the HTML representation or trust the notebook. <br />On GitHub, the HTML representation is unable to render, please try loading this page with nbviewer.org.</b></div><div class=\"sk-container\" hidden><div class=\"sk-item sk-dashed-wrapped\"><div class=\"sk-label-container\"><div class=\"sk-label sk-toggleable\"><input class=\"sk-toggleable__control sk-hidden--visually\" id=\"sk-estimator-id-1\" type=\"checkbox\" ><label for=\"sk-estimator-id-1\" class=\"sk-toggleable__label sk-toggleable__label-arrow\">Pipeline</label><div class=\"sk-toggleable__content\"><pre>Pipeline(steps=[(&#x27;cv&#x27;, TfidfVectorizer(stop_words=&#x27;english&#x27;)),\n",
       "                (&#x27;lr_gCV&#x27;,\n",
       "                 GridSearchCV(cv=5, estimator=LogisticRegression(),\n",
       "                              param_grid={&#x27;C&#x27;: [0.001, 0.01, 0.1, 1, 10, 100,\n",
       "                                                200]}))])</pre></div></div></div><div class=\"sk-serial\"><div class=\"sk-item\"><div class=\"sk-estimator sk-toggleable\"><input class=\"sk-toggleable__control sk-hidden--visually\" id=\"sk-estimator-id-2\" type=\"checkbox\" ><label for=\"sk-estimator-id-2\" class=\"sk-toggleable__label sk-toggleable__label-arrow\">TfidfVectorizer</label><div class=\"sk-toggleable__content\"><pre>TfidfVectorizer(stop_words=&#x27;english&#x27;)</pre></div></div></div><div class=\"sk-item sk-dashed-wrapped\"><div class=\"sk-label-container\"><div class=\"sk-label sk-toggleable\"><input class=\"sk-toggleable__control sk-hidden--visually\" id=\"sk-estimator-id-3\" type=\"checkbox\" ><label for=\"sk-estimator-id-3\" class=\"sk-toggleable__label sk-toggleable__label-arrow\">lr_gCV: GridSearchCV</label><div class=\"sk-toggleable__content\"><pre>GridSearchCV(cv=5, estimator=LogisticRegression(),\n",
       "             param_grid={&#x27;C&#x27;: [0.001, 0.01, 0.1, 1, 10, 100, 200]})</pre></div></div></div><div class=\"sk-parallel\"><div class=\"sk-parallel-item\"><div class=\"sk-item\"><div class=\"sk-label-container\"><div class=\"sk-label sk-toggleable\"><input class=\"sk-toggleable__control sk-hidden--visually\" id=\"sk-estimator-id-4\" type=\"checkbox\" ><label for=\"sk-estimator-id-4\" class=\"sk-toggleable__label sk-toggleable__label-arrow\">estimator: LogisticRegression</label><div class=\"sk-toggleable__content\"><pre>LogisticRegression()</pre></div></div></div><div class=\"sk-serial\"><div class=\"sk-item\"><div class=\"sk-estimator sk-toggleable\"><input class=\"sk-toggleable__control sk-hidden--visually\" id=\"sk-estimator-id-5\" type=\"checkbox\" ><label for=\"sk-estimator-id-5\" class=\"sk-toggleable__label sk-toggleable__label-arrow\">LogisticRegression</label><div class=\"sk-toggleable__content\"><pre>LogisticRegression()</pre></div></div></div></div></div></div></div></div></div></div></div></div>"
      ],
      "text/plain": [
       "Pipeline(steps=[('cv', TfidfVectorizer(stop_words='english')),\n",
       "                ('lr_gCV',\n",
       "                 GridSearchCV(cv=5, estimator=LogisticRegression(),\n",
       "                              param_grid={'C': [0.001, 0.01, 0.1, 1, 10, 100,\n",
       "                                                200]}))])"
      ]
     },
     "execution_count": 14,
     "metadata": {},
     "output_type": "execute_result"
    }
   ],
   "source": [
    "mod"
   ]
  },
  {
   "cell_type": "code",
   "execution_count": null,
   "id": "87a33f6b-2cd9-4afa-abc0-1e836a414df9",
   "metadata": {},
   "outputs": [],
   "source": []
  },
  {
   "cell_type": "code",
   "execution_count": null,
   "id": "5a9024a2-89b7-4a01-9cbb-0ab4e57671ba",
   "metadata": {},
   "outputs": [],
   "source": []
  },
  {
   "cell_type": "code",
   "execution_count": null,
   "id": "3cfa6d97-aa25-45a4-b465-979e4ca0ff25",
   "metadata": {},
   "outputs": [],
   "source": []
  },
  {
   "cell_type": "code",
   "execution_count": 26,
   "id": "d978d06a-d1db-42ff-add8-908c3db5d2fb",
   "metadata": {},
   "outputs": [],
   "source": [
    "X_new = [\"SANDHURST - TURNBERRY HOLIDAY PARK - SEA VIEWS - LOW SITE FEES\"]"
   ]
  },
  {
   "cell_type": "code",
   "execution_count": null,
   "id": "1a27f887-916c-4323-bf11-bddb4833bda3",
   "metadata": {},
   "outputs": [],
   "source": []
  },
  {
   "cell_type": "code",
   "execution_count": 27,
   "id": "36e9924e-5a5b-4e84-9f07-dd21d13230fc",
   "metadata": {},
   "outputs": [
    {
     "data": {
      "text/plain": [
       "array(['Sandhurst'], dtype=object)"
      ]
     },
     "execution_count": 27,
     "metadata": {},
     "output_type": "execute_result"
    }
   ],
   "source": [
    "mod.predict(X_new)"
   ]
  },
  {
   "cell_type": "code",
   "execution_count": 23,
   "id": "4738565d-e671-4823-979e-02450d6c10db",
   "metadata": {},
   "outputs": [],
   "source": [
    "file.close()"
   ]
  },
  {
   "cell_type": "code",
   "execution_count": null,
   "id": "9827df95-e1d7-4b75-8786-1f2924b666fa",
   "metadata": {},
   "outputs": [],
   "source": []
  },
  {
   "cell_type": "code",
   "execution_count": null,
   "id": "da1dc069-8922-4154-85d2-22c4b568884b",
   "metadata": {},
   "outputs": [],
   "source": []
  },
  {
   "cell_type": "code",
   "execution_count": null,
   "id": "7666ded7-3933-4fa1-abac-7e2f6fc115d5",
   "metadata": {},
   "outputs": [],
   "source": []
  },
  {
   "cell_type": "code",
   "execution_count": null,
   "id": "4e96f402-de3d-4809-9efd-56766ae73560",
   "metadata": {},
   "outputs": [],
   "source": []
  },
  {
   "cell_type": "code",
   "execution_count": null,
   "id": "345b5d44-cc01-4685-a793-eb5ff491e10d",
   "metadata": {},
   "outputs": [],
   "source": []
  },
  {
   "cell_type": "code",
   "execution_count": null,
   "id": "17e91e81-eaba-4551-8175-4cc6c361053d",
   "metadata": {},
   "outputs": [],
   "source": []
  },
  {
   "cell_type": "code",
   "execution_count": null,
   "id": "e5a5f621-40d0-4486-a985-fcdbcb8547d7",
   "metadata": {},
   "outputs": [],
   "source": []
  },
  {
   "cell_type": "code",
   "execution_count": null,
   "id": "a69c0a16-0df3-4fbd-9fc4-5595763437bf",
   "metadata": {},
   "outputs": [],
   "source": []
  },
  {
   "cell_type": "code",
   "execution_count": null,
   "id": "290b1d6a-d9f3-40dd-8e12-bad2307a4d9d",
   "metadata": {},
   "outputs": [],
   "source": []
  },
  {
   "cell_type": "code",
   "execution_count": null,
   "id": "f0562c44-24d2-4c4f-9fda-5973cdf114ac",
   "metadata": {},
   "outputs": [],
   "source": []
  },
  {
   "cell_type": "code",
   "execution_count": null,
   "id": "3673aec8-c6af-47e6-a021-c6ff948b1dba",
   "metadata": {},
   "outputs": [],
   "source": []
  },
  {
   "cell_type": "code",
   "execution_count": null,
   "id": "3b6a4d72-735f-4459-989e-43493f4cb648",
   "metadata": {},
   "outputs": [],
   "source": []
  },
  {
   "cell_type": "code",
   "execution_count": null,
   "id": "024db338-99f5-45b6-9ee3-5eaa2ce6907f",
   "metadata": {},
   "outputs": [],
   "source": []
  },
  {
   "cell_type": "code",
   "execution_count": null,
   "id": "0bacaa28-6bd0-42c2-8db6-5d03e946f56b",
   "metadata": {},
   "outputs": [],
   "source": []
  },
  {
   "cell_type": "code",
   "execution_count": null,
   "id": "f01198f7-f1da-4b3b-abba-ef0c61c72892",
   "metadata": {},
   "outputs": [],
   "source": []
  },
  {
   "cell_type": "code",
   "execution_count": null,
   "id": "8faaac76-2018-43ad-8c25-81244d96e503",
   "metadata": {},
   "outputs": [],
   "source": []
  },
  {
   "cell_type": "markdown",
   "id": "d90e889a-200c-44e0-914f-7274ab5d8417",
   "metadata": {},
   "source": [
    "# <div class = 'alert alert-warning'>Other ML models</div>"
   ]
  },
  {
   "cell_type": "code",
   "execution_count": 195,
   "id": "d55b98c3-b786-45a1-8793-b2407a33ed45",
   "metadata": {},
   "outputs": [],
   "source": [
    "X = df['ModelIn']\n",
    "y = df['output']"
   ]
  },
  {
   "cell_type": "code",
   "execution_count": 196,
   "id": "2a81187b-5026-4cc9-ab82-841685fb46f9",
   "metadata": {},
   "outputs": [
    {
     "data": {
      "text/plain": [
       "(4926,)"
      ]
     },
     "execution_count": 196,
     "metadata": {},
     "output_type": "execute_result"
    }
   ],
   "source": [
    "X.shape"
   ]
  },
  {
   "cell_type": "code",
   "execution_count": 197,
   "id": "1e5d8679-9455-4d73-b5a0-b40359cae09c",
   "metadata": {},
   "outputs": [
    {
     "data": {
      "text/plain": [
       "(4926,)"
      ]
     },
     "execution_count": 197,
     "metadata": {},
     "output_type": "execute_result"
    }
   ],
   "source": [
    "y.shape"
   ]
  },
  {
   "cell_type": "code",
   "execution_count": null,
   "id": "0d1b5f5d-618a-46a5-980f-78ba62ec77d1",
   "metadata": {},
   "outputs": [],
   "source": []
  },
  {
   "cell_type": "code",
   "execution_count": 167,
   "id": "611a2a32-77dd-448b-bad0-4d31d61c6cde",
   "metadata": {},
   "outputs": [],
   "source": [
    "from sklearn.model_selection import train_test_split\n",
    "\n",
    "X_train, X_test, y_train, y_test = train_test_split(X, y, test_size=0.1, random_state=13)"
   ]
  },
  {
   "cell_type": "code",
   "execution_count": 198,
   "id": "4316526e-d5d6-44a2-a4cc-eb56eb53f763",
   "metadata": {},
   "outputs": [
    {
     "data": {
      "text/plain": [
       "(4433,)"
      ]
     },
     "execution_count": 198,
     "metadata": {},
     "output_type": "execute_result"
    }
   ],
   "source": [
    "X_train.shape"
   ]
  },
  {
   "cell_type": "code",
   "execution_count": 199,
   "id": "02097e51-21f9-4275-a0a3-d130ccb78930",
   "metadata": {},
   "outputs": [
    {
     "data": {
      "text/plain": [
       "(493,)"
      ]
     },
     "execution_count": 199,
     "metadata": {},
     "output_type": "execute_result"
    }
   ],
   "source": [
    "X_test.shape"
   ]
  },
  {
   "cell_type": "code",
   "execution_count": 200,
   "id": "42395ae1-1158-4193-aa6a-76081c7179a0",
   "metadata": {},
   "outputs": [
    {
     "data": {
      "text/plain": [
       "(4433,)"
      ]
     },
     "execution_count": 200,
     "metadata": {},
     "output_type": "execute_result"
    }
   ],
   "source": [
    "y_train.shape"
   ]
  },
  {
   "cell_type": "code",
   "execution_count": 201,
   "id": "90fd59d7-a9cb-4db9-a186-c46eede0292e",
   "metadata": {},
   "outputs": [
    {
     "data": {
      "text/plain": [
       "(493,)"
      ]
     },
     "execution_count": 201,
     "metadata": {},
     "output_type": "execute_result"
    }
   ],
   "source": [
    "y_test.shape"
   ]
  },
  {
   "cell_type": "code",
   "execution_count": 172,
   "id": "31a78185-13a5-4f3d-a3b6-acca24675233",
   "metadata": {},
   "outputs": [
    {
     "data": {
      "text/plain": [
       "(4433, 3447)"
      ]
     },
     "execution_count": 172,
     "metadata": {},
     "output_type": "execute_result"
    }
   ],
   "source": [
    "count_vect = CountVectorizer()\n",
    "X_train_vect = count_vect.fit_transform(X_train)\n",
    "X_train_vect.shape"
   ]
  },
  {
   "cell_type": "code",
   "execution_count": 173,
   "id": "fde9d811-a482-4eb2-bae0-5545085d4370",
   "metadata": {},
   "outputs": [
    {
     "data": {
      "text/plain": [
       "(4433, 3447)"
      ]
     },
     "execution_count": 173,
     "metadata": {},
     "output_type": "execute_result"
    }
   ],
   "source": [
    "from sklearn.feature_extraction.text import TfidfTransformer\n",
    "\n",
    "tfidf_transformer = TfidfTransformer()\n",
    "X_train_tfidf = tfidf_transformer.fit_transform(X_train_vect)\n",
    "X_train_tfidf.shape"
   ]
  },
  {
   "cell_type": "code",
   "execution_count": null,
   "id": "735c9f55-1112-4ae6-a39f-9d1b365bc9d4",
   "metadata": {},
   "outputs": [],
   "source": []
  },
  {
   "cell_type": "markdown",
   "id": "6eb86bdf-7a21-4f78-92aa-4579101b6faf",
   "metadata": {},
   "source": [
    "## Naive Bayes"
   ]
  },
  {
   "cell_type": "code",
   "execution_count": 177,
   "id": "7321953c-848b-4d3a-99b9-a6e274d416c7",
   "metadata": {},
   "outputs": [],
   "source": [
    "# Machine Learning\n",
    "# Training Naive Bayes (NB) classifier on training data.\n",
    "from sklearn.naive_bayes import MultinomialNB\n",
    "\n",
    "clf = MultinomialNB().fit(X_train_tfidf, y_train)"
   ]
  },
  {
   "cell_type": "code",
   "execution_count": null,
   "id": "232571d4-dc1d-42e8-a969-e8d8624469e2",
   "metadata": {},
   "outputs": [],
   "source": []
  },
  {
   "cell_type": "code",
   "execution_count": 178,
   "id": "569bd296-13c4-4372-92ae-a23938b456d7",
   "metadata": {},
   "outputs": [],
   "source": [
    "# Building a pipeline: We can write less code and do all of the above, by building a pipeline as follows:\n",
    "# The names ‘vect’ , ‘tfidf’ and ‘clf’ are arbitrary but will be used later.\n",
    "# We will be using the 'text_clf' going forward.\n",
    "\n",
    "from sklearn.pipeline import Pipeline\n",
    "\n",
    "text_clf = Pipeline([('vect', CountVectorizer()), ('tfidf', TfidfTransformer()), ('clf', MultinomialNB())])\n",
    "\n",
    "text_clf = text_clf.fit(X_train, y_train)"
   ]
  },
  {
   "cell_type": "code",
   "execution_count": 179,
   "id": "adaeafcc-4424-4681-901f-d2a0fc644809",
   "metadata": {},
   "outputs": [
    {
     "data": {
      "text/plain": [
       "0.19039025490638395"
      ]
     },
     "execution_count": 179,
     "metadata": {},
     "output_type": "execute_result"
    }
   ],
   "source": [
    "text_clf.score(X_train, y_train)"
   ]
  },
  {
   "cell_type": "code",
   "execution_count": 180,
   "id": "a6d1e7fd-f6ad-400e-b3cb-2057f98ca513",
   "metadata": {},
   "outputs": [
    {
     "data": {
      "text/plain": [
       "0.1643002028397566"
      ]
     },
     "execution_count": 180,
     "metadata": {},
     "output_type": "execute_result"
    }
   ],
   "source": [
    "text_clf.score(X_test, y_test)"
   ]
  },
  {
   "cell_type": "code",
   "execution_count": null,
   "id": "b83ec60c-2b5a-4db0-90f3-9e60b682afb0",
   "metadata": {},
   "outputs": [],
   "source": []
  },
  {
   "cell_type": "code",
   "execution_count": null,
   "id": "6a88c373-d9a7-456d-a960-90f997354818",
   "metadata": {},
   "outputs": [],
   "source": []
  },
  {
   "cell_type": "markdown",
   "id": "5df1db52-7366-48e5-ad57-5a83d375a3ce",
   "metadata": {},
   "source": [
    "## SVM"
   ]
  },
  {
   "cell_type": "code",
   "execution_count": 202,
   "id": "acfe1542-a449-4c01-b8f3-22fbd31a9d65",
   "metadata": {},
   "outputs": [
    {
     "name": "stderr",
     "output_type": "stream",
     "text": [
      "C:\\Users\\rajathadri_as\\AppData\\Local\\anaconda3\\Lib\\site-packages\\sklearn\\linear_model\\_stochastic_gradient.py:702: ConvergenceWarning: Maximum number of iteration reached before convergence. Consider increasing max_iter to improve the fit.\n",
      "  warnings.warn(\n"
     ]
    }
   ],
   "source": [
    "# Training Support Vector Machines - SVM and calculating its performance\n",
    "\n",
    "from sklearn.linear_model import SGDClassifier\n",
    "text_clf_svm = Pipeline([('vect', CountVectorizer()), ('tfidf', TfidfTransformer()),\n",
    "                         ('clf-svm', SGDClassifier(loss='hinge', penalty='l2',alpha=1e-3, max_iter=5, random_state=42))])\n",
    "\n",
    "text_clf_svm = text_clf_svm.fit(X, y)"
   ]
  },
  {
   "cell_type": "code",
   "execution_count": 175,
   "id": "a206d05c-ebdf-400a-ac74-53dd946a68ae",
   "metadata": {},
   "outputs": [
    {
     "data": {
      "text/plain": [
       "0.5415821501014199"
      ]
     },
     "execution_count": 175,
     "metadata": {},
     "output_type": "execute_result"
    }
   ],
   "source": [
    "predicted_svm = text_clf_svm.predict(X_test)\n",
    "np.mean(predicted_svm == y_test)"
   ]
  },
  {
   "cell_type": "code",
   "execution_count": 203,
   "id": "aa9d7a0c-6e20-4ab2-91ad-44b863649ef9",
   "metadata": {},
   "outputs": [
    {
     "data": {
      "text/plain": [
       "0.8765732846122615"
      ]
     },
     "execution_count": 203,
     "metadata": {},
     "output_type": "execute_result"
    }
   ],
   "source": [
    "text_clf_svm.score(X,y)"
   ]
  },
  {
   "cell_type": "code",
   "execution_count": null,
   "id": "b00ac9e4-0afe-45a4-b3a8-9bbf01be4bb2",
   "metadata": {},
   "outputs": [],
   "source": []
  },
  {
   "cell_type": "code",
   "execution_count": 204,
   "id": "8a5556ec-4f69-4329-8594-7460ac43ffa3",
   "metadata": {},
   "outputs": [],
   "source": [
    "pred1 = 'Willerby, SANDHURST - TURNBERRY HOLIDAY PARK - SEA VIEWS - LOW SITE FEES'"
   ]
  },
  {
   "cell_type": "code",
   "execution_count": 205,
   "id": "87257f0d-9dfd-42d0-9aae-b40855df1893",
   "metadata": {},
   "outputs": [
    {
     "data": {
      "text/plain": [
       "array(['Sailsbury'], dtype='<U45')"
      ]
     },
     "execution_count": 205,
     "metadata": {},
     "output_type": "execute_result"
    }
   ],
   "source": [
    "text_clf_svm.predict([pred1])"
   ]
  },
  {
   "cell_type": "code",
   "execution_count": null,
   "id": "ce750d5c-8bcc-4f44-a293-d9bdee975423",
   "metadata": {},
   "outputs": [],
   "source": []
  },
  {
   "cell_type": "code",
   "execution_count": null,
   "id": "eda02b78-4759-46ed-ad8f-63ffb1aca06f",
   "metadata": {},
   "outputs": [],
   "source": []
  },
  {
   "cell_type": "code",
   "execution_count": null,
   "id": "ef6d0a8a-6776-493c-b294-856f18283d8f",
   "metadata": {},
   "outputs": [],
   "source": []
  },
  {
   "cell_type": "code",
   "execution_count": null,
   "id": "72d3a07e-e7ff-41fa-876c-29010a56ac96",
   "metadata": {},
   "outputs": [],
   "source": []
  },
  {
   "cell_type": "code",
   "execution_count": null,
   "id": "662de83c-9c3b-4452-97ae-7157177c59c1",
   "metadata": {},
   "outputs": [],
   "source": []
  },
  {
   "cell_type": "code",
   "execution_count": null,
   "id": "16c027e0-47b4-4e84-aeef-58d43017c67e",
   "metadata": {},
   "outputs": [],
   "source": []
  },
  {
   "cell_type": "code",
   "execution_count": null,
   "id": "680b71ff-a3b4-4d10-9b41-e69d954f058e",
   "metadata": {},
   "outputs": [],
   "source": []
  },
  {
   "cell_type": "markdown",
   "id": "24afe6de-7170-4430-a7dd-81ee7258f0af",
   "metadata": {},
   "source": [
    "## GridSearch CV"
   ]
  },
  {
   "cell_type": "code",
   "execution_count": 136,
   "id": "c837d4b4-7724-46a4-8f68-081206b1665e",
   "metadata": {},
   "outputs": [],
   "source": [
    "# Grid Search\n",
    "# Here, we are creating a list of parameters for which we would like to do performance tuning. \n",
    "# All the parameters name start with the classifier name (remember the arbitrary name we gave). \n",
    "# E.g. vect__ngram_range; here we are telling to use unigram and bigrams and choose the one which is optimal.\n",
    "\n",
    "from sklearn.model_selection import GridSearchCV\n",
    "parameters = {'vect__ngram_range': [(1, 1), (1, 2)], 'tfidf__use_idf': (True, False), 'clf__alpha': (1e-2, 1e-3)}"
   ]
  },
  {
   "cell_type": "code",
   "execution_count": 130,
   "id": "7ee8e22f-a5c5-4842-8d2c-6d6cd94726f8",
   "metadata": {},
   "outputs": [
    {
     "name": "stderr",
     "output_type": "stream",
     "text": [
      "C:\\Users\\rajathadri_as\\AppData\\Local\\anaconda3\\Lib\\site-packages\\sklearn\\model_selection\\_split.py:700: UserWarning: The least populated class in y has only 1 members, which is less than n_splits=5.\n",
      "  warnings.warn(\n"
     ]
    }
   ],
   "source": [
    "gs_clf = GridSearchCV(text_clf, parameters, n_jobs=-1)\n",
    "gs_clf = gs_clf.fit(X_train, y_train)"
   ]
  },
  {
   "cell_type": "code",
   "execution_count": 131,
   "id": "7d374cb5-c09f-4bc4-8dd8-ffc8e8441d47",
   "metadata": {},
   "outputs": [
    {
     "data": {
      "text/plain": [
       "0.5107237963021392"
      ]
     },
     "execution_count": 131,
     "metadata": {},
     "output_type": "execute_result"
    }
   ],
   "source": [
    "gs_clf.best_score_"
   ]
  },
  {
   "cell_type": "code",
   "execution_count": 132,
   "id": "14d069f2-85e9-41ac-8784-1a03f636071a",
   "metadata": {},
   "outputs": [
    {
     "data": {
      "text/plain": [
       "{'clf__alpha': 0.001, 'tfidf__use_idf': False, 'vect__ngram_range': (1, 2)}"
      ]
     },
     "execution_count": 132,
     "metadata": {},
     "output_type": "execute_result"
    }
   ],
   "source": [
    "gs_clf.best_params_"
   ]
  },
  {
   "cell_type": "code",
   "execution_count": null,
   "id": "12b57525-388c-412f-b7d1-311c82e404cf",
   "metadata": {},
   "outputs": [],
   "source": []
  },
  {
   "cell_type": "code",
   "execution_count": null,
   "id": "f6e68ff8-37e7-4e53-83e6-fd68d915f9ad",
   "metadata": {},
   "outputs": [],
   "source": []
  },
  {
   "cell_type": "code",
   "execution_count": 207,
   "id": "d28ccd63-254d-4300-a7c8-46dec3d90c5b",
   "metadata": {},
   "outputs": [],
   "source": [
    "pipe_svm = Pipeline([('vect', CountVectorizer()),\n",
    "                   ('tfidf', TfidfTransformer()),\n",
    "            ('clf', svm.SVC(random_state=42))])"
   ]
  },
  {
   "cell_type": "code",
   "execution_count": 212,
   "id": "31296f9c-9043-4212-9699-894b80b3596b",
   "metadata": {},
   "outputs": [],
   "source": [
    "param_range = [9, 10]\n",
    "jobs = -1"
   ]
  },
  {
   "cell_type": "code",
   "execution_count": 213,
   "id": "32f0b5e3-8988-4226-b9b4-a4143096758b",
   "metadata": {},
   "outputs": [],
   "source": [
    "grid_params_svm = [{'clf__kernel': ['linear', 'rbf'], \n",
    "        'clf__C': param_range}]"
   ]
  },
  {
   "cell_type": "code",
   "execution_count": 214,
   "id": "db2ff009-e295-4166-8a8e-281d6e631394",
   "metadata": {},
   "outputs": [],
   "source": [
    "SVM = GridSearchCV(estimator=pipe_svm,\n",
    "            param_grid=grid_params_svm,\n",
    "            scoring='accuracy',\n",
    "            cv=10,\n",
    "            n_jobs=jobs)"
   ]
  },
  {
   "cell_type": "code",
   "execution_count": 224,
   "id": "1f8b70a6-9688-481b-ae60-2508f1499140",
   "metadata": {},
   "outputs": [
    {
     "name": "stderr",
     "output_type": "stream",
     "text": [
      "C:\\Users\\rajathadri_as\\AppData\\Local\\anaconda3\\Lib\\site-packages\\sklearn\\model_selection\\_split.py:700: UserWarning: The least populated class in y has only 1 members, which is less than n_splits=10.\n",
      "  warnings.warn(\n"
     ]
    },
    {
     "data": {
      "text/html": [
       "<style>#sk-container-id-2 {color: black;background-color: white;}#sk-container-id-2 pre{padding: 0;}#sk-container-id-2 div.sk-toggleable {background-color: white;}#sk-container-id-2 label.sk-toggleable__label {cursor: pointer;display: block;width: 100%;margin-bottom: 0;padding: 0.3em;box-sizing: border-box;text-align: center;}#sk-container-id-2 label.sk-toggleable__label-arrow:before {content: \"▸\";float: left;margin-right: 0.25em;color: #696969;}#sk-container-id-2 label.sk-toggleable__label-arrow:hover:before {color: black;}#sk-container-id-2 div.sk-estimator:hover label.sk-toggleable__label-arrow:before {color: black;}#sk-container-id-2 div.sk-toggleable__content {max-height: 0;max-width: 0;overflow: hidden;text-align: left;background-color: #f0f8ff;}#sk-container-id-2 div.sk-toggleable__content pre {margin: 0.2em;color: black;border-radius: 0.25em;background-color: #f0f8ff;}#sk-container-id-2 input.sk-toggleable__control:checked~div.sk-toggleable__content {max-height: 200px;max-width: 100%;overflow: auto;}#sk-container-id-2 input.sk-toggleable__control:checked~label.sk-toggleable__label-arrow:before {content: \"▾\";}#sk-container-id-2 div.sk-estimator input.sk-toggleable__control:checked~label.sk-toggleable__label {background-color: #d4ebff;}#sk-container-id-2 div.sk-label input.sk-toggleable__control:checked~label.sk-toggleable__label {background-color: #d4ebff;}#sk-container-id-2 input.sk-hidden--visually {border: 0;clip: rect(1px 1px 1px 1px);clip: rect(1px, 1px, 1px, 1px);height: 1px;margin: -1px;overflow: hidden;padding: 0;position: absolute;width: 1px;}#sk-container-id-2 div.sk-estimator {font-family: monospace;background-color: #f0f8ff;border: 1px dotted black;border-radius: 0.25em;box-sizing: border-box;margin-bottom: 0.5em;}#sk-container-id-2 div.sk-estimator:hover {background-color: #d4ebff;}#sk-container-id-2 div.sk-parallel-item::after {content: \"\";width: 100%;border-bottom: 1px solid gray;flex-grow: 1;}#sk-container-id-2 div.sk-label:hover label.sk-toggleable__label {background-color: #d4ebff;}#sk-container-id-2 div.sk-serial::before {content: \"\";position: absolute;border-left: 1px solid gray;box-sizing: border-box;top: 0;bottom: 0;left: 50%;z-index: 0;}#sk-container-id-2 div.sk-serial {display: flex;flex-direction: column;align-items: center;background-color: white;padding-right: 0.2em;padding-left: 0.2em;position: relative;}#sk-container-id-2 div.sk-item {position: relative;z-index: 1;}#sk-container-id-2 div.sk-parallel {display: flex;align-items: stretch;justify-content: center;background-color: white;position: relative;}#sk-container-id-2 div.sk-item::before, #sk-container-id-2 div.sk-parallel-item::before {content: \"\";position: absolute;border-left: 1px solid gray;box-sizing: border-box;top: 0;bottom: 0;left: 50%;z-index: -1;}#sk-container-id-2 div.sk-parallel-item {display: flex;flex-direction: column;z-index: 1;position: relative;background-color: white;}#sk-container-id-2 div.sk-parallel-item:first-child::after {align-self: flex-end;width: 50%;}#sk-container-id-2 div.sk-parallel-item:last-child::after {align-self: flex-start;width: 50%;}#sk-container-id-2 div.sk-parallel-item:only-child::after {width: 0;}#sk-container-id-2 div.sk-dashed-wrapped {border: 1px dashed gray;margin: 0 0.4em 0.5em 0.4em;box-sizing: border-box;padding-bottom: 0.4em;background-color: white;}#sk-container-id-2 div.sk-label label {font-family: monospace;font-weight: bold;display: inline-block;line-height: 1.2em;}#sk-container-id-2 div.sk-label-container {text-align: center;}#sk-container-id-2 div.sk-container {/* jupyter's `normalize.less` sets `[hidden] { display: none; }` but bootstrap.min.css set `[hidden] { display: none !important; }` so we also need the `!important` here to be able to override the default hidden behavior on the sphinx rendered scikit-learn.org. See: https://github.com/scikit-learn/scikit-learn/issues/21755 */display: inline-block !important;position: relative;}#sk-container-id-2 div.sk-text-repr-fallback {display: none;}</style><div id=\"sk-container-id-2\" class=\"sk-top-container\"><div class=\"sk-text-repr-fallback\"><pre>GridSearchCV(cv=10,\n",
       "             estimator=Pipeline(steps=[(&#x27;vect&#x27;, CountVectorizer()),\n",
       "                                       (&#x27;tfidf&#x27;, TfidfTransformer()),\n",
       "                                       (&#x27;clf&#x27;, SVC(random_state=42))]),\n",
       "             n_jobs=-1,\n",
       "             param_grid=[{&#x27;clf__C&#x27;: [9, 10], &#x27;clf__kernel&#x27;: [&#x27;linear&#x27;, &#x27;rbf&#x27;]}],\n",
       "             scoring=&#x27;accuracy&#x27;)</pre><b>In a Jupyter environment, please rerun this cell to show the HTML representation or trust the notebook. <br />On GitHub, the HTML representation is unable to render, please try loading this page with nbviewer.org.</b></div><div class=\"sk-container\" hidden><div class=\"sk-item sk-dashed-wrapped\"><div class=\"sk-label-container\"><div class=\"sk-label sk-toggleable\"><input class=\"sk-toggleable__control sk-hidden--visually\" id=\"sk-estimator-id-6\" type=\"checkbox\" ><label for=\"sk-estimator-id-6\" class=\"sk-toggleable__label sk-toggleable__label-arrow\">GridSearchCV</label><div class=\"sk-toggleable__content\"><pre>GridSearchCV(cv=10,\n",
       "             estimator=Pipeline(steps=[(&#x27;vect&#x27;, CountVectorizer()),\n",
       "                                       (&#x27;tfidf&#x27;, TfidfTransformer()),\n",
       "                                       (&#x27;clf&#x27;, SVC(random_state=42))]),\n",
       "             n_jobs=-1,\n",
       "             param_grid=[{&#x27;clf__C&#x27;: [9, 10], &#x27;clf__kernel&#x27;: [&#x27;linear&#x27;, &#x27;rbf&#x27;]}],\n",
       "             scoring=&#x27;accuracy&#x27;)</pre></div></div></div><div class=\"sk-parallel\"><div class=\"sk-parallel-item\"><div class=\"sk-item\"><div class=\"sk-label-container\"><div class=\"sk-label sk-toggleable\"><input class=\"sk-toggleable__control sk-hidden--visually\" id=\"sk-estimator-id-7\" type=\"checkbox\" ><label for=\"sk-estimator-id-7\" class=\"sk-toggleable__label sk-toggleable__label-arrow\">estimator: Pipeline</label><div class=\"sk-toggleable__content\"><pre>Pipeline(steps=[(&#x27;vect&#x27;, CountVectorizer()), (&#x27;tfidf&#x27;, TfidfTransformer()),\n",
       "                (&#x27;clf&#x27;, SVC(random_state=42))])</pre></div></div></div><div class=\"sk-serial\"><div class=\"sk-item\"><div class=\"sk-serial\"><div class=\"sk-item\"><div class=\"sk-estimator sk-toggleable\"><input class=\"sk-toggleable__control sk-hidden--visually\" id=\"sk-estimator-id-8\" type=\"checkbox\" ><label for=\"sk-estimator-id-8\" class=\"sk-toggleable__label sk-toggleable__label-arrow\">CountVectorizer</label><div class=\"sk-toggleable__content\"><pre>CountVectorizer()</pre></div></div></div><div class=\"sk-item\"><div class=\"sk-estimator sk-toggleable\"><input class=\"sk-toggleable__control sk-hidden--visually\" id=\"sk-estimator-id-9\" type=\"checkbox\" ><label for=\"sk-estimator-id-9\" class=\"sk-toggleable__label sk-toggleable__label-arrow\">TfidfTransformer</label><div class=\"sk-toggleable__content\"><pre>TfidfTransformer()</pre></div></div></div><div class=\"sk-item\"><div class=\"sk-estimator sk-toggleable\"><input class=\"sk-toggleable__control sk-hidden--visually\" id=\"sk-estimator-id-10\" type=\"checkbox\" ><label for=\"sk-estimator-id-10\" class=\"sk-toggleable__label sk-toggleable__label-arrow\">SVC</label><div class=\"sk-toggleable__content\"><pre>SVC(random_state=42)</pre></div></div></div></div></div></div></div></div></div></div></div></div>"
      ],
      "text/plain": [
       "GridSearchCV(cv=10,\n",
       "             estimator=Pipeline(steps=[('vect', CountVectorizer()),\n",
       "                                       ('tfidf', TfidfTransformer()),\n",
       "                                       ('clf', SVC(random_state=42))]),\n",
       "             n_jobs=-1,\n",
       "             param_grid=[{'clf__C': [9, 10], 'clf__kernel': ['linear', 'rbf']}],\n",
       "             scoring='accuracy')"
      ]
     },
     "execution_count": 224,
     "metadata": {},
     "output_type": "execute_result"
    }
   ],
   "source": [
    "SVM.fit(X,y)"
   ]
  },
  {
   "cell_type": "code",
   "execution_count": 225,
   "id": "383ee3d7-9a36-48d5-bce0-907348c61cfb",
   "metadata": {},
   "outputs": [
    {
     "data": {
      "text/plain": [
       "0.5211056415837992"
      ]
     },
     "execution_count": 225,
     "metadata": {},
     "output_type": "execute_result"
    }
   ],
   "source": [
    "SVM.best_score_"
   ]
  },
  {
   "cell_type": "code",
   "execution_count": 226,
   "id": "ce748ba6-a4a7-472a-ba00-99294d20c9b3",
   "metadata": {},
   "outputs": [
    {
     "data": {
      "text/plain": [
       "{'clf__C': 10, 'clf__kernel': 'linear'}"
      ]
     },
     "execution_count": 226,
     "metadata": {},
     "output_type": "execute_result"
    }
   ],
   "source": [
    "SVM.best_params_"
   ]
  },
  {
   "cell_type": "code",
   "execution_count": null,
   "id": "d029d779-9a64-49c1-a46a-c7b6618144eb",
   "metadata": {},
   "outputs": [],
   "source": []
  },
  {
   "cell_type": "code",
   "execution_count": 227,
   "id": "ef0bdc95-b9e8-455d-82e8-1f9f6182ac55",
   "metadata": {},
   "outputs": [],
   "source": [
    "pred1 = 'Sheraton2 bedrooms 42 x 14 feet'"
   ]
  },
  {
   "cell_type": "code",
   "execution_count": 228,
   "id": "d4b9c710-f806-4025-89b3-17838c47a670",
   "metadata": {},
   "outputs": [
    {
     "data": {
      "text/plain": [
       "array(['Sheraton'], dtype=object)"
      ]
     },
     "execution_count": 228,
     "metadata": {},
     "output_type": "execute_result"
    }
   ],
   "source": [
    "SVM.predict([pred1])"
   ]
  },
  {
   "cell_type": "code",
   "execution_count": null,
   "id": "e973db19-bb03-4beb-b9c8-d5eaee5ef614",
   "metadata": {},
   "outputs": [],
   "source": []
  },
  {
   "cell_type": "code",
   "execution_count": null,
   "id": "4c19a82b-106b-4acc-89d8-5973af218faa",
   "metadata": {},
   "outputs": [],
   "source": []
  },
  {
   "cell_type": "code",
   "execution_count": null,
   "id": "0453774a-fb0d-4776-b443-8b790c615026",
   "metadata": {},
   "outputs": [],
   "source": []
  },
  {
   "cell_type": "code",
   "execution_count": 137,
   "id": "2da6da1f-4c63-45a2-b2ee-a3758d97b1d4",
   "metadata": {},
   "outputs": [
    {
     "name": "stderr",
     "output_type": "stream",
     "text": [
      "C:\\Users\\rajathadri_as\\AppData\\Local\\anaconda3\\Lib\\site-packages\\sklearn\\model_selection\\_split.py:700: UserWarning: The least populated class in y has only 1 members, which is less than n_splits=5.\n",
      "  warnings.warn(\n"
     ]
    }
   ],
   "source": [
    "gs_clf = GridSearchCV(text_clf, parameters, n_jobs=-1)\n",
    "gs_clf = gs_clf.fit(X_test,y_test)"
   ]
  },
  {
   "cell_type": "code",
   "execution_count": 138,
   "id": "e926d946-62b0-4910-b9f1-0f74a5fb4528",
   "metadata": {},
   "outputs": [
    {
     "data": {
      "text/plain": [
       "0.4228721942281264"
      ]
     },
     "execution_count": 138,
     "metadata": {},
     "output_type": "execute_result"
    }
   ],
   "source": [
    "gs_clf.best_score_"
   ]
  },
  {
   "cell_type": "code",
   "execution_count": 139,
   "id": "717858fd-6638-4d25-82c3-f02a9e3f0e3f",
   "metadata": {},
   "outputs": [
    {
     "data": {
      "text/plain": [
       "{'clf__alpha': 0.001, 'tfidf__use_idf': False, 'vect__ngram_range': (1, 2)}"
      ]
     },
     "execution_count": 139,
     "metadata": {},
     "output_type": "execute_result"
    }
   ],
   "source": [
    "gs_clf.best_params_"
   ]
  },
  {
   "cell_type": "code",
   "execution_count": null,
   "id": "0c3eff95-b4f4-4776-bb77-6f97c72de618",
   "metadata": {},
   "outputs": [],
   "source": []
  },
  {
   "cell_type": "code",
   "execution_count": null,
   "id": "1f3a3e6d-62ec-4792-8276-f3da1a0ffd4e",
   "metadata": {},
   "outputs": [],
   "source": []
  },
  {
   "cell_type": "code",
   "execution_count": null,
   "id": "e3fa7069-7e56-4d55-94fb-14e2a34f2707",
   "metadata": {},
   "outputs": [],
   "source": []
  },
  {
   "cell_type": "code",
   "execution_count": null,
   "id": "e9fe4780-0c5c-4b38-bc7e-1c1e4e000eaa",
   "metadata": {},
   "outputs": [],
   "source": []
  }
 ],
 "metadata": {
  "kernelspec": {
   "display_name": "Python 3 (ipykernel)",
   "language": "python",
   "name": "python3"
  },
  "language_info": {
   "codemirror_mode": {
    "name": "ipython",
    "version": 3
   },
   "file_extension": ".py",
   "mimetype": "text/x-python",
   "name": "python",
   "nbconvert_exporter": "python",
   "pygments_lexer": "ipython3",
   "version": "3.11.5"
  }
 },
 "nbformat": 4,
 "nbformat_minor": 5
}
