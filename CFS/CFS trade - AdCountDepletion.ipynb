{
 "cells": [
  {
   "cell_type": "code",
   "execution_count": 1,
   "id": "d1af6c39",
   "metadata": {},
   "outputs": [],
   "source": [
    "import pandas as pd\n",
    "import numpy as np\n",
    "import matplotlib.pyplot as plt\n",
    "import matplotlib as mpl\n",
    "import matplotlib.patches as mpatches\n",
    "import seaborn as sns\n",
    "import re\n",
    "import warnings"
   ]
  },
  {
   "cell_type": "code",
   "execution_count": 2,
   "id": "16a77209",
   "metadata": {},
   "outputs": [],
   "source": [
    "warnings.filterwarnings('ignore')"
   ]
  },
  {
   "cell_type": "code",
   "execution_count": 3,
   "id": "cce0ae2e",
   "metadata": {},
   "outputs": [],
   "source": [
    "imported = pd.read_csv('/Users/rajathadri_as/Documents/CFS-trade_adcounts.csv')"
   ]
  },
  {
   "cell_type": "code",
   "execution_count": 4,
   "id": "5411b7b2",
   "metadata": {},
   "outputs": [
    {
     "data": {
      "text/plain": [
       "(136, 4)"
      ]
     },
     "execution_count": 4,
     "metadata": {},
     "output_type": "execute_result"
    }
   ],
   "source": [
    "imported.shape"
   ]
  },
  {
   "cell_type": "code",
   "execution_count": 5,
   "id": "2b82ac5f",
   "metadata": {},
   "outputs": [
    {
     "data": {
      "text/html": [
       "<div>\n",
       "<style scoped>\n",
       "    .dataframe tbody tr th:only-of-type {\n",
       "        vertical-align: middle;\n",
       "    }\n",
       "\n",
       "    .dataframe tbody tr th {\n",
       "        vertical-align: top;\n",
       "    }\n",
       "\n",
       "    .dataframe thead th {\n",
       "        text-align: right;\n",
       "    }\n",
       "</style>\n",
       "<table border=\"1\" class=\"dataframe\">\n",
       "  <thead>\n",
       "    <tr style=\"text-align: right;\">\n",
       "      <th></th>\n",
       "      <th>trade</th>\n",
       "      <th>yearr</th>\n",
       "      <th>monthh</th>\n",
       "      <th>monthly_count</th>\n",
       "    </tr>\n",
       "  </thead>\n",
       "  <tbody>\n",
       "    <tr>\n",
       "      <th>0</th>\n",
       "      <td>0</td>\n",
       "      <td>2016</td>\n",
       "      <td>6</td>\n",
       "      <td>1</td>\n",
       "    </tr>\n",
       "    <tr>\n",
       "      <th>1</th>\n",
       "      <td>0</td>\n",
       "      <td>2016</td>\n",
       "      <td>11</td>\n",
       "      <td>1</td>\n",
       "    </tr>\n",
       "    <tr>\n",
       "      <th>2</th>\n",
       "      <td>0</td>\n",
       "      <td>2017</td>\n",
       "      <td>1</td>\n",
       "      <td>1</td>\n",
       "    </tr>\n",
       "    <tr>\n",
       "      <th>3</th>\n",
       "      <td>0</td>\n",
       "      <td>2017</td>\n",
       "      <td>11</td>\n",
       "      <td>1</td>\n",
       "    </tr>\n",
       "    <tr>\n",
       "      <th>4</th>\n",
       "      <td>0</td>\n",
       "      <td>2018</td>\n",
       "      <td>2</td>\n",
       "      <td>1</td>\n",
       "    </tr>\n",
       "  </tbody>\n",
       "</table>\n",
       "</div>"
      ],
      "text/plain": [
       "   trade  yearr  monthh  monthly_count\n",
       "0      0   2016       6              1\n",
       "1      0   2016      11              1\n",
       "2      0   2017       1              1\n",
       "3      0   2017      11              1\n",
       "4      0   2018       2              1"
      ]
     },
     "execution_count": 5,
     "metadata": {},
     "output_type": "execute_result"
    }
   ],
   "source": [
    "imported.head()"
   ]
  },
  {
   "cell_type": "code",
   "execution_count": 6,
   "id": "a60a37b1",
   "metadata": {},
   "outputs": [],
   "source": [
    "df_dealer = imported[imported['trade']==1]"
   ]
  },
  {
   "cell_type": "code",
   "execution_count": 7,
   "id": "4ab6dfb2",
   "metadata": {},
   "outputs": [
    {
     "data": {
      "text/plain": [
       "(81, 4)"
      ]
     },
     "execution_count": 7,
     "metadata": {},
     "output_type": "execute_result"
    }
   ],
   "source": [
    "df_dealer.shape"
   ]
  },
  {
   "cell_type": "code",
   "execution_count": 8,
   "id": "ca389edf",
   "metadata": {},
   "outputs": [],
   "source": [
    "df_pvt = imported[imported['trade']==0]"
   ]
  },
  {
   "cell_type": "code",
   "execution_count": 9,
   "id": "b9eaa010",
   "metadata": {},
   "outputs": [
    {
     "data": {
      "text/plain": [
       "(55, 4)"
      ]
     },
     "execution_count": 9,
     "metadata": {},
     "output_type": "execute_result"
    }
   ],
   "source": [
    "df_pvt.shape"
   ]
  },
  {
   "cell_type": "code",
   "execution_count": 11,
   "id": "b9f00c8b",
   "metadata": {},
   "outputs": [],
   "source": [
    "df_dealer = df_dealer[['yearr','monthh','monthly_count']]"
   ]
  },
  {
   "cell_type": "code",
   "execution_count": 12,
   "id": "402bd48e",
   "metadata": {},
   "outputs": [],
   "source": [
    "df_pvt = df_pvt[['yearr','monthh','monthly_count']]"
   ]
  },
  {
   "cell_type": "code",
   "execution_count": null,
   "id": "56b5f1e2",
   "metadata": {},
   "outputs": [],
   "source": []
  },
  {
   "cell_type": "code",
   "execution_count": 15,
   "id": "a6c0100d",
   "metadata": {},
   "outputs": [
    {
     "data": {
      "text/html": [
       "<div>\n",
       "<style scoped>\n",
       "    .dataframe tbody tr th:only-of-type {\n",
       "        vertical-align: middle;\n",
       "    }\n",
       "\n",
       "    .dataframe tbody tr th {\n",
       "        vertical-align: top;\n",
       "    }\n",
       "\n",
       "    .dataframe thead th {\n",
       "        text-align: right;\n",
       "    }\n",
       "</style>\n",
       "<table border=\"1\" class=\"dataframe\">\n",
       "  <thead>\n",
       "    <tr style=\"text-align: right;\">\n",
       "      <th></th>\n",
       "      <th>yearr</th>\n",
       "      <th>monthh</th>\n",
       "      <th>monthly_count</th>\n",
       "    </tr>\n",
       "  </thead>\n",
       "  <tbody>\n",
       "    <tr>\n",
       "      <th>46</th>\n",
       "      <td>2023</td>\n",
       "      <td>1</td>\n",
       "      <td>254</td>\n",
       "    </tr>\n",
       "    <tr>\n",
       "      <th>47</th>\n",
       "      <td>2023</td>\n",
       "      <td>2</td>\n",
       "      <td>219</td>\n",
       "    </tr>\n",
       "    <tr>\n",
       "      <th>48</th>\n",
       "      <td>2023</td>\n",
       "      <td>3</td>\n",
       "      <td>435</td>\n",
       "    </tr>\n",
       "    <tr>\n",
       "      <th>49</th>\n",
       "      <td>2023</td>\n",
       "      <td>4</td>\n",
       "      <td>427</td>\n",
       "    </tr>\n",
       "    <tr>\n",
       "      <th>50</th>\n",
       "      <td>2023</td>\n",
       "      <td>5</td>\n",
       "      <td>383</td>\n",
       "    </tr>\n",
       "    <tr>\n",
       "      <th>51</th>\n",
       "      <td>2023</td>\n",
       "      <td>6</td>\n",
       "      <td>362</td>\n",
       "    </tr>\n",
       "    <tr>\n",
       "      <th>52</th>\n",
       "      <td>2023</td>\n",
       "      <td>7</td>\n",
       "      <td>592</td>\n",
       "    </tr>\n",
       "    <tr>\n",
       "      <th>53</th>\n",
       "      <td>2023</td>\n",
       "      <td>8</td>\n",
       "      <td>984</td>\n",
       "    </tr>\n",
       "    <tr>\n",
       "      <th>54</th>\n",
       "      <td>2023</td>\n",
       "      <td>9</td>\n",
       "      <td>10</td>\n",
       "    </tr>\n",
       "  </tbody>\n",
       "</table>\n",
       "</div>"
      ],
      "text/plain": [
       "    yearr  monthh  monthly_count\n",
       "46   2023       1            254\n",
       "47   2023       2            219\n",
       "48   2023       3            435\n",
       "49   2023       4            427\n",
       "50   2023       5            383\n",
       "51   2023       6            362\n",
       "52   2023       7            592\n",
       "53   2023       8            984\n",
       "54   2023       9             10"
      ]
     },
     "execution_count": 15,
     "metadata": {},
     "output_type": "execute_result"
    }
   ],
   "source": [
    "df_pvt[df_pvt['yearr']==2023]"
   ]
  },
  {
   "cell_type": "code",
   "execution_count": 16,
   "id": "085ec8a7",
   "metadata": {},
   "outputs": [
    {
     "data": {
      "text/html": [
       "<div>\n",
       "<style scoped>\n",
       "    .dataframe tbody tr th:only-of-type {\n",
       "        vertical-align: middle;\n",
       "    }\n",
       "\n",
       "    .dataframe tbody tr th {\n",
       "        vertical-align: top;\n",
       "    }\n",
       "\n",
       "    .dataframe thead th {\n",
       "        text-align: right;\n",
       "    }\n",
       "</style>\n",
       "<table border=\"1\" class=\"dataframe\">\n",
       "  <thead>\n",
       "    <tr style=\"text-align: right;\">\n",
       "      <th></th>\n",
       "      <th>yearr</th>\n",
       "      <th>monthh</th>\n",
       "      <th>monthly_count</th>\n",
       "    </tr>\n",
       "  </thead>\n",
       "  <tbody>\n",
       "    <tr>\n",
       "      <th>127</th>\n",
       "      <td>2023</td>\n",
       "      <td>1</td>\n",
       "      <td>1079</td>\n",
       "    </tr>\n",
       "    <tr>\n",
       "      <th>128</th>\n",
       "      <td>2023</td>\n",
       "      <td>2</td>\n",
       "      <td>1185</td>\n",
       "    </tr>\n",
       "    <tr>\n",
       "      <th>129</th>\n",
       "      <td>2023</td>\n",
       "      <td>3</td>\n",
       "      <td>1556</td>\n",
       "    </tr>\n",
       "    <tr>\n",
       "      <th>130</th>\n",
       "      <td>2023</td>\n",
       "      <td>4</td>\n",
       "      <td>1023</td>\n",
       "    </tr>\n",
       "    <tr>\n",
       "      <th>131</th>\n",
       "      <td>2023</td>\n",
       "      <td>5</td>\n",
       "      <td>3641</td>\n",
       "    </tr>\n",
       "    <tr>\n",
       "      <th>132</th>\n",
       "      <td>2023</td>\n",
       "      <td>6</td>\n",
       "      <td>1549</td>\n",
       "    </tr>\n",
       "    <tr>\n",
       "      <th>133</th>\n",
       "      <td>2023</td>\n",
       "      <td>7</td>\n",
       "      <td>1593</td>\n",
       "    </tr>\n",
       "    <tr>\n",
       "      <th>134</th>\n",
       "      <td>2023</td>\n",
       "      <td>8</td>\n",
       "      <td>955</td>\n",
       "    </tr>\n",
       "    <tr>\n",
       "      <th>135</th>\n",
       "      <td>2023</td>\n",
       "      <td>9</td>\n",
       "      <td>5</td>\n",
       "    </tr>\n",
       "  </tbody>\n",
       "</table>\n",
       "</div>"
      ],
      "text/plain": [
       "     yearr  monthh  monthly_count\n",
       "127   2023       1           1079\n",
       "128   2023       2           1185\n",
       "129   2023       3           1556\n",
       "130   2023       4           1023\n",
       "131   2023       5           3641\n",
       "132   2023       6           1549\n",
       "133   2023       7           1593\n",
       "134   2023       8            955\n",
       "135   2023       9              5"
      ]
     },
     "execution_count": 16,
     "metadata": {},
     "output_type": "execute_result"
    }
   ],
   "source": [
    "df_dealer[df_dealer['yearr']==2023]"
   ]
  },
  {
   "cell_type": "code",
   "execution_count": null,
   "id": "ff32887a",
   "metadata": {},
   "outputs": [],
   "source": []
  },
  {
   "cell_type": "code",
   "execution_count": null,
   "id": "da1a96b4",
   "metadata": {},
   "outputs": [],
   "source": []
  },
  {
   "cell_type": "code",
   "execution_count": 14,
   "id": "ecca3b48",
   "metadata": {},
   "outputs": [
    {
     "data": {
      "image/png": "[encoded data removed]",
      "text/plain": [
       "<Figure size 1000x600 with 1 Axes>"
      ]
     },
     "metadata": {},
     "output_type": "display_data"
    }
   ],
   "source": [
    "# Combine dataframes if needed\n",
    "combined_df = pd.concat([df_dealer, df_pvt])\n",
    "\n",
    "# Group the combined dataframe by year and calculate the sum of monthly_count\n",
    "grouped_df = combined_df.groupby(['yearr', 'monthh'])['monthly_count'].sum().reset_index()\n",
    "\n",
    "# Create a line chart\n",
    "plt.figure(figsize=(10, 6))\n",
    "\n",
    "# Filter xticks to show only years\n",
    "unique_years = grouped_df['yearr'].unique()\n",
    "plt.xticks(unique_years)\n",
    "\n",
    "# Plot lines for df_dealer and df_pvt\n",
    "for label, df in [('df_dealer', df_dealer), ('df_pvt', df_pvt)]:\n",
    "    df_grouped = df.groupby(['yearr', 'monthh'])['monthly_count'].sum().reset_index()\n",
    "    plt.plot(df_grouped['yearr'], df_grouped['monthly_count'], label=label)\n",
    "\n",
    "# Add labels and legend\n",
    "plt.xlabel('Year')\n",
    "plt.ylabel('Monthly Count')\n",
    "plt.title('Monthly Count Trend Over Years')\n",
    "plt.legend()\n",
    "\n",
    "# Show the plot\n",
    "plt.grid()\n",
    "plt.show()\n"
   ]
  },
  {
   "cell_type": "code",
   "execution_count": null,
   "id": "056d881c",
   "metadata": {},
   "outputs": [],
   "source": []
  }
 ],
 "metadata": {
  "kernelspec": {
   "display_name": "Python 3 (ipykernel)",
   "language": "python",
   "name": "python3"
  },
  "language_info": {
   "codemirror_mode": {
    "name": "ipython",
    "version": 3
   },
   "file_extension": ".py",
   "mimetype": "text/x-python",
   "name": "python",
   "nbconvert_exporter": "python",
   "pygments_lexer": "ipython3",
   "version": "3.11.3"
  }
 },
 "nbformat": 4,
 "nbformat_minor": 5
}
